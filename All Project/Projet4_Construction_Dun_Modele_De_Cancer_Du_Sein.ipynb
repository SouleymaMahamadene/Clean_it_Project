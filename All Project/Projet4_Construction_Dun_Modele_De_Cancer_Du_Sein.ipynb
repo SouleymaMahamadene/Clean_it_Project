{
 "cells": [
  {
   "cell_type": "markdown",
   "id": "b3d1e2a0",
   "metadata": {},
   "source": [
    "# INTRODUCTION"
   ]
  },
  {
   "cell_type": "markdown",
   "id": "47eb6b3d",
   "metadata": {},
   "source": [
    "Selon l'Organisation Mondiale de la Santé18 (OMS), le cancer du sein est le cancer le plus fréquent chez les femmes dans les pays développés et les moins développés. En 2018, près de 2 millions de nouveaux cas de cancer du sein ont été diagnostiqués. Les médecins savent que le cancer du sein survient lorsque certaines cellules mammaires commencent à se développer anormalement. Ces cellules se divisent plus rapidement que les cellules saines et continuent de s'accumuler, formant une masse. Le problème avec ces cellules cancérigènes est qu'elles ne causent pas de douleur ou d'inconfort jusqu'à ce qu'elles se soient propagées aux tissus voisins.\n",
    "Dès lors, la détection d'un cancer du sein à un stade peu avancé de son développement peut permettre de soigner plus facilement mais aussi de limiter les séquelles liées à certains traitements.\n",
    "Dans cette optique d'amélioration des diagnostics et des soins préventifs, l'Intelligence Artificielle peut aider les professionnels de Santé dans leur prise de décisions et permettre aux patients d'être traités rapidement. Les hôpitaux collectent de plus en plus de données dont l'analyse est un défi et une opportunité, Plusieurs Organisations (Centres de recherche, Start-ups, Entreprises, etc.) à travers le monde travaillent sur le développement d'algorithmes d'apprentissage automatique qui sont entraînés par les données collectées. Les modèles ainsi créés sont ensuite utilisés pour prédire par exemple quand une insuffisance respiratoire, une septicémie ou d'autres problèmes tels que le cancer du sein sont susceptibles de se produire.\n",
    "\n",
    "Dans ce projet, nous verrons un cas d'utilisation du Machine Learning dans la Santé. Notre objectif est de construire un modèle capable de prédire si une patiente, sur la base de ses données, sera atteinte d'un cancer du sein ou pas.\n",
    "\n"
   ]
  },
  {
   "cell_type": "markdown",
   "id": "d02d757a",
   "metadata": {},
   "source": [
    "# LIBRAIRIES"
   ]
  },
  {
   "cell_type": "code",
   "execution_count": 1,
   "id": "6b7558fa",
   "metadata": {},
   "outputs": [],
   "source": [
    "import pandas as pd\n",
    "import numpy as np\n",
    "\n",
    "from sklearn.datasets import load_breast_cancer\n",
    "#from sklearn.neighbors import KNeighborsClassifier\n",
    "from sklearn.model_selection import cross_val_score, GridSearchCV"
   ]
  },
  {
   "cell_type": "markdown",
   "id": "065cc8b9",
   "metadata": {},
   "source": [
    "DONNEES\n",
    "\n",
    "Les données utilisées dans le cadre de ce projet, proviennent de UCI Machine Learning Repository. 1º Il s'agit de la base de données diagnostic du cancer du sein du Wisconsin aux USA. Ces données sont également disponibles dans le module datasets.load breast cancer de sklearn.20 Veuillez consulter la page descriptive \" de ces données pour une meilleure compréhension."
   ]
  },
  {
   "cell_type": "code",
   "execution_count": 3,
   "id": "22dcb0db",
   "metadata": {},
   "outputs": [],
   "source": [
    "# Importantion des données \n",
    "df = load_breast_cancer()"
   ]
  },
  {
   "cell_type": "code",
   "execution_count": 5,
   "id": "008ebfe7",
   "metadata": {},
   "outputs": [
    {
     "name": "stdout",
     "output_type": "stream",
     "text": [
      "{'data': array([[1.799e+01, 1.038e+01, 1.228e+02, ..., 2.654e-01, 4.601e-01,\n",
      "        1.189e-01],\n",
      "       [2.057e+01, 1.777e+01, 1.329e+02, ..., 1.860e-01, 2.750e-01,\n",
      "        8.902e-02],\n",
      "       [1.969e+01, 2.125e+01, 1.300e+02, ..., 2.430e-01, 3.613e-01,\n",
      "        8.758e-02],\n",
      "       ...,\n",
      "       [1.660e+01, 2.808e+01, 1.083e+02, ..., 1.418e-01, 2.218e-01,\n",
      "        7.820e-02],\n",
      "       [2.060e+01, 2.933e+01, 1.401e+02, ..., 2.650e-01, 4.087e-01,\n",
      "        1.240e-01],\n",
      "       [7.760e+00, 2.454e+01, 4.792e+01, ..., 0.000e+00, 2.871e-01,\n",
      "        7.039e-02]]), 'target': array([0, 0, 0, 0, 0, 0, 0, 0, 0, 0, 0, 0, 0, 0, 0, 0, 0, 0, 0, 1, 1, 1,\n",
      "       0, 0, 0, 0, 0, 0, 0, 0, 0, 0, 0, 0, 0, 0, 0, 1, 0, 0, 0, 0, 0, 0,\n",
      "       0, 0, 1, 0, 1, 1, 1, 1, 1, 0, 0, 1, 0, 0, 1, 1, 1, 1, 0, 1, 0, 0,\n",
      "       1, 1, 1, 1, 0, 1, 0, 0, 1, 0, 1, 0, 0, 1, 1, 1, 0, 0, 1, 0, 0, 0,\n",
      "       1, 1, 1, 0, 1, 1, 0, 0, 1, 1, 1, 0, 0, 1, 1, 1, 1, 0, 1, 1, 0, 1,\n",
      "       1, 1, 1, 1, 1, 1, 1, 0, 0, 0, 1, 0, 0, 1, 1, 1, 0, 0, 1, 0, 1, 0,\n",
      "       0, 1, 0, 0, 1, 1, 0, 1, 1, 0, 1, 1, 1, 1, 0, 1, 1, 1, 1, 1, 1, 1,\n",
      "       1, 1, 0, 1, 1, 1, 1, 0, 0, 1, 0, 1, 1, 0, 0, 1, 1, 0, 0, 1, 1, 1,\n",
      "       1, 0, 1, 1, 0, 0, 0, 1, 0, 1, 0, 1, 1, 1, 0, 1, 1, 0, 0, 1, 0, 0,\n",
      "       0, 0, 1, 0, 0, 0, 1, 0, 1, 0, 1, 1, 0, 1, 0, 0, 0, 0, 1, 1, 0, 0,\n",
      "       1, 1, 1, 0, 1, 1, 1, 1, 1, 0, 0, 1, 1, 0, 1, 1, 0, 0, 1, 0, 1, 1,\n",
      "       1, 1, 0, 1, 1, 1, 1, 1, 0, 1, 0, 0, 0, 0, 0, 0, 0, 0, 0, 0, 0, 0,\n",
      "       0, 0, 1, 1, 1, 1, 1, 1, 0, 1, 0, 1, 1, 0, 1, 1, 0, 1, 0, 0, 1, 1,\n",
      "       1, 1, 1, 1, 1, 1, 1, 1, 1, 1, 1, 0, 1, 1, 0, 1, 0, 1, 1, 1, 1, 1,\n",
      "       1, 1, 1, 1, 1, 1, 1, 1, 1, 0, 1, 1, 1, 0, 1, 0, 1, 1, 1, 1, 0, 0,\n",
      "       0, 1, 1, 1, 1, 0, 1, 0, 1, 0, 1, 1, 1, 0, 1, 1, 1, 1, 1, 1, 1, 0,\n",
      "       0, 0, 1, 1, 1, 1, 1, 1, 1, 1, 1, 1, 1, 0, 0, 1, 0, 0, 0, 1, 0, 0,\n",
      "       1, 1, 1, 1, 1, 0, 1, 1, 1, 1, 1, 0, 1, 1, 1, 0, 1, 1, 0, 0, 1, 1,\n",
      "       1, 1, 1, 1, 0, 1, 1, 1, 1, 1, 1, 1, 0, 1, 1, 1, 1, 1, 0, 1, 1, 0,\n",
      "       1, 1, 1, 1, 1, 1, 1, 1, 1, 1, 1, 1, 0, 1, 0, 0, 1, 0, 1, 1, 1, 1,\n",
      "       1, 0, 1, 1, 0, 1, 0, 1, 1, 0, 1, 0, 1, 1, 1, 1, 1, 1, 1, 1, 0, 0,\n",
      "       1, 1, 1, 1, 1, 1, 0, 1, 1, 1, 1, 1, 1, 1, 1, 1, 1, 0, 1, 1, 1, 1,\n",
      "       1, 1, 1, 0, 1, 0, 1, 1, 0, 1, 1, 1, 1, 1, 0, 0, 1, 0, 1, 0, 1, 1,\n",
      "       1, 1, 1, 0, 1, 1, 0, 1, 0, 1, 0, 0, 1, 1, 1, 0, 1, 1, 1, 1, 1, 1,\n",
      "       1, 1, 1, 1, 1, 0, 1, 0, 0, 1, 1, 1, 1, 1, 1, 1, 1, 1, 1, 1, 1, 1,\n",
      "       1, 1, 1, 1, 1, 1, 1, 1, 1, 1, 1, 1, 0, 0, 0, 0, 0, 0, 1]), 'frame': None, 'target_names': array(['malignant', 'benign'], dtype='<U9'), 'DESCR': '.. _breast_cancer_dataset:\\n\\nBreast cancer wisconsin (diagnostic) dataset\\n--------------------------------------------\\n\\n**Data Set Characteristics:**\\n\\n    :Number of Instances: 569\\n\\n    :Number of Attributes: 30 numeric, predictive attributes and the class\\n\\n    :Attribute Information:\\n        - radius (mean of distances from center to points on the perimeter)\\n        - texture (standard deviation of gray-scale values)\\n        - perimeter\\n        - area\\n        - smoothness (local variation in radius lengths)\\n        - compactness (perimeter^2 / area - 1.0)\\n        - concavity (severity of concave portions of the contour)\\n        - concave points (number of concave portions of the contour)\\n        - symmetry\\n        - fractal dimension (\"coastline approximation\" - 1)\\n\\n        The mean, standard error, and \"worst\" or largest (mean of the three\\n        worst/largest values) of these features were computed for each image,\\n        resulting in 30 features.  For instance, field 0 is Mean Radius, field\\n        10 is Radius SE, field 20 is Worst Radius.\\n\\n        - class:\\n                - WDBC-Malignant\\n                - WDBC-Benign\\n\\n    :Summary Statistics:\\n\\n    ===================================== ====== ======\\n                                           Min    Max\\n    ===================================== ====== ======\\n    radius (mean):                        6.981  28.11\\n    texture (mean):                       9.71   39.28\\n    perimeter (mean):                     43.79  188.5\\n    area (mean):                          143.5  2501.0\\n    smoothness (mean):                    0.053  0.163\\n    compactness (mean):                   0.019  0.345\\n    concavity (mean):                     0.0    0.427\\n    concave points (mean):                0.0    0.201\\n    symmetry (mean):                      0.106  0.304\\n    fractal dimension (mean):             0.05   0.097\\n    radius (standard error):              0.112  2.873\\n    texture (standard error):             0.36   4.885\\n    perimeter (standard error):           0.757  21.98\\n    area (standard error):                6.802  542.2\\n    smoothness (standard error):          0.002  0.031\\n    compactness (standard error):         0.002  0.135\\n    concavity (standard error):           0.0    0.396\\n    concave points (standard error):      0.0    0.053\\n    symmetry (standard error):            0.008  0.079\\n    fractal dimension (standard error):   0.001  0.03\\n    radius (worst):                       7.93   36.04\\n    texture (worst):                      12.02  49.54\\n    perimeter (worst):                    50.41  251.2\\n    area (worst):                         185.2  4254.0\\n    smoothness (worst):                   0.071  0.223\\n    compactness (worst):                  0.027  1.058\\n    concavity (worst):                    0.0    1.252\\n    concave points (worst):               0.0    0.291\\n    symmetry (worst):                     0.156  0.664\\n    fractal dimension (worst):            0.055  0.208\\n    ===================================== ====== ======\\n\\n    :Missing Attribute Values: None\\n\\n    :Class Distribution: 212 - Malignant, 357 - Benign\\n\\n    :Creator:  Dr. William H. Wolberg, W. Nick Street, Olvi L. Mangasarian\\n\\n    :Donor: Nick Street\\n\\n    :Date: November, 1995\\n\\nThis is a copy of UCI ML Breast Cancer Wisconsin (Diagnostic) datasets.\\nhttps://goo.gl/U2Uwz2\\n\\nFeatures are computed from a digitized image of a fine needle\\naspirate (FNA) of a breast mass.  They describe\\ncharacteristics of the cell nuclei present in the image.\\n\\nSeparating plane described above was obtained using\\nMultisurface Method-Tree (MSM-T) [K. P. Bennett, \"Decision Tree\\nConstruction Via Linear Programming.\" Proceedings of the 4th\\nMidwest Artificial Intelligence and Cognitive Science Society,\\npp. 97-101, 1992], a classification method which uses linear\\nprogramming to construct a decision tree.  Relevant features\\nwere selected using an exhaustive search in the space of 1-4\\nfeatures and 1-3 separating planes.\\n\\nThe actual linear program used to obtain the separating plane\\nin the 3-dimensional space is that described in:\\n[K. P. Bennett and O. L. Mangasarian: \"Robust Linear\\nProgramming Discrimination of Two Linearly Inseparable Sets\",\\nOptimization Methods and Software 1, 1992, 23-34].\\n\\nThis database is also available through the UW CS ftp server:\\n\\nftp ftp.cs.wisc.edu\\ncd math-prog/cpo-dataset/machine-learn/WDBC/\\n\\n.. topic:: References\\n\\n   - W.N. Street, W.H. Wolberg and O.L. Mangasarian. Nuclear feature extraction \\n     for breast tumor diagnosis. IS&T/SPIE 1993 International Symposium on \\n     Electronic Imaging: Science and Technology, volume 1905, pages 861-870,\\n     San Jose, CA, 1993.\\n   - O.L. Mangasarian, W.N. Street and W.H. Wolberg. Breast cancer diagnosis and \\n     prognosis via linear programming. Operations Research, 43(4), pages 570-577, \\n     July-August 1995.\\n   - W.H. Wolberg, W.N. Street, and O.L. Mangasarian. Machine learning techniques\\n     to diagnose breast cancer from fine-needle aspirates. Cancer Letters 77 (1994) \\n     163-171.', 'feature_names': array(['mean radius', 'mean texture', 'mean perimeter', 'mean area',\n",
      "       'mean smoothness', 'mean compactness', 'mean concavity',\n",
      "       'mean concave points', 'mean symmetry', 'mean fractal dimension',\n",
      "       'radius error', 'texture error', 'perimeter error', 'area error',\n",
      "       'smoothness error', 'compactness error', 'concavity error',\n",
      "       'concave points error', 'symmetry error',\n",
      "       'fractal dimension error', 'worst radius', 'worst texture',\n",
      "       'worst perimeter', 'worst area', 'worst smoothness',\n",
      "       'worst compactness', 'worst concavity', 'worst concave points',\n",
      "       'worst symmetry', 'worst fractal dimension'], dtype='<U23'), 'filename': 'breast_cancer.csv', 'data_module': 'sklearn.datasets.data'}\n"
     ]
    }
   ],
   "source": [
    "# Affichage ders données\n",
    "print(df)"
   ]
  },
  {
   "cell_type": "markdown",
   "id": "391238c4",
   "metadata": {},
   "source": [
    "\n",
    "\n",
    "\n",
    "\n",
    "df est un dictionnaire contenant plusieurs paires clés-valeurs. La clé « data » a pour valeurs un tableau numpy des données des variables indépendantes. La clé « target » a pour valeur un tableau numpy représentant la variable cible. Cette variable cible a deux modalités malignant*\n",
    "(1) et benign' (O). La clé « features names » contient un tableau numpy des noms des variables indépendantes.\n"
   ]
  },
  {
   "cell_type": "code",
   "execution_count": 8,
   "id": "37d62e72",
   "metadata": {},
   "outputs": [],
   "source": [
    "# Variable cible\n",
    "y = df.target"
   ]
  },
  {
   "cell_type": "code",
   "execution_count": 10,
   "id": "756e59c6",
   "metadata": {},
   "outputs": [
    {
     "name": "stdout",
     "output_type": "stream",
     "text": [
      "[0 0 0 0 0 0 0 0 0 0 0 0 0 0 0 0 0 0 0 1 1 1 0 0 0 0 0 0 0 0 0 0 0 0 0 0 0\n",
      " 1 0 0 0 0 0 0 0 0 1 0 1 1 1 1 1 0 0 1 0 0 1 1 1 1 0 1 0 0 1 1 1 1 0 1 0 0\n",
      " 1 0 1 0 0 1 1 1 0 0 1 0 0 0 1 1 1 0 1 1 0 0 1 1 1 0 0 1 1 1 1 0 1 1 0 1 1\n",
      " 1 1 1 1 1 1 0 0 0 1 0 0 1 1 1 0 0 1 0 1 0 0 1 0 0 1 1 0 1 1 0 1 1 1 1 0 1\n",
      " 1 1 1 1 1 1 1 1 0 1 1 1 1 0 0 1 0 1 1 0 0 1 1 0 0 1 1 1 1 0 1 1 0 0 0 1 0\n",
      " 1 0 1 1 1 0 1 1 0 0 1 0 0 0 0 1 0 0 0 1 0 1 0 1 1 0 1 0 0 0 0 1 1 0 0 1 1\n",
      " 1 0 1 1 1 1 1 0 0 1 1 0 1 1 0 0 1 0 1 1 1 1 0 1 1 1 1 1 0 1 0 0 0 0 0 0 0\n",
      " 0 0 0 0 0 0 0 1 1 1 1 1 1 0 1 0 1 1 0 1 1 0 1 0 0 1 1 1 1 1 1 1 1 1 1 1 1\n",
      " 1 0 1 1 0 1 0 1 1 1 1 1 1 1 1 1 1 1 1 1 1 0 1 1 1 0 1 0 1 1 1 1 0 0 0 1 1\n",
      " 1 1 0 1 0 1 0 1 1 1 0 1 1 1 1 1 1 1 0 0 0 1 1 1 1 1 1 1 1 1 1 1 0 0 1 0 0\n",
      " 0 1 0 0 1 1 1 1 1 0 1 1 1 1 1 0 1 1 1 0 1 1 0 0 1 1 1 1 1 1 0 1 1 1 1 1 1\n",
      " 1 0 1 1 1 1 1 0 1 1 0 1 1 1 1 1 1 1 1 1 1 1 1 0 1 0 0 1 0 1 1 1 1 1 0 1 1\n",
      " 0 1 0 1 1 0 1 0 1 1 1 1 1 1 1 1 0 0 1 1 1 1 1 1 0 1 1 1 1 1 1 1 1 1 1 0 1\n",
      " 1 1 1 1 1 1 0 1 0 1 1 0 1 1 1 1 1 0 0 1 0 1 0 1 1 1 1 1 0 1 1 0 1 0 1 0 0\n",
      " 1 1 1 0 1 1 1 1 1 1 1 1 1 1 1 0 1 0 0 1 1 1 1 1 1 1 1 1 1 1 1 1 1 1 1 1 1\n",
      " 1 1 1 1 1 1 1 0 0 0 0 0 0 1]\n"
     ]
    }
   ],
   "source": [
    "print(y)"
   ]
  },
  {
   "cell_type": "code",
   "execution_count": 17,
   "id": "92ef6ec4",
   "metadata": {},
   "outputs": [
    {
     "data": {
      "text/plain": [
       "(569,)"
      ]
     },
     "execution_count": 17,
     "metadata": {},
     "output_type": "execute_result"
    }
   ],
   "source": [
    "y.shape"
   ]
  },
  {
   "cell_type": "code",
   "execution_count": 11,
   "id": "6d49e04c",
   "metadata": {},
   "outputs": [],
   "source": [
    "# Variables indépendantes\n",
    "\n",
    "X = df.data"
   ]
  },
  {
   "cell_type": "code",
   "execution_count": 15,
   "id": "7a6b4d0d",
   "metadata": {},
   "outputs": [
    {
     "data": {
      "text/plain": [
       "array([[1.799e+01, 1.038e+01, 1.228e+02, ..., 2.654e-01, 4.601e-01,\n",
       "        1.189e-01],\n",
       "       [2.057e+01, 1.777e+01, 1.329e+02, ..., 1.860e-01, 2.750e-01,\n",
       "        8.902e-02],\n",
       "       [1.969e+01, 2.125e+01, 1.300e+02, ..., 2.430e-01, 3.613e-01,\n",
       "        8.758e-02],\n",
       "       ...,\n",
       "       [1.660e+01, 2.808e+01, 1.083e+02, ..., 1.418e-01, 2.218e-01,\n",
       "        7.820e-02],\n",
       "       [2.060e+01, 2.933e+01, 1.401e+02, ..., 2.650e-01, 4.087e-01,\n",
       "        1.240e-01],\n",
       "       [7.760e+00, 2.454e+01, 4.792e+01, ..., 0.000e+00, 2.871e-01,\n",
       "        7.039e-02]])"
      ]
     },
     "execution_count": 15,
     "metadata": {},
     "output_type": "execute_result"
    }
   ],
   "source": [
    "X"
   ]
  },
  {
   "cell_type": "code",
   "execution_count": 18,
   "id": "da038b00",
   "metadata": {},
   "outputs": [
    {
     "name": "stdout",
     "output_type": "stream",
     "text": [
      "[[1.799e+01 1.038e+01 1.228e+02 ... 2.654e-01 4.601e-01 1.189e-01]\n",
      " [2.057e+01 1.777e+01 1.329e+02 ... 1.860e-01 2.750e-01 8.902e-02]\n",
      " [1.969e+01 2.125e+01 1.300e+02 ... 2.430e-01 3.613e-01 8.758e-02]\n",
      " ...\n",
      " [1.660e+01 2.808e+01 1.083e+02 ... 1.418e-01 2.218e-01 7.820e-02]\n",
      " [2.060e+01 2.933e+01 1.401e+02 ... 2.650e-01 4.087e-01 1.240e-01]\n",
      " [7.760e+00 2.454e+01 4.792e+01 ... 0.000e+00 2.871e-01 7.039e-02]]\n"
     ]
    }
   ],
   "source": [
    "print(X)"
   ]
  },
  {
   "cell_type": "code",
   "execution_count": 20,
   "id": "314da603",
   "metadata": {},
   "outputs": [
    {
     "data": {
      "text/plain": [
       "(569, 30)"
      ]
     },
     "execution_count": 20,
     "metadata": {},
     "output_type": "execute_result"
    }
   ],
   "source": [
    "X.shape"
   ]
  },
  {
   "cell_type": "markdown",
   "id": "e2201364",
   "metadata": {},
   "source": [
    "# MODELISATION"
   ]
  },
  {
   "cell_type": "markdown",
   "id": "168dcb3f",
   "metadata": {},
   "source": [
    "Nous sommes face à un problème de classification. \n",
    "\n",
    "Parmi les algorithmes de classification les plus utilisés en Data Science, il y a l'algorithme des k plus proches voisins (K Nearest Neighbor ou KNN en Anglais). KNN est un algorithme d'apprentissage automatique supervisé particulièrement simple et facile à implémenter.\n",
    "\n",
    "Commençons d'abord par l'initialisation de l'algorithme KNN avec le module\n",
    "sklearn.neighbors.KNeighborsClassifier et ses paramètres par défaut :"
   ]
  },
  {
   "cell_type": "code",
   "execution_count": 21,
   "id": "29420b67",
   "metadata": {},
   "outputs": [],
   "source": [
    "from sklearn.neighbors import KNeighborsClassifier"
   ]
  },
  {
   "cell_type": "code",
   "execution_count": 24,
   "id": "b11be335",
   "metadata": {},
   "outputs": [],
   "source": [
    "# Initialisation de KNN avec ses hyperparamètres par défaut\n",
    "#knn = KNeighborsClassifier ()\n",
    "\n",
    "knn = KNeighborsClassifier()"
   ]
  },
  {
   "cell_type": "code",
   "execution_count": 25,
   "id": "9fa096e2",
   "metadata": {},
   "outputs": [
    {
     "data": {
      "text/html": [
       "<style>#sk-container-id-2 {color: black;}#sk-container-id-2 pre{padding: 0;}#sk-container-id-2 div.sk-toggleable {background-color: white;}#sk-container-id-2 label.sk-toggleable__label {cursor: pointer;display: block;width: 100%;margin-bottom: 0;padding: 0.3em;box-sizing: border-box;text-align: center;}#sk-container-id-2 label.sk-toggleable__label-arrow:before {content: \"▸\";float: left;margin-right: 0.25em;color: #696969;}#sk-container-id-2 label.sk-toggleable__label-arrow:hover:before {color: black;}#sk-container-id-2 div.sk-estimator:hover label.sk-toggleable__label-arrow:before {color: black;}#sk-container-id-2 div.sk-toggleable__content {max-height: 0;max-width: 0;overflow: hidden;text-align: left;background-color: #f0f8ff;}#sk-container-id-2 div.sk-toggleable__content pre {margin: 0.2em;color: black;border-radius: 0.25em;background-color: #f0f8ff;}#sk-container-id-2 input.sk-toggleable__control:checked~div.sk-toggleable__content {max-height: 200px;max-width: 100%;overflow: auto;}#sk-container-id-2 input.sk-toggleable__control:checked~label.sk-toggleable__label-arrow:before {content: \"▾\";}#sk-container-id-2 div.sk-estimator input.sk-toggleable__control:checked~label.sk-toggleable__label {background-color: #d4ebff;}#sk-container-id-2 div.sk-label input.sk-toggleable__control:checked~label.sk-toggleable__label {background-color: #d4ebff;}#sk-container-id-2 input.sk-hidden--visually {border: 0;clip: rect(1px 1px 1px 1px);clip: rect(1px, 1px, 1px, 1px);height: 1px;margin: -1px;overflow: hidden;padding: 0;position: absolute;width: 1px;}#sk-container-id-2 div.sk-estimator {font-family: monospace;background-color: #f0f8ff;border: 1px dotted black;border-radius: 0.25em;box-sizing: border-box;margin-bottom: 0.5em;}#sk-container-id-2 div.sk-estimator:hover {background-color: #d4ebff;}#sk-container-id-2 div.sk-parallel-item::after {content: \"\";width: 100%;border-bottom: 1px solid gray;flex-grow: 1;}#sk-container-id-2 div.sk-label:hover label.sk-toggleable__label {background-color: #d4ebff;}#sk-container-id-2 div.sk-serial::before {content: \"\";position: absolute;border-left: 1px solid gray;box-sizing: border-box;top: 0;bottom: 0;left: 50%;z-index: 0;}#sk-container-id-2 div.sk-serial {display: flex;flex-direction: column;align-items: center;background-color: white;padding-right: 0.2em;padding-left: 0.2em;position: relative;}#sk-container-id-2 div.sk-item {position: relative;z-index: 1;}#sk-container-id-2 div.sk-parallel {display: flex;align-items: stretch;justify-content: center;background-color: white;position: relative;}#sk-container-id-2 div.sk-item::before, #sk-container-id-2 div.sk-parallel-item::before {content: \"\";position: absolute;border-left: 1px solid gray;box-sizing: border-box;top: 0;bottom: 0;left: 50%;z-index: -1;}#sk-container-id-2 div.sk-parallel-item {display: flex;flex-direction: column;z-index: 1;position: relative;background-color: white;}#sk-container-id-2 div.sk-parallel-item:first-child::after {align-self: flex-end;width: 50%;}#sk-container-id-2 div.sk-parallel-item:last-child::after {align-self: flex-start;width: 50%;}#sk-container-id-2 div.sk-parallel-item:only-child::after {width: 0;}#sk-container-id-2 div.sk-dashed-wrapped {border: 1px dashed gray;margin: 0 0.4em 0.5em 0.4em;box-sizing: border-box;padding-bottom: 0.4em;background-color: white;}#sk-container-id-2 div.sk-label label {font-family: monospace;font-weight: bold;display: inline-block;line-height: 1.2em;}#sk-container-id-2 div.sk-label-container {text-align: center;}#sk-container-id-2 div.sk-container {/* jupyter's `normalize.less` sets `[hidden] { display: none; }` but bootstrap.min.css set `[hidden] { display: none !important; }` so we also need the `!important` here to be able to override the default hidden behavior on the sphinx rendered scikit-learn.org. See: https://github.com/scikit-learn/scikit-learn/issues/21755 */display: inline-block !important;position: relative;}#sk-container-id-2 div.sk-text-repr-fallback {display: none;}</style><div id=\"sk-container-id-2\" class=\"sk-top-container\"><div class=\"sk-text-repr-fallback\"><pre>KNeighborsClassifier()</pre><b>In a Jupyter environment, please rerun this cell to show the HTML representation or trust the notebook. <br />On GitHub, the HTML representation is unable to render, please try loading this page with nbviewer.org.</b></div><div class=\"sk-container\" hidden><div class=\"sk-item\"><div class=\"sk-estimator sk-toggleable\"><input class=\"sk-toggleable__control sk-hidden--visually\" id=\"sk-estimator-id-2\" type=\"checkbox\" checked><label for=\"sk-estimator-id-2\" class=\"sk-toggleable__label sk-toggleable__label-arrow\">KNeighborsClassifier</label><div class=\"sk-toggleable__content\"><pre>KNeighborsClassifier()</pre></div></div></div></div></div>"
      ],
      "text/plain": [
       "KNeighborsClassifier()"
      ]
     },
     "execution_count": 25,
     "metadata": {},
     "output_type": "execute_result"
    }
   ],
   "source": [
    "knn"
   ]
  },
  {
   "cell_type": "markdown",
   "id": "4271ae5b",
   "metadata": {},
   "source": [
    "Réalisons ensuite une validation croisée avec 5 plis :"
   ]
  },
  {
   "cell_type": "code",
   "execution_count": 29,
   "id": "9f3523e7",
   "metadata": {},
   "outputs": [],
   "source": [
    "# 5-fold cross-validation\n",
    "\n",
    "cv_Scores = cross_val_score(knn,\n",
    "                           X,\n",
    "                           y,\n",
    "                           cv=5,\n",
    "                           scoring = 'precision')\n",
    "\n",
    "# il ya 5 plis"
   ]
  },
  {
   "cell_type": "code",
   "execution_count": 30,
   "id": "13833b09",
   "metadata": {},
   "outputs": [
    {
     "name": "stdout",
     "output_type": "stream",
     "text": [
      "[0.8625     0.93243243 0.94520548 0.94594595 0.95652174]\n"
     ]
    }
   ],
   "source": [
    "# Affichage des scores\n",
    "\n",
    "print(cv_Scores)"
   ]
  },
  {
   "cell_type": "markdown",
   "id": "217728dd",
   "metadata": {},
   "source": [
    "Interprétation des Valeurs Individuelles\n",
    "Chaque valeur représente la précision du modèle sur un pli particulier utilisé comme jeu de test pendant la validation croisée.\n",
    "\n",
    "0.8625 : Précision du modèle sur le premier pli de test.\n",
    "\n",
    "0.93243243 : Précision du modèle sur le deuxième pli de test.\n",
    "\n",
    "0.94520548 : Précision du modèle sur le troisième pli de test.\n",
    "\n",
    "0.94594595 : Précision du modèle sur le quatrième pli de test.\n",
    "\n",
    "0.95652174 : Précision du modèle sur le cinquième pli de test.\n",
    "\n",
    "Précision\n",
    "La précision est une mesure de performance pour les modèles de classification. Elle est définie comme le ratio des vrais positifs (TP) sur le nombre total de prédictions positives (TP + FP) :\n",
    "\n",
    "\n",
    "Precision= Vrais Positifs (TP)/Vrais Positifs (TP)+Faux Positifs (FP)\n",
    "\n",
    "\n",
    " \n",
    "\n",
    "Une précision de 0.8625 signifie que 86.25% des prédictions positives faites par le modèle étaient correctes pour le premier pli de test. De même, pour le deuxième pli de test, 93.24% des prédictions positives étaient correctes, et ainsi de suite.\n",
    "\n",
    "Performance du Modèle"
   ]
  },
  {
   "cell_type": "markdown",
   "id": "ab46c9a8",
   "metadata": {},
   "source": [
    "Calculons le score moyen :"
   ]
  },
  {
   "cell_type": "code",
   "execution_count": 31,
   "id": "9d3d99f7",
   "metadata": {},
   "outputs": [
    {
     "data": {
      "text/plain": [
       "0.93"
      ]
     },
     "execution_count": 31,
     "metadata": {},
     "output_type": "execute_result"
    }
   ],
   "source": [
    "# Score moyen arrondi à deux chiffres après la virgule\n",
    "\n",
    "round(np.mean(cv_Scores), 2)"
   ]
  },
  {
   "cell_type": "markdown",
   "id": "c56f7527",
   "metadata": {},
   "source": [
    "Si je comprends bien. Lorsqu'on a une chaîne de charactère on met de guillemet.\n",
    "et Au contraire si nous avons une variable numérique on ne met pas de guillemet\n",
    "oui exactement!"
   ]
  },
  {
   "cell_type": "markdown",
   "id": "e132b75b",
   "metadata": {},
   "source": [
    "Le score moyen est égal à 0,93."
   ]
  },
  {
   "cell_type": "markdown",
   "id": "141e5307",
   "metadata": {},
   "source": [
    "# GRID SEARCH"
   ]
  },
  {
   "cell_type": "markdown",
   "id": "5ac03a14",
   "metadata": {},
   "source": [
    "Pour effectuer notre validation croisée, nous avons considéré les paramètres par défaut de l'algorithme de KNN : ce sont les hyperparamètres. Les hyperparamètres sont définis avant le début du processus de modélisation. Il ne faut pas les confondre avec les paramètres d'un modèle obtenus après l'entraînement de l'algorithme par des données. Pour l'algorithme de classification KNN dans Scikit-Learn, les hyperparamètres sont :"
   ]
  },
  {
   "cell_type": "code",
   "execution_count": 32,
   "id": "5e479741",
   "metadata": {},
   "outputs": [
    {
     "name": "stdout",
     "output_type": "stream",
     "text": [
      "KNeighborsClassifier()\n"
     ]
    }
   ],
   "source": [
    "# Affichage de Knn\n",
    "\n",
    "print(knn)"
   ]
  },
  {
   "cell_type": "code",
   "execution_count": 33,
   "id": "d33a42e5",
   "metadata": {},
   "outputs": [
    {
     "data": {
      "text/html": [
       "<style>#sk-container-id-3 {color: black;}#sk-container-id-3 pre{padding: 0;}#sk-container-id-3 div.sk-toggleable {background-color: white;}#sk-container-id-3 label.sk-toggleable__label {cursor: pointer;display: block;width: 100%;margin-bottom: 0;padding: 0.3em;box-sizing: border-box;text-align: center;}#sk-container-id-3 label.sk-toggleable__label-arrow:before {content: \"▸\";float: left;margin-right: 0.25em;color: #696969;}#sk-container-id-3 label.sk-toggleable__label-arrow:hover:before {color: black;}#sk-container-id-3 div.sk-estimator:hover label.sk-toggleable__label-arrow:before {color: black;}#sk-container-id-3 div.sk-toggleable__content {max-height: 0;max-width: 0;overflow: hidden;text-align: left;background-color: #f0f8ff;}#sk-container-id-3 div.sk-toggleable__content pre {margin: 0.2em;color: black;border-radius: 0.25em;background-color: #f0f8ff;}#sk-container-id-3 input.sk-toggleable__control:checked~div.sk-toggleable__content {max-height: 200px;max-width: 100%;overflow: auto;}#sk-container-id-3 input.sk-toggleable__control:checked~label.sk-toggleable__label-arrow:before {content: \"▾\";}#sk-container-id-3 div.sk-estimator input.sk-toggleable__control:checked~label.sk-toggleable__label {background-color: #d4ebff;}#sk-container-id-3 div.sk-label input.sk-toggleable__control:checked~label.sk-toggleable__label {background-color: #d4ebff;}#sk-container-id-3 input.sk-hidden--visually {border: 0;clip: rect(1px 1px 1px 1px);clip: rect(1px, 1px, 1px, 1px);height: 1px;margin: -1px;overflow: hidden;padding: 0;position: absolute;width: 1px;}#sk-container-id-3 div.sk-estimator {font-family: monospace;background-color: #f0f8ff;border: 1px dotted black;border-radius: 0.25em;box-sizing: border-box;margin-bottom: 0.5em;}#sk-container-id-3 div.sk-estimator:hover {background-color: #d4ebff;}#sk-container-id-3 div.sk-parallel-item::after {content: \"\";width: 100%;border-bottom: 1px solid gray;flex-grow: 1;}#sk-container-id-3 div.sk-label:hover label.sk-toggleable__label {background-color: #d4ebff;}#sk-container-id-3 div.sk-serial::before {content: \"\";position: absolute;border-left: 1px solid gray;box-sizing: border-box;top: 0;bottom: 0;left: 50%;z-index: 0;}#sk-container-id-3 div.sk-serial {display: flex;flex-direction: column;align-items: center;background-color: white;padding-right: 0.2em;padding-left: 0.2em;position: relative;}#sk-container-id-3 div.sk-item {position: relative;z-index: 1;}#sk-container-id-3 div.sk-parallel {display: flex;align-items: stretch;justify-content: center;background-color: white;position: relative;}#sk-container-id-3 div.sk-item::before, #sk-container-id-3 div.sk-parallel-item::before {content: \"\";position: absolute;border-left: 1px solid gray;box-sizing: border-box;top: 0;bottom: 0;left: 50%;z-index: -1;}#sk-container-id-3 div.sk-parallel-item {display: flex;flex-direction: column;z-index: 1;position: relative;background-color: white;}#sk-container-id-3 div.sk-parallel-item:first-child::after {align-self: flex-end;width: 50%;}#sk-container-id-3 div.sk-parallel-item:last-child::after {align-self: flex-start;width: 50%;}#sk-container-id-3 div.sk-parallel-item:only-child::after {width: 0;}#sk-container-id-3 div.sk-dashed-wrapped {border: 1px dashed gray;margin: 0 0.4em 0.5em 0.4em;box-sizing: border-box;padding-bottom: 0.4em;background-color: white;}#sk-container-id-3 div.sk-label label {font-family: monospace;font-weight: bold;display: inline-block;line-height: 1.2em;}#sk-container-id-3 div.sk-label-container {text-align: center;}#sk-container-id-3 div.sk-container {/* jupyter's `normalize.less` sets `[hidden] { display: none; }` but bootstrap.min.css set `[hidden] { display: none !important; }` so we also need the `!important` here to be able to override the default hidden behavior on the sphinx rendered scikit-learn.org. See: https://github.com/scikit-learn/scikit-learn/issues/21755 */display: inline-block !important;position: relative;}#sk-container-id-3 div.sk-text-repr-fallback {display: none;}</style><div id=\"sk-container-id-3\" class=\"sk-top-container\"><div class=\"sk-text-repr-fallback\"><pre>KNeighborsClassifier()</pre><b>In a Jupyter environment, please rerun this cell to show the HTML representation or trust the notebook. <br />On GitHub, the HTML representation is unable to render, please try loading this page with nbviewer.org.</b></div><div class=\"sk-container\" hidden><div class=\"sk-item\"><div class=\"sk-estimator sk-toggleable\"><input class=\"sk-toggleable__control sk-hidden--visually\" id=\"sk-estimator-id-3\" type=\"checkbox\" checked><label for=\"sk-estimator-id-3\" class=\"sk-toggleable__label sk-toggleable__label-arrow\">KNeighborsClassifier</label><div class=\"sk-toggleable__content\"><pre>KNeighborsClassifier()</pre></div></div></div></div></div>"
      ],
      "text/plain": [
       "KNeighborsClassifier()"
      ]
     },
     "execution_count": 33,
     "metadata": {},
     "output_type": "execute_result"
    }
   ],
   "source": [
    "KNeighborsClassifier(algorithm='auto',\n",
    "                    leaf_size=30,\n",
    "                    metric_params= None,\n",
    "                    n_jobs= None,\n",
    "                    n_neighbors = 5,\n",
    "                    weights= 'uniform')"
   ]
  },
  {
   "cell_type": "markdown",
   "id": "e03326e1",
   "metadata": {},
   "source": [
    "Veuillez consulter cette documentation pour les définitions de ces algorithmes. Par exemple n neighbors indique le nombre de points voisins que l'algorithme considère dans ses calculs.\n",
    "Comme vous le voyez bien, des valeurs par défaut sont définies pour chaque hyperparamètre.\n",
    "\n",
    "Comment pouvons-nous être sûr que ces valeurs par défaut sont optimales pour notre modèle ?\n",
    "Quelle est la meilleure combinaison des hyperparamètres qui donne la meilleure performance du modèle ? Imaginons que nous voulions essayer plusieurs valeurs pour les hyperparamètres algorithm, leaf _size, et n neighbors. Il faudra donc essayer chaque combinaison de ces valeurs, construire le modèle et l'évaluer par une validation croisée pour finalement choisir l'hyperparamétrage qui donne la meilleure métrique d'évaluation. Ce processus peut être effectué automatiquement avec une recherche de grille (Grid Search). Voici comment nous l'implémentons dans Python :\n"
   ]
  },
  {
   "cell_type": "code",
   "execution_count": 34,
   "id": "112c813b",
   "metadata": {},
   "outputs": [],
   "source": [
    "# Dictionnaire des hyperparamètres avec leurs valeurs\n",
    "\n",
    "grid = {'n_neighbors': [1, 3, 5, 7, 9, 10 ],\n",
    "       'weights' : [\"uniform\", \"distance\"],\n",
    "       \"algorithm\": ['auto', 'ball_tree', 'kd_tree', 'brute'],\n",
    "       \"leaf_size\": [10, 20, 30,40, 50]}"
   ]
  },
  {
   "cell_type": "code",
   "execution_count": 35,
   "id": "e8d4868c",
   "metadata": {},
   "outputs": [],
   "source": [
    "from sklearn.model_selection import GridSearchCV"
   ]
  },
  {
   "cell_type": "code",
   "execution_count": 38,
   "id": "d3fff444",
   "metadata": {},
   "outputs": [],
   "source": [
    "# Estimateur\n",
    "model = GridSearchCV(estimator= KNeighborsClassifier(),\n",
    "                    param_grid= grid,\n",
    "                    scoring= 'precision',\n",
    "                    cv = 5)"
   ]
  },
  {
   "cell_type": "code",
   "execution_count": 41,
   "id": "09d6f671",
   "metadata": {},
   "outputs": [
    {
     "data": {
      "text/html": [
       "<style>#sk-container-id-7 {color: black;}#sk-container-id-7 pre{padding: 0;}#sk-container-id-7 div.sk-toggleable {background-color: white;}#sk-container-id-7 label.sk-toggleable__label {cursor: pointer;display: block;width: 100%;margin-bottom: 0;padding: 0.3em;box-sizing: border-box;text-align: center;}#sk-container-id-7 label.sk-toggleable__label-arrow:before {content: \"▸\";float: left;margin-right: 0.25em;color: #696969;}#sk-container-id-7 label.sk-toggleable__label-arrow:hover:before {color: black;}#sk-container-id-7 div.sk-estimator:hover label.sk-toggleable__label-arrow:before {color: black;}#sk-container-id-7 div.sk-toggleable__content {max-height: 0;max-width: 0;overflow: hidden;text-align: left;background-color: #f0f8ff;}#sk-container-id-7 div.sk-toggleable__content pre {margin: 0.2em;color: black;border-radius: 0.25em;background-color: #f0f8ff;}#sk-container-id-7 input.sk-toggleable__control:checked~div.sk-toggleable__content {max-height: 200px;max-width: 100%;overflow: auto;}#sk-container-id-7 input.sk-toggleable__control:checked~label.sk-toggleable__label-arrow:before {content: \"▾\";}#sk-container-id-7 div.sk-estimator input.sk-toggleable__control:checked~label.sk-toggleable__label {background-color: #d4ebff;}#sk-container-id-7 div.sk-label input.sk-toggleable__control:checked~label.sk-toggleable__label {background-color: #d4ebff;}#sk-container-id-7 input.sk-hidden--visually {border: 0;clip: rect(1px 1px 1px 1px);clip: rect(1px, 1px, 1px, 1px);height: 1px;margin: -1px;overflow: hidden;padding: 0;position: absolute;width: 1px;}#sk-container-id-7 div.sk-estimator {font-family: monospace;background-color: #f0f8ff;border: 1px dotted black;border-radius: 0.25em;box-sizing: border-box;margin-bottom: 0.5em;}#sk-container-id-7 div.sk-estimator:hover {background-color: #d4ebff;}#sk-container-id-7 div.sk-parallel-item::after {content: \"\";width: 100%;border-bottom: 1px solid gray;flex-grow: 1;}#sk-container-id-7 div.sk-label:hover label.sk-toggleable__label {background-color: #d4ebff;}#sk-container-id-7 div.sk-serial::before {content: \"\";position: absolute;border-left: 1px solid gray;box-sizing: border-box;top: 0;bottom: 0;left: 50%;z-index: 0;}#sk-container-id-7 div.sk-serial {display: flex;flex-direction: column;align-items: center;background-color: white;padding-right: 0.2em;padding-left: 0.2em;position: relative;}#sk-container-id-7 div.sk-item {position: relative;z-index: 1;}#sk-container-id-7 div.sk-parallel {display: flex;align-items: stretch;justify-content: center;background-color: white;position: relative;}#sk-container-id-7 div.sk-item::before, #sk-container-id-7 div.sk-parallel-item::before {content: \"\";position: absolute;border-left: 1px solid gray;box-sizing: border-box;top: 0;bottom: 0;left: 50%;z-index: -1;}#sk-container-id-7 div.sk-parallel-item {display: flex;flex-direction: column;z-index: 1;position: relative;background-color: white;}#sk-container-id-7 div.sk-parallel-item:first-child::after {align-self: flex-end;width: 50%;}#sk-container-id-7 div.sk-parallel-item:last-child::after {align-self: flex-start;width: 50%;}#sk-container-id-7 div.sk-parallel-item:only-child::after {width: 0;}#sk-container-id-7 div.sk-dashed-wrapped {border: 1px dashed gray;margin: 0 0.4em 0.5em 0.4em;box-sizing: border-box;padding-bottom: 0.4em;background-color: white;}#sk-container-id-7 div.sk-label label {font-family: monospace;font-weight: bold;display: inline-block;line-height: 1.2em;}#sk-container-id-7 div.sk-label-container {text-align: center;}#sk-container-id-7 div.sk-container {/* jupyter's `normalize.less` sets `[hidden] { display: none; }` but bootstrap.min.css set `[hidden] { display: none !important; }` so we also need the `!important` here to be able to override the default hidden behavior on the sphinx rendered scikit-learn.org. See: https://github.com/scikit-learn/scikit-learn/issues/21755 */display: inline-block !important;position: relative;}#sk-container-id-7 div.sk-text-repr-fallback {display: none;}</style><div id=\"sk-container-id-7\" class=\"sk-top-container\"><div class=\"sk-text-repr-fallback\"><pre>GridSearchCV(cv=5, estimator=KNeighborsClassifier(),\n",
       "             param_grid={&#x27;algorithm&#x27;: [&#x27;auto&#x27;, &#x27;ball_tree&#x27;, &#x27;kd_tree&#x27;, &#x27;brute&#x27;],\n",
       "                         &#x27;leaf_size&#x27;: [10, 20, 30, 40, 50],\n",
       "                         &#x27;n_neighbors&#x27;: [1, 3, 5, 7, 9, 10],\n",
       "                         &#x27;weights&#x27;: [&#x27;uniform&#x27;, &#x27;distance&#x27;]},\n",
       "             scoring=&#x27;precision&#x27;)</pre><b>In a Jupyter environment, please rerun this cell to show the HTML representation or trust the notebook. <br />On GitHub, the HTML representation is unable to render, please try loading this page with nbviewer.org.</b></div><div class=\"sk-container\" hidden><div class=\"sk-item sk-dashed-wrapped\"><div class=\"sk-label-container\"><div class=\"sk-label sk-toggleable\"><input class=\"sk-toggleable__control sk-hidden--visually\" id=\"sk-estimator-id-13\" type=\"checkbox\" ><label for=\"sk-estimator-id-13\" class=\"sk-toggleable__label sk-toggleable__label-arrow\">GridSearchCV</label><div class=\"sk-toggleable__content\"><pre>GridSearchCV(cv=5, estimator=KNeighborsClassifier(),\n",
       "             param_grid={&#x27;algorithm&#x27;: [&#x27;auto&#x27;, &#x27;ball_tree&#x27;, &#x27;kd_tree&#x27;, &#x27;brute&#x27;],\n",
       "                         &#x27;leaf_size&#x27;: [10, 20, 30, 40, 50],\n",
       "                         &#x27;n_neighbors&#x27;: [1, 3, 5, 7, 9, 10],\n",
       "                         &#x27;weights&#x27;: [&#x27;uniform&#x27;, &#x27;distance&#x27;]},\n",
       "             scoring=&#x27;precision&#x27;)</pre></div></div></div><div class=\"sk-parallel\"><div class=\"sk-parallel-item\"><div class=\"sk-item\"><div class=\"sk-label-container\"><div class=\"sk-label sk-toggleable\"><input class=\"sk-toggleable__control sk-hidden--visually\" id=\"sk-estimator-id-14\" type=\"checkbox\" ><label for=\"sk-estimator-id-14\" class=\"sk-toggleable__label sk-toggleable__label-arrow\">estimator: KNeighborsClassifier</label><div class=\"sk-toggleable__content\"><pre>KNeighborsClassifier()</pre></div></div></div><div class=\"sk-serial\"><div class=\"sk-item\"><div class=\"sk-estimator sk-toggleable\"><input class=\"sk-toggleable__control sk-hidden--visually\" id=\"sk-estimator-id-15\" type=\"checkbox\" ><label for=\"sk-estimator-id-15\" class=\"sk-toggleable__label sk-toggleable__label-arrow\">KNeighborsClassifier</label><div class=\"sk-toggleable__content\"><pre>KNeighborsClassifier()</pre></div></div></div></div></div></div></div></div></div></div>"
      ],
      "text/plain": [
       "GridSearchCV(cv=5, estimator=KNeighborsClassifier(),\n",
       "             param_grid={'algorithm': ['auto', 'ball_tree', 'kd_tree', 'brute'],\n",
       "                         'leaf_size': [10, 20, 30, 40, 50],\n",
       "                         'n_neighbors': [1, 3, 5, 7, 9, 10],\n",
       "                         'weights': ['uniform', 'distance']},\n",
       "             scoring='precision')"
      ]
     },
     "execution_count": 41,
     "metadata": {},
     "output_type": "execute_result"
    }
   ],
   "source": [
    "model"
   ]
  },
  {
   "cell_type": "markdown",
   "id": "1346f476",
   "metadata": {},
   "source": [
    "Nous avons d'abord défini un dictionnaire avec comme clés les hyperparamètres et leurs valeurs que nous voulons essayer (veiller à bien écrire le nom de chaque hyperparamètre). Nous avons  ensuite défini un objet GridSearchCV qui nous permettra de rechercher le meilleur hyperparamétrage. Afin de mieux comprendre, calculons le nombre total de modèles qui seront construit. Chaque combinaison de valeur sera essayée. Pour une combinaison, 5 modèles seront construits (cv =5) afin de choisir celui qui donne la meilleure métrique (ici 'precision'). \n",
    "\n",
    "Pour chaque valeur d'un hyperparamètre, nous testons chaque valeur de chaque autre hyperparamètre : c'est ce qui forme une combinaison. Pour trouver le nombre de combinaisons possibles, il faudra donc multiplier les longueurs des listes qui définissent les valeurs des hyperparamètres. \n",
    "\n",
    "Alors, dans notre cas, le nombre de combinaisons possibles est égal à 6 x 2 x 4 x 2 x 5 soit 480 combinaisons. 5 modèles sont créés pour chaque combinaison. Alors le nombre total de modèles créés est égal à 480 x 5 soit 2400 modèles."
   ]
  },
  {
   "cell_type": "code",
   "execution_count": 42,
   "id": "1c746449",
   "metadata": {},
   "outputs": [
    {
     "data": {
      "text/html": [
       "<style>#sk-container-id-8 {color: black;}#sk-container-id-8 pre{padding: 0;}#sk-container-id-8 div.sk-toggleable {background-color: white;}#sk-container-id-8 label.sk-toggleable__label {cursor: pointer;display: block;width: 100%;margin-bottom: 0;padding: 0.3em;box-sizing: border-box;text-align: center;}#sk-container-id-8 label.sk-toggleable__label-arrow:before {content: \"▸\";float: left;margin-right: 0.25em;color: #696969;}#sk-container-id-8 label.sk-toggleable__label-arrow:hover:before {color: black;}#sk-container-id-8 div.sk-estimator:hover label.sk-toggleable__label-arrow:before {color: black;}#sk-container-id-8 div.sk-toggleable__content {max-height: 0;max-width: 0;overflow: hidden;text-align: left;background-color: #f0f8ff;}#sk-container-id-8 div.sk-toggleable__content pre {margin: 0.2em;color: black;border-radius: 0.25em;background-color: #f0f8ff;}#sk-container-id-8 input.sk-toggleable__control:checked~div.sk-toggleable__content {max-height: 200px;max-width: 100%;overflow: auto;}#sk-container-id-8 input.sk-toggleable__control:checked~label.sk-toggleable__label-arrow:before {content: \"▾\";}#sk-container-id-8 div.sk-estimator input.sk-toggleable__control:checked~label.sk-toggleable__label {background-color: #d4ebff;}#sk-container-id-8 div.sk-label input.sk-toggleable__control:checked~label.sk-toggleable__label {background-color: #d4ebff;}#sk-container-id-8 input.sk-hidden--visually {border: 0;clip: rect(1px 1px 1px 1px);clip: rect(1px, 1px, 1px, 1px);height: 1px;margin: -1px;overflow: hidden;padding: 0;position: absolute;width: 1px;}#sk-container-id-8 div.sk-estimator {font-family: monospace;background-color: #f0f8ff;border: 1px dotted black;border-radius: 0.25em;box-sizing: border-box;margin-bottom: 0.5em;}#sk-container-id-8 div.sk-estimator:hover {background-color: #d4ebff;}#sk-container-id-8 div.sk-parallel-item::after {content: \"\";width: 100%;border-bottom: 1px solid gray;flex-grow: 1;}#sk-container-id-8 div.sk-label:hover label.sk-toggleable__label {background-color: #d4ebff;}#sk-container-id-8 div.sk-serial::before {content: \"\";position: absolute;border-left: 1px solid gray;box-sizing: border-box;top: 0;bottom: 0;left: 50%;z-index: 0;}#sk-container-id-8 div.sk-serial {display: flex;flex-direction: column;align-items: center;background-color: white;padding-right: 0.2em;padding-left: 0.2em;position: relative;}#sk-container-id-8 div.sk-item {position: relative;z-index: 1;}#sk-container-id-8 div.sk-parallel {display: flex;align-items: stretch;justify-content: center;background-color: white;position: relative;}#sk-container-id-8 div.sk-item::before, #sk-container-id-8 div.sk-parallel-item::before {content: \"\";position: absolute;border-left: 1px solid gray;box-sizing: border-box;top: 0;bottom: 0;left: 50%;z-index: -1;}#sk-container-id-8 div.sk-parallel-item {display: flex;flex-direction: column;z-index: 1;position: relative;background-color: white;}#sk-container-id-8 div.sk-parallel-item:first-child::after {align-self: flex-end;width: 50%;}#sk-container-id-8 div.sk-parallel-item:last-child::after {align-self: flex-start;width: 50%;}#sk-container-id-8 div.sk-parallel-item:only-child::after {width: 0;}#sk-container-id-8 div.sk-dashed-wrapped {border: 1px dashed gray;margin: 0 0.4em 0.5em 0.4em;box-sizing: border-box;padding-bottom: 0.4em;background-color: white;}#sk-container-id-8 div.sk-label label {font-family: monospace;font-weight: bold;display: inline-block;line-height: 1.2em;}#sk-container-id-8 div.sk-label-container {text-align: center;}#sk-container-id-8 div.sk-container {/* jupyter's `normalize.less` sets `[hidden] { display: none; }` but bootstrap.min.css set `[hidden] { display: none !important; }` so we also need the `!important` here to be able to override the default hidden behavior on the sphinx rendered scikit-learn.org. See: https://github.com/scikit-learn/scikit-learn/issues/21755 */display: inline-block !important;position: relative;}#sk-container-id-8 div.sk-text-repr-fallback {display: none;}</style><div id=\"sk-container-id-8\" class=\"sk-top-container\"><div class=\"sk-text-repr-fallback\"><pre>GridSearchCV(cv=5, estimator=KNeighborsClassifier(),\n",
       "             param_grid={&#x27;algorithm&#x27;: [&#x27;auto&#x27;, &#x27;ball_tree&#x27;, &#x27;kd_tree&#x27;, &#x27;brute&#x27;],\n",
       "                         &#x27;leaf_size&#x27;: [10, 20, 30, 40, 50],\n",
       "                         &#x27;n_neighbors&#x27;: [1, 3, 5, 7, 9, 10],\n",
       "                         &#x27;weights&#x27;: [&#x27;uniform&#x27;, &#x27;distance&#x27;]},\n",
       "             scoring=&#x27;precision&#x27;)</pre><b>In a Jupyter environment, please rerun this cell to show the HTML representation or trust the notebook. <br />On GitHub, the HTML representation is unable to render, please try loading this page with nbviewer.org.</b></div><div class=\"sk-container\" hidden><div class=\"sk-item sk-dashed-wrapped\"><div class=\"sk-label-container\"><div class=\"sk-label sk-toggleable\"><input class=\"sk-toggleable__control sk-hidden--visually\" id=\"sk-estimator-id-16\" type=\"checkbox\" ><label for=\"sk-estimator-id-16\" class=\"sk-toggleable__label sk-toggleable__label-arrow\">GridSearchCV</label><div class=\"sk-toggleable__content\"><pre>GridSearchCV(cv=5, estimator=KNeighborsClassifier(),\n",
       "             param_grid={&#x27;algorithm&#x27;: [&#x27;auto&#x27;, &#x27;ball_tree&#x27;, &#x27;kd_tree&#x27;, &#x27;brute&#x27;],\n",
       "                         &#x27;leaf_size&#x27;: [10, 20, 30, 40, 50],\n",
       "                         &#x27;n_neighbors&#x27;: [1, 3, 5, 7, 9, 10],\n",
       "                         &#x27;weights&#x27;: [&#x27;uniform&#x27;, &#x27;distance&#x27;]},\n",
       "             scoring=&#x27;precision&#x27;)</pre></div></div></div><div class=\"sk-parallel\"><div class=\"sk-parallel-item\"><div class=\"sk-item\"><div class=\"sk-label-container\"><div class=\"sk-label sk-toggleable\"><input class=\"sk-toggleable__control sk-hidden--visually\" id=\"sk-estimator-id-17\" type=\"checkbox\" ><label for=\"sk-estimator-id-17\" class=\"sk-toggleable__label sk-toggleable__label-arrow\">estimator: KNeighborsClassifier</label><div class=\"sk-toggleable__content\"><pre>KNeighborsClassifier()</pre></div></div></div><div class=\"sk-serial\"><div class=\"sk-item\"><div class=\"sk-estimator sk-toggleable\"><input class=\"sk-toggleable__control sk-hidden--visually\" id=\"sk-estimator-id-18\" type=\"checkbox\" ><label for=\"sk-estimator-id-18\" class=\"sk-toggleable__label sk-toggleable__label-arrow\">KNeighborsClassifier</label><div class=\"sk-toggleable__content\"><pre>KNeighborsClassifier()</pre></div></div></div></div></div></div></div></div></div></div>"
      ],
      "text/plain": [
       "GridSearchCV(cv=5, estimator=KNeighborsClassifier(),\n",
       "             param_grid={'algorithm': ['auto', 'ball_tree', 'kd_tree', 'brute'],\n",
       "                         'leaf_size': [10, 20, 30, 40, 50],\n",
       "                         'n_neighbors': [1, 3, 5, 7, 9, 10],\n",
       "                         'weights': ['uniform', 'distance']},\n",
       "             scoring='precision')"
      ]
     },
     "execution_count": 42,
     "metadata": {},
     "output_type": "execute_result"
    }
   ],
   "source": [
    "# Recherche du meilleur modèle\n",
    "model.fit(X, y)"
   ]
  },
  {
   "cell_type": "markdown",
   "id": "14727898",
   "metadata": {},
   "source": [
    "L'objet GridSearchCV a un attribut « cv_ results_» qui stocke dans un dictionnaire les résultats de la recherche. Nous allons affiché ces résultats dans un format plus lisible qu'un dictionnaire :\n",
    "une dataframe."
   ]
  },
  {
   "cell_type": "code",
   "execution_count": 44,
   "id": "9119d1df",
   "metadata": {},
   "outputs": [],
   "source": [
    "# Convertion du dictionnaire des résultats en une dataframe\n",
    "results = pd.DataFrame(model.cv_results_)"
   ]
  },
  {
   "cell_type": "code",
   "execution_count": 45,
   "id": "d4dcc35f",
   "metadata": {},
   "outputs": [
    {
     "data": {
      "text/html": [
       "<div>\n",
       "<style scoped>\n",
       "    .dataframe tbody tr th:only-of-type {\n",
       "        vertical-align: middle;\n",
       "    }\n",
       "\n",
       "    .dataframe tbody tr th {\n",
       "        vertical-align: top;\n",
       "    }\n",
       "\n",
       "    .dataframe thead th {\n",
       "        text-align: right;\n",
       "    }\n",
       "</style>\n",
       "<table border=\"1\" class=\"dataframe\">\n",
       "  <thead>\n",
       "    <tr style=\"text-align: right;\">\n",
       "      <th></th>\n",
       "      <th>mean_fit_time</th>\n",
       "      <th>std_fit_time</th>\n",
       "      <th>mean_score_time</th>\n",
       "      <th>std_score_time</th>\n",
       "      <th>param_algorithm</th>\n",
       "      <th>param_leaf_size</th>\n",
       "      <th>param_n_neighbors</th>\n",
       "      <th>param_weights</th>\n",
       "      <th>params</th>\n",
       "      <th>split0_test_score</th>\n",
       "      <th>split1_test_score</th>\n",
       "      <th>split2_test_score</th>\n",
       "      <th>split3_test_score</th>\n",
       "      <th>split4_test_score</th>\n",
       "      <th>mean_test_score</th>\n",
       "      <th>std_test_score</th>\n",
       "      <th>rank_test_score</th>\n",
       "    </tr>\n",
       "  </thead>\n",
       "  <tbody>\n",
       "    <tr>\n",
       "      <th>0</th>\n",
       "      <td>0.0</td>\n",
       "      <td>0.0</td>\n",
       "      <td>0.015705</td>\n",
       "      <td>0.000164</td>\n",
       "      <td>auto</td>\n",
       "      <td>10</td>\n",
       "      <td>1</td>\n",
       "      <td>uniform</td>\n",
       "      <td>{'algorithm': 'auto', 'leaf_size': 10, 'n_neig...</td>\n",
       "      <td>0.857143</td>\n",
       "      <td>0.920000</td>\n",
       "      <td>0.918919</td>\n",
       "      <td>0.930556</td>\n",
       "      <td>0.929577</td>\n",
       "      <td>0.911239</td>\n",
       "      <td>0.027465</td>\n",
       "      <td>201</td>\n",
       "    </tr>\n",
       "    <tr>\n",
       "      <th>1</th>\n",
       "      <td>0.0</td>\n",
       "      <td>0.0</td>\n",
       "      <td>0.021957</td>\n",
       "      <td>0.007753</td>\n",
       "      <td>auto</td>\n",
       "      <td>10</td>\n",
       "      <td>1</td>\n",
       "      <td>distance</td>\n",
       "      <td>{'algorithm': 'auto', 'leaf_size': 10, 'n_neig...</td>\n",
       "      <td>0.857143</td>\n",
       "      <td>0.920000</td>\n",
       "      <td>0.918919</td>\n",
       "      <td>0.930556</td>\n",
       "      <td>0.929577</td>\n",
       "      <td>0.911239</td>\n",
       "      <td>0.027465</td>\n",
       "      <td>201</td>\n",
       "    </tr>\n",
       "    <tr>\n",
       "      <th>2</th>\n",
       "      <td>0.0</td>\n",
       "      <td>0.0</td>\n",
       "      <td>0.022035</td>\n",
       "      <td>0.007530</td>\n",
       "      <td>auto</td>\n",
       "      <td>10</td>\n",
       "      <td>3</td>\n",
       "      <td>uniform</td>\n",
       "      <td>{'algorithm': 'auto', 'leaf_size': 10, 'n_neig...</td>\n",
       "      <td>0.851852</td>\n",
       "      <td>0.930556</td>\n",
       "      <td>0.945946</td>\n",
       "      <td>0.945205</td>\n",
       "      <td>0.942029</td>\n",
       "      <td>0.923118</td>\n",
       "      <td>0.036058</td>\n",
       "      <td>161</td>\n",
       "    </tr>\n",
       "    <tr>\n",
       "      <th>3</th>\n",
       "      <td>0.0</td>\n",
       "      <td>0.0</td>\n",
       "      <td>0.021954</td>\n",
       "      <td>0.007748</td>\n",
       "      <td>auto</td>\n",
       "      <td>10</td>\n",
       "      <td>3</td>\n",
       "      <td>distance</td>\n",
       "      <td>{'algorithm': 'auto', 'leaf_size': 10, 'n_neig...</td>\n",
       "      <td>0.851852</td>\n",
       "      <td>0.931507</td>\n",
       "      <td>0.945946</td>\n",
       "      <td>0.958333</td>\n",
       "      <td>0.942857</td>\n",
       "      <td>0.926099</td>\n",
       "      <td>0.038094</td>\n",
       "      <td>101</td>\n",
       "    </tr>\n",
       "    <tr>\n",
       "      <th>4</th>\n",
       "      <td>0.0</td>\n",
       "      <td>0.0</td>\n",
       "      <td>0.021959</td>\n",
       "      <td>0.005944</td>\n",
       "      <td>auto</td>\n",
       "      <td>10</td>\n",
       "      <td>5</td>\n",
       "      <td>uniform</td>\n",
       "      <td>{'algorithm': 'auto', 'leaf_size': 10, 'n_neig...</td>\n",
       "      <td>0.862500</td>\n",
       "      <td>0.932432</td>\n",
       "      <td>0.945205</td>\n",
       "      <td>0.945946</td>\n",
       "      <td>0.956522</td>\n",
       "      <td>0.928521</td>\n",
       "      <td>0.033882</td>\n",
       "      <td>61</td>\n",
       "    </tr>\n",
       "    <tr>\n",
       "      <th>...</th>\n",
       "      <td>...</td>\n",
       "      <td>...</td>\n",
       "      <td>...</td>\n",
       "      <td>...</td>\n",
       "      <td>...</td>\n",
       "      <td>...</td>\n",
       "      <td>...</td>\n",
       "      <td>...</td>\n",
       "      <td>...</td>\n",
       "      <td>...</td>\n",
       "      <td>...</td>\n",
       "      <td>...</td>\n",
       "      <td>...</td>\n",
       "      <td>...</td>\n",
       "      <td>...</td>\n",
       "      <td>...</td>\n",
       "      <td>...</td>\n",
       "    </tr>\n",
       "    <tr>\n",
       "      <th>235</th>\n",
       "      <td>0.0</td>\n",
       "      <td>0.0</td>\n",
       "      <td>0.021954</td>\n",
       "      <td>0.007748</td>\n",
       "      <td>brute</td>\n",
       "      <td>50</td>\n",
       "      <td>7</td>\n",
       "      <td>distance</td>\n",
       "      <td>{'algorithm': 'brute', 'leaf_size': 50, 'n_nei...</td>\n",
       "      <td>0.841463</td>\n",
       "      <td>0.932432</td>\n",
       "      <td>0.945946</td>\n",
       "      <td>0.945946</td>\n",
       "      <td>0.930556</td>\n",
       "      <td>0.919269</td>\n",
       "      <td>0.039440</td>\n",
       "      <td>181</td>\n",
       "    </tr>\n",
       "    <tr>\n",
       "      <th>236</th>\n",
       "      <td>0.0</td>\n",
       "      <td>0.0</td>\n",
       "      <td>0.018829</td>\n",
       "      <td>0.006211</td>\n",
       "      <td>brute</td>\n",
       "      <td>50</td>\n",
       "      <td>9</td>\n",
       "      <td>uniform</td>\n",
       "      <td>{'algorithm': 'brute', 'leaf_size': 50, 'n_nei...</td>\n",
       "      <td>0.851852</td>\n",
       "      <td>0.932432</td>\n",
       "      <td>0.945946</td>\n",
       "      <td>0.946667</td>\n",
       "      <td>0.970588</td>\n",
       "      <td>0.929497</td>\n",
       "      <td>0.040722</td>\n",
       "      <td>41</td>\n",
       "    </tr>\n",
       "    <tr>\n",
       "      <th>237</th>\n",
       "      <td>0.0</td>\n",
       "      <td>0.0</td>\n",
       "      <td>0.018836</td>\n",
       "      <td>0.005042</td>\n",
       "      <td>brute</td>\n",
       "      <td>50</td>\n",
       "      <td>9</td>\n",
       "      <td>distance</td>\n",
       "      <td>{'algorithm': 'brute', 'leaf_size': 50, 'n_nei...</td>\n",
       "      <td>0.841463</td>\n",
       "      <td>0.932432</td>\n",
       "      <td>0.945946</td>\n",
       "      <td>0.958904</td>\n",
       "      <td>0.971014</td>\n",
       "      <td>0.929952</td>\n",
       "      <td>0.046079</td>\n",
       "      <td>21</td>\n",
       "    </tr>\n",
       "    <tr>\n",
       "      <th>238</th>\n",
       "      <td>0.0</td>\n",
       "      <td>0.0</td>\n",
       "      <td>0.018835</td>\n",
       "      <td>0.008351</td>\n",
       "      <td>brute</td>\n",
       "      <td>50</td>\n",
       "      <td>10</td>\n",
       "      <td>uniform</td>\n",
       "      <td>{'algorithm': 'brute', 'leaf_size': 50, 'n_nei...</td>\n",
       "      <td>0.851852</td>\n",
       "      <td>0.932432</td>\n",
       "      <td>0.945946</td>\n",
       "      <td>0.958904</td>\n",
       "      <td>0.970588</td>\n",
       "      <td>0.931945</td>\n",
       "      <td>0.042027</td>\n",
       "      <td>1</td>\n",
       "    </tr>\n",
       "    <tr>\n",
       "      <th>239</th>\n",
       "      <td>0.0</td>\n",
       "      <td>0.0</td>\n",
       "      <td>0.015705</td>\n",
       "      <td>0.000157</td>\n",
       "      <td>brute</td>\n",
       "      <td>50</td>\n",
       "      <td>10</td>\n",
       "      <td>distance</td>\n",
       "      <td>{'algorithm': 'brute', 'leaf_size': 50, 'n_nei...</td>\n",
       "      <td>0.841463</td>\n",
       "      <td>0.932432</td>\n",
       "      <td>0.945946</td>\n",
       "      <td>0.958904</td>\n",
       "      <td>0.943662</td>\n",
       "      <td>0.924482</td>\n",
       "      <td>0.042353</td>\n",
       "      <td>121</td>\n",
       "    </tr>\n",
       "  </tbody>\n",
       "</table>\n",
       "<p>240 rows × 17 columns</p>\n",
       "</div>"
      ],
      "text/plain": [
       "     mean_fit_time  std_fit_time  mean_score_time  std_score_time  \\\n",
       "0              0.0           0.0         0.015705        0.000164   \n",
       "1              0.0           0.0         0.021957        0.007753   \n",
       "2              0.0           0.0         0.022035        0.007530   \n",
       "3              0.0           0.0         0.021954        0.007748   \n",
       "4              0.0           0.0         0.021959        0.005944   \n",
       "..             ...           ...              ...             ...   \n",
       "235            0.0           0.0         0.021954        0.007748   \n",
       "236            0.0           0.0         0.018829        0.006211   \n",
       "237            0.0           0.0         0.018836        0.005042   \n",
       "238            0.0           0.0         0.018835        0.008351   \n",
       "239            0.0           0.0         0.015705        0.000157   \n",
       "\n",
       "    param_algorithm param_leaf_size param_n_neighbors param_weights  \\\n",
       "0              auto              10                 1       uniform   \n",
       "1              auto              10                 1      distance   \n",
       "2              auto              10                 3       uniform   \n",
       "3              auto              10                 3      distance   \n",
       "4              auto              10                 5       uniform   \n",
       "..              ...             ...               ...           ...   \n",
       "235           brute              50                 7      distance   \n",
       "236           brute              50                 9       uniform   \n",
       "237           brute              50                 9      distance   \n",
       "238           brute              50                10       uniform   \n",
       "239           brute              50                10      distance   \n",
       "\n",
       "                                                params  split0_test_score  \\\n",
       "0    {'algorithm': 'auto', 'leaf_size': 10, 'n_neig...           0.857143   \n",
       "1    {'algorithm': 'auto', 'leaf_size': 10, 'n_neig...           0.857143   \n",
       "2    {'algorithm': 'auto', 'leaf_size': 10, 'n_neig...           0.851852   \n",
       "3    {'algorithm': 'auto', 'leaf_size': 10, 'n_neig...           0.851852   \n",
       "4    {'algorithm': 'auto', 'leaf_size': 10, 'n_neig...           0.862500   \n",
       "..                                                 ...                ...   \n",
       "235  {'algorithm': 'brute', 'leaf_size': 50, 'n_nei...           0.841463   \n",
       "236  {'algorithm': 'brute', 'leaf_size': 50, 'n_nei...           0.851852   \n",
       "237  {'algorithm': 'brute', 'leaf_size': 50, 'n_nei...           0.841463   \n",
       "238  {'algorithm': 'brute', 'leaf_size': 50, 'n_nei...           0.851852   \n",
       "239  {'algorithm': 'brute', 'leaf_size': 50, 'n_nei...           0.841463   \n",
       "\n",
       "     split1_test_score  split2_test_score  split3_test_score  \\\n",
       "0             0.920000           0.918919           0.930556   \n",
       "1             0.920000           0.918919           0.930556   \n",
       "2             0.930556           0.945946           0.945205   \n",
       "3             0.931507           0.945946           0.958333   \n",
       "4             0.932432           0.945205           0.945946   \n",
       "..                 ...                ...                ...   \n",
       "235           0.932432           0.945946           0.945946   \n",
       "236           0.932432           0.945946           0.946667   \n",
       "237           0.932432           0.945946           0.958904   \n",
       "238           0.932432           0.945946           0.958904   \n",
       "239           0.932432           0.945946           0.958904   \n",
       "\n",
       "     split4_test_score  mean_test_score  std_test_score  rank_test_score  \n",
       "0             0.929577         0.911239        0.027465              201  \n",
       "1             0.929577         0.911239        0.027465              201  \n",
       "2             0.942029         0.923118        0.036058              161  \n",
       "3             0.942857         0.926099        0.038094              101  \n",
       "4             0.956522         0.928521        0.033882               61  \n",
       "..                 ...              ...             ...              ...  \n",
       "235           0.930556         0.919269        0.039440              181  \n",
       "236           0.970588         0.929497        0.040722               41  \n",
       "237           0.971014         0.929952        0.046079               21  \n",
       "238           0.970588         0.931945        0.042027                1  \n",
       "239           0.943662         0.924482        0.042353              121  \n",
       "\n",
       "[240 rows x 17 columns]"
      ]
     },
     "execution_count": 45,
     "metadata": {},
     "output_type": "execute_result"
    }
   ],
   "source": [
    "results"
   ]
  },
  {
   "cell_type": "code",
   "execution_count": 46,
   "id": "6e29a1d8",
   "metadata": {},
   "outputs": [],
   "source": [
    "# 'params' et 'mean_test score' sont les attributs qui nous interessent\n",
    "best = results[[\"params\", 'mean_test_score']].sort_values(by = \"mean_test_score\", ascending= False).head()"
   ]
  },
  {
   "cell_type": "code",
   "execution_count": 47,
   "id": "4216d9d9",
   "metadata": {},
   "outputs": [
    {
     "data": {
      "text/html": [
       "<div>\n",
       "<style scoped>\n",
       "    .dataframe tbody tr th:only-of-type {\n",
       "        vertical-align: middle;\n",
       "    }\n",
       "\n",
       "    .dataframe tbody tr th {\n",
       "        vertical-align: top;\n",
       "    }\n",
       "\n",
       "    .dataframe thead th {\n",
       "        text-align: right;\n",
       "    }\n",
       "</style>\n",
       "<table border=\"1\" class=\"dataframe\">\n",
       "  <thead>\n",
       "    <tr style=\"text-align: right;\">\n",
       "      <th></th>\n",
       "      <th>params</th>\n",
       "      <th>mean_test_score</th>\n",
       "    </tr>\n",
       "  </thead>\n",
       "  <tbody>\n",
       "    <tr>\n",
       "      <th>226</th>\n",
       "      <td>{'algorithm': 'brute', 'leaf_size': 40, 'n_nei...</td>\n",
       "      <td>0.931945</td>\n",
       "    </tr>\n",
       "    <tr>\n",
       "      <th>238</th>\n",
       "      <td>{'algorithm': 'brute', 'leaf_size': 50, 'n_nei...</td>\n",
       "      <td>0.931945</td>\n",
       "    </tr>\n",
       "    <tr>\n",
       "      <th>118</th>\n",
       "      <td>{'algorithm': 'ball_tree', 'leaf_size': 50, 'n...</td>\n",
       "      <td>0.931945</td>\n",
       "    </tr>\n",
       "    <tr>\n",
       "      <th>130</th>\n",
       "      <td>{'algorithm': 'kd_tree', 'leaf_size': 10, 'n_n...</td>\n",
       "      <td>0.931945</td>\n",
       "    </tr>\n",
       "    <tr>\n",
       "      <th>214</th>\n",
       "      <td>{'algorithm': 'brute', 'leaf_size': 30, 'n_nei...</td>\n",
       "      <td>0.931945</td>\n",
       "    </tr>\n",
       "  </tbody>\n",
       "</table>\n",
       "</div>"
      ],
      "text/plain": [
       "                                                params  mean_test_score\n",
       "226  {'algorithm': 'brute', 'leaf_size': 40, 'n_nei...         0.931945\n",
       "238  {'algorithm': 'brute', 'leaf_size': 50, 'n_nei...         0.931945\n",
       "118  {'algorithm': 'ball_tree', 'leaf_size': 50, 'n...         0.931945\n",
       "130  {'algorithm': 'kd_tree', 'leaf_size': 10, 'n_n...         0.931945\n",
       "214  {'algorithm': 'brute', 'leaf_size': 30, 'n_nei...         0.931945"
      ]
     },
     "execution_count": 47,
     "metadata": {},
     "output_type": "execute_result"
    }
   ],
   "source": [
    "best"
   ]
  },
  {
   "cell_type": "markdown",
   "id": "7f9fabc5",
   "metadata": {},
   "source": [
    "Les 5 meilleurs modèles ont le même score avec des hyperparamètres différents."
   ]
  },
  {
   "cell_type": "code",
   "execution_count": 48,
   "id": "050b6692",
   "metadata": {},
   "outputs": [
    {
     "data": {
      "text/plain": [
       "{'algorithm': 'brute',\n",
       " 'leaf_size': 40,\n",
       " 'n_neighbors': 10,\n",
       " 'weights': 'uniform'}"
      ]
     },
     "execution_count": 48,
     "metadata": {},
     "output_type": "execute_result"
    }
   ],
   "source": [
    "# Meilleur hyperparamétrage\n",
    "\n",
    "best['params'].iloc[0]"
   ]
  },
  {
   "cell_type": "code",
   "execution_count": 49,
   "id": "08868e47",
   "metadata": {},
   "outputs": [
    {
     "name": "stdout",
     "output_type": "stream",
     "text": [
      "0.9319445150226777\n"
     ]
    }
   ],
   "source": [
    "# Meilleur score\n",
    "best_score = best['mean_test_score'].iloc[0]\n",
    "print(best_score)"
   ]
  },
  {
   "cell_type": "markdown",
   "id": "12ede114",
   "metadata": {},
   "source": [
    "Nous avons déterminé les valeurs des hyperparamètres ayant donné le meilleur score.\n",
    "Malheureusement, ils n'ont pas amélioré le score trouvé avec les hyperparamètres par défaut qui était aussi égal à 0,93. Nous pouvons utiliser notre objet GridSearchCV (« model ») directement comme modèle de classification et l'utiliser pour effectuer des prédictions. Nous n'avons donc pas besoin d'entraîner à nouveau un algorithme de KNN avec les meilleurs hyperparamètres trouvés."
   ]
  },
  {
   "cell_type": "markdown",
   "id": "b56e73e9",
   "metadata": {},
   "source": [
    "# CONCLUSION"
   ]
  },
  {
   "cell_type": "markdown",
   "id": "b3850d4a",
   "metadata": {},
   "source": [
    "Dans ce projet, nous avons construit un modèle de de prédiction du cancer de sein. De plus, nous avons appris comment rechercher les hyperparamètres optimaux du modèle. La méthode de Grid Search CV telle que décrite ici, peut aussi être appliquée pour n'importe quel projet de machine Learning aussi bien pour des tâches de classification que pour des tâches de régression et même en apprentissage non supervisé. Si cette méthode a l'avantage d'être un processus automatisé, facile à comprendre et à implémenter, il n'en demeure pas moins qu'elle a quelques inconvénients. L'inconvénient majeur de la méthode Grid Search est qu'elle est très coûteuse en calcul, c'est-à-dire que lorsque le nombre d'hyperparamètres à essayer augmente considérablement et que la dataframe est volumineuse, les temps de traitement peuvent être très lents. De plus, lorsque vous définissez votre grille, vous pouvez omettre par inadvertance un hyperparamétrage qui serait en fait optimal. S'il n'est pas spécifié dans votre grille, il ne sera jamais essayé !\n",
    "\n",
    "Pour surmonter ces inconvénients, nous examinerons la recherche aléatoire (Random Search) dans le projet suivant."
   ]
  },
  {
   "cell_type": "code",
   "execution_count": null,
   "id": "a2a27b84",
   "metadata": {},
   "outputs": [],
   "source": []
  }
 ],
 "metadata": {
  "kernelspec": {
   "display_name": "Python 3 (ipykernel)",
   "language": "python",
   "name": "python3"
  },
  "language_info": {
   "codemirror_mode": {
    "name": "ipython",
    "version": 3
   },
   "file_extension": ".py",
   "mimetype": "text/x-python",
   "name": "python",
   "nbconvert_exporter": "python",
   "pygments_lexer": "ipython3",
   "version": "3.10.0"
  }
 },
 "nbformat": 4,
 "nbformat_minor": 5
}
