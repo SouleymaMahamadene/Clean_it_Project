{
 "cells": [
  {
   "cell_type": "code",
   "execution_count": 29,
   "id": "210becf7",
   "metadata": {},
   "outputs": [],
   "source": [
    "import pandas as pd \n",
    "import numpy as np\n",
    "import seaborn as sns\n",
    "import matplotlib.pyplot as plt\n",
    "import warnings\n",
    "\n",
    "\n",
    "from fractions import Fraction\n",
    "\n",
    "from scipy import stats\n",
    "from sklearn.linear_model import LinearRegression\n",
    "\n",
    "from sklearn.metrics import mean_squared_log_error\n",
    "from sklearn.model_selection import cross_val_score\n",
    "\n",
    "\n",
    "from sklearn.model_selection import train_test_split\n",
    "from sklearn.model_selection import RandomizedSearchCV\n",
    "warnings.filterwarnings(\"ignore\")"
   ]
  },
  {
   "cell_type": "code",
   "execution_count": 30,
   "id": "c39109ef",
   "metadata": {},
   "outputs": [],
   "source": [
    "file_path = \"E:/DSTI/Cours/Machine_Learning_Python_Lab/ML_Livre_JA/data_credit.txt\""
   ]
  },
  {
   "cell_type": "code",
   "execution_count": 31,
   "id": "ef197e17",
   "metadata": {},
   "outputs": [],
   "source": [
    "data = pd.read_csv(file_path)"
   ]
  },
  {
   "cell_type": "code",
   "execution_count": 32,
   "id": "fdf7e29a",
   "metadata": {},
   "outputs": [
    {
     "data": {
      "text/html": [
       "<div>\n",
       "<style scoped>\n",
       "    .dataframe tbody tr th:only-of-type {\n",
       "        vertical-align: middle;\n",
       "    }\n",
       "\n",
       "    .dataframe tbody tr th {\n",
       "        vertical-align: top;\n",
       "    }\n",
       "\n",
       "    .dataframe thead th {\n",
       "        text-align: right;\n",
       "    }\n",
       "</style>\n",
       "<table border=\"1\" class=\"dataframe\">\n",
       "  <thead>\n",
       "    <tr style=\"text-align: right;\">\n",
       "      <th></th>\n",
       "      <th>person_age</th>\n",
       "      <th>person_income</th>\n",
       "      <th>person_home_ownership</th>\n",
       "      <th>person_emp_length</th>\n",
       "      <th>loan_intent</th>\n",
       "      <th>loan_grade</th>\n",
       "      <th>loan_amnt</th>\n",
       "      <th>loan_int_rate</th>\n",
       "      <th>loan_status</th>\n",
       "      <th>loan_percent_income</th>\n",
       "      <th>cb_person_default_on_file</th>\n",
       "      <th>cb_person_cred_hist_length</th>\n",
       "    </tr>\n",
       "  </thead>\n",
       "  <tbody>\n",
       "    <tr>\n",
       "      <th>0</th>\n",
       "      <td>22</td>\n",
       "      <td>59000</td>\n",
       "      <td>RENT</td>\n",
       "      <td>123.0</td>\n",
       "      <td>PERSONAL</td>\n",
       "      <td>D</td>\n",
       "      <td>35000</td>\n",
       "      <td>16.02</td>\n",
       "      <td>1</td>\n",
       "      <td>0.59</td>\n",
       "      <td>Y</td>\n",
       "      <td>3</td>\n",
       "    </tr>\n",
       "    <tr>\n",
       "      <th>1</th>\n",
       "      <td>21</td>\n",
       "      <td>9600</td>\n",
       "      <td>OWN</td>\n",
       "      <td>5.0</td>\n",
       "      <td>EDUCATION</td>\n",
       "      <td>B</td>\n",
       "      <td>1000</td>\n",
       "      <td>11.14</td>\n",
       "      <td>0</td>\n",
       "      <td>0.10</td>\n",
       "      <td>N</td>\n",
       "      <td>2</td>\n",
       "    </tr>\n",
       "    <tr>\n",
       "      <th>2</th>\n",
       "      <td>25</td>\n",
       "      <td>9600</td>\n",
       "      <td>MORTGAGE</td>\n",
       "      <td>1.0</td>\n",
       "      <td>MEDICAL</td>\n",
       "      <td>C</td>\n",
       "      <td>5500</td>\n",
       "      <td>12.87</td>\n",
       "      <td>1</td>\n",
       "      <td>0.57</td>\n",
       "      <td>N</td>\n",
       "      <td>3</td>\n",
       "    </tr>\n",
       "    <tr>\n",
       "      <th>3</th>\n",
       "      <td>23</td>\n",
       "      <td>65500</td>\n",
       "      <td>RENT</td>\n",
       "      <td>4.0</td>\n",
       "      <td>MEDICAL</td>\n",
       "      <td>C</td>\n",
       "      <td>35000</td>\n",
       "      <td>15.23</td>\n",
       "      <td>1</td>\n",
       "      <td>0.53</td>\n",
       "      <td>N</td>\n",
       "      <td>2</td>\n",
       "    </tr>\n",
       "    <tr>\n",
       "      <th>4</th>\n",
       "      <td>24</td>\n",
       "      <td>54400</td>\n",
       "      <td>RENT</td>\n",
       "      <td>8.0</td>\n",
       "      <td>MEDICAL</td>\n",
       "      <td>C</td>\n",
       "      <td>35000</td>\n",
       "      <td>14.27</td>\n",
       "      <td>1</td>\n",
       "      <td>0.55</td>\n",
       "      <td>Y</td>\n",
       "      <td>4</td>\n",
       "    </tr>\n",
       "    <tr>\n",
       "      <th>...</th>\n",
       "      <td>...</td>\n",
       "      <td>...</td>\n",
       "      <td>...</td>\n",
       "      <td>...</td>\n",
       "      <td>...</td>\n",
       "      <td>...</td>\n",
       "      <td>...</td>\n",
       "      <td>...</td>\n",
       "      <td>...</td>\n",
       "      <td>...</td>\n",
       "      <td>...</td>\n",
       "      <td>...</td>\n",
       "    </tr>\n",
       "    <tr>\n",
       "      <th>32576</th>\n",
       "      <td>57</td>\n",
       "      <td>53000</td>\n",
       "      <td>MORTGAGE</td>\n",
       "      <td>1.0</td>\n",
       "      <td>PERSONAL</td>\n",
       "      <td>C</td>\n",
       "      <td>5800</td>\n",
       "      <td>13.16</td>\n",
       "      <td>0</td>\n",
       "      <td>0.11</td>\n",
       "      <td>N</td>\n",
       "      <td>30</td>\n",
       "    </tr>\n",
       "    <tr>\n",
       "      <th>32577</th>\n",
       "      <td>54</td>\n",
       "      <td>120000</td>\n",
       "      <td>MORTGAGE</td>\n",
       "      <td>4.0</td>\n",
       "      <td>PERSONAL</td>\n",
       "      <td>A</td>\n",
       "      <td>17625</td>\n",
       "      <td>7.49</td>\n",
       "      <td>0</td>\n",
       "      <td>0.15</td>\n",
       "      <td>N</td>\n",
       "      <td>19</td>\n",
       "    </tr>\n",
       "    <tr>\n",
       "      <th>32578</th>\n",
       "      <td>65</td>\n",
       "      <td>76000</td>\n",
       "      <td>RENT</td>\n",
       "      <td>3.0</td>\n",
       "      <td>HOMEIMPROVEMENT</td>\n",
       "      <td>B</td>\n",
       "      <td>35000</td>\n",
       "      <td>10.99</td>\n",
       "      <td>1</td>\n",
       "      <td>0.46</td>\n",
       "      <td>N</td>\n",
       "      <td>28</td>\n",
       "    </tr>\n",
       "    <tr>\n",
       "      <th>32579</th>\n",
       "      <td>56</td>\n",
       "      <td>150000</td>\n",
       "      <td>MORTGAGE</td>\n",
       "      <td>5.0</td>\n",
       "      <td>PERSONAL</td>\n",
       "      <td>B</td>\n",
       "      <td>15000</td>\n",
       "      <td>11.48</td>\n",
       "      <td>0</td>\n",
       "      <td>0.10</td>\n",
       "      <td>N</td>\n",
       "      <td>26</td>\n",
       "    </tr>\n",
       "    <tr>\n",
       "      <th>32580</th>\n",
       "      <td>66</td>\n",
       "      <td>42000</td>\n",
       "      <td>RENT</td>\n",
       "      <td>2.0</td>\n",
       "      <td>MEDICAL</td>\n",
       "      <td>B</td>\n",
       "      <td>6475</td>\n",
       "      <td>9.99</td>\n",
       "      <td>0</td>\n",
       "      <td>0.15</td>\n",
       "      <td>N</td>\n",
       "      <td>30</td>\n",
       "    </tr>\n",
       "  </tbody>\n",
       "</table>\n",
       "<p>32581 rows × 12 columns</p>\n",
       "</div>"
      ],
      "text/plain": [
       "       person_age  person_income person_home_ownership  person_emp_length  \\\n",
       "0              22          59000                  RENT              123.0   \n",
       "1              21           9600                   OWN                5.0   \n",
       "2              25           9600              MORTGAGE                1.0   \n",
       "3              23          65500                  RENT                4.0   \n",
       "4              24          54400                  RENT                8.0   \n",
       "...           ...            ...                   ...                ...   \n",
       "32576          57          53000              MORTGAGE                1.0   \n",
       "32577          54         120000              MORTGAGE                4.0   \n",
       "32578          65          76000                  RENT                3.0   \n",
       "32579          56         150000              MORTGAGE                5.0   \n",
       "32580          66          42000                  RENT                2.0   \n",
       "\n",
       "           loan_intent loan_grade  loan_amnt  loan_int_rate  loan_status  \\\n",
       "0             PERSONAL          D      35000          16.02            1   \n",
       "1            EDUCATION          B       1000          11.14            0   \n",
       "2              MEDICAL          C       5500          12.87            1   \n",
       "3              MEDICAL          C      35000          15.23            1   \n",
       "4              MEDICAL          C      35000          14.27            1   \n",
       "...                ...        ...        ...            ...          ...   \n",
       "32576         PERSONAL          C       5800          13.16            0   \n",
       "32577         PERSONAL          A      17625           7.49            0   \n",
       "32578  HOMEIMPROVEMENT          B      35000          10.99            1   \n",
       "32579         PERSONAL          B      15000          11.48            0   \n",
       "32580          MEDICAL          B       6475           9.99            0   \n",
       "\n",
       "       loan_percent_income cb_person_default_on_file  \\\n",
       "0                     0.59                         Y   \n",
       "1                     0.10                         N   \n",
       "2                     0.57                         N   \n",
       "3                     0.53                         N   \n",
       "4                     0.55                         Y   \n",
       "...                    ...                       ...   \n",
       "32576                 0.11                         N   \n",
       "32577                 0.15                         N   \n",
       "32578                 0.46                         N   \n",
       "32579                 0.10                         N   \n",
       "32580                 0.15                         N   \n",
       "\n",
       "       cb_person_cred_hist_length  \n",
       "0                               3  \n",
       "1                               2  \n",
       "2                               3  \n",
       "3                               2  \n",
       "4                               4  \n",
       "...                           ...  \n",
       "32576                          30  \n",
       "32577                          19  \n",
       "32578                          28  \n",
       "32579                          26  \n",
       "32580                          30  \n",
       "\n",
       "[32581 rows x 12 columns]"
      ]
     },
     "execution_count": 32,
     "metadata": {},
     "output_type": "execute_result"
    }
   ],
   "source": [
    "data"
   ]
  },
  {
   "cell_type": "code",
   "execution_count": 33,
   "id": "bf06157e",
   "metadata": {},
   "outputs": [
    {
     "data": {
      "text/plain": [
       "(32581, 12)"
      ]
     },
     "execution_count": 33,
     "metadata": {},
     "output_type": "execute_result"
    }
   ],
   "source": [
    "data.shape"
   ]
  },
  {
   "cell_type": "code",
   "execution_count": 34,
   "id": "49d0dff9",
   "metadata": {},
   "outputs": [
    {
     "data": {
      "text/plain": [
       "Index(['person_age', 'person_income', 'person_home_ownership',\n",
       "       'person_emp_length', 'loan_intent', 'loan_grade', 'loan_amnt',\n",
       "       'loan_int_rate', 'loan_status', 'loan_percent_income',\n",
       "       'cb_person_default_on_file', 'cb_person_cred_hist_length'],\n",
       "      dtype='object')"
      ]
     },
     "execution_count": 34,
     "metadata": {},
     "output_type": "execute_result"
    }
   ],
   "source": [
    "data.columns"
   ]
  },
  {
   "cell_type": "code",
   "execution_count": 35,
   "id": "bbaa0a4e",
   "metadata": {},
   "outputs": [
    {
     "name": "stdout",
     "output_type": "stream",
     "text": [
      "<class 'pandas.core.frame.DataFrame'>\n",
      "RangeIndex: 32581 entries, 0 to 32580\n",
      "Data columns (total 12 columns):\n",
      " #   Column                      Non-Null Count  Dtype  \n",
      "---  ------                      --------------  -----  \n",
      " 0   person_age                  32581 non-null  int64  \n",
      " 1   person_income               32581 non-null  int64  \n",
      " 2   person_home_ownership       32581 non-null  object \n",
      " 3   person_emp_length           31686 non-null  float64\n",
      " 4   loan_intent                 32581 non-null  object \n",
      " 5   loan_grade                  32581 non-null  object \n",
      " 6   loan_amnt                   32581 non-null  int64  \n",
      " 7   loan_int_rate               29465 non-null  float64\n",
      " 8   loan_status                 32581 non-null  int64  \n",
      " 9   loan_percent_income         32581 non-null  float64\n",
      " 10  cb_person_default_on_file   32581 non-null  object \n",
      " 11  cb_person_cred_hist_length  32581 non-null  int64  \n",
      "dtypes: float64(3), int64(5), object(4)\n",
      "memory usage: 3.0+ MB\n"
     ]
    }
   ],
   "source": [
    "data.info()"
   ]
  },
  {
   "cell_type": "code",
   "execution_count": 36,
   "id": "2cf94c4f",
   "metadata": {},
   "outputs": [
    {
     "data": {
      "text/plain": [
       "person_age                       0\n",
       "person_income                    0\n",
       "person_home_ownership            0\n",
       "person_emp_length              895\n",
       "loan_intent                      0\n",
       "loan_grade                       0\n",
       "loan_amnt                        0\n",
       "loan_int_rate                 3116\n",
       "loan_status                      0\n",
       "loan_percent_income              0\n",
       "cb_person_default_on_file        0\n",
       "cb_person_cred_hist_length       0\n",
       "dtype: int64"
      ]
     },
     "execution_count": 36,
     "metadata": {},
     "output_type": "execute_result"
    }
   ],
   "source": [
    "data.isnull().sum()"
   ]
  },
  {
   "cell_type": "markdown",
   "id": "0e4a0a29",
   "metadata": {},
   "source": [
    "Il est très important de comprendre les variables de notre jeu de données :\n",
    "    \n",
    "• person age : variable indiquant l'age de la personne ;\n",
    "\n",
    "• person income : variable indiquant les revenus (ou encore le salaire) de la personne ;\n",
    "\n",
    "• person home_ownership : variable indiquant le statut de la personne par rapport à son lieu d'habitation (propriétaire, locataire, etc.) ;\n",
    "\n",
    "• person_emp_length : variable indiquant la durée (en mois) depuis laquelle la personne est en activité professionnelle ;\n",
    "\n",
    "• loan intent : variable indiquant le motif du crédit ;\n",
    "\n",
    "• loan grade : variable indiquant le grade du prêt ;\n",
    "\n",
    "• loan amnt : variable indiquant le montant du prêt ;\n",
    "\n",
    "• loan int rate : variable indiquant le taux d'intérêt du crédit ;\n",
    "\n",
    "• loan status : c'est la variable d'intérêt. Elle indique si la personne est en défaut de paiement (1) ou pas (0) ;\n",
    "\n",
    "• loan percent income : variable indiquant le pourcentage des revenus par rapport au crédit ;\n",
    "\n",
    "• cb person default on file: variable indiquant si la personne ait à découvert ou pas ;\n",
    "\n",
    "• ch person cred hist length : variable indiquant la durée des antécédents de crédits."
   ]
  },
  {
   "cell_type": "markdown",
   "id": "4229a4c1",
   "metadata": {},
   "source": [
    "Passons à présent à l'analyse exploratoire des données qui nous permettra de mieux les comprendre."
   ]
  },
  {
   "cell_type": "markdown",
   "id": "ce357134",
   "metadata": {},
   "source": [
    "# ANALYSE EXPLORATOIRE DES DONNEES"
   ]
  },
  {
   "cell_type": "code",
   "execution_count": 37,
   "id": "8f6787ec",
   "metadata": {},
   "outputs": [
    {
     "data": {
      "text/html": [
       "<div>\n",
       "<style scoped>\n",
       "    .dataframe tbody tr th:only-of-type {\n",
       "        vertical-align: middle;\n",
       "    }\n",
       "\n",
       "    .dataframe tbody tr th {\n",
       "        vertical-align: top;\n",
       "    }\n",
       "\n",
       "    .dataframe thead th {\n",
       "        text-align: right;\n",
       "    }\n",
       "</style>\n",
       "<table border=\"1\" class=\"dataframe\">\n",
       "  <thead>\n",
       "    <tr style=\"text-align: right;\">\n",
       "      <th></th>\n",
       "      <th>person_age</th>\n",
       "      <th>person_income</th>\n",
       "      <th>person_emp_length</th>\n",
       "      <th>loan_amnt</th>\n",
       "      <th>loan_int_rate</th>\n",
       "      <th>loan_status</th>\n",
       "      <th>loan_percent_income</th>\n",
       "      <th>cb_person_cred_hist_length</th>\n",
       "    </tr>\n",
       "  </thead>\n",
       "  <tbody>\n",
       "    <tr>\n",
       "      <th>count</th>\n",
       "      <td>32581.000000</td>\n",
       "      <td>3.258100e+04</td>\n",
       "      <td>31686.000000</td>\n",
       "      <td>32581.000000</td>\n",
       "      <td>29465.000000</td>\n",
       "      <td>32581.000000</td>\n",
       "      <td>32581.000000</td>\n",
       "      <td>32581.000000</td>\n",
       "    </tr>\n",
       "    <tr>\n",
       "      <th>mean</th>\n",
       "      <td>27.734600</td>\n",
       "      <td>6.607485e+04</td>\n",
       "      <td>4.789686</td>\n",
       "      <td>9589.371106</td>\n",
       "      <td>11.011695</td>\n",
       "      <td>0.218164</td>\n",
       "      <td>0.170203</td>\n",
       "      <td>5.804211</td>\n",
       "    </tr>\n",
       "    <tr>\n",
       "      <th>std</th>\n",
       "      <td>6.348078</td>\n",
       "      <td>6.198312e+04</td>\n",
       "      <td>4.142630</td>\n",
       "      <td>6322.086646</td>\n",
       "      <td>3.240459</td>\n",
       "      <td>0.413006</td>\n",
       "      <td>0.106782</td>\n",
       "      <td>4.055001</td>\n",
       "    </tr>\n",
       "    <tr>\n",
       "      <th>min</th>\n",
       "      <td>20.000000</td>\n",
       "      <td>4.000000e+03</td>\n",
       "      <td>0.000000</td>\n",
       "      <td>500.000000</td>\n",
       "      <td>5.420000</td>\n",
       "      <td>0.000000</td>\n",
       "      <td>0.000000</td>\n",
       "      <td>2.000000</td>\n",
       "    </tr>\n",
       "    <tr>\n",
       "      <th>25%</th>\n",
       "      <td>23.000000</td>\n",
       "      <td>3.850000e+04</td>\n",
       "      <td>2.000000</td>\n",
       "      <td>5000.000000</td>\n",
       "      <td>7.900000</td>\n",
       "      <td>0.000000</td>\n",
       "      <td>0.090000</td>\n",
       "      <td>3.000000</td>\n",
       "    </tr>\n",
       "    <tr>\n",
       "      <th>50%</th>\n",
       "      <td>26.000000</td>\n",
       "      <td>5.500000e+04</td>\n",
       "      <td>4.000000</td>\n",
       "      <td>8000.000000</td>\n",
       "      <td>10.990000</td>\n",
       "      <td>0.000000</td>\n",
       "      <td>0.150000</td>\n",
       "      <td>4.000000</td>\n",
       "    </tr>\n",
       "    <tr>\n",
       "      <th>75%</th>\n",
       "      <td>30.000000</td>\n",
       "      <td>7.920000e+04</td>\n",
       "      <td>7.000000</td>\n",
       "      <td>12200.000000</td>\n",
       "      <td>13.470000</td>\n",
       "      <td>0.000000</td>\n",
       "      <td>0.230000</td>\n",
       "      <td>8.000000</td>\n",
       "    </tr>\n",
       "    <tr>\n",
       "      <th>max</th>\n",
       "      <td>144.000000</td>\n",
       "      <td>6.000000e+06</td>\n",
       "      <td>123.000000</td>\n",
       "      <td>35000.000000</td>\n",
       "      <td>23.220000</td>\n",
       "      <td>1.000000</td>\n",
       "      <td>0.830000</td>\n",
       "      <td>30.000000</td>\n",
       "    </tr>\n",
       "  </tbody>\n",
       "</table>\n",
       "</div>"
      ],
      "text/plain": [
       "         person_age  person_income  person_emp_length     loan_amnt  \\\n",
       "count  32581.000000   3.258100e+04       31686.000000  32581.000000   \n",
       "mean      27.734600   6.607485e+04           4.789686   9589.371106   \n",
       "std        6.348078   6.198312e+04           4.142630   6322.086646   \n",
       "min       20.000000   4.000000e+03           0.000000    500.000000   \n",
       "25%       23.000000   3.850000e+04           2.000000   5000.000000   \n",
       "50%       26.000000   5.500000e+04           4.000000   8000.000000   \n",
       "75%       30.000000   7.920000e+04           7.000000  12200.000000   \n",
       "max      144.000000   6.000000e+06         123.000000  35000.000000   \n",
       "\n",
       "       loan_int_rate   loan_status  loan_percent_income  \\\n",
       "count   29465.000000  32581.000000         32581.000000   \n",
       "mean       11.011695      0.218164             0.170203   \n",
       "std         3.240459      0.413006             0.106782   \n",
       "min         5.420000      0.000000             0.000000   \n",
       "25%         7.900000      0.000000             0.090000   \n",
       "50%        10.990000      0.000000             0.150000   \n",
       "75%        13.470000      0.000000             0.230000   \n",
       "max        23.220000      1.000000             0.830000   \n",
       "\n",
       "       cb_person_cred_hist_length  \n",
       "count                32581.000000  \n",
       "mean                     5.804211  \n",
       "std                      4.055001  \n",
       "min                      2.000000  \n",
       "25%                      3.000000  \n",
       "50%                      4.000000  \n",
       "75%                      8.000000  \n",
       "max                     30.000000  "
      ]
     },
     "execution_count": 37,
     "metadata": {},
     "output_type": "execute_result"
    }
   ],
   "source": [
    "# Résumé statistique des données\n",
    "data.describe()"
   ]
  },
  {
   "cell_type": "code",
   "execution_count": 38,
   "id": "2e846737",
   "metadata": {},
   "outputs": [
    {
     "data": {
      "text/html": [
       "<div>\n",
       "<style scoped>\n",
       "    .dataframe tbody tr th:only-of-type {\n",
       "        vertical-align: middle;\n",
       "    }\n",
       "\n",
       "    .dataframe tbody tr th {\n",
       "        vertical-align: top;\n",
       "    }\n",
       "\n",
       "    .dataframe thead th {\n",
       "        text-align: right;\n",
       "    }\n",
       "</style>\n",
       "<table border=\"1\" class=\"dataframe\">\n",
       "  <thead>\n",
       "    <tr style=\"text-align: right;\">\n",
       "      <th></th>\n",
       "      <th>count</th>\n",
       "      <th>mean</th>\n",
       "      <th>std</th>\n",
       "      <th>min</th>\n",
       "      <th>25%</th>\n",
       "      <th>50%</th>\n",
       "      <th>75%</th>\n",
       "      <th>max</th>\n",
       "    </tr>\n",
       "  </thead>\n",
       "  <tbody>\n",
       "    <tr>\n",
       "      <th>person_age</th>\n",
       "      <td>32581.0</td>\n",
       "      <td>27.734600</td>\n",
       "      <td>6.348078</td>\n",
       "      <td>20.00</td>\n",
       "      <td>23.00</td>\n",
       "      <td>26.00</td>\n",
       "      <td>30.00</td>\n",
       "      <td>144.00</td>\n",
       "    </tr>\n",
       "    <tr>\n",
       "      <th>person_income</th>\n",
       "      <td>32581.0</td>\n",
       "      <td>66074.848470</td>\n",
       "      <td>61983.119168</td>\n",
       "      <td>4000.00</td>\n",
       "      <td>38500.00</td>\n",
       "      <td>55000.00</td>\n",
       "      <td>79200.00</td>\n",
       "      <td>6000000.00</td>\n",
       "    </tr>\n",
       "    <tr>\n",
       "      <th>person_emp_length</th>\n",
       "      <td>31686.0</td>\n",
       "      <td>4.789686</td>\n",
       "      <td>4.142630</td>\n",
       "      <td>0.00</td>\n",
       "      <td>2.00</td>\n",
       "      <td>4.00</td>\n",
       "      <td>7.00</td>\n",
       "      <td>123.00</td>\n",
       "    </tr>\n",
       "    <tr>\n",
       "      <th>loan_amnt</th>\n",
       "      <td>32581.0</td>\n",
       "      <td>9589.371106</td>\n",
       "      <td>6322.086646</td>\n",
       "      <td>500.00</td>\n",
       "      <td>5000.00</td>\n",
       "      <td>8000.00</td>\n",
       "      <td>12200.00</td>\n",
       "      <td>35000.00</td>\n",
       "    </tr>\n",
       "    <tr>\n",
       "      <th>loan_int_rate</th>\n",
       "      <td>29465.0</td>\n",
       "      <td>11.011695</td>\n",
       "      <td>3.240459</td>\n",
       "      <td>5.42</td>\n",
       "      <td>7.90</td>\n",
       "      <td>10.99</td>\n",
       "      <td>13.47</td>\n",
       "      <td>23.22</td>\n",
       "    </tr>\n",
       "    <tr>\n",
       "      <th>loan_status</th>\n",
       "      <td>32581.0</td>\n",
       "      <td>0.218164</td>\n",
       "      <td>0.413006</td>\n",
       "      <td>0.00</td>\n",
       "      <td>0.00</td>\n",
       "      <td>0.00</td>\n",
       "      <td>0.00</td>\n",
       "      <td>1.00</td>\n",
       "    </tr>\n",
       "    <tr>\n",
       "      <th>loan_percent_income</th>\n",
       "      <td>32581.0</td>\n",
       "      <td>0.170203</td>\n",
       "      <td>0.106782</td>\n",
       "      <td>0.00</td>\n",
       "      <td>0.09</td>\n",
       "      <td>0.15</td>\n",
       "      <td>0.23</td>\n",
       "      <td>0.83</td>\n",
       "    </tr>\n",
       "    <tr>\n",
       "      <th>cb_person_cred_hist_length</th>\n",
       "      <td>32581.0</td>\n",
       "      <td>5.804211</td>\n",
       "      <td>4.055001</td>\n",
       "      <td>2.00</td>\n",
       "      <td>3.00</td>\n",
       "      <td>4.00</td>\n",
       "      <td>8.00</td>\n",
       "      <td>30.00</td>\n",
       "    </tr>\n",
       "  </tbody>\n",
       "</table>\n",
       "</div>"
      ],
      "text/plain": [
       "                              count          mean           std      min  \\\n",
       "person_age                  32581.0     27.734600      6.348078    20.00   \n",
       "person_income               32581.0  66074.848470  61983.119168  4000.00   \n",
       "person_emp_length           31686.0      4.789686      4.142630     0.00   \n",
       "loan_amnt                   32581.0   9589.371106   6322.086646   500.00   \n",
       "loan_int_rate               29465.0     11.011695      3.240459     5.42   \n",
       "loan_status                 32581.0      0.218164      0.413006     0.00   \n",
       "loan_percent_income         32581.0      0.170203      0.106782     0.00   \n",
       "cb_person_cred_hist_length  32581.0      5.804211      4.055001     2.00   \n",
       "\n",
       "                                 25%       50%       75%         max  \n",
       "person_age                     23.00     26.00     30.00      144.00  \n",
       "person_income               38500.00  55000.00  79200.00  6000000.00  \n",
       "person_emp_length               2.00      4.00      7.00      123.00  \n",
       "loan_amnt                    5000.00   8000.00  12200.00    35000.00  \n",
       "loan_int_rate                   7.90     10.99     13.47       23.22  \n",
       "loan_status                     0.00      0.00      0.00        1.00  \n",
       "loan_percent_income             0.09      0.15      0.23        0.83  \n",
       "cb_person_cred_hist_length      3.00      4.00      8.00       30.00  "
      ]
     },
     "execution_count": 38,
     "metadata": {},
     "output_type": "execute_result"
    }
   ],
   "source": [
    "data.describe().T"
   ]
  },
  {
   "cell_type": "code",
   "execution_count": 15,
   "id": "aa184916",
   "metadata": {},
   "outputs": [],
   "source": [
    "# 25% de personnes ont l'age < à 23;\n",
    "# 75% de personnes ont l'age > à 23;\n",
    "# L'age moyen de personnes est 26\n",
    "# L'écart d'âge entre les personnes est 6 ans \n",
    "\n",
    "\n",
    "#min : L'âge minimum dans l'échantillon. Le plus jeune âge est de 20 ans.\n",
    "#25% (ou premier quartile) : 25 % des personnes ont un âge inférieur ou égal à 23 ans.\n",
    "#50% (ou médiane) : 50 % des personnes ont un âge inférieur ou égal à 26 ans. C'est le point central de la distribution des âges.\n",
    "#75% (ou troisième quartile) : 75 % des personnes ont un âge inférieur ou égal à 30 ans.\n",
    "#max : L'âge maximum dans l'échantillon. Le plus vieil âge est de 144 ans, ce qui est une valeur anormalement élevée et pourrait être une erreur dans les données."
   ]
  },
  {
   "cell_type": "code",
   "execution_count": 16,
   "id": "951b0edc",
   "metadata": {},
   "outputs": [
    {
     "data": {
      "text/html": [
       "<div>\n",
       "<style scoped>\n",
       "    .dataframe tbody tr th:only-of-type {\n",
       "        vertical-align: middle;\n",
       "    }\n",
       "\n",
       "    .dataframe tbody tr th {\n",
       "        vertical-align: top;\n",
       "    }\n",
       "\n",
       "    .dataframe thead th {\n",
       "        text-align: right;\n",
       "    }\n",
       "</style>\n",
       "<table border=\"1\" class=\"dataframe\">\n",
       "  <thead>\n",
       "    <tr style=\"text-align: right;\">\n",
       "      <th></th>\n",
       "      <th>person_home_ownership</th>\n",
       "      <th>loan_intent</th>\n",
       "      <th>loan_grade</th>\n",
       "      <th>cb_person_default_on_file</th>\n",
       "    </tr>\n",
       "  </thead>\n",
       "  <tbody>\n",
       "    <tr>\n",
       "      <th>count</th>\n",
       "      <td>32581</td>\n",
       "      <td>32581</td>\n",
       "      <td>32581</td>\n",
       "      <td>32581</td>\n",
       "    </tr>\n",
       "    <tr>\n",
       "      <th>unique</th>\n",
       "      <td>4</td>\n",
       "      <td>6</td>\n",
       "      <td>7</td>\n",
       "      <td>2</td>\n",
       "    </tr>\n",
       "    <tr>\n",
       "      <th>top</th>\n",
       "      <td>RENT</td>\n",
       "      <td>EDUCATION</td>\n",
       "      <td>A</td>\n",
       "      <td>N</td>\n",
       "    </tr>\n",
       "    <tr>\n",
       "      <th>freq</th>\n",
       "      <td>16446</td>\n",
       "      <td>6453</td>\n",
       "      <td>10777</td>\n",
       "      <td>26836</td>\n",
       "    </tr>\n",
       "  </tbody>\n",
       "</table>\n",
       "</div>"
      ],
      "text/plain": [
       "       person_home_ownership loan_intent loan_grade cb_person_default_on_file\n",
       "count                  32581       32581      32581                     32581\n",
       "unique                     4           6          7                         2\n",
       "top                     RENT   EDUCATION          A                         N\n",
       "freq                   16446        6453      10777                     26836"
      ]
     },
     "execution_count": 16,
     "metadata": {},
     "output_type": "execute_result"
    }
   ],
   "source": [
    "data.describe(include =\"object\")"
   ]
  },
  {
   "cell_type": "markdown",
   "id": "bb4f32a9",
   "metadata": {},
   "source": [
    "Nous remarquons que les moyennes et les écart-types sont très différents d'une variable à une autre. Cela indique que les données ne sont pas à la même échelle. Selon l'algorithme que nous utiliscrons, il faudra probablement normaliser les données avant de les modéliser. En effet, certains algorithmes de Machine Learning nécessent une normalisation des données pour un \n",
    "meilleur résultat."
   ]
  },
  {
   "cell_type": "markdown",
   "id": "9b8c6dd8",
   "metadata": {},
   "source": [
    "\n",
    "Une manière très rapide de visualiser les distributions des variables ainsi que les nuages de points est d'utiliser la fonction pairplot de Seaborn :"
   ]
  },
  {
   "cell_type": "code",
   "execution_count": 39,
   "id": "badd8585",
   "metadata": {},
   "outputs": [],
   "source": [
    "# Distribution des variables et nuages de points\n",
    "sns.pairplot\n",
    "plt.show()"
   ]
  },
  {
   "cell_type": "markdown",
   "id": "9c46cb2b",
   "metadata": {},
   "source": [
    "Nous pouvons mieux visualiser les histogrammes avec la fonction displot de Seaborn :"
   ]
  },
  {
   "cell_type": "code",
   "execution_count": 48,
   "id": "ac5a6e4a",
   "metadata": {},
   "outputs": [
    {
     "data": {
      "image/png": "[encoded data removed]",
      "text/plain": [
       "<Figure size 1200x600 with 1 Axes>"
      ]
     },
     "metadata": {},
     "output_type": "display_data"
    }
   ],
   "source": [
    "# Distribution de la variable •loan\n",
    "sns.set(rc={\"figure.figsize\":(12,6)})\n",
    "sns.distplot(data['loan_amnt'])\n",
    "plt.show()"
   ]
  },
  {
   "cell_type": "code",
   "execution_count": 49,
   "id": "a69e5a6e",
   "metadata": {},
   "outputs": [],
   "source": [
    "#Ce code Python sélectionne les colonnes numériques d'un DataFrame et calcule leur coefficient d'asymétrie (skewness). \n",
    "#Voici une explication détaillée de chaque ligne :\n",
    "# skewness = assymétrie\n",
    "\n",
    "numeric_data = data.select_dtypes(include=['number'])\n",
    "skewness = numeric_data.skew()"
   ]
  },
  {
   "cell_type": "code",
   "execution_count": 50,
   "id": "14265c30",
   "metadata": {},
   "outputs": [
    {
     "data": {
      "text/plain": [
       "person_age                    2.581393\n",
       "person_income                -0.184689\n",
       "person_emp_length             2.614455\n",
       "loan_amnt                     1.192477\n",
       "loan_int_rate                 0.208550\n",
       "loan_status                   1.364888\n",
       "loan_percent_income           1.064669\n",
       "cb_person_cred_hist_length    1.661790\n",
       "dtype: float64"
      ]
     },
     "execution_count": 50,
     "metadata": {},
     "output_type": "execute_result"
    }
   ],
   "source": [
    "skewness"
   ]
  },
  {
   "cell_type": "markdown",
   "id": "c755122a",
   "metadata": {},
   "source": [
    "le coefficient d'assymetrie de la variable person_income est très élévé. Pour corriger cela, faisons une transformation logarithmique de cette variable:"
   ]
  },
  {
   "cell_type": "code",
   "execution_count": 51,
   "id": "47b576a0",
   "metadata": {},
   "outputs": [
    {
     "data": {
      "text/plain": [
       "-0.2997086059355773"
      ]
     },
     "execution_count": 51,
     "metadata": {},
     "output_type": "execute_result"
    }
   ],
   "source": [
    "# Transformation log de la variable \"person_income \"\n",
    "data[\"person_income\"] = np.log(data[\"person_income\"])\n",
    "\n",
    "# Le coefficient d'assymetrie de la variable transformée\n",
    "data[\"person_income\"].skew()"
   ]
  },
  {
   "cell_type": "markdown",
   "id": "3b8193c5",
   "metadata": {},
   "source": [
    "Voilà qui est mieux!"
   ]
  },
  {
   "cell_type": "markdown",
   "id": "26432b49",
   "metadata": {},
   "source": [
    "Traçons le nuage de points des revenus en fonction de l'âge :"
   ]
  },
  {
   "cell_type": "code",
   "execution_count": 52,
   "id": "ddfe9f2c",
   "metadata": {},
   "outputs": [
    {
     "data": {
      "image/png": "[encoded data removed]",
      "text/plain": [
       "<Figure size 1200x600 with 1 Axes>"
      ]
     },
     "metadata": {},
     "output_type": "display_data"
    }
   ],
   "source": [
    "# Pour tracer un nuage de point \n",
    "\n",
    "sns.set(rc={'figure.figsize': (12, 6)})\n",
    "sns.scatterplot(x = 'person_age', y = 'person_income', data = data)\n",
    "plt.show()"
   ]
  },
  {
   "cell_type": "markdown",
   "id": "74f9e8a8",
   "metadata": {},
   "source": [
    "Le graphique ci-dessus nous montre qu'il y une très faible corrélation positive entre les revenus et l'âge. Nous remarquons aussi des outliers (ce sont les valeurs 'aberrantes', c'est-à-dire des valeurs qui sortent du lot).\n",
    "\n",
    "\n",
    "Analysons à présent la fréquence des modalités de chaque variable catégorielle :"
   ]
  },
  {
   "cell_type": "code",
   "execution_count": 53,
   "id": "9825cda7",
   "metadata": {},
   "outputs": [
    {
     "name": "stdout",
     "output_type": "stream",
     "text": [
      "\n",
      "\n"
     ]
    },
    {
     "data": {
      "image/png": "[encoded data removed]",
      "text/plain": [
       "<Figure size 1200x600 with 1 Axes>"
      ]
     },
     "metadata": {},
     "output_type": "display_data"
    },
    {
     "name": "stdout",
     "output_type": "stream",
     "text": [
      "\n",
      "\n"
     ]
    },
    {
     "data": {
      "image/png": "[encoded data removed]",
      "text/plain": [
       "<Figure size 1200x600 with 1 Axes>"
      ]
     },
     "metadata": {},
     "output_type": "display_data"
    },
    {
     "name": "stdout",
     "output_type": "stream",
     "text": [
      "\n",
      "\n"
     ]
    },
    {
     "data": {
      "image/png": "[encoded data removed]",
      "text/plain": [
       "<Figure size 1200x600 with 1 Axes>"
      ]
     },
     "metadata": {},
     "output_type": "display_data"
    },
    {
     "name": "stdout",
     "output_type": "stream",
     "text": [
      "\n",
      "\n"
     ]
    },
    {
     "data": {
      "image/png": "[encoded data removed]",
      "text/plain": [
       "<Figure size 1200x600 with 1 Axes>"
      ]
     },
     "metadata": {},
     "output_type": "display_data"
    },
    {
     "name": "stdout",
     "output_type": "stream",
     "text": [
      "\n",
      "\n"
     ]
    },
    {
     "data": {
      "image/png": "[encoded data removed]",
      "text/plain": [
       "<Figure size 1200x600 with 1 Axes>"
      ]
     },
     "metadata": {},
     "output_type": "display_data"
    }
   ],
   "source": [
    "# Boucle sur toutes les colonnes de type \"object\" et la colonne \"loan_status\"\n",
    "for col in data.select_dtypes(include=[\"object\"]).columns.to_list() + [\"loan_status\"]:\n",
    "    sns.countplot(x=data[col])\n",
    "    plt.xlabel(col, fontweight=\"bold\")\n",
    "    plt.ylabel(\"Nombre\", fontweight=\"bold\")\n",
    "    plt.xticks(rotation=45)\n",
    "    plt.title(\"Fréquences des modalités de la variable \" + str(col), fontsize=16, fontweight=\"bold\")\n",
    "\n",
    "    print(\"\\n\")\n",
    "    plt.show()"
   ]
  },
  {
   "cell_type": "code",
   "execution_count": 54,
   "id": "a1ee44d2",
   "metadata": {},
   "outputs": [
    {
     "data": {
      "text/plain": [
       "loan_grade\n",
       "A    10777\n",
       "B    10451\n",
       "C     6458\n",
       "D     3626\n",
       "E      964\n",
       "F      241\n",
       "G       64\n",
       "Name: count, dtype: int64"
      ]
     },
     "execution_count": 54,
     "metadata": {},
     "output_type": "execute_result"
    }
   ],
   "source": [
    "data[\"loan_grade\"].value_counts()"
   ]
  },
  {
   "cell_type": "markdown",
   "id": "93aa7f93",
   "metadata": {},
   "source": [
    "Nous remarquons un déséquilibre de classe au niveau de la variable d'intérêt (loan statut). Il y a beaucoup plus de personnes qui n'ont pas été en défaut de paiement que de personnes en défaut de paiement. Ce problème peut impacter la qualité de notre modèle car ce dernier pourrait avoir tendance à prédire que tous les nouveaux demandeurs de prêts ne seront pas en défaut de paiement. Ceci causerait d'énormes pertes d'argent à la banque. Il existe plusieurs méthodes pour traiter les problèmes de déséquilibre de classe. Nous utiliserons l'une de ces méthodes dans la partie prétraitement des données avant la modélisation.\n",
    "\n",
    "\n",
    "Très souvent, les données financières sont souvent analysées avec des tableaux croisés dynamiques comme dans Excel. Construisons alors quelques tableaux croisés dynamiques :"
   ]
  },
  {
   "cell_type": "code",
   "execution_count": 57,
   "id": "b99a6e13",
   "metadata": {},
   "outputs": [
    {
     "data": {
      "text/html": [
       "<div>\n",
       "<style scoped>\n",
       "    .dataframe tbody tr th:only-of-type {\n",
       "        vertical-align: middle;\n",
       "    }\n",
       "\n",
       "    .dataframe tbody tr th {\n",
       "        vertical-align: top;\n",
       "    }\n",
       "\n",
       "    .dataframe thead th {\n",
       "        text-align: right;\n",
       "    }\n",
       "</style>\n",
       "<table border=\"1\" class=\"dataframe\">\n",
       "  <thead>\n",
       "    <tr style=\"text-align: right;\">\n",
       "      <th>loan_status</th>\n",
       "      <th>0</th>\n",
       "      <th>1</th>\n",
       "      <th>All</th>\n",
       "    </tr>\n",
       "    <tr>\n",
       "      <th>loan_intent</th>\n",
       "      <th></th>\n",
       "      <th></th>\n",
       "      <th></th>\n",
       "    </tr>\n",
       "  </thead>\n",
       "  <tbody>\n",
       "    <tr>\n",
       "      <th>DEBTCONSOLIDATION</th>\n",
       "      <td>3722</td>\n",
       "      <td>1490</td>\n",
       "      <td>5212</td>\n",
       "    </tr>\n",
       "    <tr>\n",
       "      <th>EDUCATION</th>\n",
       "      <td>5342</td>\n",
       "      <td>1111</td>\n",
       "      <td>6453</td>\n",
       "    </tr>\n",
       "    <tr>\n",
       "      <th>HOMEIMPROVEMENT</th>\n",
       "      <td>2664</td>\n",
       "      <td>941</td>\n",
       "      <td>3605</td>\n",
       "    </tr>\n",
       "    <tr>\n",
       "      <th>MEDICAL</th>\n",
       "      <td>4450</td>\n",
       "      <td>1621</td>\n",
       "      <td>6071</td>\n",
       "    </tr>\n",
       "    <tr>\n",
       "      <th>PERSONAL</th>\n",
       "      <td>4423</td>\n",
       "      <td>1098</td>\n",
       "      <td>5521</td>\n",
       "    </tr>\n",
       "    <tr>\n",
       "      <th>VENTURE</th>\n",
       "      <td>4872</td>\n",
       "      <td>847</td>\n",
       "      <td>5719</td>\n",
       "    </tr>\n",
       "    <tr>\n",
       "      <th>All</th>\n",
       "      <td>25473</td>\n",
       "      <td>7108</td>\n",
       "      <td>32581</td>\n",
       "    </tr>\n",
       "  </tbody>\n",
       "</table>\n",
       "</div>"
      ],
      "text/plain": [
       "loan_status            0     1    All\n",
       "loan_intent                          \n",
       "DEBTCONSOLIDATION   3722  1490   5212\n",
       "EDUCATION           5342  1111   6453\n",
       "HOMEIMPROVEMENT     2664   941   3605\n",
       "MEDICAL             4450  1621   6071\n",
       "PERSONAL            4423  1098   5521\n",
       "VENTURE             4872   847   5719\n",
       "All                25473  7108  32581"
      ]
     },
     "execution_count": 57,
     "metadata": {},
     "output_type": "execute_result"
    }
   ],
   "source": [
    "# Tableau croisé dynamique entre le motif de prêt et le statut du prêt\n",
    "# pd.crosstab c'est le tableau croisé dynamique (cross = crois/croisé)\n",
    "# margins = marges\n",
    "\n",
    "pd.crosstab(data[\"loan_intent\"], \n",
    "           data[\"loan_status\"],\n",
    "           margins = True)"
   ]
  },
  {
   "cell_type": "code",
   "execution_count": 58,
   "id": "79328b76",
   "metadata": {},
   "outputs": [
    {
     "data": {
      "text/plain": [
       "loan_status\n",
       "0    25473\n",
       "1     7108\n",
       "Name: count, dtype: int64"
      ]
     },
     "execution_count": 58,
     "metadata": {},
     "output_type": "execute_result"
    }
   ],
   "source": [
    "data[\"loan_status\"].value_counts()"
   ]
  },
  {
   "cell_type": "code",
   "execution_count": 59,
   "id": "c6dbf61d",
   "metadata": {},
   "outputs": [
    {
     "data": {
      "text/plain": [
       "loan_intent\n",
       "EDUCATION            6453\n",
       "MEDICAL              6071\n",
       "VENTURE              5719\n",
       "PERSONAL             5521\n",
       "DEBTCONSOLIDATION    5212\n",
       "HOMEIMPROVEMENT      3605\n",
       "Name: count, dtype: int64"
      ]
     },
     "execution_count": 59,
     "metadata": {},
     "output_type": "execute_result"
    }
   ],
   "source": [
    "data[\"loan_intent\"].value_counts()"
   ]
  },
  {
   "cell_type": "code",
   "execution_count": 63,
   "id": "cfa77a38",
   "metadata": {},
   "outputs": [
    {
     "data": {
      "text/plain": [
       "array([1, 0], dtype=int64)"
      ]
     },
     "execution_count": 63,
     "metadata": {},
     "output_type": "execute_result"
    }
   ],
   "source": [
    "data[\"loan_status\"].unique()"
   ]
  },
  {
   "cell_type": "code",
   "execution_count": 64,
   "id": "058801d4",
   "metadata": {},
   "outputs": [
    {
     "data": {
      "text/plain": [
       "array(['D', 'B', 'C', 'A', 'E', 'F', 'G'], dtype=object)"
      ]
     },
     "execution_count": 64,
     "metadata": {},
     "output_type": "execute_result"
    }
   ],
   "source": [
    "data[\"loan_grade\"].unique()"
   ]
  },
  {
   "cell_type": "code",
   "execution_count": 65,
   "id": "2a00ba97",
   "metadata": {},
   "outputs": [
    {
     "data": {
      "text/html": [
       "<div>\n",
       "<style scoped>\n",
       "    .dataframe tbody tr th:only-of-type {\n",
       "        vertical-align: middle;\n",
       "    }\n",
       "\n",
       "    .dataframe tbody tr th {\n",
       "        vertical-align: top;\n",
       "    }\n",
       "\n",
       "    .dataframe thead tr th {\n",
       "        text-align: left;\n",
       "    }\n",
       "\n",
       "    .dataframe thead tr:last-of-type th {\n",
       "        text-align: right;\n",
       "    }\n",
       "</style>\n",
       "<table border=\"1\" class=\"dataframe\">\n",
       "  <thead>\n",
       "    <tr>\n",
       "      <th>loan_status</th>\n",
       "      <th colspan=\"7\" halign=\"left\">0</th>\n",
       "      <th colspan=\"7\" halign=\"left\">1</th>\n",
       "      <th>All</th>\n",
       "    </tr>\n",
       "    <tr>\n",
       "      <th>loan_grade</th>\n",
       "      <th>A</th>\n",
       "      <th>B</th>\n",
       "      <th>C</th>\n",
       "      <th>D</th>\n",
       "      <th>E</th>\n",
       "      <th>F</th>\n",
       "      <th>G</th>\n",
       "      <th>A</th>\n",
       "      <th>B</th>\n",
       "      <th>C</th>\n",
       "      <th>D</th>\n",
       "      <th>E</th>\n",
       "      <th>F</th>\n",
       "      <th>G</th>\n",
       "      <th></th>\n",
       "    </tr>\n",
       "    <tr>\n",
       "      <th>person_home_ownership</th>\n",
       "      <th></th>\n",
       "      <th></th>\n",
       "      <th></th>\n",
       "      <th></th>\n",
       "      <th></th>\n",
       "      <th></th>\n",
       "      <th></th>\n",
       "      <th></th>\n",
       "      <th></th>\n",
       "      <th></th>\n",
       "      <th></th>\n",
       "      <th></th>\n",
       "      <th></th>\n",
       "      <th></th>\n",
       "      <th></th>\n",
       "    </tr>\n",
       "  </thead>\n",
       "  <tbody>\n",
       "    <tr>\n",
       "      <th>MORTGAGE</th>\n",
       "      <td>5219</td>\n",
       "      <td>3729</td>\n",
       "      <td>1934</td>\n",
       "      <td>658</td>\n",
       "      <td>178</td>\n",
       "      <td>36</td>\n",
       "      <td>0</td>\n",
       "      <td>239</td>\n",
       "      <td>324</td>\n",
       "      <td>321</td>\n",
       "      <td>553</td>\n",
       "      <td>161</td>\n",
       "      <td>61</td>\n",
       "      <td>31</td>\n",
       "      <td>13444</td>\n",
       "    </tr>\n",
       "    <tr>\n",
       "      <th>OTHER</th>\n",
       "      <td>23</td>\n",
       "      <td>29</td>\n",
       "      <td>11</td>\n",
       "      <td>9</td>\n",
       "      <td>2</td>\n",
       "      <td>0</td>\n",
       "      <td>0</td>\n",
       "      <td>3</td>\n",
       "      <td>5</td>\n",
       "      <td>6</td>\n",
       "      <td>11</td>\n",
       "      <td>6</td>\n",
       "      <td>2</td>\n",
       "      <td>0</td>\n",
       "      <td>107</td>\n",
       "    </tr>\n",
       "    <tr>\n",
       "      <th>OWN</th>\n",
       "      <td>860</td>\n",
       "      <td>770</td>\n",
       "      <td>464</td>\n",
       "      <td>264</td>\n",
       "      <td>26</td>\n",
       "      <td>7</td>\n",
       "      <td>0</td>\n",
       "      <td>66</td>\n",
       "      <td>34</td>\n",
       "      <td>31</td>\n",
       "      <td>18</td>\n",
       "      <td>31</td>\n",
       "      <td>8</td>\n",
       "      <td>5</td>\n",
       "      <td>2584</td>\n",
       "    </tr>\n",
       "    <tr>\n",
       "      <th>RENT</th>\n",
       "      <td>3602</td>\n",
       "      <td>4222</td>\n",
       "      <td>2710</td>\n",
       "      <td>554</td>\n",
       "      <td>137</td>\n",
       "      <td>28</td>\n",
       "      <td>1</td>\n",
       "      <td>765</td>\n",
       "      <td>1338</td>\n",
       "      <td>981</td>\n",
       "      <td>1559</td>\n",
       "      <td>423</td>\n",
       "      <td>99</td>\n",
       "      <td>27</td>\n",
       "      <td>16446</td>\n",
       "    </tr>\n",
       "    <tr>\n",
       "      <th>All</th>\n",
       "      <td>9704</td>\n",
       "      <td>8750</td>\n",
       "      <td>5119</td>\n",
       "      <td>1485</td>\n",
       "      <td>343</td>\n",
       "      <td>71</td>\n",
       "      <td>1</td>\n",
       "      <td>1073</td>\n",
       "      <td>1701</td>\n",
       "      <td>1339</td>\n",
       "      <td>2141</td>\n",
       "      <td>621</td>\n",
       "      <td>170</td>\n",
       "      <td>63</td>\n",
       "      <td>32581</td>\n",
       "    </tr>\n",
       "  </tbody>\n",
       "</table>\n",
       "</div>"
      ],
      "text/plain": [
       "loan_status               0                                   1              \\\n",
       "loan_grade                A     B     C     D    E   F  G     A     B     C   \n",
       "person_home_ownership                                                         \n",
       "MORTGAGE               5219  3729  1934   658  178  36  0   239   324   321   \n",
       "OTHER                    23    29    11     9    2   0  0     3     5     6   \n",
       "OWN                     860   770   464   264   26   7  0    66    34    31   \n",
       "RENT                   3602  4222  2710   554  137  28  1   765  1338   981   \n",
       "All                    9704  8750  5119  1485  343  71  1  1073  1701  1339   \n",
       "\n",
       "loan_status                                  All  \n",
       "loan_grade                D    E    F   G         \n",
       "person_home_ownership                             \n",
       "MORTGAGE                553  161   61  31  13444  \n",
       "OTHER                    11    6    2   0    107  \n",
       "OWN                      18   31    8   5   2584  \n",
       "RENT                   1559  423   99  27  16446  \n",
       "All                    2141  621  170  63  32581  "
      ]
     },
     "execution_count": 65,
     "metadata": {},
     "output_type": "execute_result"
    }
   ],
   "source": [
    "# Tableau croisé dynamique de l'accès à la propriètés groupé par le status ainsi que le grade de crédit \n",
    "pd.crosstab(data[\"person_home_ownership\"],\n",
    "           [data[\"loan_status\"],\n",
    "           data[\"loan_grade\"]],\n",
    "           margins = True)"
   ]
  },
  {
   "cell_type": "code",
   "execution_count": 85,
   "id": "9adfc648",
   "metadata": {},
   "outputs": [],
   "source": [
    "table_croisee = pd.crosstab(index = [data[\"loan_status\"],\n",
    "                     data[\"loan_grade\"]],\n",
    "            columns=data[\"person_home_ownership\"],\n",
    "                     margins = True)"
   ]
  },
  {
   "cell_type": "code",
   "execution_count": 87,
   "id": "33c5de42",
   "metadata": {},
   "outputs": [
    {
     "data": {
      "text/html": [
       "<div>\n",
       "<style scoped>\n",
       "    .dataframe tbody tr th:only-of-type {\n",
       "        vertical-align: middle;\n",
       "    }\n",
       "\n",
       "    .dataframe tbody tr th {\n",
       "        vertical-align: top;\n",
       "    }\n",
       "\n",
       "    .dataframe thead th {\n",
       "        text-align: right;\n",
       "    }\n",
       "</style>\n",
       "<table border=\"1\" class=\"dataframe\">\n",
       "  <thead>\n",
       "    <tr style=\"text-align: right;\">\n",
       "      <th></th>\n",
       "      <th>person_home_ownership</th>\n",
       "      <th>MORTGAGE</th>\n",
       "      <th>OTHER</th>\n",
       "      <th>OWN</th>\n",
       "      <th>RENT</th>\n",
       "      <th>All</th>\n",
       "    </tr>\n",
       "    <tr>\n",
       "      <th>loan_status</th>\n",
       "      <th>loan_grade</th>\n",
       "      <th></th>\n",
       "      <th></th>\n",
       "      <th></th>\n",
       "      <th></th>\n",
       "      <th></th>\n",
       "    </tr>\n",
       "  </thead>\n",
       "  <tbody>\n",
       "    <tr>\n",
       "      <th rowspan=\"7\" valign=\"top\">0</th>\n",
       "      <th>A</th>\n",
       "      <td>5219</td>\n",
       "      <td>23</td>\n",
       "      <td>860</td>\n",
       "      <td>3602</td>\n",
       "      <td>9704</td>\n",
       "    </tr>\n",
       "    <tr>\n",
       "      <th>B</th>\n",
       "      <td>3729</td>\n",
       "      <td>29</td>\n",
       "      <td>770</td>\n",
       "      <td>4222</td>\n",
       "      <td>8750</td>\n",
       "    </tr>\n",
       "    <tr>\n",
       "      <th>C</th>\n",
       "      <td>1934</td>\n",
       "      <td>11</td>\n",
       "      <td>464</td>\n",
       "      <td>2710</td>\n",
       "      <td>5119</td>\n",
       "    </tr>\n",
       "    <tr>\n",
       "      <th>D</th>\n",
       "      <td>658</td>\n",
       "      <td>9</td>\n",
       "      <td>264</td>\n",
       "      <td>554</td>\n",
       "      <td>1485</td>\n",
       "    </tr>\n",
       "    <tr>\n",
       "      <th>E</th>\n",
       "      <td>178</td>\n",
       "      <td>2</td>\n",
       "      <td>26</td>\n",
       "      <td>137</td>\n",
       "      <td>343</td>\n",
       "    </tr>\n",
       "    <tr>\n",
       "      <th>F</th>\n",
       "      <td>36</td>\n",
       "      <td>0</td>\n",
       "      <td>7</td>\n",
       "      <td>28</td>\n",
       "      <td>71</td>\n",
       "    </tr>\n",
       "    <tr>\n",
       "      <th>G</th>\n",
       "      <td>0</td>\n",
       "      <td>0</td>\n",
       "      <td>0</td>\n",
       "      <td>1</td>\n",
       "      <td>1</td>\n",
       "    </tr>\n",
       "    <tr>\n",
       "      <th rowspan=\"7\" valign=\"top\">1</th>\n",
       "      <th>A</th>\n",
       "      <td>239</td>\n",
       "      <td>3</td>\n",
       "      <td>66</td>\n",
       "      <td>765</td>\n",
       "      <td>1073</td>\n",
       "    </tr>\n",
       "    <tr>\n",
       "      <th>B</th>\n",
       "      <td>324</td>\n",
       "      <td>5</td>\n",
       "      <td>34</td>\n",
       "      <td>1338</td>\n",
       "      <td>1701</td>\n",
       "    </tr>\n",
       "    <tr>\n",
       "      <th>C</th>\n",
       "      <td>321</td>\n",
       "      <td>6</td>\n",
       "      <td>31</td>\n",
       "      <td>981</td>\n",
       "      <td>1339</td>\n",
       "    </tr>\n",
       "    <tr>\n",
       "      <th>D</th>\n",
       "      <td>553</td>\n",
       "      <td>11</td>\n",
       "      <td>18</td>\n",
       "      <td>1559</td>\n",
       "      <td>2141</td>\n",
       "    </tr>\n",
       "    <tr>\n",
       "      <th>E</th>\n",
       "      <td>161</td>\n",
       "      <td>6</td>\n",
       "      <td>31</td>\n",
       "      <td>423</td>\n",
       "      <td>621</td>\n",
       "    </tr>\n",
       "    <tr>\n",
       "      <th>F</th>\n",
       "      <td>61</td>\n",
       "      <td>2</td>\n",
       "      <td>8</td>\n",
       "      <td>99</td>\n",
       "      <td>170</td>\n",
       "    </tr>\n",
       "    <tr>\n",
       "      <th>G</th>\n",
       "      <td>31</td>\n",
       "      <td>0</td>\n",
       "      <td>5</td>\n",
       "      <td>27</td>\n",
       "      <td>63</td>\n",
       "    </tr>\n",
       "    <tr>\n",
       "      <th>All</th>\n",
       "      <th></th>\n",
       "      <td>13444</td>\n",
       "      <td>107</td>\n",
       "      <td>2584</td>\n",
       "      <td>16446</td>\n",
       "      <td>32581</td>\n",
       "    </tr>\n",
       "  </tbody>\n",
       "</table>\n",
       "</div>"
      ],
      "text/plain": [
       "person_home_ownership   MORTGAGE  OTHER   OWN   RENT    All\n",
       "loan_status loan_grade                                     \n",
       "0           A               5219     23   860   3602   9704\n",
       "            B               3729     29   770   4222   8750\n",
       "            C               1934     11   464   2710   5119\n",
       "            D                658      9   264    554   1485\n",
       "            E                178      2    26    137    343\n",
       "            F                 36      0     7     28     71\n",
       "            G                  0      0     0      1      1\n",
       "1           A                239      3    66    765   1073\n",
       "            B                324      5    34   1338   1701\n",
       "            C                321      6    31    981   1339\n",
       "            D                553     11    18   1559   2141\n",
       "            E                161      6    31    423    621\n",
       "            F                 61      2     8     99    170\n",
       "            G                 31      0     5     27     63\n",
       "All                        13444    107  2584  16446  32581"
      ]
     },
     "execution_count": 87,
     "metadata": {},
     "output_type": "execute_result"
    }
   ],
   "source": [
    "table_croisee"
   ]
  },
  {
   "cell_type": "code",
   "execution_count": null,
   "id": "2d3faeac",
   "metadata": {},
   "outputs": [],
   "source": []
  },
  {
   "cell_type": "code",
   "execution_count": 91,
   "id": "69ff4137",
   "metadata": {},
   "outputs": [
    {
     "data": {
      "text/plain": [
       "person_home_ownership\n",
       "RENT        16446\n",
       "MORTGAGE    13444\n",
       "OWN          2584\n",
       "OTHER         107\n",
       "Name: count, dtype: int64"
      ]
     },
     "execution_count": 91,
     "metadata": {},
     "output_type": "execute_result"
    }
   ],
   "source": [
    "data[\"person_home_ownership\"].value_counts()"
   ]
  },
  {
   "cell_type": "code",
   "execution_count": 92,
   "id": "5634606d",
   "metadata": {},
   "outputs": [
    {
     "data": {
      "text/html": [
       "<div>\n",
       "<style scoped>\n",
       "    .dataframe tbody tr th:only-of-type {\n",
       "        vertical-align: middle;\n",
       "    }\n",
       "\n",
       "    .dataframe tbody tr th {\n",
       "        vertical-align: top;\n",
       "    }\n",
       "\n",
       "    .dataframe thead th {\n",
       "        text-align: right;\n",
       "    }\n",
       "</style>\n",
       "<table border=\"1\" class=\"dataframe\">\n",
       "  <thead>\n",
       "    <tr style=\"text-align: right;\">\n",
       "      <th>loan_status</th>\n",
       "      <th>0</th>\n",
       "      <th>1</th>\n",
       "    </tr>\n",
       "    <tr>\n",
       "      <th>person_home_ownership</th>\n",
       "      <th></th>\n",
       "      <th></th>\n",
       "    </tr>\n",
       "  </thead>\n",
       "  <tbody>\n",
       "    <tr>\n",
       "      <th>MORTGAGE</th>\n",
       "      <td>0.146504</td>\n",
       "      <td>0.184882</td>\n",
       "    </tr>\n",
       "    <tr>\n",
       "      <th>OTHER</th>\n",
       "      <td>0.143784</td>\n",
       "      <td>0.300000</td>\n",
       "    </tr>\n",
       "    <tr>\n",
       "      <th>OWN</th>\n",
       "      <td>0.180013</td>\n",
       "      <td>0.297358</td>\n",
       "    </tr>\n",
       "    <tr>\n",
       "      <th>RENT</th>\n",
       "      <td>0.144611</td>\n",
       "      <td>0.264859</td>\n",
       "    </tr>\n",
       "  </tbody>\n",
       "</table>\n",
       "</div>"
      ],
      "text/plain": [
       "loan_status                   0         1\n",
       "person_home_ownership                    \n",
       "MORTGAGE               0.146504  0.184882\n",
       "OTHER                  0.143784  0.300000\n",
       "OWN                    0.180013  0.297358\n",
       "RENT                   0.144611  0.264859"
      ]
     },
     "execution_count": 92,
     "metadata": {},
     "output_type": "execute_result"
    }
   ],
   "source": [
    "# tableau croisé dynamique du % moyen du revenu par rapport au montant du prêt groupé par les variables \"person_home_ownership\"\n",
    "# \"loan_status\"\n",
    "# aggfunc= \"mean; calcul de moyenne pour chaque combinaison\n",
    "\n",
    "pd.crosstab(data[\"person_home_ownership\"],\n",
    "           data[\"loan_status\"],\n",
    "           values= data[\"loan_percent_income\"],\n",
    "           aggfunc= \"mean\")"
   ]
  },
  {
   "cell_type": "markdown",
   "id": "bcd0aece",
   "metadata": {},
   "source": [
    "Par exemple, le revenu de ceux qui ont leur propre maison (donc les propriétaires) et qui sont en défaut de paiement est égal en moyenne à 29,73% du montant de leur crédit.\n",
    "\n",
    "\n",
    "Quelle est la relation entre le pourcentage du revenu et le statut du crédit ?"
   ]
  },
  {
   "cell_type": "markdown",
   "id": "926b67c3",
   "metadata": {},
   "source": [
    "Selon ce graphique, le pourcentage moyen de revenu (par rapport au montant du prêt) pour les personnes en défaut de paiement est plus élevé. Cela indique que ces bénéficiaires ont un ratio dette / revenu déjà trop élevé. En effet, lorsque le ratio dette / revenu est très important, cela veut dire tout simplement que le crédit est trop élevé par rapport aux revenus de la personne. Et lorsqu'on a un crédit trop élevé par rapport à ses revenus, le risque d'être en défaut de paiement est logiquement et naturellement élevé."
   ]
  },
  {
   "cell_type": "code",
   "execution_count": 93,
   "id": "405a5fcf",
   "metadata": {},
   "outputs": [
    {
     "data": {
      "image/png": "[encoded data removed]",
      "text/plain": [
       "<Figure size 1200x600 with 1 Axes>"
      ]
     },
     "metadata": {},
     "output_type": "display_data"
    }
   ],
   "source": [
    "# Création du boxplot\n",
    "sns.boxplot(x=\"loan_status\", y=\"loan_amnt\", data=data)\n",
    "\n",
    "# Affichage du boxplot\n",
    "plt.xlabel(\"Statut du prêt\", fontweight=\"bold\")\n",
    "plt.ylabel(\"Montant du prêt\", fontweight=\"bold\")\n",
    "plt.title(\"Distribution des montants de prêt par statut de prêt\", fontweight=\"bold\")\n",
    "plt.show()"
   ]
  },
  {
   "cell_type": "markdown",
   "id": "e60333c4",
   "metadata": {},
   "source": [
    "Globalement, les personnes en défaut de paiement ont un crédit supérieur à celui des personnes qui ont remboursé leurs prêts"
   ]
  },
  {
   "cell_type": "code",
   "execution_count": 111,
   "id": "fc436832",
   "metadata": {},
   "outputs": [
    {
     "data": {
      "image/png": "[encoded data removed]",
      "text/plain": [
       "<Figure size 1600x800 with 1 Axes>"
      ]
     },
     "metadata": {},
     "output_type": "display_data"
    }
   ],
   "source": [
    "# loan_int_rate vs loan_grade \n",
    "crédit_grade = [\"A\", \"B\", \"C\", \"D\", \"E\", \"F\", \"G\"]\n",
    "\n",
    "sns.set(rc = {\"figure.figsize\" : (16, 8)})\n",
    "\n",
    "sns.boxenplot(x = \"loan_grade\",  \n",
    "              y= \"loan_int_rate\", \n",
    "              data = data, \n",
    "              order =crédit_grade)\n",
    "plt.show()"
   ]
  },
  {
   "cell_type": "markdown",
   "id": "9d8279a6",
   "metadata": {},
   "source": [
    "Plus le crédit est iumportant (grade élévé), plus le taux d'intérêt est élevé."
   ]
  },
  {
   "cell_type": "code",
   "execution_count": 112,
   "id": "37868371",
   "metadata": {},
   "outputs": [
    {
     "data": {
      "text/plain": [
       "loan_grade\n",
       "A    10292\n",
       "B     9985\n",
       "C     6156\n",
       "D     3445\n",
       "E      921\n",
       "F      226\n",
       "G       62\n",
       "Name: count, dtype: int64"
      ]
     },
     "execution_count": 112,
     "metadata": {},
     "output_type": "execute_result"
    }
   ],
   "source": [
    "data[\"loan_grade\"].value_counts()\n"
   ]
  },
  {
   "cell_type": "code",
   "execution_count": 113,
   "id": "6fe82c53",
   "metadata": {
    "scrolled": true
   },
   "outputs": [
    {
     "data": {
      "text/plain": [
       "<Axes: xlabel='loan_grade', ylabel='loan_int_rate'>"
      ]
     },
     "execution_count": 113,
     "metadata": {},
     "output_type": "execute_result"
    },
    {
     "data": {
      "image/png": "[encoded data removed]",
      "text/plain": [
       "<Figure size 1400x600 with 1 Axes>"
      ]
     },
     "metadata": {},
     "output_type": "display_data"
    }
   ],
   "source": [
    "# Construisons le m^me graphique sans les outliers pour voir si on a la m^me tendance:\n",
    "sns.set(rc={\"figure.figsize\":(14, 6)})\n",
    "sns.boxplot(x = \"loan_grade\",\n",
    "              y = \"loan_int_rate\",\n",
    "              data=data,\n",
    "              showfliers=False,\n",
    "             order=crédit_grade)"
   ]
  },
  {
   "cell_type": "markdown",
   "id": "24e9a7b1",
   "metadata": {},
   "source": [
    "#### le 10/06/2024"
   ]
  },
  {
   "cell_type": "code",
   "execution_count": 114,
   "id": "50ee0362",
   "metadata": {},
   "outputs": [
    {
     "data": {
      "text/plain": [
       "Text(0.5, 1.0, 'Carte des corrélations')"
      ]
     },
     "execution_count": 114,
     "metadata": {},
     "output_type": "execute_result"
    },
    {
     "data": {
      "image/png": "[encoded data removed]",
      "text/plain": [
       "<Figure size 1400x600 with 2 Axes>"
      ]
     },
     "metadata": {},
     "output_type": "display_data"
    }
   ],
   "source": [
    "# Création du masque pour la matrice de corrélation\n",
    "mask = np.triu(np.ones_like(data.select_dtypes(exclude='object').corr(), dtype=bool))\n",
    "# Création de la carte des corrélations\n",
    "sns.heatmap(data.select_dtypes(exclude= \"object\").corr(),\n",
    "           mask= mask,\n",
    "           center = 0,\n",
    "           cmap = \"RdBu\",\n",
    "           linewidths = 1,\n",
    "           annot=True,\n",
    "            fmt=\".2f\",\n",
    "            vmin=-1,\n",
    "            vmax=1)\n",
    "# Ajout du titre\n",
    "plt.title('Carte des corrélations', fontsize=15, fontweight='bold')\n",
    "\n",
    "# Affichage de la carte"
   ]
  },
  {
   "cell_type": "markdown",
   "id": "87c11185",
   "metadata": {},
   "source": [
    "# NETTOYAGE DES DONNEES"
   ]
  },
  {
   "cell_type": "markdown",
   "id": "954704e8",
   "metadata": {},
   "source": [
    "Lors de l'analyse exploratoire des données, nous avons remarqué la présence d'outliers. Ces valeurs aberrantes peuvent affecter la qualité d'un modèle de Machine Learning. Nous allons donc les retirer des données.\n",
    "\n",
    "\n",
    "Avant de retirer les outliers, il faut d'abord les détecter. L'analyse exploratoire nous a permis de savoir que cette banque avait par exemple des client(e)s de plus de 100 ans, même de plus de 140 ans. Nous pouvons utiliser le 'bon sens' pour dire qu'il est très peu probable qu'une personne qui demande un crédit ait plus de 100 ans. Ainsi on supprimerait toutes les lignes où la variable person age a des valeurs supérieures à 100.\n",
    "\n",
    "\n",
    "Il existe aussi des méthodes statistiques, plus ou moins rigoureuses, pour détecter les outliers.\n",
    "Nous utiliserons l'une de ces méthodes à savoir l'inter-quartile.\n"
   ]
  },
  {
   "cell_type": "markdown",
   "id": "6259fbce",
   "metadata": {},
   "source": [
    "#### METHODE DE DETECTION DES VALEURS ABERRANTES BASEE SUR L'INTER-QUARTILE (IQR)."
   ]
  },
  {
   "cell_type": "markdown",
   "id": "c767443a",
   "metadata": {},
   "source": [
    "Selon cette méthode, une valeur est aberrante si elle est inférieure à Q1-1.5IQR ou supérieure à Q3+1.51QR. A partir de cette définition, créons une définition de détection des outliers :"
   ]
  },
  {
   "cell_type": "code",
   "execution_count": 118,
   "id": "5ce9b591",
   "metadata": {},
   "outputs": [],
   "source": [
    "import numpy as np\n",
    "import pandas as pd\n",
    "\n",
    "def detection_outliers_by_iqr(y):\n",
    "    Q1 = np.quantile(y, 0.25)  # Enlever la virgule\n",
    "    Q3 = np.quantile(y, 0.75)  # Enlever la virgule\n",
    "    iqr = Q3 - Q1\n",
    "    borne_inf = Q1 - iqr * 1.5\n",
    "    borne_sup = Q3 + iqr * 1.5\n",
    "    return np.where((y > borne_sup) | (y < borne_inf))[0]"
   ]
  },
  {
   "cell_type": "code",
   "execution_count": 119,
   "id": "b2a89156",
   "metadata": {},
   "outputs": [
    {
     "name": "stdout",
     "output_type": "stream",
     "text": [
      "Valeurs des outliers :\n",
      "81       144\n",
      "183      144\n",
      "575      123\n",
      "747      123\n",
      "29121     50\n",
      "        ... \n",
      "32576     57\n",
      "32577     54\n",
      "32578     65\n",
      "32579     56\n",
      "32580     66\n",
      "Name: person_age, Length: 1494, dtype: int64\n",
      "Dimensions du DataFrame après suppression des outliers : (31087, 12)\n"
     ]
    }
   ],
   "source": [
    "# Chargement des données\n",
    "file_path = \"E:/DSTI/Cours/Machine_Learning_Python_Lab/ML_Livre_JA/data_credit.txt\"  # Remplacez par le chemin de votre fichier CSV\n",
    "data = pd.read_csv(file_path)\n",
    "\n",
    "# Application de la fonction detection_outliers_by_iqr()\n",
    "indices_outliers_age = detection_outliers_by_iqr(data[\"person_age\"])\n",
    "\n",
    "# Afficher les valeurs des outliers\n",
    "outliers_age = data[\"person_age\"].iloc[indices_outliers_age]\n",
    "print(\"Valeurs des outliers :\")\n",
    "print(outliers_age)\n",
    "\n",
    "# Supprimer les outliers du DataFrame\n",
    "data.drop(indices_outliers_age, inplace=True)\n",
    "\n",
    "# Vérifier les dimensions du DataFrame après suppression des outliers\n",
    "print(\"Dimensions du DataFrame après suppression des outliers :\", data.shape)"
   ]
  },
  {
   "cell_type": "code",
   "execution_count": 120,
   "id": "d34a2c98",
   "metadata": {},
   "outputs": [
    {
     "data": {
      "text/plain": [
       "(31087, 12)"
      ]
     },
     "execution_count": 120,
     "metadata": {},
     "output_type": "execute_result"
    }
   ],
   "source": [
    "data.shape"
   ]
  },
  {
   "cell_type": "code",
   "execution_count": 121,
   "id": "a3b3435c",
   "metadata": {},
   "outputs": [],
   "source": [
    "# 32581 initial rows\n",
    "# 31087 rows\n",
    "# Outliers 1494"
   ]
  },
  {
   "cell_type": "markdown",
   "id": "56985fd6",
   "metadata": {},
   "source": [
    "En supprimant les valeurs outliers, l'ensemble de données est passé de 32580 à 31087 observations"
   ]
  },
  {
   "cell_type": "code",
   "execution_count": 122,
   "id": "4310616f",
   "metadata": {},
   "outputs": [
    {
     "data": {
      "text/plain": [
       "person_age                       0\n",
       "person_income                    0\n",
       "person_home_ownership            0\n",
       "person_emp_length              861\n",
       "loan_intent                      0\n",
       "loan_grade                       0\n",
       "loan_amnt                        0\n",
       "loan_int_rate                 2953\n",
       "loan_status                      0\n",
       "loan_percent_income              0\n",
       "cb_person_default_on_file        0\n",
       "cb_person_cred_hist_length       0\n",
       "dtype: int64"
      ]
     },
     "execution_count": 122,
     "metadata": {},
     "output_type": "execute_result"
    }
   ],
   "source": [
    "data.isnull().sum()"
   ]
  },
  {
   "cell_type": "markdown",
   "id": "33a0c504",
   "metadata": {},
   "source": [
    "Il exite deux (2) technique principale pour traiter les valeurs manquantes"
   ]
  },
  {
   "cell_type": "markdown",
   "id": "ce322489",
   "metadata": {},
   "source": [
    "• Suppression des lignes contenant les valeurs manquantes (à seulement envisager lorsque les valeurs manquantes font moins de 5% des données) ;\n",
    "\n",
    "•Remplacement des valeurs manquantes en faisant des imputations par la moyenne, la médiane, ...etc de la variable contenant ces valeurs manquantes. Il existe également\n",
    "plus proches voisins (KNN).\n",
    "d'autres méthodes d'imputation plus ou moins sophistiquées comme la méthode des k\n",
    "\n",
    "\n",
    "Dans la pratique, il est conseillé de choisir une méthode puis de construire et d'évaluer le modele. Puis de changer la méthode d'imputation et reconstruit le modèle ainsi de suite afin de finalement choisir une méthode qui donne les meilleurs résultats.\n",
    "\n",
    "\n",
    "Commençons par une imputation par la médiane :"
   ]
  },
  {
   "cell_type": "code",
   "execution_count": 125,
   "id": "d0e8e5d4",
   "metadata": {},
   "outputs": [],
   "source": [
    "# Imputation par la moyenne\n",
    "data[\"person_emp_length\"] = data[\"person_emp_length\"].fillna(data[\"person_emp_length\"].median())\n",
    "data[\"loan_int_rate\"]= data[\"loan_int_rate\"].fillna(data[\"loan_int_rate\"].median())"
   ]
  },
  {
   "cell_type": "code",
   "execution_count": 126,
   "id": "f860376f",
   "metadata": {},
   "outputs": [
    {
     "data": {
      "text/plain": [
       "person_age                    0\n",
       "person_income                 0\n",
       "person_home_ownership         0\n",
       "person_emp_length             0\n",
       "loan_intent                   0\n",
       "loan_grade                    0\n",
       "loan_amnt                     0\n",
       "loan_int_rate                 0\n",
       "loan_status                   0\n",
       "loan_percent_income           0\n",
       "cb_person_default_on_file     0\n",
       "cb_person_cred_hist_length    0\n",
       "dtype: int64"
      ]
     },
     "execution_count": 126,
     "metadata": {},
     "output_type": "execute_result"
    }
   ],
   "source": [
    "data.isnull().sum()"
   ]
  },
  {
   "cell_type": "markdown",
   "id": "86cc6e9e",
   "metadata": {},
   "source": [
    "# TRANSFORMATION DES VARIABLES CATEGORIELLES EN VARIABLES NUMERIQUES"
   ]
  },
  {
   "cell_type": "markdown",
   "id": "1e419d80",
   "metadata": {},
   "source": [
    "Dans Python, la plupart des algorithmes de Machine Learning ne fonctionnent pas directement avec les variables catégorielles. La dernière étape de préparation des données avant la modélisation sera donc consacrée à la transformation de ces variables qualitatives en variables numériques. Nous utiliserons la fonction pandas.get dummies 16 # dataframe des variables numériques"
   ]
  },
  {
   "cell_type": "code",
   "execution_count": 127,
   "id": "c3b9dca2",
   "metadata": {},
   "outputs": [],
   "source": [
    "# dataFrame des variables numériques\n",
    "vars_num = data.select_dtypes(exclude=[\"object\"])"
   ]
  },
  {
   "cell_type": "code",
   "execution_count": 128,
   "id": "b3d58ede",
   "metadata": {},
   "outputs": [],
   "source": [
    "# dataFrame des variables non_numériques\n",
    "vars_cat = data.select_dtypes(include= \"object\")"
   ]
  },
  {
   "cell_type": "code",
   "execution_count": 130,
   "id": "c5fbbaf9",
   "metadata": {},
   "outputs": [],
   "source": [
    "# Transformation des variables non_numériques\n",
    "#Convert categorical variables into dummy/indicator variables without using pd.get_dummies().\n",
    "vars_cat_dummies = pd.get_dummies(vars_cat)"
   ]
  },
  {
   "cell_type": "code",
   "execution_count": 132,
   "id": "d461e6ea",
   "metadata": {},
   "outputs": [
    {
     "name": "stdout",
     "output_type": "stream",
     "text": [
      "(31087, 27)\n"
     ]
    }
   ],
   "source": [
    "# Nouvelles dataFrame\n",
    "def_new = pd.concat([vars_num, vars_cat_dummies], axis=1)\n",
    "print(def_new.shape)"
   ]
  },
  {
   "cell_type": "code",
   "execution_count": 133,
   "id": "cfeb6020",
   "metadata": {},
   "outputs": [
    {
     "data": {
      "text/html": [
       "<div>\n",
       "<style scoped>\n",
       "    .dataframe tbody tr th:only-of-type {\n",
       "        vertical-align: middle;\n",
       "    }\n",
       "\n",
       "    .dataframe tbody tr th {\n",
       "        vertical-align: top;\n",
       "    }\n",
       "\n",
       "    .dataframe thead th {\n",
       "        text-align: right;\n",
       "    }\n",
       "</style>\n",
       "<table border=\"1\" class=\"dataframe\">\n",
       "  <thead>\n",
       "    <tr style=\"text-align: right;\">\n",
       "      <th></th>\n",
       "      <th>person_age</th>\n",
       "      <th>person_income</th>\n",
       "      <th>person_emp_length</th>\n",
       "      <th>loan_amnt</th>\n",
       "      <th>loan_int_rate</th>\n",
       "      <th>loan_status</th>\n",
       "      <th>loan_percent_income</th>\n",
       "      <th>cb_person_cred_hist_length</th>\n",
       "      <th>person_home_ownership_MORTGAGE</th>\n",
       "      <th>person_home_ownership_OTHER</th>\n",
       "      <th>...</th>\n",
       "      <th>loan_intent_VENTURE</th>\n",
       "      <th>loan_grade_A</th>\n",
       "      <th>loan_grade_B</th>\n",
       "      <th>loan_grade_C</th>\n",
       "      <th>loan_grade_D</th>\n",
       "      <th>loan_grade_E</th>\n",
       "      <th>loan_grade_F</th>\n",
       "      <th>loan_grade_G</th>\n",
       "      <th>cb_person_default_on_file_N</th>\n",
       "      <th>cb_person_default_on_file_Y</th>\n",
       "    </tr>\n",
       "  </thead>\n",
       "  <tbody>\n",
       "    <tr>\n",
       "      <th>0</th>\n",
       "      <td>22</td>\n",
       "      <td>59000</td>\n",
       "      <td>123.0</td>\n",
       "      <td>35000</td>\n",
       "      <td>16.02</td>\n",
       "      <td>1</td>\n",
       "      <td>0.59</td>\n",
       "      <td>3</td>\n",
       "      <td>False</td>\n",
       "      <td>False</td>\n",
       "      <td>...</td>\n",
       "      <td>False</td>\n",
       "      <td>False</td>\n",
       "      <td>False</td>\n",
       "      <td>False</td>\n",
       "      <td>True</td>\n",
       "      <td>False</td>\n",
       "      <td>False</td>\n",
       "      <td>False</td>\n",
       "      <td>False</td>\n",
       "      <td>True</td>\n",
       "    </tr>\n",
       "    <tr>\n",
       "      <th>1</th>\n",
       "      <td>21</td>\n",
       "      <td>9600</td>\n",
       "      <td>5.0</td>\n",
       "      <td>1000</td>\n",
       "      <td>11.14</td>\n",
       "      <td>0</td>\n",
       "      <td>0.10</td>\n",
       "      <td>2</td>\n",
       "      <td>False</td>\n",
       "      <td>False</td>\n",
       "      <td>...</td>\n",
       "      <td>False</td>\n",
       "      <td>False</td>\n",
       "      <td>True</td>\n",
       "      <td>False</td>\n",
       "      <td>False</td>\n",
       "      <td>False</td>\n",
       "      <td>False</td>\n",
       "      <td>False</td>\n",
       "      <td>True</td>\n",
       "      <td>False</td>\n",
       "    </tr>\n",
       "    <tr>\n",
       "      <th>2</th>\n",
       "      <td>25</td>\n",
       "      <td>9600</td>\n",
       "      <td>1.0</td>\n",
       "      <td>5500</td>\n",
       "      <td>12.87</td>\n",
       "      <td>1</td>\n",
       "      <td>0.57</td>\n",
       "      <td>3</td>\n",
       "      <td>True</td>\n",
       "      <td>False</td>\n",
       "      <td>...</td>\n",
       "      <td>False</td>\n",
       "      <td>False</td>\n",
       "      <td>False</td>\n",
       "      <td>True</td>\n",
       "      <td>False</td>\n",
       "      <td>False</td>\n",
       "      <td>False</td>\n",
       "      <td>False</td>\n",
       "      <td>True</td>\n",
       "      <td>False</td>\n",
       "    </tr>\n",
       "    <tr>\n",
       "      <th>3</th>\n",
       "      <td>23</td>\n",
       "      <td>65500</td>\n",
       "      <td>4.0</td>\n",
       "      <td>35000</td>\n",
       "      <td>15.23</td>\n",
       "      <td>1</td>\n",
       "      <td>0.53</td>\n",
       "      <td>2</td>\n",
       "      <td>False</td>\n",
       "      <td>False</td>\n",
       "      <td>...</td>\n",
       "      <td>False</td>\n",
       "      <td>False</td>\n",
       "      <td>False</td>\n",
       "      <td>True</td>\n",
       "      <td>False</td>\n",
       "      <td>False</td>\n",
       "      <td>False</td>\n",
       "      <td>False</td>\n",
       "      <td>True</td>\n",
       "      <td>False</td>\n",
       "    </tr>\n",
       "    <tr>\n",
       "      <th>4</th>\n",
       "      <td>24</td>\n",
       "      <td>54400</td>\n",
       "      <td>8.0</td>\n",
       "      <td>35000</td>\n",
       "      <td>14.27</td>\n",
       "      <td>1</td>\n",
       "      <td>0.55</td>\n",
       "      <td>4</td>\n",
       "      <td>False</td>\n",
       "      <td>False</td>\n",
       "      <td>...</td>\n",
       "      <td>False</td>\n",
       "      <td>False</td>\n",
       "      <td>False</td>\n",
       "      <td>True</td>\n",
       "      <td>False</td>\n",
       "      <td>False</td>\n",
       "      <td>False</td>\n",
       "      <td>False</td>\n",
       "      <td>False</td>\n",
       "      <td>True</td>\n",
       "    </tr>\n",
       "  </tbody>\n",
       "</table>\n",
       "<p>5 rows × 27 columns</p>\n",
       "</div>"
      ],
      "text/plain": [
       "   person_age  person_income  person_emp_length  loan_amnt  loan_int_rate  \\\n",
       "0          22          59000              123.0      35000          16.02   \n",
       "1          21           9600                5.0       1000          11.14   \n",
       "2          25           9600                1.0       5500          12.87   \n",
       "3          23          65500                4.0      35000          15.23   \n",
       "4          24          54400                8.0      35000          14.27   \n",
       "\n",
       "   loan_status  loan_percent_income  cb_person_cred_hist_length  \\\n",
       "0            1                 0.59                           3   \n",
       "1            0                 0.10                           2   \n",
       "2            1                 0.57                           3   \n",
       "3            1                 0.53                           2   \n",
       "4            1                 0.55                           4   \n",
       "\n",
       "   person_home_ownership_MORTGAGE  person_home_ownership_OTHER  ...  \\\n",
       "0                           False                        False  ...   \n",
       "1                           False                        False  ...   \n",
       "2                            True                        False  ...   \n",
       "3                           False                        False  ...   \n",
       "4                           False                        False  ...   \n",
       "\n",
       "   loan_intent_VENTURE  loan_grade_A  loan_grade_B  loan_grade_C  \\\n",
       "0                False         False         False         False   \n",
       "1                False         False          True         False   \n",
       "2                False         False         False          True   \n",
       "3                False         False         False          True   \n",
       "4                False         False         False          True   \n",
       "\n",
       "   loan_grade_D  loan_grade_E  loan_grade_F  loan_grade_G  \\\n",
       "0          True         False         False         False   \n",
       "1         False         False         False         False   \n",
       "2         False         False         False         False   \n",
       "3         False         False         False         False   \n",
       "4         False         False         False         False   \n",
       "\n",
       "   cb_person_default_on_file_N  cb_person_default_on_file_Y  \n",
       "0                        False                         True  \n",
       "1                         True                        False  \n",
       "2                         True                        False  \n",
       "3                         True                        False  \n",
       "4                        False                         True  \n",
       "\n",
       "[5 rows x 27 columns]"
      ]
     },
     "execution_count": 133,
     "metadata": {},
     "output_type": "execute_result"
    }
   ],
   "source": [
    "def_new.head()"
   ]
  },
  {
   "cell_type": "markdown",
   "id": "5a281096",
   "metadata": {},
   "source": [
    "L'opération de transformation des variables qualitatives en variables numérique a porté à 27 le nombre de variables."
   ]
  },
  {
   "cell_type": "markdown",
   "id": "f7c83f20",
   "metadata": {},
   "source": [
    "# MODELISATION"
   ]
  },
  {
   "cell_type": "markdown",
   "id": "dd17c3ca",
   "metadata": {},
   "source": [
    "Nous voulons construire un modale de Machine Learing capable de prédire si une personne sera en défaut de paiement (1) ou non (0) en fonction de certaines variables. Il s'agit donc d'un problème de Classification.\n",
    "\n",
    "Commençons par scinder la dataframe en données d'entraînement (train data) et en données d'évaluation (test data) du modèle :"
   ]
  },
  {
   "cell_type": "code",
   "execution_count": 136,
   "id": "3b706609",
   "metadata": {},
   "outputs": [],
   "source": [
    "# Train / test data\n",
    "X1 = def_new.drop(\"loan_status\", axis=1)   # 26\n",
    "Y1 = def_new[\"loan_status\"]                # 1"
   ]
  },
  {
   "cell_type": "code",
   "execution_count": 137,
   "id": "5780e827",
   "metadata": {},
   "outputs": [],
   "source": [
    "seed = 123"
   ]
  },
  {
   "cell_type": "markdown",
   "id": "e4a22b3d",
   "metadata": {},
   "source": [
    "\n",
    "seed = 123 est une commande utilisée pour initialiser la graine aléatoire dans le contexte de génération de nombres aléatoires. La graine aléatoire est un nombre utilisé comme point de départ pour générer une séquence de nombres pseudo-aléatoires. En fixant la graine aléatoire à une valeur spécifique, comme 123 dans ce cas, cela garantit que les résultats de la génération de nombres aléatoires seront les mêmes à chaque exécution du code, ce qui est utile pour obtenir des résultats reproductibles dans des expériences ou des analyses."
   ]
  },
  {
   "cell_type": "code",
   "execution_count": 140,
   "id": "c299df3f",
   "metadata": {},
   "outputs": [],
   "source": [
    "X_train, X_test, Y_train, Y_test = train_test_split(X1, Y1, \n",
    "                                                    stratify= Y1,\n",
    "                                                   test_size= 0.3,\n",
    "                                                   random_state= seed)"
   ]
  },
  {
   "cell_type": "code",
   "execution_count": 141,
   "id": "7e763973",
   "metadata": {},
   "outputs": [
    {
     "name": "stdout",
     "output_type": "stream",
     "text": [
      "(21760, 26)\n",
      "(9327, 26)\n",
      "(21760,)\n",
      "(9327,)\n"
     ]
    }
   ],
   "source": [
    "print(X_train.shape)\n",
    "print(X_test.shape)\n",
    "print(Y_train.shape)\n",
    "print(Y_test.shape)"
   ]
  },
  {
   "cell_type": "markdown",
   "id": "db8882f1",
   "metadata": {},
   "source": [
    "Dans la fonction train test splito :"
   ]
  },
  {
   "cell_type": "markdown",
   "id": "7de185ec",
   "metadata": {},
   "source": [
    "• L'argument stratify - y est très important surtout quand on a un déséquilibre de classe dans les données. Il permet de créer des données d'entraînement et des données de test ayant les mêmes proportions d'étiquettes de classe que l'ensemble de données originel ;\n",
    "\n",
    "• test size = 0.3 veut dire que 30% des données serviront à évaluer le modèle et donc que 70% des données serviront à entraîner l'algorithme;\n",
    "\n",
    "• random state est défini afin de s'assurer de la reproductibilité de l'opération. En effet, en définissant l'argument random _state, on est assuré qu'à chaque fois que le code sera exécuté, ce seront les mêmes données d'entraînement et de test qui seront générées.\n",
    "\n",
    "Construisons d'abord un modèle de base avec l'algorithme des forêts aléatoires\n",
    "(RandomForestClassifier) :"
   ]
  },
  {
   "cell_type": "code",
   "execution_count": 144,
   "id": "050c0f60",
   "metadata": {},
   "outputs": [],
   "source": [
    "from sklearn.ensemble import RandomForestClassifier"
   ]
  },
  {
   "cell_type": "markdown",
   "id": "631ce444",
   "metadata": {},
   "source": [
    "La ligne de code from sklearn.ensemble import RandomForestClassifier est utilisée pour importer la classe RandomForestClassifier de la bibliothèque scikit-learn (sklearn). \n",
    "\n",
    "Cette classe est un algorithme de machine learning basé sur des forêts aléatoires (Random Forests), qui est couramment utilisé pour des tâches de classification et de régression"
   ]
  },
  {
   "cell_type": "markdown",
   "id": "000d5f36",
   "metadata": {},
   "source": [
    "Le RandomForestClassifier est un modèle de machine learning qui utilise de nombreux arbres de décision pour prédire des catégories. Chaque arbre de décision vote pour une catégorie, et la catégorie avec le plus de votes est la prédiction finale."
   ]
  },
  {
   "cell_type": "code",
   "execution_count": 145,
   "id": "f2807bf4",
   "metadata": {},
   "outputs": [],
   "source": [
    "# Création du modèle\n",
    "rf = RandomForestClassifier(random_state = seed)"
   ]
  },
  {
   "cell_type": "markdown",
   "id": "dca713f3",
   "metadata": {},
   "source": [
    "La méthode rf.fit(X_train, y_train) est utilisée pour entraîner le modèle de forêt aléatoire sur les données d'entraînement. Voici une explication détaillée de ce que fait cette ligne de code :\n",
    "\n",
    "rf : C'est l'instance du modèle RandomForestClassifier que vous avez créé précédemment avec rf = RandomForestClassifier(random_state=seed).\n",
    "\n",
    "fit : C'est une méthode de l'instance RandomForestClassifier qui entraîne le modèle en ajustant ses paramètres internes sur les données fournies"
   ]
  },
  {
   "cell_type": "code",
   "execution_count": 146,
   "id": "21d29e2d",
   "metadata": {},
   "outputs": [
    {
     "data": {
      "text/html": [
       "<style>#sk-container-id-1 {color: black;}#sk-container-id-1 pre{padding: 0;}#sk-container-id-1 div.sk-toggleable {background-color: white;}#sk-container-id-1 label.sk-toggleable__label {cursor: pointer;display: block;width: 100%;margin-bottom: 0;padding: 0.3em;box-sizing: border-box;text-align: center;}#sk-container-id-1 label.sk-toggleable__label-arrow:before {content: \"▸\";float: left;margin-right: 0.25em;color: #696969;}#sk-container-id-1 label.sk-toggleable__label-arrow:hover:before {color: black;}#sk-container-id-1 div.sk-estimator:hover label.sk-toggleable__label-arrow:before {color: black;}#sk-container-id-1 div.sk-toggleable__content {max-height: 0;max-width: 0;overflow: hidden;text-align: left;background-color: #f0f8ff;}#sk-container-id-1 div.sk-toggleable__content pre {margin: 0.2em;color: black;border-radius: 0.25em;background-color: #f0f8ff;}#sk-container-id-1 input.sk-toggleable__control:checked~div.sk-toggleable__content {max-height: 200px;max-width: 100%;overflow: auto;}#sk-container-id-1 input.sk-toggleable__control:checked~label.sk-toggleable__label-arrow:before {content: \"▾\";}#sk-container-id-1 div.sk-estimator input.sk-toggleable__control:checked~label.sk-toggleable__label {background-color: #d4ebff;}#sk-container-id-1 div.sk-label input.sk-toggleable__control:checked~label.sk-toggleable__label {background-color: #d4ebff;}#sk-container-id-1 input.sk-hidden--visually {border: 0;clip: rect(1px 1px 1px 1px);clip: rect(1px, 1px, 1px, 1px);height: 1px;margin: -1px;overflow: hidden;padding: 0;position: absolute;width: 1px;}#sk-container-id-1 div.sk-estimator {font-family: monospace;background-color: #f0f8ff;border: 1px dotted black;border-radius: 0.25em;box-sizing: border-box;margin-bottom: 0.5em;}#sk-container-id-1 div.sk-estimator:hover {background-color: #d4ebff;}#sk-container-id-1 div.sk-parallel-item::after {content: \"\";width: 100%;border-bottom: 1px solid gray;flex-grow: 1;}#sk-container-id-1 div.sk-label:hover label.sk-toggleable__label {background-color: #d4ebff;}#sk-container-id-1 div.sk-serial::before {content: \"\";position: absolute;border-left: 1px solid gray;box-sizing: border-box;top: 0;bottom: 0;left: 50%;z-index: 0;}#sk-container-id-1 div.sk-serial {display: flex;flex-direction: column;align-items: center;background-color: white;padding-right: 0.2em;padding-left: 0.2em;position: relative;}#sk-container-id-1 div.sk-item {position: relative;z-index: 1;}#sk-container-id-1 div.sk-parallel {display: flex;align-items: stretch;justify-content: center;background-color: white;position: relative;}#sk-container-id-1 div.sk-item::before, #sk-container-id-1 div.sk-parallel-item::before {content: \"\";position: absolute;border-left: 1px solid gray;box-sizing: border-box;top: 0;bottom: 0;left: 50%;z-index: -1;}#sk-container-id-1 div.sk-parallel-item {display: flex;flex-direction: column;z-index: 1;position: relative;background-color: white;}#sk-container-id-1 div.sk-parallel-item:first-child::after {align-self: flex-end;width: 50%;}#sk-container-id-1 div.sk-parallel-item:last-child::after {align-self: flex-start;width: 50%;}#sk-container-id-1 div.sk-parallel-item:only-child::after {width: 0;}#sk-container-id-1 div.sk-dashed-wrapped {border: 1px dashed gray;margin: 0 0.4em 0.5em 0.4em;box-sizing: border-box;padding-bottom: 0.4em;background-color: white;}#sk-container-id-1 div.sk-label label {font-family: monospace;font-weight: bold;display: inline-block;line-height: 1.2em;}#sk-container-id-1 div.sk-label-container {text-align: center;}#sk-container-id-1 div.sk-container {/* jupyter's `normalize.less` sets `[hidden] { display: none; }` but bootstrap.min.css set `[hidden] { display: none !important; }` so we also need the `!important` here to be able to override the default hidden behavior on the sphinx rendered scikit-learn.org. See: https://github.com/scikit-learn/scikit-learn/issues/21755 */display: inline-block !important;position: relative;}#sk-container-id-1 div.sk-text-repr-fallback {display: none;}</style><div id=\"sk-container-id-1\" class=\"sk-top-container\"><div class=\"sk-text-repr-fallback\"><pre>RandomForestClassifier(random_state=123)</pre><b>In a Jupyter environment, please rerun this cell to show the HTML representation or trust the notebook. <br />On GitHub, the HTML representation is unable to render, please try loading this page with nbviewer.org.</b></div><div class=\"sk-container\" hidden><div class=\"sk-item\"><div class=\"sk-estimator sk-toggleable\"><input class=\"sk-toggleable__control sk-hidden--visually\" id=\"sk-estimator-id-1\" type=\"checkbox\" checked><label for=\"sk-estimator-id-1\" class=\"sk-toggleable__label sk-toggleable__label-arrow\">RandomForestClassifier</label><div class=\"sk-toggleable__content\"><pre>RandomForestClassifier(random_state=123)</pre></div></div></div></div></div>"
      ],
      "text/plain": [
       "RandomForestClassifier(random_state=123)"
      ]
     },
     "execution_count": 146,
     "metadata": {},
     "output_type": "execute_result"
    }
   ],
   "source": [
    "# Entraînement du modèle\n",
    "rf.fit(X_train, Y_train)"
   ]
  },
  {
   "cell_type": "markdown",
   "id": "16923e53",
   "metadata": {},
   "source": [
    "#### EVALUATION DES PERFORMANCES DU MODELE"
   ]
  },
  {
   "cell_type": "markdown",
   "id": "7b0be31a",
   "metadata": {},
   "source": [
    "L'évaluation de la performance d'un modèle est une tâche qu'il faut effectuer avec soin. Il existe plusieurs métriques permettant d'évaluer cette performance. Le choix de la métrique doit être faite rigoureusement en fonction du problème business qu'on veut résoudre.\n",
    "\n",
    "Commençons d'abord par calculer la précision globale du modèle de forêts aléatoires."
   ]
  },
  {
   "cell_type": "code",
   "execution_count": 147,
   "id": "a164f132",
   "metadata": {},
   "outputs": [
    {
     "name": "stdout",
     "output_type": "stream",
     "text": [
      "Le score sur les données d'entrainement est : 0.9999540441176471\n",
      "Le score sur les données d'évaluation est : 0.9357778492548515\n"
     ]
    }
   ],
   "source": [
    "# Précision globale du modèle\n",
    "print(\"Le score sur les données d'entrainement est :\", rf.score(X_train, Y_train))\n",
    "\n",
    "print(\"Le score sur les données d'évaluation est :\", rf.score(X_test, Y_test))"
   ]
  },
  {
   "cell_type": "markdown",
   "id": "17a3b658",
   "metadata": {},
   "source": [
    "Ces valeurs nous indiquent que pratiquement 100% des statuts de prêts ont été correctement prédits au niveau des données d'entraînement et qu'environ 94% des statuts de prêts ont été correctement prédits au niveau des données de test. Cet écart entre score d'entraînement et score de test indique qu'il y a peut-être un problème de surapprentissage (overfiting).\n",
    "\n",
    "\n",
    "Une autre fonction utilisée pour évaluer les modèles de classification est la fonction classification report. Cette fonction permet de générer d'un seul coup plusieurs métriques."
   ]
  },
  {
   "cell_type": "code",
   "execution_count": 148,
   "id": "8af55fce",
   "metadata": {},
   "outputs": [],
   "source": [
    "from sklearn.metrics import classification_report"
   ]
  },
  {
   "cell_type": "code",
   "execution_count": 149,
   "id": "5e1d20c6",
   "metadata": {},
   "outputs": [
    {
     "name": "stdout",
     "output_type": "stream",
     "text": [
      "              precision    recall  f1-score   support\n",
      "\n",
      "           0       0.93      0.99      0.96      7290\n",
      "           1       0.97      0.73      0.83      2037\n",
      "\n",
      "    accuracy                           0.94      9327\n",
      "   macro avg       0.95      0.86      0.90      9327\n",
      "weighted avg       0.94      0.94      0.93      9327\n",
      "\n"
     ]
    }
   ],
   "source": [
    "# Prédictions sur le test data\n",
    "Y_pred = rf.predict(X_test)\n",
    "\n",
    "# Rapport de classification\n",
    "print(classification_report(Y_test, Y_pred))"
   ]
  },
  {
   "cell_type": "markdown",
   "id": "3561abed",
   "metadata": {},
   "source": [
    "1______Deux métriques sont vraiment utiles dans le rapport de classification : precision et recall.\n",
    "\n",
    "Le recall des prêts en défaut de paiement est égal à 0,73 ce qui signifie que 73% des véritables prêts en défaut de paiement ont été correctement prédits donc 27% des véritables prêts en défaut de paiement ont été mal prédits par le modèle comme étant des prêts qui ne sont pas en défaut de paiement. Ceci constitue un grand risque de perte d'argent pour la banque.\n",
    "\n",
    "Imaginons que la banque ait 10000 prêts et que le montant de chaque prêt est 3000 Euros. Si tous ces 10000 prêts étaient en défaut de paiement, la perte d'argent serait estimée à 10000 x 0.27 x 3000 soit 8 100 000 Euros. C'est une grosse perte d'argent pour la banque. Bien que le modèle donne une précision globale d'environ 94%, la banque perdrait énormément d'argent si elle implémentait ce modèle dans son système de crédit."
   ]
  },
  {
   "cell_type": "code",
   "execution_count": null,
   "id": "ae4a2bb4",
   "metadata": {},
   "outputs": [],
   "source": []
  },
  {
   "cell_type": "markdown",
   "id": "28717804",
   "metadata": {},
   "source": [
    "En revanche, le modèle prédit bien les prêts qui ne sont pas en défaut paiement. 99% des véritables prêts qui ne sont pas en défaut de paiement ont été correctement prédits donc seulement 1% ont été mal prédits par le modèle comme étant des prêts en défaut de paiement.\n",
    "Ceci constitue un petit risque de perte d'opportunité d'affaires pour la banque.\n",
    "\n",
    "Notre modèle a deux problèmes majeurs : overfiting et mauvaise prédiction des prêts en défaut de paiement. Ce dernier problème est certainement dû au déséquilibre de classe observé dans l'analyse exploratoire des données.\n",
    "Il peut être très difficile de jongler entre la précision et le recall lorsqu'on tente d'augmenter la performance d'un modèle de classification. Heureusement, il existe une métrique qui combine les deux : F1-Score'\n",
    "Dans la suite, nous essayerons d'améliorer la performance de notre modèle en cherchant à augmenter le F1-Score des défauts de paiement."
   ]
  },
  {
   "cell_type": "markdown",
   "id": "8be860c3",
   "metadata": {},
   "source": [
    "#### DETERMINATION DE L'IMPORTANCE DES PREDICTEURS"
   ]
  },
  {
   "cell_type": "markdown",
   "id": "3bb826e9",
   "metadata": {},
   "source": [
    "Nous allons exploiter quand même le modèle de forêts aléatoires afin de déterminer l'importance de chaque variable indépendante dans la prédiction du statut de prêt."
   ]
  },
  {
   "cell_type": "code",
   "execution_count": 156,
   "id": "3f6fe90c",
   "metadata": {},
   "outputs": [],
   "source": [
    "# Importance des variables\n",
    "vars_imp = pd.Series(rf.feature_importances_,\n",
    "                    index= X1.columns).sort_values(ascending = False)"
   ]
  },
  {
   "cell_type": "code",
   "execution_count": 158,
   "id": "1b299d49",
   "metadata": {},
   "outputs": [
    {
     "data": {
      "text/plain": [
       "loan_percent_income               0.227448\n",
       "person_income                     0.143809\n",
       "loan_int_rate                     0.109570\n",
       "loan_amnt                         0.076076\n",
       "person_emp_length                 0.060354\n",
       "person_home_ownership_RENT        0.050525\n",
       "loan_grade_D                      0.048754\n",
       "person_age                        0.044365\n",
       "cb_person_cred_hist_length        0.034412\n",
       "person_home_ownership_MORTGAGE    0.028716\n",
       "loan_intent_DEBTCONSOLIDATION     0.023212\n",
       "loan_intent_MEDICAL               0.022241\n",
       "loan_grade_C                      0.019900\n",
       "person_home_ownership_OWN         0.018639\n",
       "loan_intent_HOMEIMPROVEMENT       0.014150\n",
       "loan_grade_E                      0.011795\n",
       "loan_grade_A                      0.010900\n",
       "loan_intent_EDUCATION             0.010697\n",
       "loan_intent_PERSONAL              0.008946\n",
       "loan_intent_VENTURE               0.008513\n",
       "cb_person_default_on_file_N       0.007469\n",
       "cb_person_default_on_file_Y       0.006634\n",
       "loan_grade_B                      0.005134\n",
       "loan_grade_F                      0.004265\n",
       "loan_grade_G                      0.002675\n",
       "person_home_ownership_OTHER       0.000804\n",
       "dtype: float64"
      ]
     },
     "execution_count": 158,
     "metadata": {},
     "output_type": "execute_result"
    }
   ],
   "source": [
    "vars_imp"
   ]
  },
  {
   "cell_type": "code",
   "execution_count": 159,
   "id": "8aa4d29b",
   "metadata": {},
   "outputs": [
    {
     "data": {
      "image/png": "[encoded data removed]",
      "text/plain": [
       "<Figure size 1400x600 with 1 Axes>"
      ]
     },
     "metadata": {},
     "output_type": "display_data"
    }
   ],
   "source": [
    "# Visualisation des variables importantes \n",
    "sns.barplot(x = vars_imp,\n",
    "           y = vars_imp.index)\n",
    "plt.xlabel(\"Score d'importance de la variable \")\n",
    "plt.ylabel(\"Variables\")\n",
    "plt.title(\"Importance des variables prédictrice\")\n",
    "plt.show()"
   ]
  },
  {
   "cell_type": "markdown",
   "id": "81220844",
   "metadata": {},
   "source": [
    "#### (RE)CONSTRUCTION D4UN MODELE DE FORETS ALEATOIRES"
   ]
  },
  {
   "cell_type": "markdown",
   "id": "29d99848",
   "metadata": {},
   "source": [
    "Remodélisons les données en ne considérant cette fois-ci que les variables dont le score d'importance est supérieur à 0,010."
   ]
  },
  {
   "cell_type": "code",
   "execution_count": 161,
   "id": "7e409189",
   "metadata": {},
   "outputs": [
    {
     "data": {
      "text/plain": [
       "['loan_percent_income',\n",
       " 'person_income',\n",
       " 'loan_int_rate',\n",
       " 'loan_amnt',\n",
       " 'person_emp_length',\n",
       " 'person_home_ownership_RENT',\n",
       " 'loan_grade_D',\n",
       " 'person_age',\n",
       " 'cb_person_cred_hist_length',\n",
       " 'person_home_ownership_MORTGAGE',\n",
       " 'loan_intent_DEBTCONSOLIDATION',\n",
       " 'loan_intent_MEDICAL',\n",
       " 'loan_grade_C',\n",
       " 'person_home_ownership_OWN',\n",
       " 'loan_intent_HOMEIMPROVEMENT',\n",
       " 'loan_grade_E',\n",
       " 'loan_grade_A',\n",
       " 'loan_intent_EDUCATION']"
      ]
     },
     "execution_count": 161,
     "metadata": {},
     "output_type": "execute_result"
    }
   ],
   "source": [
    "# variables dont le score d'importance est supérieur à 0,010 ( Essayez plusieurs seuils et regardez les valeurs des métriques\n",
    "vars_selected = vars_imp[vars_imp > 0.010].index.to_list()\n",
    "vars_selected"
   ]
  },
  {
   "cell_type": "code",
   "execution_count": 162,
   "id": "4913da05",
   "metadata": {},
   "outputs": [],
   "source": [
    "# Nouvelle division des données\n",
    "x_train, x_test, y_train, y_test = train_test_split(X1[vars_selected], \n",
    "                                                    Y1, \n",
    "                                                    #stratify = Y, \n",
    "                                                    test_size = 0.3, \n",
    "                                                    random_state = seed)"
   ]
  },
  {
   "cell_type": "code",
   "execution_count": 163,
   "id": "644f5644",
   "metadata": {},
   "outputs": [
    {
     "name": "stdout",
     "output_type": "stream",
     "text": [
      "(21760, 18)\n",
      "(9327, 26)\n",
      "(21760,)\n",
      "(9327,)\n"
     ]
    }
   ],
   "source": [
    "print(x_train.shape)\n",
    "print(X_test.shape)\n",
    "print(y_train.shape)\n",
    "print(y_test.shape)"
   ]
  },
  {
   "cell_type": "code",
   "execution_count": 164,
   "id": "59b903a4",
   "metadata": {},
   "outputs": [],
   "source": [
    "# 1er modelisation\n",
    "#(21760, 26)\n",
    "#(9327, 26)\n",
    "#(21760,)\n",
    "#(9327,)"
   ]
  },
  {
   "cell_type": "code",
   "execution_count": 165,
   "id": "3755eaac",
   "metadata": {},
   "outputs": [],
   "source": [
    "# Création du modèle\n",
    "rf2 = RandomForestClassifier(random_state = seed)"
   ]
  },
  {
   "cell_type": "code",
   "execution_count": 166,
   "id": "2870d3d3",
   "metadata": {},
   "outputs": [
    {
     "data": {
      "text/html": [
       "<style>#sk-container-id-2 {color: black;}#sk-container-id-2 pre{padding: 0;}#sk-container-id-2 div.sk-toggleable {background-color: white;}#sk-container-id-2 label.sk-toggleable__label {cursor: pointer;display: block;width: 100%;margin-bottom: 0;padding: 0.3em;box-sizing: border-box;text-align: center;}#sk-container-id-2 label.sk-toggleable__label-arrow:before {content: \"▸\";float: left;margin-right: 0.25em;color: #696969;}#sk-container-id-2 label.sk-toggleable__label-arrow:hover:before {color: black;}#sk-container-id-2 div.sk-estimator:hover label.sk-toggleable__label-arrow:before {color: black;}#sk-container-id-2 div.sk-toggleable__content {max-height: 0;max-width: 0;overflow: hidden;text-align: left;background-color: #f0f8ff;}#sk-container-id-2 div.sk-toggleable__content pre {margin: 0.2em;color: black;border-radius: 0.25em;background-color: #f0f8ff;}#sk-container-id-2 input.sk-toggleable__control:checked~div.sk-toggleable__content {max-height: 200px;max-width: 100%;overflow: auto;}#sk-container-id-2 input.sk-toggleable__control:checked~label.sk-toggleable__label-arrow:before {content: \"▾\";}#sk-container-id-2 div.sk-estimator input.sk-toggleable__control:checked~label.sk-toggleable__label {background-color: #d4ebff;}#sk-container-id-2 div.sk-label input.sk-toggleable__control:checked~label.sk-toggleable__label {background-color: #d4ebff;}#sk-container-id-2 input.sk-hidden--visually {border: 0;clip: rect(1px 1px 1px 1px);clip: rect(1px, 1px, 1px, 1px);height: 1px;margin: -1px;overflow: hidden;padding: 0;position: absolute;width: 1px;}#sk-container-id-2 div.sk-estimator {font-family: monospace;background-color: #f0f8ff;border: 1px dotted black;border-radius: 0.25em;box-sizing: border-box;margin-bottom: 0.5em;}#sk-container-id-2 div.sk-estimator:hover {background-color: #d4ebff;}#sk-container-id-2 div.sk-parallel-item::after {content: \"\";width: 100%;border-bottom: 1px solid gray;flex-grow: 1;}#sk-container-id-2 div.sk-label:hover label.sk-toggleable__label {background-color: #d4ebff;}#sk-container-id-2 div.sk-serial::before {content: \"\";position: absolute;border-left: 1px solid gray;box-sizing: border-box;top: 0;bottom: 0;left: 50%;z-index: 0;}#sk-container-id-2 div.sk-serial {display: flex;flex-direction: column;align-items: center;background-color: white;padding-right: 0.2em;padding-left: 0.2em;position: relative;}#sk-container-id-2 div.sk-item {position: relative;z-index: 1;}#sk-container-id-2 div.sk-parallel {display: flex;align-items: stretch;justify-content: center;background-color: white;position: relative;}#sk-container-id-2 div.sk-item::before, #sk-container-id-2 div.sk-parallel-item::before {content: \"\";position: absolute;border-left: 1px solid gray;box-sizing: border-box;top: 0;bottom: 0;left: 50%;z-index: -1;}#sk-container-id-2 div.sk-parallel-item {display: flex;flex-direction: column;z-index: 1;position: relative;background-color: white;}#sk-container-id-2 div.sk-parallel-item:first-child::after {align-self: flex-end;width: 50%;}#sk-container-id-2 div.sk-parallel-item:last-child::after {align-self: flex-start;width: 50%;}#sk-container-id-2 div.sk-parallel-item:only-child::after {width: 0;}#sk-container-id-2 div.sk-dashed-wrapped {border: 1px dashed gray;margin: 0 0.4em 0.5em 0.4em;box-sizing: border-box;padding-bottom: 0.4em;background-color: white;}#sk-container-id-2 div.sk-label label {font-family: monospace;font-weight: bold;display: inline-block;line-height: 1.2em;}#sk-container-id-2 div.sk-label-container {text-align: center;}#sk-container-id-2 div.sk-container {/* jupyter's `normalize.less` sets `[hidden] { display: none; }` but bootstrap.min.css set `[hidden] { display: none !important; }` so we also need the `!important` here to be able to override the default hidden behavior on the sphinx rendered scikit-learn.org. See: https://github.com/scikit-learn/scikit-learn/issues/21755 */display: inline-block !important;position: relative;}#sk-container-id-2 div.sk-text-repr-fallback {display: none;}</style><div id=\"sk-container-id-2\" class=\"sk-top-container\"><div class=\"sk-text-repr-fallback\"><pre>RandomForestClassifier(random_state=123)</pre><b>In a Jupyter environment, please rerun this cell to show the HTML representation or trust the notebook. <br />On GitHub, the HTML representation is unable to render, please try loading this page with nbviewer.org.</b></div><div class=\"sk-container\" hidden><div class=\"sk-item\"><div class=\"sk-estimator sk-toggleable\"><input class=\"sk-toggleable__control sk-hidden--visually\" id=\"sk-estimator-id-2\" type=\"checkbox\" checked><label for=\"sk-estimator-id-2\" class=\"sk-toggleable__label sk-toggleable__label-arrow\">RandomForestClassifier</label><div class=\"sk-toggleable__content\"><pre>RandomForestClassifier(random_state=123)</pre></div></div></div></div></div>"
      ],
      "text/plain": [
       "RandomForestClassifier(random_state=123)"
      ]
     },
     "execution_count": 166,
     "metadata": {},
     "output_type": "execute_result"
    }
   ],
   "source": [
    "# Entrainement du modèle\n",
    "rf2.fit(x_train, y_train)"
   ]
  },
  {
   "cell_type": "code",
   "execution_count": 167,
   "id": "481c76fa",
   "metadata": {},
   "outputs": [],
   "source": [
    "# Prédictions\n",
    "y_pred2 = rf2.predict(x_test)"
   ]
  },
  {
   "cell_type": "code",
   "execution_count": 168,
   "id": "978b6708",
   "metadata": {},
   "outputs": [
    {
     "name": "stdout",
     "output_type": "stream",
     "text": [
      "              precision    recall  f1-score   support\n",
      "\n",
      "           0       0.93      0.99      0.96      7247\n",
      "           1       0.97      0.72      0.83      2080\n",
      "\n",
      "    accuracy                           0.93      9327\n",
      "   macro avg       0.95      0.86      0.89      9327\n",
      "weighted avg       0.94      0.93      0.93      9327\n",
      "\n"
     ]
    }
   ],
   "source": [
    "# Rapport de classification \n",
    "\n",
    "print(classification_report(y_test, \n",
    "                           y_pred2))"
   ]
  },
  {
   "cell_type": "markdown",
   "id": "caa1777f",
   "metadata": {},
   "source": [
    "Data pour le première modélisation  \n",
    "#_____________                 precision    recall  f1-score   support\n",
    "\n",
    "           0       0.93      0.99      0.96      7290\n",
    "           1       0.97      0.73      0.83      2037\n",
    "\n",
    "    accuracy                           0.94      9327\n",
    "   macro avg       0.95      0.86      0.90      9327\n",
    "weighted avg       0.94      0.94      0.93      9327\n"
   ]
  },
  {
   "cell_type": "markdown",
   "id": "47e54b21",
   "metadata": {},
   "source": [
    "En ne sélectionnant que les variables indépendantes dont le score d'importance est supérieur à 0,010, les performances du modèle (voir rapport de classification ci-dessus) n'ont pas été amélioré. Cette opération nous a quand même permise de réduire la complexité du modèle car nous sommes passés de 26 à 18 variables indépendantes tout en gardant les mêmes performances qu'avec le premier modèle.\n",
    "\n",
    "Dans ce qui suit, nous appliquerons la méthode de sous-échantillonnage afin de régler le problème de déséquilibre de classe.\n",
    "\n",
    "Le sous-échantionnage régle le problème de déséquilibre."
   ]
  },
  {
   "cell_type": "markdown",
   "id": "4ac12451",
   "metadata": {},
   "source": [
    "#### METHODE DE SOUS-ECHANTILLONNAGE"
   ]
  },
  {
   "cell_type": "markdown",
   "id": "91a3a622",
   "metadata": {},
   "source": [
    "Imaginons qu'on ait 100 prêts dont 20 sont en défaut de paiement et 80 ne le sont pas. La méthode de sous-échantillonnage consiste à échantillonner de façon aléatoire 20 prêts non-défauts et à les combiner avec les 20 prêts défauts de paiement pour former un ensemble de données équilibré."
   ]
  },
  {
   "cell_type": "code",
   "execution_count": 186,
   "id": "2d182ee5",
   "metadata": {},
   "outputs": [],
   "source": [
    "# Concaténation de X_train, y train et reinitialisation\n",
    "# reset = metttre à jour/réinitialiser\n",
    "\n",
    "df_train = pd.concat([X_train.reset_index(drop=True),\n",
    "                      y_train.reset_index(drop=True)],\n",
    "                     axis=1)"
   ]
  },
  {
   "cell_type": "code",
   "execution_count": 187,
   "id": "61b793c3",
   "metadata": {},
   "outputs": [
    {
     "data": {
      "text/html": [
       "<div>\n",
       "<style scoped>\n",
       "    .dataframe tbody tr th:only-of-type {\n",
       "        vertical-align: middle;\n",
       "    }\n",
       "\n",
       "    .dataframe tbody tr th {\n",
       "        vertical-align: top;\n",
       "    }\n",
       "\n",
       "    .dataframe thead th {\n",
       "        text-align: right;\n",
       "    }\n",
       "</style>\n",
       "<table border=\"1\" class=\"dataframe\">\n",
       "  <thead>\n",
       "    <tr style=\"text-align: right;\">\n",
       "      <th></th>\n",
       "      <th>person_age</th>\n",
       "      <th>person_income</th>\n",
       "      <th>person_emp_length</th>\n",
       "      <th>loan_amnt</th>\n",
       "      <th>loan_int_rate</th>\n",
       "      <th>loan_percent_income</th>\n",
       "      <th>cb_person_cred_hist_length</th>\n",
       "      <th>person_home_ownership_MORTGAGE</th>\n",
       "      <th>person_home_ownership_OTHER</th>\n",
       "      <th>person_home_ownership_OWN</th>\n",
       "      <th>...</th>\n",
       "      <th>loan_grade_A</th>\n",
       "      <th>loan_grade_B</th>\n",
       "      <th>loan_grade_C</th>\n",
       "      <th>loan_grade_D</th>\n",
       "      <th>loan_grade_E</th>\n",
       "      <th>loan_grade_F</th>\n",
       "      <th>loan_grade_G</th>\n",
       "      <th>cb_person_default_on_file_N</th>\n",
       "      <th>cb_person_default_on_file_Y</th>\n",
       "      <th>loan_status</th>\n",
       "    </tr>\n",
       "  </thead>\n",
       "  <tbody>\n",
       "    <tr>\n",
       "      <th>0</th>\n",
       "      <td>22</td>\n",
       "      <td>50004</td>\n",
       "      <td>6.0</td>\n",
       "      <td>2500</td>\n",
       "      <td>12.53</td>\n",
       "      <td>0.05</td>\n",
       "      <td>2</td>\n",
       "      <td>True</td>\n",
       "      <td>False</td>\n",
       "      <td>False</td>\n",
       "      <td>...</td>\n",
       "      <td>False</td>\n",
       "      <td>False</td>\n",
       "      <td>True</td>\n",
       "      <td>False</td>\n",
       "      <td>False</td>\n",
       "      <td>False</td>\n",
       "      <td>False</td>\n",
       "      <td>True</td>\n",
       "      <td>False</td>\n",
       "      <td>0</td>\n",
       "    </tr>\n",
       "    <tr>\n",
       "      <th>1</th>\n",
       "      <td>29</td>\n",
       "      <td>52884</td>\n",
       "      <td>3.0</td>\n",
       "      <td>5600</td>\n",
       "      <td>11.99</td>\n",
       "      <td>0.11</td>\n",
       "      <td>10</td>\n",
       "      <td>False</td>\n",
       "      <td>False</td>\n",
       "      <td>False</td>\n",
       "      <td>...</td>\n",
       "      <td>False</td>\n",
       "      <td>True</td>\n",
       "      <td>False</td>\n",
       "      <td>False</td>\n",
       "      <td>False</td>\n",
       "      <td>False</td>\n",
       "      <td>False</td>\n",
       "      <td>True</td>\n",
       "      <td>False</td>\n",
       "      <td>0</td>\n",
       "    </tr>\n",
       "    <tr>\n",
       "      <th>2</th>\n",
       "      <td>23</td>\n",
       "      <td>46800</td>\n",
       "      <td>7.0</td>\n",
       "      <td>9000</td>\n",
       "      <td>10.99</td>\n",
       "      <td>0.19</td>\n",
       "      <td>4</td>\n",
       "      <td>False</td>\n",
       "      <td>False</td>\n",
       "      <td>True</td>\n",
       "      <td>...</td>\n",
       "      <td>False</td>\n",
       "      <td>False</td>\n",
       "      <td>True</td>\n",
       "      <td>False</td>\n",
       "      <td>False</td>\n",
       "      <td>False</td>\n",
       "      <td>False</td>\n",
       "      <td>True</td>\n",
       "      <td>False</td>\n",
       "      <td>0</td>\n",
       "    </tr>\n",
       "    <tr>\n",
       "      <th>3</th>\n",
       "      <td>21</td>\n",
       "      <td>48000</td>\n",
       "      <td>5.0</td>\n",
       "      <td>7350</td>\n",
       "      <td>10.65</td>\n",
       "      <td>0.15</td>\n",
       "      <td>2</td>\n",
       "      <td>True</td>\n",
       "      <td>False</td>\n",
       "      <td>False</td>\n",
       "      <td>...</td>\n",
       "      <td>False</td>\n",
       "      <td>True</td>\n",
       "      <td>False</td>\n",
       "      <td>False</td>\n",
       "      <td>False</td>\n",
       "      <td>False</td>\n",
       "      <td>False</td>\n",
       "      <td>True</td>\n",
       "      <td>False</td>\n",
       "      <td>0</td>\n",
       "    </tr>\n",
       "    <tr>\n",
       "      <th>4</th>\n",
       "      <td>39</td>\n",
       "      <td>18300</td>\n",
       "      <td>0.0</td>\n",
       "      <td>1200</td>\n",
       "      <td>14.74</td>\n",
       "      <td>0.07</td>\n",
       "      <td>11</td>\n",
       "      <td>False</td>\n",
       "      <td>False</td>\n",
       "      <td>False</td>\n",
       "      <td>...</td>\n",
       "      <td>False</td>\n",
       "      <td>False</td>\n",
       "      <td>False</td>\n",
       "      <td>True</td>\n",
       "      <td>False</td>\n",
       "      <td>False</td>\n",
       "      <td>False</td>\n",
       "      <td>False</td>\n",
       "      <td>True</td>\n",
       "      <td>0</td>\n",
       "    </tr>\n",
       "    <tr>\n",
       "      <th>...</th>\n",
       "      <td>...</td>\n",
       "      <td>...</td>\n",
       "      <td>...</td>\n",
       "      <td>...</td>\n",
       "      <td>...</td>\n",
       "      <td>...</td>\n",
       "      <td>...</td>\n",
       "      <td>...</td>\n",
       "      <td>...</td>\n",
       "      <td>...</td>\n",
       "      <td>...</td>\n",
       "      <td>...</td>\n",
       "      <td>...</td>\n",
       "      <td>...</td>\n",
       "      <td>...</td>\n",
       "      <td>...</td>\n",
       "      <td>...</td>\n",
       "      <td>...</td>\n",
       "      <td>...</td>\n",
       "      <td>...</td>\n",
       "      <td>...</td>\n",
       "    </tr>\n",
       "    <tr>\n",
       "      <th>21755</th>\n",
       "      <td>35</td>\n",
       "      <td>37000</td>\n",
       "      <td>5.0</td>\n",
       "      <td>14000</td>\n",
       "      <td>7.88</td>\n",
       "      <td>0.38</td>\n",
       "      <td>8</td>\n",
       "      <td>False</td>\n",
       "      <td>False</td>\n",
       "      <td>False</td>\n",
       "      <td>...</td>\n",
       "      <td>True</td>\n",
       "      <td>False</td>\n",
       "      <td>False</td>\n",
       "      <td>False</td>\n",
       "      <td>False</td>\n",
       "      <td>False</td>\n",
       "      <td>False</td>\n",
       "      <td>True</td>\n",
       "      <td>False</td>\n",
       "      <td>1</td>\n",
       "    </tr>\n",
       "    <tr>\n",
       "      <th>21756</th>\n",
       "      <td>31</td>\n",
       "      <td>72000</td>\n",
       "      <td>15.0</td>\n",
       "      <td>12300</td>\n",
       "      <td>14.96</td>\n",
       "      <td>0.17</td>\n",
       "      <td>5</td>\n",
       "      <td>True</td>\n",
       "      <td>False</td>\n",
       "      <td>False</td>\n",
       "      <td>...</td>\n",
       "      <td>False</td>\n",
       "      <td>False</td>\n",
       "      <td>False</td>\n",
       "      <td>True</td>\n",
       "      <td>False</td>\n",
       "      <td>False</td>\n",
       "      <td>False</td>\n",
       "      <td>False</td>\n",
       "      <td>True</td>\n",
       "      <td>0</td>\n",
       "    </tr>\n",
       "    <tr>\n",
       "      <th>21757</th>\n",
       "      <td>37</td>\n",
       "      <td>42000</td>\n",
       "      <td>0.0</td>\n",
       "      <td>20000</td>\n",
       "      <td>14.25</td>\n",
       "      <td>0.48</td>\n",
       "      <td>17</td>\n",
       "      <td>False</td>\n",
       "      <td>False</td>\n",
       "      <td>False</td>\n",
       "      <td>...</td>\n",
       "      <td>False</td>\n",
       "      <td>False</td>\n",
       "      <td>False</td>\n",
       "      <td>False</td>\n",
       "      <td>True</td>\n",
       "      <td>False</td>\n",
       "      <td>False</td>\n",
       "      <td>False</td>\n",
       "      <td>True</td>\n",
       "      <td>1</td>\n",
       "    </tr>\n",
       "    <tr>\n",
       "      <th>21758</th>\n",
       "      <td>25</td>\n",
       "      <td>33000</td>\n",
       "      <td>3.0</td>\n",
       "      <td>10000</td>\n",
       "      <td>7.51</td>\n",
       "      <td>0.30</td>\n",
       "      <td>4</td>\n",
       "      <td>False</td>\n",
       "      <td>False</td>\n",
       "      <td>False</td>\n",
       "      <td>...</td>\n",
       "      <td>True</td>\n",
       "      <td>False</td>\n",
       "      <td>False</td>\n",
       "      <td>False</td>\n",
       "      <td>False</td>\n",
       "      <td>False</td>\n",
       "      <td>False</td>\n",
       "      <td>True</td>\n",
       "      <td>False</td>\n",
       "      <td>0</td>\n",
       "    </tr>\n",
       "    <tr>\n",
       "      <th>21759</th>\n",
       "      <td>26</td>\n",
       "      <td>77508</td>\n",
       "      <td>10.0</td>\n",
       "      <td>13500</td>\n",
       "      <td>12.87</td>\n",
       "      <td>0.17</td>\n",
       "      <td>2</td>\n",
       "      <td>False</td>\n",
       "      <td>False</td>\n",
       "      <td>False</td>\n",
       "      <td>...</td>\n",
       "      <td>False</td>\n",
       "      <td>False</td>\n",
       "      <td>True</td>\n",
       "      <td>False</td>\n",
       "      <td>False</td>\n",
       "      <td>False</td>\n",
       "      <td>False</td>\n",
       "      <td>False</td>\n",
       "      <td>True</td>\n",
       "      <td>1</td>\n",
       "    </tr>\n",
       "  </tbody>\n",
       "</table>\n",
       "<p>21760 rows × 27 columns</p>\n",
       "</div>"
      ],
      "text/plain": [
       "       person_age  person_income  person_emp_length  loan_amnt  loan_int_rate  \\\n",
       "0              22          50004                6.0       2500          12.53   \n",
       "1              29          52884                3.0       5600          11.99   \n",
       "2              23          46800                7.0       9000          10.99   \n",
       "3              21          48000                5.0       7350          10.65   \n",
       "4              39          18300                0.0       1200          14.74   \n",
       "...           ...            ...                ...        ...            ...   \n",
       "21755          35          37000                5.0      14000           7.88   \n",
       "21756          31          72000               15.0      12300          14.96   \n",
       "21757          37          42000                0.0      20000          14.25   \n",
       "21758          25          33000                3.0      10000           7.51   \n",
       "21759          26          77508               10.0      13500          12.87   \n",
       "\n",
       "       loan_percent_income  cb_person_cred_hist_length  \\\n",
       "0                     0.05                           2   \n",
       "1                     0.11                          10   \n",
       "2                     0.19                           4   \n",
       "3                     0.15                           2   \n",
       "4                     0.07                          11   \n",
       "...                    ...                         ...   \n",
       "21755                 0.38                           8   \n",
       "21756                 0.17                           5   \n",
       "21757                 0.48                          17   \n",
       "21758                 0.30                           4   \n",
       "21759                 0.17                           2   \n",
       "\n",
       "       person_home_ownership_MORTGAGE  person_home_ownership_OTHER  \\\n",
       "0                                True                        False   \n",
       "1                               False                        False   \n",
       "2                               False                        False   \n",
       "3                                True                        False   \n",
       "4                               False                        False   \n",
       "...                               ...                          ...   \n",
       "21755                           False                        False   \n",
       "21756                            True                        False   \n",
       "21757                           False                        False   \n",
       "21758                           False                        False   \n",
       "21759                           False                        False   \n",
       "\n",
       "       person_home_ownership_OWN  ...  loan_grade_A  loan_grade_B  \\\n",
       "0                          False  ...         False         False   \n",
       "1                          False  ...         False          True   \n",
       "2                           True  ...         False         False   \n",
       "3                          False  ...         False          True   \n",
       "4                          False  ...         False         False   \n",
       "...                          ...  ...           ...           ...   \n",
       "21755                      False  ...          True         False   \n",
       "21756                      False  ...         False         False   \n",
       "21757                      False  ...         False         False   \n",
       "21758                      False  ...          True         False   \n",
       "21759                      False  ...         False         False   \n",
       "\n",
       "       loan_grade_C  loan_grade_D  loan_grade_E  loan_grade_F  loan_grade_G  \\\n",
       "0              True         False         False         False         False   \n",
       "1             False         False         False         False         False   \n",
       "2              True         False         False         False         False   \n",
       "3             False         False         False         False         False   \n",
       "4             False          True         False         False         False   \n",
       "...             ...           ...           ...           ...           ...   \n",
       "21755         False         False         False         False         False   \n",
       "21756         False          True         False         False         False   \n",
       "21757         False         False          True         False         False   \n",
       "21758         False         False         False         False         False   \n",
       "21759          True         False         False         False         False   \n",
       "\n",
       "       cb_person_default_on_file_N  cb_person_default_on_file_Y  loan_status  \n",
       "0                             True                        False            0  \n",
       "1                             True                        False            0  \n",
       "2                             True                        False            0  \n",
       "3                             True                        False            0  \n",
       "4                            False                         True            0  \n",
       "...                            ...                          ...          ...  \n",
       "21755                         True                        False            1  \n",
       "21756                        False                         True            0  \n",
       "21757                        False                         True            1  \n",
       "21758                         True                        False            0  \n",
       "21759                        False                         True            1  \n",
       "\n",
       "[21760 rows x 27 columns]"
      ]
     },
     "execution_count": 187,
     "metadata": {},
     "output_type": "execute_result"
    }
   ],
   "source": [
    "df_train"
   ]
  },
  {
   "cell_type": "code",
   "execution_count": 188,
   "id": "f54a78fb",
   "metadata": {},
   "outputs": [
    {
     "data": {
      "text/plain": [
       "(21760, 27)"
      ]
     },
     "execution_count": 188,
     "metadata": {},
     "output_type": "execute_result"
    }
   ],
   "source": [
    "df_train.shape"
   ]
  },
  {
   "cell_type": "code",
   "execution_count": 172,
   "id": "9aaccdf2",
   "metadata": {},
   "outputs": [],
   "source": [
    "# Nombre de prêts dans chaque classe\n",
    "\n",
    "n_nondefauts, n_defauts = df_train[\"loan_status\"].value_counts()"
   ]
  },
  {
   "cell_type": "code",
   "execution_count": 189,
   "id": "7fdd15b1",
   "metadata": {},
   "outputs": [],
   "source": [
    "# dataFrame des prêts en défaut et dataFrame des prêts en non défauts\n",
    "\n",
    "defauts_df = df_train[df_train[\"loan_status\"] == 1]\n",
    "nondefauts_df = df_train[df_train[\"loan_status\"] == 0]"
   ]
  },
  {
   "cell_type": "code",
   "execution_count": 190,
   "id": "4639be16",
   "metadata": {},
   "outputs": [],
   "source": [
    "# Sous-échantillonnage de non défauts pour qu'ils soient en même nombre que le défauts\n",
    "nondefauts_df2 = nondefauts_df.sample(n_defauts)"
   ]
  },
  {
   "cell_type": "code",
   "execution_count": 191,
   "id": "267d68cf",
   "metadata": {},
   "outputs": [],
   "source": [
    "# Concaténation\n",
    "df_train2 = pd.concat([nondefauts_df2.reset_index(drop= True),\n",
    "            defauts_df.reset_index(drop= True)],\n",
    "            axis = 0)"
   ]
  },
  {
   "cell_type": "code",
   "execution_count": 192,
   "id": "652c8610",
   "metadata": {},
   "outputs": [
    {
     "data": {
      "text/html": [
       "<div>\n",
       "<style scoped>\n",
       "    .dataframe tbody tr th:only-of-type {\n",
       "        vertical-align: middle;\n",
       "    }\n",
       "\n",
       "    .dataframe tbody tr th {\n",
       "        vertical-align: top;\n",
       "    }\n",
       "\n",
       "    .dataframe thead th {\n",
       "        text-align: right;\n",
       "    }\n",
       "</style>\n",
       "<table border=\"1\" class=\"dataframe\">\n",
       "  <thead>\n",
       "    <tr style=\"text-align: right;\">\n",
       "      <th></th>\n",
       "      <th>person_age</th>\n",
       "      <th>person_income</th>\n",
       "      <th>person_emp_length</th>\n",
       "      <th>loan_amnt</th>\n",
       "      <th>loan_int_rate</th>\n",
       "      <th>loan_percent_income</th>\n",
       "      <th>cb_person_cred_hist_length</th>\n",
       "      <th>person_home_ownership_MORTGAGE</th>\n",
       "      <th>person_home_ownership_OTHER</th>\n",
       "      <th>person_home_ownership_OWN</th>\n",
       "      <th>...</th>\n",
       "      <th>loan_grade_A</th>\n",
       "      <th>loan_grade_B</th>\n",
       "      <th>loan_grade_C</th>\n",
       "      <th>loan_grade_D</th>\n",
       "      <th>loan_grade_E</th>\n",
       "      <th>loan_grade_F</th>\n",
       "      <th>loan_grade_G</th>\n",
       "      <th>cb_person_default_on_file_N</th>\n",
       "      <th>cb_person_default_on_file_Y</th>\n",
       "      <th>loan_status</th>\n",
       "    </tr>\n",
       "  </thead>\n",
       "  <tbody>\n",
       "    <tr>\n",
       "      <th>0</th>\n",
       "      <td>23</td>\n",
       "      <td>69935</td>\n",
       "      <td>2.0</td>\n",
       "      <td>7200</td>\n",
       "      <td>7.49</td>\n",
       "      <td>0.10</td>\n",
       "      <td>3</td>\n",
       "      <td>True</td>\n",
       "      <td>False</td>\n",
       "      <td>False</td>\n",
       "      <td>...</td>\n",
       "      <td>True</td>\n",
       "      <td>False</td>\n",
       "      <td>False</td>\n",
       "      <td>False</td>\n",
       "      <td>False</td>\n",
       "      <td>False</td>\n",
       "      <td>False</td>\n",
       "      <td>True</td>\n",
       "      <td>False</td>\n",
       "      <td>0</td>\n",
       "    </tr>\n",
       "    <tr>\n",
       "      <th>1</th>\n",
       "      <td>37</td>\n",
       "      <td>29808</td>\n",
       "      <td>4.0</td>\n",
       "      <td>7750</td>\n",
       "      <td>10.99</td>\n",
       "      <td>0.26</td>\n",
       "      <td>17</td>\n",
       "      <td>False</td>\n",
       "      <td>False</td>\n",
       "      <td>False</td>\n",
       "      <td>...</td>\n",
       "      <td>False</td>\n",
       "      <td>False</td>\n",
       "      <td>True</td>\n",
       "      <td>False</td>\n",
       "      <td>False</td>\n",
       "      <td>False</td>\n",
       "      <td>False</td>\n",
       "      <td>False</td>\n",
       "      <td>True</td>\n",
       "      <td>0</td>\n",
       "    </tr>\n",
       "    <tr>\n",
       "      <th>2</th>\n",
       "      <td>24</td>\n",
       "      <td>103000</td>\n",
       "      <td>8.0</td>\n",
       "      <td>21000</td>\n",
       "      <td>13.49</td>\n",
       "      <td>0.20</td>\n",
       "      <td>3</td>\n",
       "      <td>True</td>\n",
       "      <td>False</td>\n",
       "      <td>False</td>\n",
       "      <td>...</td>\n",
       "      <td>False</td>\n",
       "      <td>False</td>\n",
       "      <td>True</td>\n",
       "      <td>False</td>\n",
       "      <td>False</td>\n",
       "      <td>False</td>\n",
       "      <td>False</td>\n",
       "      <td>False</td>\n",
       "      <td>True</td>\n",
       "      <td>0</td>\n",
       "    </tr>\n",
       "    <tr>\n",
       "      <th>3</th>\n",
       "      <td>22</td>\n",
       "      <td>52000</td>\n",
       "      <td>2.0</td>\n",
       "      <td>25000</td>\n",
       "      <td>11.11</td>\n",
       "      <td>0.48</td>\n",
       "      <td>4</td>\n",
       "      <td>False</td>\n",
       "      <td>False</td>\n",
       "      <td>False</td>\n",
       "      <td>...</td>\n",
       "      <td>False</td>\n",
       "      <td>True</td>\n",
       "      <td>False</td>\n",
       "      <td>False</td>\n",
       "      <td>False</td>\n",
       "      <td>False</td>\n",
       "      <td>False</td>\n",
       "      <td>True</td>\n",
       "      <td>False</td>\n",
       "      <td>0</td>\n",
       "    </tr>\n",
       "    <tr>\n",
       "      <th>4</th>\n",
       "      <td>37</td>\n",
       "      <td>61260</td>\n",
       "      <td>6.0</td>\n",
       "      <td>4000</td>\n",
       "      <td>14.82</td>\n",
       "      <td>0.07</td>\n",
       "      <td>12</td>\n",
       "      <td>False</td>\n",
       "      <td>False</td>\n",
       "      <td>False</td>\n",
       "      <td>...</td>\n",
       "      <td>False</td>\n",
       "      <td>False</td>\n",
       "      <td>True</td>\n",
       "      <td>False</td>\n",
       "      <td>False</td>\n",
       "      <td>False</td>\n",
       "      <td>False</td>\n",
       "      <td>False</td>\n",
       "      <td>True</td>\n",
       "      <td>0</td>\n",
       "    </tr>\n",
       "    <tr>\n",
       "      <th>...</th>\n",
       "      <td>...</td>\n",
       "      <td>...</td>\n",
       "      <td>...</td>\n",
       "      <td>...</td>\n",
       "      <td>...</td>\n",
       "      <td>...</td>\n",
       "      <td>...</td>\n",
       "      <td>...</td>\n",
       "      <td>...</td>\n",
       "      <td>...</td>\n",
       "      <td>...</td>\n",
       "      <td>...</td>\n",
       "      <td>...</td>\n",
       "      <td>...</td>\n",
       "      <td>...</td>\n",
       "      <td>...</td>\n",
       "      <td>...</td>\n",
       "      <td>...</td>\n",
       "      <td>...</td>\n",
       "      <td>...</td>\n",
       "      <td>...</td>\n",
       "    </tr>\n",
       "    <tr>\n",
       "      <th>4704</th>\n",
       "      <td>24</td>\n",
       "      <td>75000</td>\n",
       "      <td>0.0</td>\n",
       "      <td>4975</td>\n",
       "      <td>6.76</td>\n",
       "      <td>0.07</td>\n",
       "      <td>4</td>\n",
       "      <td>False</td>\n",
       "      <td>False</td>\n",
       "      <td>False</td>\n",
       "      <td>...</td>\n",
       "      <td>True</td>\n",
       "      <td>False</td>\n",
       "      <td>False</td>\n",
       "      <td>False</td>\n",
       "      <td>False</td>\n",
       "      <td>False</td>\n",
       "      <td>False</td>\n",
       "      <td>True</td>\n",
       "      <td>False</td>\n",
       "      <td>1</td>\n",
       "    </tr>\n",
       "    <tr>\n",
       "      <th>4705</th>\n",
       "      <td>25</td>\n",
       "      <td>123144</td>\n",
       "      <td>2.0</td>\n",
       "      <td>12000</td>\n",
       "      <td>10.75</td>\n",
       "      <td>0.10</td>\n",
       "      <td>2</td>\n",
       "      <td>False</td>\n",
       "      <td>False</td>\n",
       "      <td>False</td>\n",
       "      <td>...</td>\n",
       "      <td>False</td>\n",
       "      <td>True</td>\n",
       "      <td>False</td>\n",
       "      <td>False</td>\n",
       "      <td>False</td>\n",
       "      <td>False</td>\n",
       "      <td>False</td>\n",
       "      <td>True</td>\n",
       "      <td>False</td>\n",
       "      <td>1</td>\n",
       "    </tr>\n",
       "    <tr>\n",
       "      <th>4706</th>\n",
       "      <td>35</td>\n",
       "      <td>37000</td>\n",
       "      <td>5.0</td>\n",
       "      <td>14000</td>\n",
       "      <td>7.88</td>\n",
       "      <td>0.38</td>\n",
       "      <td>8</td>\n",
       "      <td>False</td>\n",
       "      <td>False</td>\n",
       "      <td>False</td>\n",
       "      <td>...</td>\n",
       "      <td>True</td>\n",
       "      <td>False</td>\n",
       "      <td>False</td>\n",
       "      <td>False</td>\n",
       "      <td>False</td>\n",
       "      <td>False</td>\n",
       "      <td>False</td>\n",
       "      <td>True</td>\n",
       "      <td>False</td>\n",
       "      <td>1</td>\n",
       "    </tr>\n",
       "    <tr>\n",
       "      <th>4707</th>\n",
       "      <td>37</td>\n",
       "      <td>42000</td>\n",
       "      <td>0.0</td>\n",
       "      <td>20000</td>\n",
       "      <td>14.25</td>\n",
       "      <td>0.48</td>\n",
       "      <td>17</td>\n",
       "      <td>False</td>\n",
       "      <td>False</td>\n",
       "      <td>False</td>\n",
       "      <td>...</td>\n",
       "      <td>False</td>\n",
       "      <td>False</td>\n",
       "      <td>False</td>\n",
       "      <td>False</td>\n",
       "      <td>True</td>\n",
       "      <td>False</td>\n",
       "      <td>False</td>\n",
       "      <td>False</td>\n",
       "      <td>True</td>\n",
       "      <td>1</td>\n",
       "    </tr>\n",
       "    <tr>\n",
       "      <th>4708</th>\n",
       "      <td>26</td>\n",
       "      <td>77508</td>\n",
       "      <td>10.0</td>\n",
       "      <td>13500</td>\n",
       "      <td>12.87</td>\n",
       "      <td>0.17</td>\n",
       "      <td>2</td>\n",
       "      <td>False</td>\n",
       "      <td>False</td>\n",
       "      <td>False</td>\n",
       "      <td>...</td>\n",
       "      <td>False</td>\n",
       "      <td>False</td>\n",
       "      <td>True</td>\n",
       "      <td>False</td>\n",
       "      <td>False</td>\n",
       "      <td>False</td>\n",
       "      <td>False</td>\n",
       "      <td>False</td>\n",
       "      <td>True</td>\n",
       "      <td>1</td>\n",
       "    </tr>\n",
       "  </tbody>\n",
       "</table>\n",
       "<p>9418 rows × 27 columns</p>\n",
       "</div>"
      ],
      "text/plain": [
       "      person_age  person_income  person_emp_length  loan_amnt  loan_int_rate  \\\n",
       "0             23          69935                2.0       7200           7.49   \n",
       "1             37          29808                4.0       7750          10.99   \n",
       "2             24         103000                8.0      21000          13.49   \n",
       "3             22          52000                2.0      25000          11.11   \n",
       "4             37          61260                6.0       4000          14.82   \n",
       "...          ...            ...                ...        ...            ...   \n",
       "4704          24          75000                0.0       4975           6.76   \n",
       "4705          25         123144                2.0      12000          10.75   \n",
       "4706          35          37000                5.0      14000           7.88   \n",
       "4707          37          42000                0.0      20000          14.25   \n",
       "4708          26          77508               10.0      13500          12.87   \n",
       "\n",
       "      loan_percent_income  cb_person_cred_hist_length  \\\n",
       "0                    0.10                           3   \n",
       "1                    0.26                          17   \n",
       "2                    0.20                           3   \n",
       "3                    0.48                           4   \n",
       "4                    0.07                          12   \n",
       "...                   ...                         ...   \n",
       "4704                 0.07                           4   \n",
       "4705                 0.10                           2   \n",
       "4706                 0.38                           8   \n",
       "4707                 0.48                          17   \n",
       "4708                 0.17                           2   \n",
       "\n",
       "      person_home_ownership_MORTGAGE  person_home_ownership_OTHER  \\\n",
       "0                               True                        False   \n",
       "1                              False                        False   \n",
       "2                               True                        False   \n",
       "3                              False                        False   \n",
       "4                              False                        False   \n",
       "...                              ...                          ...   \n",
       "4704                           False                        False   \n",
       "4705                           False                        False   \n",
       "4706                           False                        False   \n",
       "4707                           False                        False   \n",
       "4708                           False                        False   \n",
       "\n",
       "      person_home_ownership_OWN  ...  loan_grade_A  loan_grade_B  \\\n",
       "0                         False  ...          True         False   \n",
       "1                         False  ...         False         False   \n",
       "2                         False  ...         False         False   \n",
       "3                         False  ...         False          True   \n",
       "4                         False  ...         False         False   \n",
       "...                         ...  ...           ...           ...   \n",
       "4704                      False  ...          True         False   \n",
       "4705                      False  ...         False          True   \n",
       "4706                      False  ...          True         False   \n",
       "4707                      False  ...         False         False   \n",
       "4708                      False  ...         False         False   \n",
       "\n",
       "      loan_grade_C  loan_grade_D  loan_grade_E  loan_grade_F  loan_grade_G  \\\n",
       "0            False         False         False         False         False   \n",
       "1             True         False         False         False         False   \n",
       "2             True         False         False         False         False   \n",
       "3            False         False         False         False         False   \n",
       "4             True         False         False         False         False   \n",
       "...            ...           ...           ...           ...           ...   \n",
       "4704         False         False         False         False         False   \n",
       "4705         False         False         False         False         False   \n",
       "4706         False         False         False         False         False   \n",
       "4707         False         False          True         False         False   \n",
       "4708          True         False         False         False         False   \n",
       "\n",
       "      cb_person_default_on_file_N  cb_person_default_on_file_Y  loan_status  \n",
       "0                            True                        False            0  \n",
       "1                           False                         True            0  \n",
       "2                           False                         True            0  \n",
       "3                            True                        False            0  \n",
       "4                           False                         True            0  \n",
       "...                           ...                          ...          ...  \n",
       "4704                         True                        False            1  \n",
       "4705                         True                        False            1  \n",
       "4706                         True                        False            1  \n",
       "4707                        False                         True            1  \n",
       "4708                        False                         True            1  \n",
       "\n",
       "[9418 rows x 27 columns]"
      ]
     },
     "execution_count": 192,
     "metadata": {},
     "output_type": "execute_result"
    }
   ],
   "source": [
    "df_train2"
   ]
  },
  {
   "cell_type": "code",
   "execution_count": 193,
   "id": "8dde47c4",
   "metadata": {},
   "outputs": [
    {
     "data": {
      "text/plain": [
       "(9418, 27)"
      ]
     },
     "execution_count": 193,
     "metadata": {},
     "output_type": "execute_result"
    }
   ],
   "source": [
    "df_train2.shape"
   ]
  },
  {
   "cell_type": "code",
   "execution_count": 194,
   "id": "e8a87cdc",
   "metadata": {},
   "outputs": [
    {
     "data": {
      "text/plain": [
       "loan_status\n",
       "0    4709\n",
       "1    4709\n",
       "Name: count, dtype: int64"
      ]
     },
     "execution_count": 194,
     "metadata": {},
     "output_type": "execute_result"
    }
   ],
   "source": [
    "# Vérification du nombre de prêts de chaque classe\n",
    "df_train2[\"loan_status\"].value_counts()"
   ]
  },
  {
   "cell_type": "code",
   "execution_count": 195,
   "id": "498f2439",
   "metadata": {},
   "outputs": [],
   "source": [
    "X2 = df_train2.drop(\"loan_status\", axis=1)\n",
    "Y2 = df_train2[\"loan_status\"]"
   ]
  },
  {
   "cell_type": "markdown",
   "id": "91b0ea8b",
   "metadata": {},
   "source": [
    "Construisons maintenant un modèle de forêt aléaroires suer ce nouvel ensemble de données sous-echantillionnées"
   ]
  },
  {
   "cell_type": "code",
   "execution_count": 196,
   "id": "77b0f26f",
   "metadata": {},
   "outputs": [],
   "source": [
    "# Data separtion\n",
    "X2_train, X2_test, Y2_train, Y2_test = train_test_split(X2,\n",
    "                                                       Y2,\n",
    "                                                       test_size = 0.3,\n",
    "                                                       random_state= seed)"
   ]
  },
  {
   "cell_type": "code",
   "execution_count": 197,
   "id": "fa98e8e9",
   "metadata": {},
   "outputs": [],
   "source": [
    "# Création du modèle\n",
    "rf3 = RandomForestClassifier(random_state = seed)"
   ]
  },
  {
   "cell_type": "code",
   "execution_count": 198,
   "id": "ff81366a",
   "metadata": {},
   "outputs": [
    {
     "data": {
      "text/html": [
       "<style>#sk-container-id-4 {color: black;}#sk-container-id-4 pre{padding: 0;}#sk-container-id-4 div.sk-toggleable {background-color: white;}#sk-container-id-4 label.sk-toggleable__label {cursor: pointer;display: block;width: 100%;margin-bottom: 0;padding: 0.3em;box-sizing: border-box;text-align: center;}#sk-container-id-4 label.sk-toggleable__label-arrow:before {content: \"▸\";float: left;margin-right: 0.25em;color: #696969;}#sk-container-id-4 label.sk-toggleable__label-arrow:hover:before {color: black;}#sk-container-id-4 div.sk-estimator:hover label.sk-toggleable__label-arrow:before {color: black;}#sk-container-id-4 div.sk-toggleable__content {max-height: 0;max-width: 0;overflow: hidden;text-align: left;background-color: #f0f8ff;}#sk-container-id-4 div.sk-toggleable__content pre {margin: 0.2em;color: black;border-radius: 0.25em;background-color: #f0f8ff;}#sk-container-id-4 input.sk-toggleable__control:checked~div.sk-toggleable__content {max-height: 200px;max-width: 100%;overflow: auto;}#sk-container-id-4 input.sk-toggleable__control:checked~label.sk-toggleable__label-arrow:before {content: \"▾\";}#sk-container-id-4 div.sk-estimator input.sk-toggleable__control:checked~label.sk-toggleable__label {background-color: #d4ebff;}#sk-container-id-4 div.sk-label input.sk-toggleable__control:checked~label.sk-toggleable__label {background-color: #d4ebff;}#sk-container-id-4 input.sk-hidden--visually {border: 0;clip: rect(1px 1px 1px 1px);clip: rect(1px, 1px, 1px, 1px);height: 1px;margin: -1px;overflow: hidden;padding: 0;position: absolute;width: 1px;}#sk-container-id-4 div.sk-estimator {font-family: monospace;background-color: #f0f8ff;border: 1px dotted black;border-radius: 0.25em;box-sizing: border-box;margin-bottom: 0.5em;}#sk-container-id-4 div.sk-estimator:hover {background-color: #d4ebff;}#sk-container-id-4 div.sk-parallel-item::after {content: \"\";width: 100%;border-bottom: 1px solid gray;flex-grow: 1;}#sk-container-id-4 div.sk-label:hover label.sk-toggleable__label {background-color: #d4ebff;}#sk-container-id-4 div.sk-serial::before {content: \"\";position: absolute;border-left: 1px solid gray;box-sizing: border-box;top: 0;bottom: 0;left: 50%;z-index: 0;}#sk-container-id-4 div.sk-serial {display: flex;flex-direction: column;align-items: center;background-color: white;padding-right: 0.2em;padding-left: 0.2em;position: relative;}#sk-container-id-4 div.sk-item {position: relative;z-index: 1;}#sk-container-id-4 div.sk-parallel {display: flex;align-items: stretch;justify-content: center;background-color: white;position: relative;}#sk-container-id-4 div.sk-item::before, #sk-container-id-4 div.sk-parallel-item::before {content: \"\";position: absolute;border-left: 1px solid gray;box-sizing: border-box;top: 0;bottom: 0;left: 50%;z-index: -1;}#sk-container-id-4 div.sk-parallel-item {display: flex;flex-direction: column;z-index: 1;position: relative;background-color: white;}#sk-container-id-4 div.sk-parallel-item:first-child::after {align-self: flex-end;width: 50%;}#sk-container-id-4 div.sk-parallel-item:last-child::after {align-self: flex-start;width: 50%;}#sk-container-id-4 div.sk-parallel-item:only-child::after {width: 0;}#sk-container-id-4 div.sk-dashed-wrapped {border: 1px dashed gray;margin: 0 0.4em 0.5em 0.4em;box-sizing: border-box;padding-bottom: 0.4em;background-color: white;}#sk-container-id-4 div.sk-label label {font-family: monospace;font-weight: bold;display: inline-block;line-height: 1.2em;}#sk-container-id-4 div.sk-label-container {text-align: center;}#sk-container-id-4 div.sk-container {/* jupyter's `normalize.less` sets `[hidden] { display: none; }` but bootstrap.min.css set `[hidden] { display: none !important; }` so we also need the `!important` here to be able to override the default hidden behavior on the sphinx rendered scikit-learn.org. See: https://github.com/scikit-learn/scikit-learn/issues/21755 */display: inline-block !important;position: relative;}#sk-container-id-4 div.sk-text-repr-fallback {display: none;}</style><div id=\"sk-container-id-4\" class=\"sk-top-container\"><div class=\"sk-text-repr-fallback\"><pre>RandomForestClassifier(random_state=123)</pre><b>In a Jupyter environment, please rerun this cell to show the HTML representation or trust the notebook. <br />On GitHub, the HTML representation is unable to render, please try loading this page with nbviewer.org.</b></div><div class=\"sk-container\" hidden><div class=\"sk-item\"><div class=\"sk-estimator sk-toggleable\"><input class=\"sk-toggleable__control sk-hidden--visually\" id=\"sk-estimator-id-4\" type=\"checkbox\" checked><label for=\"sk-estimator-id-4\" class=\"sk-toggleable__label sk-toggleable__label-arrow\">RandomForestClassifier</label><div class=\"sk-toggleable__content\"><pre>RandomForestClassifier(random_state=123)</pre></div></div></div></div></div>"
      ],
      "text/plain": [
       "RandomForestClassifier(random_state=123)"
      ]
     },
     "execution_count": 198,
     "metadata": {},
     "output_type": "execute_result"
    }
   ],
   "source": [
    "# Entraînement du modèle\n",
    "rf3.fit(X2_train,\n",
    "        Y2_train)"
   ]
  },
  {
   "cell_type": "code",
   "execution_count": 199,
   "id": "a3a12589",
   "metadata": {},
   "outputs": [],
   "source": [
    "# Prédictions\n",
    "Y2_pred3 = rf3.predict(X2_test)"
   ]
  },
  {
   "cell_type": "code",
   "execution_count": 200,
   "id": "f71572a1",
   "metadata": {},
   "outputs": [
    {
     "name": "stdout",
     "output_type": "stream",
     "text": [
      "              precision    recall  f1-score   support\n",
      "\n",
      "           0       0.51      0.51      0.51      1422\n",
      "           1       0.50      0.49      0.50      1404\n",
      "\n",
      "    accuracy                           0.50      2826\n",
      "   macro avg       0.50      0.50      0.50      2826\n",
      "weighted avg       0.50      0.50      0.50      2826\n",
      "\n"
     ]
    }
   ],
   "source": [
    "# Rapport de classification\n",
    "print(classification_report(Y2_test, Y2_pred3))"
   ]
  },
  {
   "cell_type": "markdown",
   "id": "660221de",
   "metadata": {},
   "source": [
    "Ce rapport de classification indique le modèle if3 prédit les défauts de paiement de manière beaucoup plus précise que les précédents modèles. En effet, 78% des prêts en défauts de paiement ont été correctement prédit contre 73% pour les deux modèles précédents.\n"
   ]
  },
  {
   "cell_type": "markdown",
   "id": "e8b43801",
   "metadata": {},
   "source": [
    "#### CONCLUSION"
   ]
  },
  {
   "cell_type": "markdown",
   "id": "5eb2f12e",
   "metadata": {},
   "source": [
    "Dans ce projet, nous avons traité un problème de classification. De plus, ce projet nous a permis d'ajouter plusieurs techniques utiles à notre boîte à outils de Machine Learning. Notre objectif était de construire un modèle qui prédit si le débiteur d'une banque sera en défaut de paiement ou pas. Un tel modèle est une véritable aide à la décision et permet aux banques de mieux gérer le risque de crédit.\n",
    "\n",
    "Comment rechercher les hyperparamètres optimaux d'un modèle ? Ce sera l'objet principal du prochain projet."
   ]
  },
  {
   "cell_type": "code",
   "execution_count": null,
   "id": "5d24fdbb",
   "metadata": {},
   "outputs": [],
   "source": []
  }
 ],
 "metadata": {
  "kernelspec": {
   "display_name": "Python 3 (ipykernel)",
   "language": "python",
   "name": "python3"
  },
  "language_info": {
   "codemirror_mode": {
    "name": "ipython",
    "version": 3
   },
   "file_extension": ".py",
   "mimetype": "text/x-python",
   "name": "python",
   "nbconvert_exporter": "python",
   "pygments_lexer": "ipython3",
   "version": "3.10.0"
  }
 },
 "nbformat": 4,
 "nbformat_minor": 5
}
