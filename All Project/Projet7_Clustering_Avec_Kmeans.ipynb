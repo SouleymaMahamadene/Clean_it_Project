{
 "cells": [
  {
   "cell_type": "markdown",
   "id": "a2faab72",
   "metadata": {},
   "source": [
    "# INTRODUCTION"
   ]
  },
  {
   "cell_type": "markdown",
   "id": "9f31577e",
   "metadata": {},
   "source": [
    "Comprenez le mot clustering comme regroupement en classes. Le Clustering est une technique d'apprentissage automatique non-supervisé dont l'objectif est de découvrir les groupes sous-jacents (ou \"clusters\") dans un ensemble de données. \n",
    "\n",
    "Ici on ne dispose pas de données étiquetées comme c'est le cas dans l'apprentissage automatique supervisé. L'algorithme regroupe les objets similaires en termes de leurs caractéristiques. Dans chaque groupe, on a donc des observations similaires mais les groupes sont distincts les uns des autres.\n",
    "\n",
    "Cette technique est très utilisée dans le domaine du Marketing pour réaliser la segmentation de clientèle. La Segmentation est une pratique de partitionnement des clients en groupes d'individus ayant les mêmes caractéristiques (On utilise souvent les données démographiques des clients car elles sont plus faciles à collecter). Cette stratégie permet de comprendre le comportement des clients, sur la base de leurs données historiques, et donc d'utiliser efficacement les ressources allouées au Marketing.\n",
    "\n",
    "Dans cette section, vous apprendrez à utiliser l'algorithme KMeans qui est le plus populaire pour les tâches de clustering."
   ]
  },
  {
   "cell_type": "markdown",
   "id": "2c388f2d",
   "metadata": {},
   "source": [
    "# INITIATION A KMEANS"
   ]
  },
  {
   "cell_type": "markdown",
   "id": "a020dd49",
   "metadata": {},
   "source": [
    "Le but de cette section est d'explorer l'algorithme de partitionnement automatique KMeans sur des jeux de données synthétiques 2D.\n",
    "Cet exercice est inspiré en partie de cette page de la documentation scikit-learn. 30 La théorie mathématique derrière l'algorithme KMeans est décrite dans cette page31"
   ]
  },
  {
   "cell_type": "code",
   "execution_count": 310,
   "id": "2d5af9c3",
   "metadata": {},
   "outputs": [],
   "source": [
    "import warnings\n",
    "\n",
    "# Ignorer tous les avertissements\n",
    "warnings.filterwarnings(\"ignore\")"
   ]
  },
  {
   "cell_type": "code",
   "execution_count": 311,
   "id": "3e55bd6f",
   "metadata": {},
   "outputs": [],
   "source": [
    "# Données synthétiques 2D\n",
    "from sklearn import datasets\n",
    "import numpy as np\n",
    "n_samples = 500\n",
    "\n",
    "# blob isotropes\n",
    "random_data = datasets.make_blobs(n_samples=n_samples,\n",
    "                                 random_state=8)"
   ]
  },
  {
   "cell_type": "markdown",
   "id": "346e1fae",
   "metadata": {},
   "source": [
    "En machine learning, le terme \"blob isotrope\" fait référence à un type particulier de distribution de données utilisé souvent pour des tests ou des démonstrations, notamment dans des algorithmes de clustering ou de classification. Voici ce que cela signifie en détail sur chat gpt"
   ]
  },
  {
   "cell_type": "markdown",
   "id": "ed4e3fc2",
   "metadata": {},
   "source": [
    "Visualisons le jeu de données à partionner à l'aide d'un graphique de nuage de point."
   ]
  },
  {
   "cell_type": "code",
   "execution_count": 312,
   "id": "ae89a975",
   "metadata": {},
   "outputs": [],
   "source": [
    "import matplotlib.pyplot as plt"
   ]
  },
  {
   "cell_type": "code",
   "execution_count": 313,
   "id": "50131e73",
   "metadata": {},
   "outputs": [
    {
     "data": {
      "image/png": "[encoded data removed]",
      "text/plain": [
       "<Figure size 640x480 with 1 Axes>"
      ]
     },
     "metadata": {},
     "output_type": "display_data"
    }
   ],
   "source": [
    "X, Y = random_data\n",
    "\n",
    "plt.figure()\n",
    "plt.scatter(X[:,0],\n",
    "           X[:,1],\n",
    "           s=10)\n",
    "\n",
    "plt.title(\"dataset\")\n",
    "plt.show()"
   ]
  },
  {
   "cell_type": "markdown",
   "id": "89358d15",
   "metadata": {},
   "source": [
    "Supposons que random_data est un tuple contenant deux éléments : les coordonnées X et Y. \n",
    "\n",
    "Cette ligne décompose le tuple random_data en deux variables, X et Y. Généralement, X et Y représentent respectivement les coordonnées des points de données. Si random_data provient d'une fonction comme make_blobs, X serait un tableau NumPy avec les coordonnées des points, et Y serait un tableau contenant les labels des clusters (mais ici, on n'utilise pas Y dans le scatter plot).\n",
    "\n",
    "\n",
    "Décomposition des Données :\n",
    "\n",
    "X = random_data assigne les données générées à X. Ici, nous n'avons pas de Y séparé car nous n'utilisons que les coordonnées pour le scatter plot.\n",
    "\n",
    "\n",
    "Création du Scatter Plot :\n",
    "plt.scatter(X[:, 0], X[:, 1], s=10) crée un graphique de dispersion où les points sont définis par leurs coordonnées en première et deuxième dimension avec une taille de 10.\n"
   ]
  },
  {
   "cell_type": "markdown",
   "id": "d11fa535",
   "metadata": {},
   "source": [
    "Le nuage de point ci-dessus nous suggère trois (3) groupes distincts. Appliquons alors l'algorithme Kmeans avec 3 clusters."
   ]
  },
  {
   "cell_type": "markdown",
   "id": "22168d26",
   "metadata": {},
   "source": [
    "# EXECUTION DE KMEANS"
   ]
  },
  {
   "cell_type": "code",
   "execution_count": 314,
   "id": "65fedaa7",
   "metadata": {},
   "outputs": [],
   "source": [
    "# Importation du modèle Kmeans\n",
    "\n",
    "from sklearn.cluster import KMeans"
   ]
  },
  {
   "cell_type": "code",
   "execution_count": 315,
   "id": "f842ea02",
   "metadata": {},
   "outputs": [],
   "source": [
    "# Création d'un modèle Kmeans avec 3 Clusters\n",
    "\n",
    "model = KMeans(n_clusters=3)"
   ]
  },
  {
   "cell_type": "markdown",
   "id": "56a0f739",
   "metadata": {},
   "source": [
    "Le code model = KMeans(n_clusters=3) crée une instance de l'algorithme de clustering K-means avec un paramètre spécifiant le nombre de clusters à trouver dans les données. Voici une explication détaillée "
   ]
  },
  {
   "cell_type": "code",
   "execution_count": 316,
   "id": "69abe89b",
   "metadata": {},
   "outputs": [
    {
     "data": {
      "text/html": [
       "<style>#sk-container-id-19 {color: black;}#sk-container-id-19 pre{padding: 0;}#sk-container-id-19 div.sk-toggleable {background-color: white;}#sk-container-id-19 label.sk-toggleable__label {cursor: pointer;display: block;width: 100%;margin-bottom: 0;padding: 0.3em;box-sizing: border-box;text-align: center;}#sk-container-id-19 label.sk-toggleable__label-arrow:before {content: \"▸\";float: left;margin-right: 0.25em;color: #696969;}#sk-container-id-19 label.sk-toggleable__label-arrow:hover:before {color: black;}#sk-container-id-19 div.sk-estimator:hover label.sk-toggleable__label-arrow:before {color: black;}#sk-container-id-19 div.sk-toggleable__content {max-height: 0;max-width: 0;overflow: hidden;text-align: left;background-color: #f0f8ff;}#sk-container-id-19 div.sk-toggleable__content pre {margin: 0.2em;color: black;border-radius: 0.25em;background-color: #f0f8ff;}#sk-container-id-19 input.sk-toggleable__control:checked~div.sk-toggleable__content {max-height: 200px;max-width: 100%;overflow: auto;}#sk-container-id-19 input.sk-toggleable__control:checked~label.sk-toggleable__label-arrow:before {content: \"▾\";}#sk-container-id-19 div.sk-estimator input.sk-toggleable__control:checked~label.sk-toggleable__label {background-color: #d4ebff;}#sk-container-id-19 div.sk-label input.sk-toggleable__control:checked~label.sk-toggleable__label {background-color: #d4ebff;}#sk-container-id-19 input.sk-hidden--visually {border: 0;clip: rect(1px 1px 1px 1px);clip: rect(1px, 1px, 1px, 1px);height: 1px;margin: -1px;overflow: hidden;padding: 0;position: absolute;width: 1px;}#sk-container-id-19 div.sk-estimator {font-family: monospace;background-color: #f0f8ff;border: 1px dotted black;border-radius: 0.25em;box-sizing: border-box;margin-bottom: 0.5em;}#sk-container-id-19 div.sk-estimator:hover {background-color: #d4ebff;}#sk-container-id-19 div.sk-parallel-item::after {content: \"\";width: 100%;border-bottom: 1px solid gray;flex-grow: 1;}#sk-container-id-19 div.sk-label:hover label.sk-toggleable__label {background-color: #d4ebff;}#sk-container-id-19 div.sk-serial::before {content: \"\";position: absolute;border-left: 1px solid gray;box-sizing: border-box;top: 0;bottom: 0;left: 50%;z-index: 0;}#sk-container-id-19 div.sk-serial {display: flex;flex-direction: column;align-items: center;background-color: white;padding-right: 0.2em;padding-left: 0.2em;position: relative;}#sk-container-id-19 div.sk-item {position: relative;z-index: 1;}#sk-container-id-19 div.sk-parallel {display: flex;align-items: stretch;justify-content: center;background-color: white;position: relative;}#sk-container-id-19 div.sk-item::before, #sk-container-id-19 div.sk-parallel-item::before {content: \"\";position: absolute;border-left: 1px solid gray;box-sizing: border-box;top: 0;bottom: 0;left: 50%;z-index: -1;}#sk-container-id-19 div.sk-parallel-item {display: flex;flex-direction: column;z-index: 1;position: relative;background-color: white;}#sk-container-id-19 div.sk-parallel-item:first-child::after {align-self: flex-end;width: 50%;}#sk-container-id-19 div.sk-parallel-item:last-child::after {align-self: flex-start;width: 50%;}#sk-container-id-19 div.sk-parallel-item:only-child::after {width: 0;}#sk-container-id-19 div.sk-dashed-wrapped {border: 1px dashed gray;margin: 0 0.4em 0.5em 0.4em;box-sizing: border-box;padding-bottom: 0.4em;background-color: white;}#sk-container-id-19 div.sk-label label {font-family: monospace;font-weight: bold;display: inline-block;line-height: 1.2em;}#sk-container-id-19 div.sk-label-container {text-align: center;}#sk-container-id-19 div.sk-container {/* jupyter's `normalize.less` sets `[hidden] { display: none; }` but bootstrap.min.css set `[hidden] { display: none !important; }` so we also need the `!important` here to be able to override the default hidden behavior on the sphinx rendered scikit-learn.org. See: https://github.com/scikit-learn/scikit-learn/issues/21755 */display: inline-block !important;position: relative;}#sk-container-id-19 div.sk-text-repr-fallback {display: none;}</style><div id=\"sk-container-id-19\" class=\"sk-top-container\"><div class=\"sk-text-repr-fallback\"><pre>KMeans(n_clusters=3)</pre><b>In a Jupyter environment, please rerun this cell to show the HTML representation or trust the notebook. <br />On GitHub, the HTML representation is unable to render, please try loading this page with nbviewer.org.</b></div><div class=\"sk-container\" hidden><div class=\"sk-item\"><div class=\"sk-estimator sk-toggleable\"><input class=\"sk-toggleable__control sk-hidden--visually\" id=\"sk-estimator-id-19\" type=\"checkbox\" checked><label for=\"sk-estimator-id-19\" class=\"sk-toggleable__label sk-toggleable__label-arrow\">KMeans</label><div class=\"sk-toggleable__content\"><pre>KMeans(n_clusters=3)</pre></div></div></div></div></div>"
      ],
      "text/plain": [
       "KMeans(n_clusters=3)"
      ]
     },
     "execution_count": 316,
     "metadata": {},
     "output_type": "execute_result"
    }
   ],
   "source": [
    "# Entraînement du modèle \n",
    "model.fit(X)"
   ]
  },
  {
   "cell_type": "code",
   "execution_count": 317,
   "id": "2fab6d23",
   "metadata": {},
   "outputs": [],
   "source": [
    "# Clusters (labels)\n",
    "labels = model.predict(X)"
   ]
  },
  {
   "cell_type": "code",
   "execution_count": 318,
   "id": "90e4dcf4",
   "metadata": {},
   "outputs": [
    {
     "name": "stdout",
     "output_type": "stream",
     "text": [
      "[1 0 0 2 2 2 0 2 0 0 0 2 2 1 2 1 2 1 1 2 0 1 0 0 1 2 2 1 0 0 2 1 1 0 2 2 0\n",
      " 1 1 0 1 0 2 0 2 2 0 1 0 0 2 0 1 0 1 0 2 0 1 0 0 2 0 1 2 1 2 2 2 2 2 0 2 0\n",
      " 2 2 2 1 2 2 2 0 0 0 0 2 1 2 1 2 2 0 0 2 2 1 1 2 0 0 1 2 1 0 2 0 1 0 2 0 0\n",
      " 0 2 0 2 0 1 0 0 2 0 1 2 0 2 1 0 0 1 2 2 1 2 2 2 0 1 1 0 1 0 2 1 1 1 2 0 1\n",
      " 1 0 1 2 1 1 1 0 2 2 0 0 0 1 2 1 1 2 0 0 2 1 1 1 0 1 1 1 1 0 0 2 0 2 1 1 2\n",
      " 0 1 2 1 2 2 2 2 2 1 1 2 2 0 0 2 0 1 1 2 2 1 0 1 1 0 1 0 0 2 0 0 1 1 0 2 1\n",
      " 1 0 2 1 2 2 1 2 1 0 2 0 0 0 2 0 1 0 1 1 2 1 2 2 2 0 0 0 1 2 1 1 0 0 0 2 2\n",
      " 0 2 0 2 1 1 0 0 1 1 2 0 1 1 0 0 2 1 0 0 2 2 2 2 0 1 2 1 2 0 0 1 2 0 1 0 2\n",
      " 1 2 2 1 0 0 1 2 2 1 2 2 2 2 0 1 1 2 1 1 2 1 1 0 0 1 0 2 0 2 0 2 1 0 2 2 2\n",
      " 0 1 2 2 0 2 1 0 1 1 0 2 1 2 0 0 1 2 2 0 2 2 2 2 0 0 2 1 0 0 2 2 0 0 1 2 2\n",
      " 0 2 2 0 2 2 0 0 0 2 2 2 1 1 2 2 1 0 0 1 0 1 1 1 0 1 0 0 2 1 1 1 1 2 0 2 2\n",
      " 1 0 1 2 2 0 1 1 1 0 1 2 1 1 1 0 1 0 0 2 0 0 1 1 2 1 2 2 0 1 2 2 0 2 1 1 0\n",
      " 1 1 2 0 2 1 1 1 1 2 2 0 1 2 1 0 0 0 1 0 1 1 1 1 1 2 0 1 0 0 0 0 1 1 1 0 2\n",
      " 0 1 1 1 1 0 0 0 1 1 2 1 1 0 2 2 0 0 1]\n"
     ]
    }
   ],
   "source": [
    "print(labels)"
   ]
  },
  {
   "cell_type": "markdown",
   "id": "0113cc89",
   "metadata": {},
   "source": [
    "Nous pouvons mieux visualiser les clusters crées:"
   ]
  },
  {
   "cell_type": "code",
   "execution_count": 319,
   "id": "c70aea92",
   "metadata": {},
   "outputs": [
    {
     "data": {
      "image/png": "[encoded data removed]",
      "text/plain": [
       "<Figure size 640x480 with 1 Axes>"
      ]
     },
     "metadata": {},
     "output_type": "display_data"
    }
   ],
   "source": [
    "plt.scatter(X[:,0],\n",
    "           X[:,1],\n",
    "           s=10,\n",
    "           c=labels)\n",
    "\n",
    "plt.show()"
   ]
  },
  {
   "cell_type": "markdown",
   "id": "f92d75e4",
   "metadata": {},
   "source": [
    "La fonction scatter de la bibliothèque matplotlib.pyplot en Python est utilisée pour créer un graphique de dispersion (scatter plot). Un graphique de dispersion est un type de graphique qui utilise des coordonnées cartésiennes pour afficher des valeurs de deux variables pour un ensemble de données."
   ]
  },
  {
   "cell_type": "markdown",
   "id": "7ac6fd8e",
   "metadata": {},
   "source": [
    "On peut aussi afficher les centoides(Centre de chaque cluster) dans le graphique:"
   ]
  },
  {
   "cell_type": "code",
   "execution_count": 320,
   "id": "9b22575d",
   "metadata": {},
   "outputs": [],
   "source": [
    "# Valeurs de centroides\n",
    "centroids = model.cluster_centers_"
   ]
  },
  {
   "cell_type": "code",
   "execution_count": 321,
   "id": "0ba7ed6e",
   "metadata": {},
   "outputs": [],
   "source": [
    "# Centroidedu première groupe (cluster 0 )\n",
    "\n",
    "centroids_x = centroids[:,0]"
   ]
  },
  {
   "cell_type": "code",
   "execution_count": 322,
   "id": "2eb60725",
   "metadata": {},
   "outputs": [
    {
     "data": {
      "text/plain": [
       "array([ 7.38405826, -5.36091581,  7.51413324])"
      ]
     },
     "execution_count": 322,
     "metadata": {},
     "output_type": "execute_result"
    }
   ],
   "source": [
    "centroids_x"
   ]
  },
  {
   "cell_type": "code",
   "execution_count": 323,
   "id": "85468f66",
   "metadata": {},
   "outputs": [],
   "source": [
    "centroids_y = centroids[:, 1]"
   ]
  },
  {
   "cell_type": "code",
   "execution_count": 324,
   "id": "92782086",
   "metadata": {},
   "outputs": [
    {
     "data": {
      "text/plain": [
       "array([ 9.40230612, -9.72065583,  0.71257781])"
      ]
     },
     "execution_count": 324,
     "metadata": {},
     "output_type": "execute_result"
    }
   ],
   "source": [
    "centroids_y"
   ]
  },
  {
   "cell_type": "code",
   "execution_count": 325,
   "id": "fafc56a2",
   "metadata": {},
   "outputs": [
    {
     "data": {
      "image/png": "[encoded data removed]",
      "text/plain": [
       "<Figure size 640x480 with 1 Axes>"
      ]
     },
     "metadata": {},
     "output_type": "display_data"
    }
   ],
   "source": [
    "# Nuage de points avec les centroides\n",
    "plt.scatter(X[:,0],\n",
    "           X[:, 1],\n",
    "           s=10,\n",
    "           c=labels,\n",
    "           alpha=0.5)\n",
    "\n",
    "plt.scatter(centroids_x,\n",
    "           centroids_y,\n",
    "           marker= \"D\",\n",
    "           s=50)\n",
    "plt.show()"
   ]
  },
  {
   "cell_type": "code",
   "execution_count": 326,
   "id": "460dd598",
   "metadata": {},
   "outputs": [
    {
     "data": {
      "text/plain": [
       "<matplotlib.collections.PathCollection at 0x1c4eb33f160>"
      ]
     },
     "execution_count": 326,
     "metadata": {},
     "output_type": "execute_result"
    },
    {
     "data": {
      "image/png": "[encoded data removed]",
      "text/plain": [
       "<Figure size 640x480 with 1 Axes>"
      ]
     },
     "metadata": {},
     "output_type": "display_data"
    }
   ],
   "source": [
    "plt.scatter(centroids_x,\n",
    "           centroids_y,\n",
    "           marker= \"H\",\n",
    "           s=50)\n",
    "# H pour hexagone"
   ]
  },
  {
   "cell_type": "markdown",
   "id": "810dfc56",
   "metadata": {},
   "source": [
    "Les centroïdes sont bel et bien au centre des clusters ce qui montre que la segmentation est de bonne qualité. Ceci est naturellement dû au fait que le nombre de clusters à choisir était très évident vu qu'il s'agit de données synthétiques. Dans la réalité, on est confronté à de réelles données et le nombre de clusters n'est pas toujours évident à déterminer."
   ]
  },
  {
   "cell_type": "markdown",
   "id": "b3b715ea",
   "metadata": {},
   "source": [
    "Les centroides sont les représentants de chaque cluster. Si vous faites par exemple une segmentation de la clientèle de vote entreprise, vous considérerez que les caractéristiques de chaque centroide sont représentatives des caratéristiques de tous les clients du cluster de ce centroide. Puisque vous ne pouvez pas connaître personnellement chacun de vos clients, la segmentation vous donne une idée des différents groupes de clients que vous avez. Ainsi, vous pouvez adresser des campagnes marketing ciblées pour chacun de ces groupes."
   ]
  },
  {
   "cell_type": "markdown",
   "id": "f4881acf",
   "metadata": {},
   "source": [
    "# SEGMENTATION DES DONNEES D'IRIS"
   ]
  },
  {
   "cell_type": "markdown",
   "id": "f041aeb7",
   "metadata": {},
   "source": [
    "L'ensemble de données Iris contient 3 classes de 50 instances chacune, chaque classe se référant à un type de plante d'iris. Une classe est séparable linéairement des 2 autres ; ces denières ne sont pas linéairement séparables les unes des autres (Source : Michael Marshall (MARSHALL%PLU '@' io.arc.nasa.gov))."
   ]
  },
  {
   "cell_type": "code",
   "execution_count": 327,
   "id": "77f6bb20",
   "metadata": {},
   "outputs": [],
   "source": [
    "import pandas as pd"
   ]
  },
  {
   "cell_type": "code",
   "execution_count": 328,
   "id": "f86341fd",
   "metadata": {},
   "outputs": [],
   "source": [
    "iris_names = ['sepal_length', 'sepal_width', 'petal_length','petal_width' , 'class']"
   ]
  },
  {
   "cell_type": "code",
   "execution_count": 329,
   "id": "2ef5b273",
   "metadata": {},
   "outputs": [],
   "source": [
    "file_path = \"E:/DSTI/Cours/Machine_Learning_Python_Lab/ML_Livre_JA/iris.data\""
   ]
  },
  {
   "cell_type": "code",
   "execution_count": 330,
   "id": "f4a1d301",
   "metadata": {},
   "outputs": [],
   "source": [
    "iris = pd.read_csv(file_path, \n",
    "                   header=None,\n",
    "                  names= iris_names)"
   ]
  },
  {
   "cell_type": "markdown",
   "id": "7428eca1",
   "metadata": {},
   "source": [
    "c'est quoi header=None?\n",
    "\n",
    "Le paramètre header=None est utilisé dans la fonction read_csv de la bibliothèque pandas pour indiquer que le fichier CSV à lire n'a pas de ligne d'en-tête. Voici une explication détaillée :"
   ]
  },
  {
   "cell_type": "code",
   "execution_count": 331,
   "id": "ec173bae",
   "metadata": {},
   "outputs": [
    {
     "data": {
      "text/html": [
       "<div>\n",
       "<style scoped>\n",
       "    .dataframe tbody tr th:only-of-type {\n",
       "        vertical-align: middle;\n",
       "    }\n",
       "\n",
       "    .dataframe tbody tr th {\n",
       "        vertical-align: top;\n",
       "    }\n",
       "\n",
       "    .dataframe thead th {\n",
       "        text-align: right;\n",
       "    }\n",
       "</style>\n",
       "<table border=\"1\" class=\"dataframe\">\n",
       "  <thead>\n",
       "    <tr style=\"text-align: right;\">\n",
       "      <th></th>\n",
       "      <th>sepal_length</th>\n",
       "      <th>sepal_width</th>\n",
       "      <th>petal_length</th>\n",
       "      <th>petal_width</th>\n",
       "      <th>class</th>\n",
       "    </tr>\n",
       "  </thead>\n",
       "  <tbody>\n",
       "    <tr>\n",
       "      <th>0</th>\n",
       "      <td>5.1</td>\n",
       "      <td>3.5</td>\n",
       "      <td>1.4</td>\n",
       "      <td>0.2</td>\n",
       "      <td>Iris-setosa</td>\n",
       "    </tr>\n",
       "    <tr>\n",
       "      <th>1</th>\n",
       "      <td>4.9</td>\n",
       "      <td>3.0</td>\n",
       "      <td>1.4</td>\n",
       "      <td>0.2</td>\n",
       "      <td>Iris-setosa</td>\n",
       "    </tr>\n",
       "    <tr>\n",
       "      <th>2</th>\n",
       "      <td>4.7</td>\n",
       "      <td>3.2</td>\n",
       "      <td>1.3</td>\n",
       "      <td>0.2</td>\n",
       "      <td>Iris-setosa</td>\n",
       "    </tr>\n",
       "    <tr>\n",
       "      <th>3</th>\n",
       "      <td>4.6</td>\n",
       "      <td>3.1</td>\n",
       "      <td>1.5</td>\n",
       "      <td>0.2</td>\n",
       "      <td>Iris-setosa</td>\n",
       "    </tr>\n",
       "    <tr>\n",
       "      <th>4</th>\n",
       "      <td>5.0</td>\n",
       "      <td>3.6</td>\n",
       "      <td>1.4</td>\n",
       "      <td>0.2</td>\n",
       "      <td>Iris-setosa</td>\n",
       "    </tr>\n",
       "  </tbody>\n",
       "</table>\n",
       "</div>"
      ],
      "text/plain": [
       "   sepal_length  sepal_width  petal_length  petal_width        class\n",
       "0           5.1          3.5           1.4          0.2  Iris-setosa\n",
       "1           4.9          3.0           1.4          0.2  Iris-setosa\n",
       "2           4.7          3.2           1.3          0.2  Iris-setosa\n",
       "3           4.6          3.1           1.5          0.2  Iris-setosa\n",
       "4           5.0          3.6           1.4          0.2  Iris-setosa"
      ]
     },
     "execution_count": 331,
     "metadata": {},
     "output_type": "execute_result"
    }
   ],
   "source": [
    "iris.head()"
   ]
  },
  {
   "cell_type": "code",
   "execution_count": 332,
   "id": "f01894a9",
   "metadata": {},
   "outputs": [
    {
     "data": {
      "text/html": [
       "<div>\n",
       "<style scoped>\n",
       "    .dataframe tbody tr th:only-of-type {\n",
       "        vertical-align: middle;\n",
       "    }\n",
       "\n",
       "    .dataframe tbody tr th {\n",
       "        vertical-align: top;\n",
       "    }\n",
       "\n",
       "    .dataframe thead th {\n",
       "        text-align: right;\n",
       "    }\n",
       "</style>\n",
       "<table border=\"1\" class=\"dataframe\">\n",
       "  <thead>\n",
       "    <tr style=\"text-align: right;\">\n",
       "      <th></th>\n",
       "      <th>sepal_length</th>\n",
       "      <th>sepal_width</th>\n",
       "      <th>petal_length</th>\n",
       "      <th>petal_width</th>\n",
       "      <th>class</th>\n",
       "    </tr>\n",
       "  </thead>\n",
       "  <tbody>\n",
       "    <tr>\n",
       "      <th>145</th>\n",
       "      <td>6.7</td>\n",
       "      <td>3.0</td>\n",
       "      <td>5.2</td>\n",
       "      <td>2.3</td>\n",
       "      <td>Iris-virginica</td>\n",
       "    </tr>\n",
       "    <tr>\n",
       "      <th>146</th>\n",
       "      <td>6.3</td>\n",
       "      <td>2.5</td>\n",
       "      <td>5.0</td>\n",
       "      <td>1.9</td>\n",
       "      <td>Iris-virginica</td>\n",
       "    </tr>\n",
       "    <tr>\n",
       "      <th>147</th>\n",
       "      <td>6.5</td>\n",
       "      <td>3.0</td>\n",
       "      <td>5.2</td>\n",
       "      <td>2.0</td>\n",
       "      <td>Iris-virginica</td>\n",
       "    </tr>\n",
       "    <tr>\n",
       "      <th>148</th>\n",
       "      <td>6.2</td>\n",
       "      <td>3.4</td>\n",
       "      <td>5.4</td>\n",
       "      <td>2.3</td>\n",
       "      <td>Iris-virginica</td>\n",
       "    </tr>\n",
       "    <tr>\n",
       "      <th>149</th>\n",
       "      <td>5.9</td>\n",
       "      <td>3.0</td>\n",
       "      <td>5.1</td>\n",
       "      <td>1.8</td>\n",
       "      <td>Iris-virginica</td>\n",
       "    </tr>\n",
       "  </tbody>\n",
       "</table>\n",
       "</div>"
      ],
      "text/plain": [
       "     sepal_length  sepal_width  petal_length  petal_width           class\n",
       "145           6.7          3.0           5.2          2.3  Iris-virginica\n",
       "146           6.3          2.5           5.0          1.9  Iris-virginica\n",
       "147           6.5          3.0           5.2          2.0  Iris-virginica\n",
       "148           6.2          3.4           5.4          2.3  Iris-virginica\n",
       "149           5.9          3.0           5.1          1.8  Iris-virginica"
      ]
     },
     "execution_count": 332,
     "metadata": {},
     "output_type": "execute_result"
    }
   ],
   "source": [
    "iris.tail()"
   ]
  },
  {
   "cell_type": "code",
   "execution_count": 333,
   "id": "d7a2d509",
   "metadata": {},
   "outputs": [
    {
     "data": {
      "text/plain": [
       "(150, 5)"
      ]
     },
     "execution_count": 333,
     "metadata": {},
     "output_type": "execute_result"
    }
   ],
   "source": [
    "iris.shape"
   ]
  },
  {
   "cell_type": "markdown",
   "id": "e4aa51c6",
   "metadata": {},
   "source": [
    "Supposons qu'on n'ait pas la colonne class dans l'ensemble de données et qu'on veuille les segmenter"
   ]
  },
  {
   "cell_type": "code",
   "execution_count": 334,
   "id": "af11b8e3",
   "metadata": {},
   "outputs": [],
   "source": [
    "# Retrait de la colonne class\n",
    "df = iris.drop(\"class\", axis=1)\n"
   ]
  },
  {
   "cell_type": "code",
   "execution_count": 335,
   "id": "7c265ba0",
   "metadata": {},
   "outputs": [
    {
     "data": {
      "text/html": [
       "<div>\n",
       "<style scoped>\n",
       "    .dataframe tbody tr th:only-of-type {\n",
       "        vertical-align: middle;\n",
       "    }\n",
       "\n",
       "    .dataframe tbody tr th {\n",
       "        vertical-align: top;\n",
       "    }\n",
       "\n",
       "    .dataframe thead th {\n",
       "        text-align: right;\n",
       "    }\n",
       "</style>\n",
       "<table border=\"1\" class=\"dataframe\">\n",
       "  <thead>\n",
       "    <tr style=\"text-align: right;\">\n",
       "      <th></th>\n",
       "      <th>sepal_length</th>\n",
       "      <th>sepal_width</th>\n",
       "      <th>petal_length</th>\n",
       "      <th>petal_width</th>\n",
       "    </tr>\n",
       "  </thead>\n",
       "  <tbody>\n",
       "    <tr>\n",
       "      <th>0</th>\n",
       "      <td>5.1</td>\n",
       "      <td>3.5</td>\n",
       "      <td>1.4</td>\n",
       "      <td>0.2</td>\n",
       "    </tr>\n",
       "    <tr>\n",
       "      <th>1</th>\n",
       "      <td>4.9</td>\n",
       "      <td>3.0</td>\n",
       "      <td>1.4</td>\n",
       "      <td>0.2</td>\n",
       "    </tr>\n",
       "    <tr>\n",
       "      <th>2</th>\n",
       "      <td>4.7</td>\n",
       "      <td>3.2</td>\n",
       "      <td>1.3</td>\n",
       "      <td>0.2</td>\n",
       "    </tr>\n",
       "    <tr>\n",
       "      <th>3</th>\n",
       "      <td>4.6</td>\n",
       "      <td>3.1</td>\n",
       "      <td>1.5</td>\n",
       "      <td>0.2</td>\n",
       "    </tr>\n",
       "    <tr>\n",
       "      <th>4</th>\n",
       "      <td>5.0</td>\n",
       "      <td>3.6</td>\n",
       "      <td>1.4</td>\n",
       "      <td>0.2</td>\n",
       "    </tr>\n",
       "    <tr>\n",
       "      <th>...</th>\n",
       "      <td>...</td>\n",
       "      <td>...</td>\n",
       "      <td>...</td>\n",
       "      <td>...</td>\n",
       "    </tr>\n",
       "    <tr>\n",
       "      <th>145</th>\n",
       "      <td>6.7</td>\n",
       "      <td>3.0</td>\n",
       "      <td>5.2</td>\n",
       "      <td>2.3</td>\n",
       "    </tr>\n",
       "    <tr>\n",
       "      <th>146</th>\n",
       "      <td>6.3</td>\n",
       "      <td>2.5</td>\n",
       "      <td>5.0</td>\n",
       "      <td>1.9</td>\n",
       "    </tr>\n",
       "    <tr>\n",
       "      <th>147</th>\n",
       "      <td>6.5</td>\n",
       "      <td>3.0</td>\n",
       "      <td>5.2</td>\n",
       "      <td>2.0</td>\n",
       "    </tr>\n",
       "    <tr>\n",
       "      <th>148</th>\n",
       "      <td>6.2</td>\n",
       "      <td>3.4</td>\n",
       "      <td>5.4</td>\n",
       "      <td>2.3</td>\n",
       "    </tr>\n",
       "    <tr>\n",
       "      <th>149</th>\n",
       "      <td>5.9</td>\n",
       "      <td>3.0</td>\n",
       "      <td>5.1</td>\n",
       "      <td>1.8</td>\n",
       "    </tr>\n",
       "  </tbody>\n",
       "</table>\n",
       "<p>150 rows × 4 columns</p>\n",
       "</div>"
      ],
      "text/plain": [
       "     sepal_length  sepal_width  petal_length  petal_width\n",
       "0             5.1          3.5           1.4          0.2\n",
       "1             4.9          3.0           1.4          0.2\n",
       "2             4.7          3.2           1.3          0.2\n",
       "3             4.6          3.1           1.5          0.2\n",
       "4             5.0          3.6           1.4          0.2\n",
       "..            ...          ...           ...          ...\n",
       "145           6.7          3.0           5.2          2.3\n",
       "146           6.3          2.5           5.0          1.9\n",
       "147           6.5          3.0           5.2          2.0\n",
       "148           6.2          3.4           5.4          2.3\n",
       "149           5.9          3.0           5.1          1.8\n",
       "\n",
       "[150 rows x 4 columns]"
      ]
     },
     "execution_count": 335,
     "metadata": {},
     "output_type": "execute_result"
    }
   ],
   "source": [
    "df "
   ]
  },
  {
   "cell_type": "code",
   "execution_count": 336,
   "id": "a46d5c81",
   "metadata": {},
   "outputs": [],
   "source": [
    "species = iris.pop(\"class\")"
   ]
  },
  {
   "cell_type": "markdown",
   "id": "54aa30b1",
   "metadata": {},
   "source": [
    "species = iris.pop(\"class\")\n",
    "c'est quoi le pop?\n",
    "\n",
    "La méthode pop en Python est utilisée pour supprimer un élément d'une collection et renvoyer cet élément. Lorsqu'il est appliqué à un DataFrame de pandas, pop supprime une colonne et renvoie cette colonne sous forme de Series. Voici une explication détaillée de l'utilisation de pop dans le contexte de pandas :\n",
    "\n",
    "Utilisation de pop dans un DataFrame\n",
    "La méthode pop est particulièrement utile lorsque vous souhaitez extraire une colonne d'un DataFrame pour la manipuler séparément, tout en supprimant cette colonne du DataFrame original."
   ]
  },
  {
   "cell_type": "code",
   "execution_count": 337,
   "id": "ee1c75af",
   "metadata": {},
   "outputs": [
    {
     "data": {
      "text/html": [
       "<div>\n",
       "<style scoped>\n",
       "    .dataframe tbody tr th:only-of-type {\n",
       "        vertical-align: middle;\n",
       "    }\n",
       "\n",
       "    .dataframe tbody tr th {\n",
       "        vertical-align: top;\n",
       "    }\n",
       "\n",
       "    .dataframe thead th {\n",
       "        text-align: right;\n",
       "    }\n",
       "</style>\n",
       "<table border=\"1\" class=\"dataframe\">\n",
       "  <thead>\n",
       "    <tr style=\"text-align: right;\">\n",
       "      <th></th>\n",
       "      <th>sepal_length</th>\n",
       "      <th>sepal_width</th>\n",
       "      <th>petal_length</th>\n",
       "      <th>petal_width</th>\n",
       "    </tr>\n",
       "  </thead>\n",
       "  <tbody>\n",
       "    <tr>\n",
       "      <th>0</th>\n",
       "      <td>5.1</td>\n",
       "      <td>3.5</td>\n",
       "      <td>1.4</td>\n",
       "      <td>0.2</td>\n",
       "    </tr>\n",
       "    <tr>\n",
       "      <th>1</th>\n",
       "      <td>4.9</td>\n",
       "      <td>3.0</td>\n",
       "      <td>1.4</td>\n",
       "      <td>0.2</td>\n",
       "    </tr>\n",
       "    <tr>\n",
       "      <th>2</th>\n",
       "      <td>4.7</td>\n",
       "      <td>3.2</td>\n",
       "      <td>1.3</td>\n",
       "      <td>0.2</td>\n",
       "    </tr>\n",
       "    <tr>\n",
       "      <th>3</th>\n",
       "      <td>4.6</td>\n",
       "      <td>3.1</td>\n",
       "      <td>1.5</td>\n",
       "      <td>0.2</td>\n",
       "    </tr>\n",
       "    <tr>\n",
       "      <th>4</th>\n",
       "      <td>5.0</td>\n",
       "      <td>3.6</td>\n",
       "      <td>1.4</td>\n",
       "      <td>0.2</td>\n",
       "    </tr>\n",
       "  </tbody>\n",
       "</table>\n",
       "</div>"
      ],
      "text/plain": [
       "   sepal_length  sepal_width  petal_length  petal_width\n",
       "0           5.1          3.5           1.4          0.2\n",
       "1           4.9          3.0           1.4          0.2\n",
       "2           4.7          3.2           1.3          0.2\n",
       "3           4.6          3.1           1.5          0.2\n",
       "4           5.0          3.6           1.4          0.2"
      ]
     },
     "execution_count": 337,
     "metadata": {},
     "output_type": "execute_result"
    }
   ],
   "source": [
    "iris.head()"
   ]
  },
  {
   "cell_type": "code",
   "execution_count": 338,
   "id": "7be1de46",
   "metadata": {},
   "outputs": [
    {
     "data": {
      "text/html": [
       "<div>\n",
       "<style scoped>\n",
       "    .dataframe tbody tr th:only-of-type {\n",
       "        vertical-align: middle;\n",
       "    }\n",
       "\n",
       "    .dataframe tbody tr th {\n",
       "        vertical-align: top;\n",
       "    }\n",
       "\n",
       "    .dataframe thead th {\n",
       "        text-align: right;\n",
       "    }\n",
       "</style>\n",
       "<table border=\"1\" class=\"dataframe\">\n",
       "  <thead>\n",
       "    <tr style=\"text-align: right;\">\n",
       "      <th></th>\n",
       "      <th>sepal_length</th>\n",
       "      <th>sepal_width</th>\n",
       "      <th>petal_length</th>\n",
       "      <th>petal_width</th>\n",
       "    </tr>\n",
       "  </thead>\n",
       "  <tbody>\n",
       "    <tr>\n",
       "      <th>0</th>\n",
       "      <td>5.1</td>\n",
       "      <td>3.5</td>\n",
       "      <td>1.4</td>\n",
       "      <td>0.2</td>\n",
       "    </tr>\n",
       "    <tr>\n",
       "      <th>1</th>\n",
       "      <td>4.9</td>\n",
       "      <td>3.0</td>\n",
       "      <td>1.4</td>\n",
       "      <td>0.2</td>\n",
       "    </tr>\n",
       "    <tr>\n",
       "      <th>2</th>\n",
       "      <td>4.7</td>\n",
       "      <td>3.2</td>\n",
       "      <td>1.3</td>\n",
       "      <td>0.2</td>\n",
       "    </tr>\n",
       "    <tr>\n",
       "      <th>3</th>\n",
       "      <td>4.6</td>\n",
       "      <td>3.1</td>\n",
       "      <td>1.5</td>\n",
       "      <td>0.2</td>\n",
       "    </tr>\n",
       "    <tr>\n",
       "      <th>4</th>\n",
       "      <td>5.0</td>\n",
       "      <td>3.6</td>\n",
       "      <td>1.4</td>\n",
       "      <td>0.2</td>\n",
       "    </tr>\n",
       "    <tr>\n",
       "      <th>...</th>\n",
       "      <td>...</td>\n",
       "      <td>...</td>\n",
       "      <td>...</td>\n",
       "      <td>...</td>\n",
       "    </tr>\n",
       "    <tr>\n",
       "      <th>145</th>\n",
       "      <td>6.7</td>\n",
       "      <td>3.0</td>\n",
       "      <td>5.2</td>\n",
       "      <td>2.3</td>\n",
       "    </tr>\n",
       "    <tr>\n",
       "      <th>146</th>\n",
       "      <td>6.3</td>\n",
       "      <td>2.5</td>\n",
       "      <td>5.0</td>\n",
       "      <td>1.9</td>\n",
       "    </tr>\n",
       "    <tr>\n",
       "      <th>147</th>\n",
       "      <td>6.5</td>\n",
       "      <td>3.0</td>\n",
       "      <td>5.2</td>\n",
       "      <td>2.0</td>\n",
       "    </tr>\n",
       "    <tr>\n",
       "      <th>148</th>\n",
       "      <td>6.2</td>\n",
       "      <td>3.4</td>\n",
       "      <td>5.4</td>\n",
       "      <td>2.3</td>\n",
       "    </tr>\n",
       "    <tr>\n",
       "      <th>149</th>\n",
       "      <td>5.9</td>\n",
       "      <td>3.0</td>\n",
       "      <td>5.1</td>\n",
       "      <td>1.8</td>\n",
       "    </tr>\n",
       "  </tbody>\n",
       "</table>\n",
       "<p>150 rows × 4 columns</p>\n",
       "</div>"
      ],
      "text/plain": [
       "     sepal_length  sepal_width  petal_length  petal_width\n",
       "0             5.1          3.5           1.4          0.2\n",
       "1             4.9          3.0           1.4          0.2\n",
       "2             4.7          3.2           1.3          0.2\n",
       "3             4.6          3.1           1.5          0.2\n",
       "4             5.0          3.6           1.4          0.2\n",
       "..            ...          ...           ...          ...\n",
       "145           6.7          3.0           5.2          2.3\n",
       "146           6.3          2.5           5.0          1.9\n",
       "147           6.5          3.0           5.2          2.0\n",
       "148           6.2          3.4           5.4          2.3\n",
       "149           5.9          3.0           5.1          1.8\n",
       "\n",
       "[150 rows x 4 columns]"
      ]
     },
     "execution_count": 338,
     "metadata": {},
     "output_type": "execute_result"
    }
   ],
   "source": [
    "iris"
   ]
  },
  {
   "cell_type": "markdown",
   "id": "a866b303",
   "metadata": {},
   "source": [
    "Comme pour les données synthétiques, nous allons visualiser l'ensemble des données par un nuage de points afin d'essayer d'identifier le nombre de cluster."
   ]
  },
  {
   "cell_type": "code",
   "execution_count": 339,
   "id": "25bbae42",
   "metadata": {},
   "outputs": [
    {
     "data": {
      "image/png": "[encoded data removed]",
      "text/plain": [
       "<Figure size 640x480 with 1 Axes>"
      ]
     },
     "metadata": {},
     "output_type": "display_data"
    }
   ],
   "source": [
    "# Le nuage de point entre la longueur de pétales et la largeur de sepales\n",
    "\n",
    "plt.scatter(\"petal_length\",\n",
    "           \"sepal_width\",\n",
    "           data= iris )\n",
    "\n",
    "plt.show()"
   ]
  },
  {
   "cell_type": "markdown",
   "id": "93a68593",
   "metadata": {},
   "source": [
    "Le nuage de point ci-dessus nous suggère 2, 3 ou 4 cluster? Contrairement aux données sythétiques précédentes, le nombre de cluster ici n'est pas évident."
   ]
  },
  {
   "cell_type": "code",
   "execution_count": 340,
   "id": "42a844ab",
   "metadata": {},
   "outputs": [],
   "source": [
    "# Mettons les données en tableaux numpy\n",
    "DATA = iris[[\"petal_length\", \"sepal_width\"]].values"
   ]
  },
  {
   "cell_type": "code",
   "execution_count": 341,
   "id": "bb2f1383",
   "metadata": {},
   "outputs": [
    {
     "name": "stdout",
     "output_type": "stream",
     "text": [
      "[[1.4 3.5]\n",
      " [1.4 3. ]\n",
      " [1.3 3.2]\n",
      " [1.5 3.1]\n",
      " [1.4 3.6]\n",
      " [1.7 3.9]\n",
      " [1.4 3.4]\n",
      " [1.5 3.4]\n",
      " [1.4 2.9]\n",
      " [1.5 3.1]\n",
      " [1.5 3.7]\n",
      " [1.6 3.4]\n",
      " [1.4 3. ]\n",
      " [1.1 3. ]\n",
      " [1.2 4. ]\n",
      " [1.5 4.4]\n",
      " [1.3 3.9]\n",
      " [1.4 3.5]\n",
      " [1.7 3.8]\n",
      " [1.5 3.8]\n",
      " [1.7 3.4]\n",
      " [1.5 3.7]\n",
      " [1.  3.6]\n",
      " [1.7 3.3]\n",
      " [1.9 3.4]\n",
      " [1.6 3. ]\n",
      " [1.6 3.4]\n",
      " [1.5 3.5]\n",
      " [1.4 3.4]\n",
      " [1.6 3.2]\n",
      " [1.6 3.1]\n",
      " [1.5 3.4]\n",
      " [1.5 4.1]\n",
      " [1.4 4.2]\n",
      " [1.5 3.1]\n",
      " [1.2 3.2]\n",
      " [1.3 3.5]\n",
      " [1.5 3.1]\n",
      " [1.3 3. ]\n",
      " [1.5 3.4]\n",
      " [1.3 3.5]\n",
      " [1.3 2.3]\n",
      " [1.3 3.2]\n",
      " [1.6 3.5]\n",
      " [1.9 3.8]\n",
      " [1.4 3. ]\n",
      " [1.6 3.8]\n",
      " [1.4 3.2]\n",
      " [1.5 3.7]\n",
      " [1.4 3.3]\n",
      " [4.7 3.2]\n",
      " [4.5 3.2]\n",
      " [4.9 3.1]\n",
      " [4.  2.3]\n",
      " [4.6 2.8]\n",
      " [4.5 2.8]\n",
      " [4.7 3.3]\n",
      " [3.3 2.4]\n",
      " [4.6 2.9]\n",
      " [3.9 2.7]\n",
      " [3.5 2. ]\n",
      " [4.2 3. ]\n",
      " [4.  2.2]\n",
      " [4.7 2.9]\n",
      " [3.6 2.9]\n",
      " [4.4 3.1]\n",
      " [4.5 3. ]\n",
      " [4.1 2.7]\n",
      " [4.5 2.2]\n",
      " [3.9 2.5]\n",
      " [4.8 3.2]\n",
      " [4.  2.8]\n",
      " [4.9 2.5]\n",
      " [4.7 2.8]\n",
      " [4.3 2.9]\n",
      " [4.4 3. ]\n",
      " [4.8 2.8]\n",
      " [5.  3. ]\n",
      " [4.5 2.9]\n",
      " [3.5 2.6]\n",
      " [3.8 2.4]\n",
      " [3.7 2.4]\n",
      " [3.9 2.7]\n",
      " [5.1 2.7]\n",
      " [4.5 3. ]\n",
      " [4.5 3.4]\n",
      " [4.7 3.1]\n",
      " [4.4 2.3]\n",
      " [4.1 3. ]\n",
      " [4.  2.5]\n",
      " [4.4 2.6]\n",
      " [4.6 3. ]\n",
      " [4.  2.6]\n",
      " [3.3 2.3]\n",
      " [4.2 2.7]\n",
      " [4.2 3. ]\n",
      " [4.2 2.9]\n",
      " [4.3 2.9]\n",
      " [3.  2.5]\n",
      " [4.1 2.8]\n",
      " [6.  3.3]\n",
      " [5.1 2.7]\n",
      " [5.9 3. ]\n",
      " [5.6 2.9]\n",
      " [5.8 3. ]\n",
      " [6.6 3. ]\n",
      " [4.5 2.5]\n",
      " [6.3 2.9]\n",
      " [5.8 2.5]\n",
      " [6.1 3.6]\n",
      " [5.1 3.2]\n",
      " [5.3 2.7]\n",
      " [5.5 3. ]\n",
      " [5.  2.5]\n",
      " [5.1 2.8]\n",
      " [5.3 3.2]\n",
      " [5.5 3. ]\n",
      " [6.7 3.8]\n",
      " [6.9 2.6]\n",
      " [5.  2.2]\n",
      " [5.7 3.2]\n",
      " [4.9 2.8]\n",
      " [6.7 2.8]\n",
      " [4.9 2.7]\n",
      " [5.7 3.3]\n",
      " [6.  3.2]\n",
      " [4.8 2.8]\n",
      " [4.9 3. ]\n",
      " [5.6 2.8]\n",
      " [5.8 3. ]\n",
      " [6.1 2.8]\n",
      " [6.4 3.8]\n",
      " [5.6 2.8]\n",
      " [5.1 2.8]\n",
      " [5.6 2.6]\n",
      " [6.1 3. ]\n",
      " [5.6 3.4]\n",
      " [5.5 3.1]\n",
      " [4.8 3. ]\n",
      " [5.4 3.1]\n",
      " [5.6 3.1]\n",
      " [5.1 3.1]\n",
      " [5.1 2.7]\n",
      " [5.9 3.2]\n",
      " [5.7 3.3]\n",
      " [5.2 3. ]\n",
      " [5.  2.5]\n",
      " [5.2 3. ]\n",
      " [5.4 3.4]\n",
      " [5.1 3. ]]\n"
     ]
    }
   ],
   "source": [
    "print(DATA)"
   ]
  },
  {
   "cell_type": "code",
   "execution_count": 430,
   "id": "f2e4810f",
   "metadata": {},
   "outputs": [],
   "source": [
    "# Création d'un modèle KMeans avec 2 clusters\n",
    "model_iris = KMeans(n_clusters=2)"
   ]
  },
  {
   "cell_type": "code",
   "execution_count": 431,
   "id": "b6a512c8",
   "metadata": {},
   "outputs": [
    {
     "data": {
      "text/html": [
       "<style>#sk-container-id-23 {color: black;}#sk-container-id-23 pre{padding: 0;}#sk-container-id-23 div.sk-toggleable {background-color: white;}#sk-container-id-23 label.sk-toggleable__label {cursor: pointer;display: block;width: 100%;margin-bottom: 0;padding: 0.3em;box-sizing: border-box;text-align: center;}#sk-container-id-23 label.sk-toggleable__label-arrow:before {content: \"▸\";float: left;margin-right: 0.25em;color: #696969;}#sk-container-id-23 label.sk-toggleable__label-arrow:hover:before {color: black;}#sk-container-id-23 div.sk-estimator:hover label.sk-toggleable__label-arrow:before {color: black;}#sk-container-id-23 div.sk-toggleable__content {max-height: 0;max-width: 0;overflow: hidden;text-align: left;background-color: #f0f8ff;}#sk-container-id-23 div.sk-toggleable__content pre {margin: 0.2em;color: black;border-radius: 0.25em;background-color: #f0f8ff;}#sk-container-id-23 input.sk-toggleable__control:checked~div.sk-toggleable__content {max-height: 200px;max-width: 100%;overflow: auto;}#sk-container-id-23 input.sk-toggleable__control:checked~label.sk-toggleable__label-arrow:before {content: \"▾\";}#sk-container-id-23 div.sk-estimator input.sk-toggleable__control:checked~label.sk-toggleable__label {background-color: #d4ebff;}#sk-container-id-23 div.sk-label input.sk-toggleable__control:checked~label.sk-toggleable__label {background-color: #d4ebff;}#sk-container-id-23 input.sk-hidden--visually {border: 0;clip: rect(1px 1px 1px 1px);clip: rect(1px, 1px, 1px, 1px);height: 1px;margin: -1px;overflow: hidden;padding: 0;position: absolute;width: 1px;}#sk-container-id-23 div.sk-estimator {font-family: monospace;background-color: #f0f8ff;border: 1px dotted black;border-radius: 0.25em;box-sizing: border-box;margin-bottom: 0.5em;}#sk-container-id-23 div.sk-estimator:hover {background-color: #d4ebff;}#sk-container-id-23 div.sk-parallel-item::after {content: \"\";width: 100%;border-bottom: 1px solid gray;flex-grow: 1;}#sk-container-id-23 div.sk-label:hover label.sk-toggleable__label {background-color: #d4ebff;}#sk-container-id-23 div.sk-serial::before {content: \"\";position: absolute;border-left: 1px solid gray;box-sizing: border-box;top: 0;bottom: 0;left: 50%;z-index: 0;}#sk-container-id-23 div.sk-serial {display: flex;flex-direction: column;align-items: center;background-color: white;padding-right: 0.2em;padding-left: 0.2em;position: relative;}#sk-container-id-23 div.sk-item {position: relative;z-index: 1;}#sk-container-id-23 div.sk-parallel {display: flex;align-items: stretch;justify-content: center;background-color: white;position: relative;}#sk-container-id-23 div.sk-item::before, #sk-container-id-23 div.sk-parallel-item::before {content: \"\";position: absolute;border-left: 1px solid gray;box-sizing: border-box;top: 0;bottom: 0;left: 50%;z-index: -1;}#sk-container-id-23 div.sk-parallel-item {display: flex;flex-direction: column;z-index: 1;position: relative;background-color: white;}#sk-container-id-23 div.sk-parallel-item:first-child::after {align-self: flex-end;width: 50%;}#sk-container-id-23 div.sk-parallel-item:last-child::after {align-self: flex-start;width: 50%;}#sk-container-id-23 div.sk-parallel-item:only-child::after {width: 0;}#sk-container-id-23 div.sk-dashed-wrapped {border: 1px dashed gray;margin: 0 0.4em 0.5em 0.4em;box-sizing: border-box;padding-bottom: 0.4em;background-color: white;}#sk-container-id-23 div.sk-label label {font-family: monospace;font-weight: bold;display: inline-block;line-height: 1.2em;}#sk-container-id-23 div.sk-label-container {text-align: center;}#sk-container-id-23 div.sk-container {/* jupyter's `normalize.less` sets `[hidden] { display: none; }` but bootstrap.min.css set `[hidden] { display: none !important; }` so we also need the `!important` here to be able to override the default hidden behavior on the sphinx rendered scikit-learn.org. See: https://github.com/scikit-learn/scikit-learn/issues/21755 */display: inline-block !important;position: relative;}#sk-container-id-23 div.sk-text-repr-fallback {display: none;}</style><div id=\"sk-container-id-23\" class=\"sk-top-container\"><div class=\"sk-text-repr-fallback\"><pre>KMeans(n_clusters=2)</pre><b>In a Jupyter environment, please rerun this cell to show the HTML representation or trust the notebook. <br />On GitHub, the HTML representation is unable to render, please try loading this page with nbviewer.org.</b></div><div class=\"sk-container\" hidden><div class=\"sk-item\"><div class=\"sk-estimator sk-toggleable\"><input class=\"sk-toggleable__control sk-hidden--visually\" id=\"sk-estimator-id-23\" type=\"checkbox\" checked><label for=\"sk-estimator-id-23\" class=\"sk-toggleable__label sk-toggleable__label-arrow\">KMeans</label><div class=\"sk-toggleable__content\"><pre>KMeans(n_clusters=2)</pre></div></div></div></div></div>"
      ],
      "text/plain": [
       "KMeans(n_clusters=2)"
      ]
     },
     "execution_count": 431,
     "metadata": {},
     "output_type": "execute_result"
    }
   ],
   "source": [
    "# Entraînement du moèdel\n",
    "\n",
    "model_iris.fit(DATA)"
   ]
  },
  {
   "cell_type": "code",
   "execution_count": 432,
   "id": "44f4abff",
   "metadata": {},
   "outputs": [],
   "source": [
    "# Cluster (labels)\n",
    "\n",
    "labels_iris = model_iris.predict(DATA)"
   ]
  },
  {
   "cell_type": "code",
   "execution_count": 433,
   "id": "94d9baaf",
   "metadata": {},
   "outputs": [
    {
     "name": "stdout",
     "output_type": "stream",
     "text": [
      "[1 1 1 1 1 1 1 1 1 1 1 1 1 1 1 1 1 1 1 1 1 1 1 1 1 1 1 1 1 1 1 1 1 1 1 1 1\n",
      " 1 1 1 1 1 1 1 1 1 1 1 1 1 0 0 0 0 0 0 0 0 0 0 0 0 0 0 0 0 0 0 0 0 0 0 0 0\n",
      " 0 0 0 0 0 0 0 0 0 0 0 0 0 0 0 0 0 0 0 0 0 0 0 0 1 0 0 0 0 0 0 0 0 0 0 0 0\n",
      " 0 0 0 0 0 0 0 0 0 0 0 0 0 0 0 0 0 0 0 0 0 0 0 0 0 0 0 0 0 0 0 0 0 0 0 0 0\n",
      " 0 0]\n"
     ]
    }
   ],
   "source": [
    "print(labels_iris)"
   ]
  },
  {
   "cell_type": "code",
   "execution_count": 434,
   "id": "4884d07c",
   "metadata": {},
   "outputs": [
    {
     "data": {
      "text/plain": [
       "<matplotlib.collections.PathCollection at 0x1c4eeede590>"
      ]
     },
     "execution_count": 434,
     "metadata": {},
     "output_type": "execute_result"
    },
    {
     "data": {
      "image/png": "[encoded data removed]",
      "text/plain": [
       "<Figure size 640x480 with 1 Axes>"
      ]
     },
     "metadata": {},
     "output_type": "display_data"
    }
   ],
   "source": [
    "plt.scatter(DATA[:, 0],\n",
    "           DATA[:, 1],\n",
    "           s=15,\n",
    "           c=labels_iris)"
   ]
  },
  {
   "cell_type": "markdown",
   "id": "439df2dd",
   "metadata": {},
   "source": [
    "Contrairement aux données synthétiques, la segmentation en deux groupes des données d'iris n'est pas de très bonne qualité. Il y a deux points jaunes qui sont carrément hors de leur groupe.\n",
    "Effectuons une autre segmentation avec 3 clusters."
   ]
  },
  {
   "cell_type": "code",
   "execution_count": 435,
   "id": "114c00a4",
   "metadata": {},
   "outputs": [],
   "source": [
    "# Création d'un modèle KMeans avec 3 clusters\n",
    "Modul_iris = KMeans(n_clusters=3)"
   ]
  },
  {
   "cell_type": "code",
   "execution_count": 436,
   "id": "95c03e05",
   "metadata": {},
   "outputs": [
    {
     "data": {
      "text/html": [
       "<style>#sk-container-id-24 {color: black;}#sk-container-id-24 pre{padding: 0;}#sk-container-id-24 div.sk-toggleable {background-color: white;}#sk-container-id-24 label.sk-toggleable__label {cursor: pointer;display: block;width: 100%;margin-bottom: 0;padding: 0.3em;box-sizing: border-box;text-align: center;}#sk-container-id-24 label.sk-toggleable__label-arrow:before {content: \"▸\";float: left;margin-right: 0.25em;color: #696969;}#sk-container-id-24 label.sk-toggleable__label-arrow:hover:before {color: black;}#sk-container-id-24 div.sk-estimator:hover label.sk-toggleable__label-arrow:before {color: black;}#sk-container-id-24 div.sk-toggleable__content {max-height: 0;max-width: 0;overflow: hidden;text-align: left;background-color: #f0f8ff;}#sk-container-id-24 div.sk-toggleable__content pre {margin: 0.2em;color: black;border-radius: 0.25em;background-color: #f0f8ff;}#sk-container-id-24 input.sk-toggleable__control:checked~div.sk-toggleable__content {max-height: 200px;max-width: 100%;overflow: auto;}#sk-container-id-24 input.sk-toggleable__control:checked~label.sk-toggleable__label-arrow:before {content: \"▾\";}#sk-container-id-24 div.sk-estimator input.sk-toggleable__control:checked~label.sk-toggleable__label {background-color: #d4ebff;}#sk-container-id-24 div.sk-label input.sk-toggleable__control:checked~label.sk-toggleable__label {background-color: #d4ebff;}#sk-container-id-24 input.sk-hidden--visually {border: 0;clip: rect(1px 1px 1px 1px);clip: rect(1px, 1px, 1px, 1px);height: 1px;margin: -1px;overflow: hidden;padding: 0;position: absolute;width: 1px;}#sk-container-id-24 div.sk-estimator {font-family: monospace;background-color: #f0f8ff;border: 1px dotted black;border-radius: 0.25em;box-sizing: border-box;margin-bottom: 0.5em;}#sk-container-id-24 div.sk-estimator:hover {background-color: #d4ebff;}#sk-container-id-24 div.sk-parallel-item::after {content: \"\";width: 100%;border-bottom: 1px solid gray;flex-grow: 1;}#sk-container-id-24 div.sk-label:hover label.sk-toggleable__label {background-color: #d4ebff;}#sk-container-id-24 div.sk-serial::before {content: \"\";position: absolute;border-left: 1px solid gray;box-sizing: border-box;top: 0;bottom: 0;left: 50%;z-index: 0;}#sk-container-id-24 div.sk-serial {display: flex;flex-direction: column;align-items: center;background-color: white;padding-right: 0.2em;padding-left: 0.2em;position: relative;}#sk-container-id-24 div.sk-item {position: relative;z-index: 1;}#sk-container-id-24 div.sk-parallel {display: flex;align-items: stretch;justify-content: center;background-color: white;position: relative;}#sk-container-id-24 div.sk-item::before, #sk-container-id-24 div.sk-parallel-item::before {content: \"\";position: absolute;border-left: 1px solid gray;box-sizing: border-box;top: 0;bottom: 0;left: 50%;z-index: -1;}#sk-container-id-24 div.sk-parallel-item {display: flex;flex-direction: column;z-index: 1;position: relative;background-color: white;}#sk-container-id-24 div.sk-parallel-item:first-child::after {align-self: flex-end;width: 50%;}#sk-container-id-24 div.sk-parallel-item:last-child::after {align-self: flex-start;width: 50%;}#sk-container-id-24 div.sk-parallel-item:only-child::after {width: 0;}#sk-container-id-24 div.sk-dashed-wrapped {border: 1px dashed gray;margin: 0 0.4em 0.5em 0.4em;box-sizing: border-box;padding-bottom: 0.4em;background-color: white;}#sk-container-id-24 div.sk-label label {font-family: monospace;font-weight: bold;display: inline-block;line-height: 1.2em;}#sk-container-id-24 div.sk-label-container {text-align: center;}#sk-container-id-24 div.sk-container {/* jupyter's `normalize.less` sets `[hidden] { display: none; }` but bootstrap.min.css set `[hidden] { display: none !important; }` so we also need the `!important` here to be able to override the default hidden behavior on the sphinx rendered scikit-learn.org. See: https://github.com/scikit-learn/scikit-learn/issues/21755 */display: inline-block !important;position: relative;}#sk-container-id-24 div.sk-text-repr-fallback {display: none;}</style><div id=\"sk-container-id-24\" class=\"sk-top-container\"><div class=\"sk-text-repr-fallback\"><pre>KMeans(n_clusters=3)</pre><b>In a Jupyter environment, please rerun this cell to show the HTML representation or trust the notebook. <br />On GitHub, the HTML representation is unable to render, please try loading this page with nbviewer.org.</b></div><div class=\"sk-container\" hidden><div class=\"sk-item\"><div class=\"sk-estimator sk-toggleable\"><input class=\"sk-toggleable__control sk-hidden--visually\" id=\"sk-estimator-id-24\" type=\"checkbox\" checked><label for=\"sk-estimator-id-24\" class=\"sk-toggleable__label sk-toggleable__label-arrow\">KMeans</label><div class=\"sk-toggleable__content\"><pre>KMeans(n_clusters=3)</pre></div></div></div></div></div>"
      ],
      "text/plain": [
       "KMeans(n_clusters=3)"
      ]
     },
     "execution_count": 436,
     "metadata": {},
     "output_type": "execute_result"
    }
   ],
   "source": [
    "# Entraînement du modèle\n",
    "Modul_iris.fit(DATA)"
   ]
  },
  {
   "cell_type": "code",
   "execution_count": 437,
   "id": "7d730233",
   "metadata": {},
   "outputs": [],
   "source": [
    "# Cluster label\n",
    "Labels_iris = Modul_iris.predict(DATA)"
   ]
  },
  {
   "cell_type": "code",
   "execution_count": 438,
   "id": "7b95e4ff",
   "metadata": {},
   "outputs": [
    {
     "data": {
      "image/png": "[encoded data removed]",
      "text/plain": [
       "<Figure size 640x480 with 1 Axes>"
      ]
     },
     "metadata": {},
     "output_type": "display_data"
    }
   ],
   "source": [
    "plt.scatter(DATA[:, 0],\n",
    "           DATA[:, 1],\n",
    "           s=15,\n",
    "           c=Labels_iris)\n",
    "\n",
    "plt.show()"
   ]
  },
  {
   "cell_type": "code",
   "execution_count": 439,
   "id": "4d325346",
   "metadata": {},
   "outputs": [],
   "source": [
    "# Centroides\n",
    "Centroids = Modul_iris.cluster_centers_"
   ]
  },
  {
   "cell_type": "code",
   "execution_count": 440,
   "id": "f41f20fa",
   "metadata": {},
   "outputs": [],
   "source": [
    "Centroid_x = Centroids[:,0]"
   ]
  },
  {
   "cell_type": "code",
   "execution_count": 441,
   "id": "b40b3fbd",
   "metadata": {},
   "outputs": [],
   "source": [
    "Centroid_y = Centroids[:,1]"
   ]
  },
  {
   "cell_type": "code",
   "execution_count": 442,
   "id": "974895f3",
   "metadata": {},
   "outputs": [
    {
     "data": {
      "image/png": "[encoded data removed]",
      "text/plain": [
       "<Figure size 640x480 with 1 Axes>"
      ]
     },
     "metadata": {},
     "output_type": "display_data"
    }
   ],
   "source": [
    "# Nuage de points avec les centroides\n",
    "plt.scatter(DATA[:,0],\n",
    "           DATA[:,1],\n",
    "           c=Labels_iris)\n",
    "\n",
    "plt.scatter(Centroid_x,\n",
    "           Centroid_y,\n",
    "           marker= \"D\",\n",
    "           s=80)\n",
    "\n",
    "plt.show()"
   ]
  },
  {
   "cell_type": "markdown",
   "id": "a2e4fe70",
   "metadata": {},
   "source": [
    "Le résultat est meilleur avec 3 clusters bien qu'il y ait encore quelques écarts. Pourquoi on n'essayerait pas avec 4, 5, 6, ..., n clusters ?\n",
    "En matière de clustering avec KMeans, le choix du nombre de clusters revient à l'utilisateur de l'algorithme. Alors :\n",
    "\n",
    "Comment être sûr du nombre de clusters ?\n",
    "\n",
    "Comment évaluer la qualité d'une segmentation ?"
   ]
  },
  {
   "cell_type": "markdown",
   "id": "0a6e5294",
   "metadata": {},
   "source": [
    "Il n'y a malheureusement pas de solution miracle quant au choix du nombre de clusters. Le choix peut être effectué en fonction de notre connaissance des données et du problème business que l'on veut résoudre. Par exemple, dans le cas des données iris, on savait qu'il y a trois types d'espèces d'où le choix d'une segmentation en trois groupes. Nous allons quand même vérifier la qualité du modèle."
   ]
  },
  {
   "cell_type": "code",
   "execution_count": 443,
   "id": "3a284ddc",
   "metadata": {},
   "outputs": [],
   "source": [
    "# Création d'une dataframe avec les clusters et les espèces d' iris\n",
    "df = pd.DataFrame({\"Labels\":Labels_iris,\n",
    "                  \"Species\" : species})"
   ]
  },
  {
   "cell_type": "code",
   "execution_count": 444,
   "id": "444a8643",
   "metadata": {},
   "outputs": [
    {
     "data": {
      "text/html": [
       "<div>\n",
       "<style scoped>\n",
       "    .dataframe tbody tr th:only-of-type {\n",
       "        vertical-align: middle;\n",
       "    }\n",
       "\n",
       "    .dataframe tbody tr th {\n",
       "        vertical-align: top;\n",
       "    }\n",
       "\n",
       "    .dataframe thead th {\n",
       "        text-align: right;\n",
       "    }\n",
       "</style>\n",
       "<table border=\"1\" class=\"dataframe\">\n",
       "  <thead>\n",
       "    <tr style=\"text-align: right;\">\n",
       "      <th></th>\n",
       "      <th>Labels</th>\n",
       "      <th>Species</th>\n",
       "    </tr>\n",
       "  </thead>\n",
       "  <tbody>\n",
       "    <tr>\n",
       "      <th>0</th>\n",
       "      <td>0</td>\n",
       "      <td>Iris-setosa</td>\n",
       "    </tr>\n",
       "    <tr>\n",
       "      <th>1</th>\n",
       "      <td>0</td>\n",
       "      <td>Iris-setosa</td>\n",
       "    </tr>\n",
       "    <tr>\n",
       "      <th>2</th>\n",
       "      <td>0</td>\n",
       "      <td>Iris-setosa</td>\n",
       "    </tr>\n",
       "    <tr>\n",
       "      <th>3</th>\n",
       "      <td>0</td>\n",
       "      <td>Iris-setosa</td>\n",
       "    </tr>\n",
       "    <tr>\n",
       "      <th>4</th>\n",
       "      <td>0</td>\n",
       "      <td>Iris-setosa</td>\n",
       "    </tr>\n",
       "    <tr>\n",
       "      <th>...</th>\n",
       "      <td>...</td>\n",
       "      <td>...</td>\n",
       "    </tr>\n",
       "    <tr>\n",
       "      <th>145</th>\n",
       "      <td>2</td>\n",
       "      <td>Iris-virginica</td>\n",
       "    </tr>\n",
       "    <tr>\n",
       "      <th>146</th>\n",
       "      <td>1</td>\n",
       "      <td>Iris-virginica</td>\n",
       "    </tr>\n",
       "    <tr>\n",
       "      <th>147</th>\n",
       "      <td>2</td>\n",
       "      <td>Iris-virginica</td>\n",
       "    </tr>\n",
       "    <tr>\n",
       "      <th>148</th>\n",
       "      <td>2</td>\n",
       "      <td>Iris-virginica</td>\n",
       "    </tr>\n",
       "    <tr>\n",
       "      <th>149</th>\n",
       "      <td>2</td>\n",
       "      <td>Iris-virginica</td>\n",
       "    </tr>\n",
       "  </tbody>\n",
       "</table>\n",
       "<p>150 rows × 2 columns</p>\n",
       "</div>"
      ],
      "text/plain": [
       "     Labels         Species\n",
       "0         0     Iris-setosa\n",
       "1         0     Iris-setosa\n",
       "2         0     Iris-setosa\n",
       "3         0     Iris-setosa\n",
       "4         0     Iris-setosa\n",
       "..      ...             ...\n",
       "145       2  Iris-virginica\n",
       "146       1  Iris-virginica\n",
       "147       2  Iris-virginica\n",
       "148       2  Iris-virginica\n",
       "149       2  Iris-virginica\n",
       "\n",
       "[150 rows x 2 columns]"
      ]
     },
     "execution_count": 444,
     "metadata": {},
     "output_type": "execute_result"
    }
   ],
   "source": [
    "df"
   ]
  },
  {
   "cell_type": "code",
   "execution_count": null,
   "id": "939d7d65",
   "metadata": {},
   "outputs": [],
   "source": []
  },
  {
   "cell_type": "code",
   "execution_count": 445,
   "id": "20d23434",
   "metadata": {},
   "outputs": [
    {
     "data": {
      "text/html": [
       "<div>\n",
       "<style scoped>\n",
       "    .dataframe tbody tr th:only-of-type {\n",
       "        vertical-align: middle;\n",
       "    }\n",
       "\n",
       "    .dataframe tbody tr th {\n",
       "        vertical-align: top;\n",
       "    }\n",
       "\n",
       "    .dataframe thead th {\n",
       "        text-align: right;\n",
       "    }\n",
       "</style>\n",
       "<table border=\"1\" class=\"dataframe\">\n",
       "  <thead>\n",
       "    <tr style=\"text-align: right;\">\n",
       "      <th>Species</th>\n",
       "      <th>Iris-setosa</th>\n",
       "      <th>Iris-versicolor</th>\n",
       "      <th>Iris-virginica</th>\n",
       "    </tr>\n",
       "    <tr>\n",
       "      <th>Labels</th>\n",
       "      <th></th>\n",
       "      <th></th>\n",
       "      <th></th>\n",
       "    </tr>\n",
       "  </thead>\n",
       "  <tbody>\n",
       "    <tr>\n",
       "      <th>0</th>\n",
       "      <td>50</td>\n",
       "      <td>0</td>\n",
       "      <td>0</td>\n",
       "    </tr>\n",
       "    <tr>\n",
       "      <th>1</th>\n",
       "      <td>0</td>\n",
       "      <td>48</td>\n",
       "      <td>9</td>\n",
       "    </tr>\n",
       "    <tr>\n",
       "      <th>2</th>\n",
       "      <td>0</td>\n",
       "      <td>2</td>\n",
       "      <td>41</td>\n",
       "    </tr>\n",
       "  </tbody>\n",
       "</table>\n",
       "</div>"
      ],
      "text/plain": [
       "Species  Iris-setosa  Iris-versicolor  Iris-virginica\n",
       "Labels                                               \n",
       "0                 50                0               0\n",
       "1                  0               48               9\n",
       "2                  0                2              41"
      ]
     },
     "execution_count": 445,
     "metadata": {},
     "output_type": "execute_result"
    }
   ],
   "source": [
    "# Tableau croisé pour compter le nombre de fois où chaque espèce coïncide avec chaque cluster (Matrice de confusion).\n",
    "pd.crosstab(df[\"Labels\"],\n",
    "               df[\"Species\"])"
   ]
  },
  {
   "cell_type": "markdown",
   "id": "9eba7a43",
   "metadata": {},
   "source": [
    "Ce tableau croisé nous montre qu'on a effectivement une bonne segmentation des données d'iris avec k = 3. En effet, le cluster 1 correspond à 100% à l'espèce Iris-setosa. Le cluster 2 et le cluster 0 correspondent majoritairement à Iris-virginica et à Iris-versicolor respectivement.\n",
    "\n",
    "Comment déterminer le meilleur nombre de clusters lorsqu'on a des données qui ne sont pas étiquetées ? Rappelons que l'objectif d'un algorithme d'apprentissage automatique non supervisé est de déterminer par lui-même des relations dans les données non-étiquetées. Il faut donc un moyen pour mesurer la qualité d'une segmentation et ce moyen doit utiliser uniquement les clusters et les échantillons eux-mêmes. C'est ce que nous verrons dans la section suivante."
   ]
  },
  {
   "cell_type": "markdown",
   "id": "ec84753f",
   "metadata": {},
   "source": [
    "# SEGMENTATION D'ESPECES DE POISSONS"
   ]
  },
  {
   "cell_type": "markdown",
   "id": "9795070b",
   "metadata": {},
   "source": [
    "L'ensemble des données de cette partie est un tableau d'échantillons donnant des mesures (le poids en grammes, la longueur en centimètres, le rapport en pourcentage de la hauteur à la longueur, etc.) de 7 espèces de poissons codées de 1 à 7. \n",
    "\n",
    "Chaque ligne représente un poisson individuel. Ces données proviennent de Journal of Statistics Education.33 Consultez la description 34 de ces données que vous pouvez télécharger via cette page. 34"
   ]
  },
  {
   "cell_type": "code",
   "execution_count": 453,
   "id": "32efdf07",
   "metadata": {},
   "outputs": [],
   "source": [
    "# Définition des noms de colonnes (à adapter selon le fichier)\n",
    "#columns = [\"obs\", \"species\", \"weight\", \"length1\", \"length2\", \"length3\", \"height\", \"width\"]\n",
    "\n",
    "columns = ['Species', 'Weight', 'Length1', 'Length2', 'Length3', 'Height%', 'Width%', 'Sex']\n",
    "# Lecture du fichier CSV avec les paramètres corrects\n",
    "fishes = pd.read_csv('http://jse.amstat.org/datasets/fishcatch.dat.txt', \n",
    "                     delimiter='\\s+', \n",
    "                     header=None, \n",
    "                     names=columns)"
   ]
  },
  {
   "cell_type": "code",
   "execution_count": 454,
   "id": "b260fca7",
   "metadata": {},
   "outputs": [
    {
     "data": {
      "text/html": [
       "<div>\n",
       "<style scoped>\n",
       "    .dataframe tbody tr th:only-of-type {\n",
       "        vertical-align: middle;\n",
       "    }\n",
       "\n",
       "    .dataframe tbody tr th {\n",
       "        vertical-align: top;\n",
       "    }\n",
       "\n",
       "    .dataframe thead th {\n",
       "        text-align: right;\n",
       "    }\n",
       "</style>\n",
       "<table border=\"1\" class=\"dataframe\">\n",
       "  <thead>\n",
       "    <tr style=\"text-align: right;\">\n",
       "      <th></th>\n",
       "      <th>Species</th>\n",
       "      <th>Weight</th>\n",
       "      <th>Length1</th>\n",
       "      <th>Length2</th>\n",
       "      <th>Length3</th>\n",
       "      <th>Height%</th>\n",
       "      <th>Width%</th>\n",
       "      <th>Sex</th>\n",
       "    </tr>\n",
       "  </thead>\n",
       "  <tbody>\n",
       "    <tr>\n",
       "      <th>1</th>\n",
       "      <td>1</td>\n",
       "      <td>242.0</td>\n",
       "      <td>23.2</td>\n",
       "      <td>25.4</td>\n",
       "      <td>30.0</td>\n",
       "      <td>38.4</td>\n",
       "      <td>13.4</td>\n",
       "      <td>NaN</td>\n",
       "    </tr>\n",
       "    <tr>\n",
       "      <th>2</th>\n",
       "      <td>1</td>\n",
       "      <td>290.0</td>\n",
       "      <td>24.0</td>\n",
       "      <td>26.3</td>\n",
       "      <td>31.2</td>\n",
       "      <td>40.0</td>\n",
       "      <td>13.8</td>\n",
       "      <td>NaN</td>\n",
       "    </tr>\n",
       "    <tr>\n",
       "      <th>3</th>\n",
       "      <td>1</td>\n",
       "      <td>340.0</td>\n",
       "      <td>23.9</td>\n",
       "      <td>26.5</td>\n",
       "      <td>31.1</td>\n",
       "      <td>39.8</td>\n",
       "      <td>15.1</td>\n",
       "      <td>NaN</td>\n",
       "    </tr>\n",
       "    <tr>\n",
       "      <th>4</th>\n",
       "      <td>1</td>\n",
       "      <td>363.0</td>\n",
       "      <td>26.3</td>\n",
       "      <td>29.0</td>\n",
       "      <td>33.5</td>\n",
       "      <td>38.0</td>\n",
       "      <td>13.3</td>\n",
       "      <td>NaN</td>\n",
       "    </tr>\n",
       "    <tr>\n",
       "      <th>5</th>\n",
       "      <td>1</td>\n",
       "      <td>430.0</td>\n",
       "      <td>26.5</td>\n",
       "      <td>29.0</td>\n",
       "      <td>34.0</td>\n",
       "      <td>36.6</td>\n",
       "      <td>15.1</td>\n",
       "      <td>NaN</td>\n",
       "    </tr>\n",
       "  </tbody>\n",
       "</table>\n",
       "</div>"
      ],
      "text/plain": [
       "   Species  Weight  Length1  Length2  Length3  Height%  Width%  Sex\n",
       "1        1   242.0     23.2     25.4     30.0     38.4    13.4  NaN\n",
       "2        1   290.0     24.0     26.3     31.2     40.0    13.8  NaN\n",
       "3        1   340.0     23.9     26.5     31.1     39.8    15.1  NaN\n",
       "4        1   363.0     26.3     29.0     33.5     38.0    13.3  NaN\n",
       "5        1   430.0     26.5     29.0     34.0     36.6    15.1  NaN"
      ]
     },
     "execution_count": 454,
     "metadata": {},
     "output_type": "execute_result"
    }
   ],
   "source": [
    "fishes.head()"
   ]
  },
  {
   "cell_type": "code",
   "execution_count": 455,
   "id": "e45dcd5a",
   "metadata": {},
   "outputs": [
    {
     "data": {
      "text/html": [
       "<div>\n",
       "<style scoped>\n",
       "    .dataframe tbody tr th:only-of-type {\n",
       "        vertical-align: middle;\n",
       "    }\n",
       "\n",
       "    .dataframe tbody tr th {\n",
       "        vertical-align: top;\n",
       "    }\n",
       "\n",
       "    .dataframe thead th {\n",
       "        text-align: right;\n",
       "    }\n",
       "</style>\n",
       "<table border=\"1\" class=\"dataframe\">\n",
       "  <thead>\n",
       "    <tr style=\"text-align: right;\">\n",
       "      <th></th>\n",
       "      <th>Species</th>\n",
       "      <th>Weight</th>\n",
       "      <th>Length1</th>\n",
       "      <th>Length2</th>\n",
       "      <th>Length3</th>\n",
       "      <th>Height%</th>\n",
       "      <th>Width%</th>\n",
       "      <th>Sex</th>\n",
       "    </tr>\n",
       "  </thead>\n",
       "  <tbody>\n",
       "    <tr>\n",
       "      <th>155</th>\n",
       "      <td>7</td>\n",
       "      <td>1100.0</td>\n",
       "      <td>39.0</td>\n",
       "      <td>42.0</td>\n",
       "      <td>44.6</td>\n",
       "      <td>28.7</td>\n",
       "      <td>15.4</td>\n",
       "      <td>0.0</td>\n",
       "    </tr>\n",
       "    <tr>\n",
       "      <th>156</th>\n",
       "      <td>7</td>\n",
       "      <td>1000.0</td>\n",
       "      <td>39.8</td>\n",
       "      <td>43.0</td>\n",
       "      <td>45.2</td>\n",
       "      <td>26.4</td>\n",
       "      <td>16.1</td>\n",
       "      <td>0.0</td>\n",
       "    </tr>\n",
       "    <tr>\n",
       "      <th>157</th>\n",
       "      <td>7</td>\n",
       "      <td>1100.0</td>\n",
       "      <td>40.1</td>\n",
       "      <td>43.0</td>\n",
       "      <td>45.5</td>\n",
       "      <td>27.5</td>\n",
       "      <td>16.3</td>\n",
       "      <td>0.0</td>\n",
       "    </tr>\n",
       "    <tr>\n",
       "      <th>158</th>\n",
       "      <td>7</td>\n",
       "      <td>1000.0</td>\n",
       "      <td>40.2</td>\n",
       "      <td>43.5</td>\n",
       "      <td>46.0</td>\n",
       "      <td>27.4</td>\n",
       "      <td>17.7</td>\n",
       "      <td>1.0</td>\n",
       "    </tr>\n",
       "    <tr>\n",
       "      <th>159</th>\n",
       "      <td>7</td>\n",
       "      <td>1000.0</td>\n",
       "      <td>41.1</td>\n",
       "      <td>44.0</td>\n",
       "      <td>46.6</td>\n",
       "      <td>26.8</td>\n",
       "      <td>16.3</td>\n",
       "      <td>0.0</td>\n",
       "    </tr>\n",
       "  </tbody>\n",
       "</table>\n",
       "</div>"
      ],
      "text/plain": [
       "     Species  Weight  Length1  Length2  Length3  Height%  Width%  Sex\n",
       "155        7  1100.0     39.0     42.0     44.6     28.7    15.4  0.0\n",
       "156        7  1000.0     39.8     43.0     45.2     26.4    16.1  0.0\n",
       "157        7  1100.0     40.1     43.0     45.5     27.5    16.3  0.0\n",
       "158        7  1000.0     40.2     43.5     46.0     27.4    17.7  1.0\n",
       "159        7  1000.0     41.1     44.0     46.6     26.8    16.3  0.0"
      ]
     },
     "execution_count": 455,
     "metadata": {},
     "output_type": "execute_result"
    }
   ],
   "source": [
    "fishes.tail()"
   ]
  },
  {
   "cell_type": "code",
   "execution_count": 456,
   "id": "37eb5184",
   "metadata": {},
   "outputs": [
    {
     "name": "stdout",
     "output_type": "stream",
     "text": [
      "<class 'pandas.core.frame.DataFrame'>\n",
      "Index: 159 entries, 1 to 159\n",
      "Data columns (total 8 columns):\n",
      " #   Column   Non-Null Count  Dtype  \n",
      "---  ------   --------------  -----  \n",
      " 0   Species  159 non-null    int64  \n",
      " 1   Weight   158 non-null    float64\n",
      " 2   Length1  159 non-null    float64\n",
      " 3   Length2  159 non-null    float64\n",
      " 4   Length3  159 non-null    float64\n",
      " 5   Height%  159 non-null    float64\n",
      " 6   Width%   159 non-null    float64\n",
      " 7   Sex      72 non-null     float64\n",
      "dtypes: float64(7), int64(1)\n",
      "memory usage: 11.2 KB\n"
     ]
    }
   ],
   "source": [
    "fishes.info()"
   ]
  },
  {
   "cell_type": "code",
   "execution_count": 457,
   "id": "8b4542fc",
   "metadata": {},
   "outputs": [],
   "source": [
    "# Suppression de la colonne Sex qui contient beaucoup de valeurs manquantes\n",
    "fishes.drop([\"Sex\"], \n",
    "                         axis=1,\n",
    "                         inplace=True)"
   ]
  },
  {
   "cell_type": "code",
   "execution_count": 458,
   "id": "97a46495",
   "metadata": {},
   "outputs": [
    {
     "data": {
      "text/html": [
       "<div>\n",
       "<style scoped>\n",
       "    .dataframe tbody tr th:only-of-type {\n",
       "        vertical-align: middle;\n",
       "    }\n",
       "\n",
       "    .dataframe tbody tr th {\n",
       "        vertical-align: top;\n",
       "    }\n",
       "\n",
       "    .dataframe thead th {\n",
       "        text-align: right;\n",
       "    }\n",
       "</style>\n",
       "<table border=\"1\" class=\"dataframe\">\n",
       "  <thead>\n",
       "    <tr style=\"text-align: right;\">\n",
       "      <th></th>\n",
       "      <th>Species</th>\n",
       "      <th>Weight</th>\n",
       "      <th>Length1</th>\n",
       "      <th>Length2</th>\n",
       "      <th>Length3</th>\n",
       "      <th>Height%</th>\n",
       "      <th>Width%</th>\n",
       "    </tr>\n",
       "  </thead>\n",
       "  <tbody>\n",
       "    <tr>\n",
       "      <th>1</th>\n",
       "      <td>1</td>\n",
       "      <td>242.0</td>\n",
       "      <td>23.2</td>\n",
       "      <td>25.4</td>\n",
       "      <td>30.0</td>\n",
       "      <td>38.4</td>\n",
       "      <td>13.4</td>\n",
       "    </tr>\n",
       "    <tr>\n",
       "      <th>2</th>\n",
       "      <td>1</td>\n",
       "      <td>290.0</td>\n",
       "      <td>24.0</td>\n",
       "      <td>26.3</td>\n",
       "      <td>31.2</td>\n",
       "      <td>40.0</td>\n",
       "      <td>13.8</td>\n",
       "    </tr>\n",
       "    <tr>\n",
       "      <th>3</th>\n",
       "      <td>1</td>\n",
       "      <td>340.0</td>\n",
       "      <td>23.9</td>\n",
       "      <td>26.5</td>\n",
       "      <td>31.1</td>\n",
       "      <td>39.8</td>\n",
       "      <td>15.1</td>\n",
       "    </tr>\n",
       "    <tr>\n",
       "      <th>4</th>\n",
       "      <td>1</td>\n",
       "      <td>363.0</td>\n",
       "      <td>26.3</td>\n",
       "      <td>29.0</td>\n",
       "      <td>33.5</td>\n",
       "      <td>38.0</td>\n",
       "      <td>13.3</td>\n",
       "    </tr>\n",
       "    <tr>\n",
       "      <th>5</th>\n",
       "      <td>1</td>\n",
       "      <td>430.0</td>\n",
       "      <td>26.5</td>\n",
       "      <td>29.0</td>\n",
       "      <td>34.0</td>\n",
       "      <td>36.6</td>\n",
       "      <td>15.1</td>\n",
       "    </tr>\n",
       "    <tr>\n",
       "      <th>...</th>\n",
       "      <td>...</td>\n",
       "      <td>...</td>\n",
       "      <td>...</td>\n",
       "      <td>...</td>\n",
       "      <td>...</td>\n",
       "      <td>...</td>\n",
       "      <td>...</td>\n",
       "    </tr>\n",
       "    <tr>\n",
       "      <th>155</th>\n",
       "      <td>7</td>\n",
       "      <td>1100.0</td>\n",
       "      <td>39.0</td>\n",
       "      <td>42.0</td>\n",
       "      <td>44.6</td>\n",
       "      <td>28.7</td>\n",
       "      <td>15.4</td>\n",
       "    </tr>\n",
       "    <tr>\n",
       "      <th>156</th>\n",
       "      <td>7</td>\n",
       "      <td>1000.0</td>\n",
       "      <td>39.8</td>\n",
       "      <td>43.0</td>\n",
       "      <td>45.2</td>\n",
       "      <td>26.4</td>\n",
       "      <td>16.1</td>\n",
       "    </tr>\n",
       "    <tr>\n",
       "      <th>157</th>\n",
       "      <td>7</td>\n",
       "      <td>1100.0</td>\n",
       "      <td>40.1</td>\n",
       "      <td>43.0</td>\n",
       "      <td>45.5</td>\n",
       "      <td>27.5</td>\n",
       "      <td>16.3</td>\n",
       "    </tr>\n",
       "    <tr>\n",
       "      <th>158</th>\n",
       "      <td>7</td>\n",
       "      <td>1000.0</td>\n",
       "      <td>40.2</td>\n",
       "      <td>43.5</td>\n",
       "      <td>46.0</td>\n",
       "      <td>27.4</td>\n",
       "      <td>17.7</td>\n",
       "    </tr>\n",
       "    <tr>\n",
       "      <th>159</th>\n",
       "      <td>7</td>\n",
       "      <td>1000.0</td>\n",
       "      <td>41.1</td>\n",
       "      <td>44.0</td>\n",
       "      <td>46.6</td>\n",
       "      <td>26.8</td>\n",
       "      <td>16.3</td>\n",
       "    </tr>\n",
       "  </tbody>\n",
       "</table>\n",
       "<p>159 rows × 7 columns</p>\n",
       "</div>"
      ],
      "text/plain": [
       "     Species  Weight  Length1  Length2  Length3  Height%  Width%\n",
       "1          1   242.0     23.2     25.4     30.0     38.4    13.4\n",
       "2          1   290.0     24.0     26.3     31.2     40.0    13.8\n",
       "3          1   340.0     23.9     26.5     31.1     39.8    15.1\n",
       "4          1   363.0     26.3     29.0     33.5     38.0    13.3\n",
       "5          1   430.0     26.5     29.0     34.0     36.6    15.1\n",
       "..       ...     ...      ...      ...      ...      ...     ...\n",
       "155        7  1100.0     39.0     42.0     44.6     28.7    15.4\n",
       "156        7  1000.0     39.8     43.0     45.2     26.4    16.1\n",
       "157        7  1100.0     40.1     43.0     45.5     27.5    16.3\n",
       "158        7  1000.0     40.2     43.5     46.0     27.4    17.7\n",
       "159        7  1000.0     41.1     44.0     46.6     26.8    16.3\n",
       "\n",
       "[159 rows x 7 columns]"
      ]
     },
     "execution_count": 458,
     "metadata": {},
     "output_type": "execute_result"
    }
   ],
   "source": [
    "fishes"
   ]
  },
  {
   "cell_type": "code",
   "execution_count": 464,
   "id": "b67f242f",
   "metadata": {},
   "outputs": [],
   "source": [
    "# Suppression de la ligne de données manquantes dans la colonne weight\n",
    "fishes.dropna(axis=0,\n",
    "           inplace= True)"
   ]
  },
  {
   "cell_type": "code",
   "execution_count": 466,
   "id": "4e3d9563",
   "metadata": {},
   "outputs": [],
   "source": [
    "# Supposons qu'on a pas la colonne Species\n",
    "\n",
    "Species = fishes.pop(\"Species\")"
   ]
  },
  {
   "cell_type": "code",
   "execution_count": 469,
   "id": "59a1e1e6",
   "metadata": {},
   "outputs": [],
   "source": [
    "# Création du tableau d'échantillons \n",
    "fishes_array = fishes.values"
   ]
  },
  {
   "cell_type": "code",
   "execution_count": 472,
   "id": "40b30d3a",
   "metadata": {},
   "outputs": [
    {
     "data": {
      "text/plain": [
       "array([[ 242. ,   23.2,   25.4,   30. ,   38.4,   13.4],\n",
       "       [ 290. ,   24. ,   26.3,   31.2,   40. ,   13.8],\n",
       "       [ 340. ,   23.9,   26.5,   31.1,   39.8,   15.1],\n",
       "       [ 363. ,   26.3,   29. ,   33.5,   38. ,   13.3],\n",
       "       [ 430. ,   26.5,   29. ,   34. ,   36.6,   15.1],\n",
       "       [ 450. ,   26.8,   29.7,   34.7,   39.2,   14.2],\n",
       "       [ 500. ,   26.8,   29.7,   34.5,   41.1,   15.3],\n",
       "       [ 390. ,   27.6,   30. ,   35. ,   36.2,   13.4],\n",
       "       [ 450. ,   27.6,   30. ,   35.1,   39.9,   13.8],\n",
       "       [ 500. ,   28.5,   30.7,   36.2,   39.3,   13.7],\n",
       "       [ 475. ,   28.4,   31. ,   36.2,   39.4,   14.1],\n",
       "       [ 500. ,   28.7,   31. ,   36.2,   39.7,   13.3],\n",
       "       [ 500. ,   29.1,   31.5,   36.4,   37.8,   12. ],\n",
       "       [ 600. ,   29.4,   32. ,   37.2,   40.2,   13.9],\n",
       "       [ 600. ,   29.4,   32. ,   37.2,   41.5,   15. ],\n",
       "       [ 700. ,   30.4,   33. ,   38.3,   38.8,   13.8],\n",
       "       [ 700. ,   30.4,   33. ,   38.5,   38.8,   13.5],\n",
       "       [ 610. ,   30.9,   33.5,   38.6,   40.5,   13.3],\n",
       "       [ 650. ,   31. ,   33.5,   38.7,   37.4,   14.8],\n",
       "       [ 575. ,   31.3,   34. ,   39.5,   38.3,   14.1],\n",
       "       [ 685. ,   31.4,   34. ,   39.2,   40.8,   13.7],\n",
       "       [ 620. ,   31.5,   34.5,   39.7,   39.1,   13.3],\n",
       "       [ 680. ,   31.8,   35. ,   40.6,   38.1,   15.1],\n",
       "       [ 700. ,   31.9,   35. ,   40.5,   40.1,   13.8],\n",
       "       [ 725. ,   31.8,   35. ,   40.9,   40. ,   14.8],\n",
       "       [ 720. ,   32. ,   35. ,   40.6,   40.3,   15. ],\n",
       "       [ 714. ,   32.7,   36. ,   41.5,   39.8,   14.1],\n",
       "       [ 850. ,   32.8,   36. ,   41.6,   40.6,   14.9],\n",
       "       [1000. ,   33.5,   37. ,   42.6,   44.5,   15.5],\n",
       "       [ 920. ,   35. ,   38.5,   44.1,   40.9,   14.3],\n",
       "       [ 955. ,   35. ,   38.5,   44. ,   41.1,   14.3],\n",
       "       [ 925. ,   36.2,   39.5,   45.3,   41.4,   14.9],\n",
       "       [ 975. ,   37.4,   41. ,   45.9,   40.6,   14.7],\n",
       "       [ 950. ,   38. ,   41. ,   46.5,   37.9,   13.7],\n",
       "       [ 270. ,   23.6,   26. ,   28.7,   29.2,   14.8],\n",
       "       [ 270. ,   24.1,   26.5,   29.3,   27.8,   14.5],\n",
       "       [ 306. ,   25.6,   28. ,   30.8,   28.5,   15.2],\n",
       "       [ 540. ,   28.5,   31. ,   34. ,   31.6,   19.3],\n",
       "       [ 800. ,   33.7,   36.4,   39.6,   29.7,   16.6],\n",
       "       [1000. ,   37.3,   40. ,   43.5,   28.4,   15. ],\n",
       "       [  40. ,   12.9,   14.1,   16.2,   25.6,   14. ],\n",
       "       [  69. ,   16.5,   18.2,   20.3,   26.1,   13.9],\n",
       "       [  78. ,   17.5,   18.8,   21.2,   26.3,   13.7],\n",
       "       [  87. ,   18.2,   19.8,   22.2,   25.3,   14.3],\n",
       "       [ 120. ,   18.6,   20. ,   22.2,   28. ,   16.1],\n",
       "       [   0. ,   19. ,   20.5,   22.8,   28.4,   14.7],\n",
       "       [ 110. ,   19.1,   20.8,   23.1,   26.7,   14.7],\n",
       "       [ 120. ,   19.4,   21. ,   23.7,   25.8,   13.9],\n",
       "       [ 150. ,   20.4,   22. ,   24.7,   23.5,   15.2],\n",
       "       [ 145. ,   20.5,   22. ,   24.3,   27.3,   14.6],\n",
       "       [ 160. ,   20.5,   22.5,   25.3,   27.8,   15.1],\n",
       "       [ 140. ,   21. ,   22.5,   25. ,   26.2,   13.3],\n",
       "       [ 160. ,   21.1,   22.5,   25. ,   25.6,   15.2],\n",
       "       [ 169. ,   22. ,   24. ,   27.2,   27.7,   14.1],\n",
       "       [ 161. ,   22. ,   23.4,   26.7,   25.9,   13.6],\n",
       "       [ 200. ,   22.1,   23.5,   26.8,   27.6,   15.4],\n",
       "       [ 180. ,   23.6,   25.2,   27.9,   25.4,   14. ],\n",
       "       [ 290. ,   24. ,   26. ,   29.2,   30.4,   15.4],\n",
       "       [ 272. ,   25. ,   27. ,   30.6,   28. ,   15.6],\n",
       "       [ 390. ,   29.5,   31.7,   35. ,   27.1,   15.3],\n",
       "       [  55. ,   13.5,   14.7,   16.5,   41.5,   14.1],\n",
       "       [  60. ,   14.3,   15.5,   17.4,   37.8,   13.3],\n",
       "       [  90. ,   16.3,   17.7,   19.8,   37.4,   13.5],\n",
       "       [ 120. ,   17.5,   19. ,   21.3,   39.4,   13.7],\n",
       "       [ 150. ,   18.4,   20. ,   22.4,   39.7,   14.7],\n",
       "       [ 140. ,   19. ,   20.7,   23.2,   36.8,   14.2],\n",
       "       [ 170. ,   19. ,   20.7,   23.2,   40.5,   14.7],\n",
       "       [ 145. ,   19.8,   21.5,   24.1,   40.4,   13.1],\n",
       "       [ 200. ,   21.2,   23. ,   25.8,   40.1,   14.2],\n",
       "       [ 273. ,   23. ,   25. ,   28. ,   39.6,   14.8],\n",
       "       [ 300. ,   24. ,   26. ,   29. ,   39.2,   14.6],\n",
       "       [   6.7,    9.3,    9.8,   10.8,   16.1,    9.7],\n",
       "       [   7.5,   10. ,   10.5,   11.6,   17. ,   10. ],\n",
       "       [   7. ,   10.1,   10.6,   11.6,   14.9,    9.9],\n",
       "       [   9.7,   10.4,   11. ,   12. ,   18.3,   11.5],\n",
       "       [   9.8,   10.7,   11.2,   12.4,   16.8,   10.3],\n",
       "       [   8.7,   10.8,   11.3,   12.6,   15.7,   10.2],\n",
       "       [  10. ,   11.3,   11.8,   13.1,   16.9,    9.8],\n",
       "       [   9.9,   11.3,   11.8,   13.1,   16.9,    8.9],\n",
       "       [   9.8,   11.4,   12. ,   13.2,   16.7,    8.7],\n",
       "       [  12.2,   11.5,   12.2,   13.4,   15.6,   10.4],\n",
       "       [  13.4,   11.7,   12.4,   13.5,   18. ,    9.4],\n",
       "       [  12.2,   12.1,   13. ,   13.8,   16.5,    9.1],\n",
       "       [  19.7,   13.2,   14.3,   15.2,   18.9,   13.6],\n",
       "       [  19.9,   13.8,   15. ,   16.2,   18.1,   11.6],\n",
       "       [ 200. ,   30. ,   32.3,   34.8,   16. ,    9.7],\n",
       "       [ 300. ,   31.7,   34. ,   37.8,   15.1,   11. ],\n",
       "       [ 300. ,   32.7,   35. ,   38.8,   15.3,   11.3],\n",
       "       [ 300. ,   34.8,   37.3,   39.8,   15.8,   10.1],\n",
       "       [ 430. ,   35.5,   38. ,   40.5,   18. ,   11.3],\n",
       "       [ 345. ,   36. ,   38.5,   41. ,   15.6,    9.7],\n",
       "       [ 456. ,   40. ,   42.5,   45.5,   16. ,    9.5],\n",
       "       [ 510. ,   40. ,   42.5,   45.5,   15. ,    9.8],\n",
       "       [ 540. ,   40.1,   43. ,   45.8,   17. ,   11.2],\n",
       "       [ 500. ,   42. ,   45. ,   48. ,   14.5,   10.2],\n",
       "       [ 567. ,   43.2,   46. ,   48.7,   16. ,   10. ],\n",
       "       [ 770. ,   44.8,   48. ,   51.2,   15. ,   10.5],\n",
       "       [ 950. ,   48.3,   51.7,   55.1,   16.2,   11.2],\n",
       "       [1250. ,   52. ,   56. ,   59.7,   17.9,   11.7],\n",
       "       [1600. ,   56. ,   60. ,   64. ,   15. ,    9.6],\n",
       "       [1550. ,   56. ,   60. ,   64. ,   15. ,    9.6],\n",
       "       [1650. ,   59. ,   63.4,   68. ,   15.9,   11. ],\n",
       "       [   5.9,    7.5,    8.4,    8.8,   24. ,   16. ],\n",
       "       [  32. ,   12.5,   13.7,   14.7,   24. ,   13.6],\n",
       "       [  40. ,   13.8,   15. ,   16. ,   23.9,   15.2],\n",
       "       [  51.5,   15. ,   16.2,   17.2,   26.7,   15.3],\n",
       "       [  70. ,   15.7,   17.4,   18.5,   24.8,   15.9],\n",
       "       [ 100. ,   16.2,   18. ,   19.2,   27.2,   17.3],\n",
       "       [  78. ,   16.8,   18.7,   19.4,   26.8,   16.1],\n",
       "       [  80. ,   17.2,   19. ,   20.2,   27.9,   15.1],\n",
       "       [  85. ,   17.8,   19.6,   20.8,   24.7,   14.6],\n",
       "       [  85. ,   18.2,   20. ,   21. ,   24.2,   13.2],\n",
       "       [ 110. ,   19. ,   21. ,   22.5,   25.3,   15.8],\n",
       "       [ 115. ,   19. ,   21. ,   22.5,   26.3,   14.7],\n",
       "       [ 125. ,   19. ,   21. ,   22.5,   25.3,   16.3],\n",
       "       [ 130. ,   19.3,   21.3,   22.8,   28. ,   15.5],\n",
       "       [ 120. ,   20. ,   22. ,   23.5,   26. ,   14.5],\n",
       "       [ 120. ,   20. ,   22. ,   23.5,   24. ,   15. ],\n",
       "       [ 130. ,   20. ,   22. ,   23.5,   26. ,   15. ],\n",
       "       [ 135. ,   20. ,   22. ,   23.5,   25. ,   15. ],\n",
       "       [ 110. ,   20. ,   22. ,   23.5,   23.5,   17. ],\n",
       "       [ 130. ,   20.5,   22.5,   24. ,   24.4,   15.1],\n",
       "       [ 150. ,   20.5,   22.5,   24. ,   28.3,   15.1],\n",
       "       [ 145. ,   20.7,   22.7,   24.2,   24.6,   15. ],\n",
       "       [ 150. ,   21. ,   23. ,   24.5,   21.3,   14.8],\n",
       "       [ 170. ,   21.5,   23.5,   25. ,   25.1,   14.9],\n",
       "       [ 225. ,   22. ,   24. ,   25.5,   28.6,   14.6],\n",
       "       [ 145. ,   22. ,   24. ,   25.5,   25. ,   15. ],\n",
       "       [ 188. ,   22.6,   24.6,   26.2,   25.7,   15.9],\n",
       "       [ 180. ,   23. ,   25. ,   26.5,   24.3,   13.9],\n",
       "       [ 197. ,   23.5,   25.6,   27. ,   24.3,   15.7],\n",
       "       [ 218. ,   25. ,   26.5,   28. ,   25.6,   14.8],\n",
       "       [ 300. ,   25.2,   27.3,   28.7,   29. ,   17.9],\n",
       "       [ 260. ,   25.4,   27.5,   28.9,   24.8,   15. ],\n",
       "       [ 265. ,   25.4,   27.5,   28.9,   24.4,   15. ],\n",
       "       [ 250. ,   25.4,   27.5,   28.9,   25.2,   15.8],\n",
       "       [ 250. ,   25.9,   28. ,   29.4,   26.6,   14.3],\n",
       "       [ 300. ,   26.9,   28.7,   30.1,   25.2,   15.4],\n",
       "       [ 320. ,   27.8,   30. ,   31.6,   24.1,   15.1],\n",
       "       [ 514. ,   30.5,   32.8,   34. ,   29.5,   17.7],\n",
       "       [ 556. ,   32. ,   34.5,   36.5,   28.1,   17.5],\n",
       "       [ 840. ,   32.5,   35. ,   37.3,   30.8,   20.9],\n",
       "       [ 685. ,   34. ,   36.5,   39. ,   27.9,   17.6],\n",
       "       [ 700. ,   34. ,   36. ,   38.3,   27.7,   17.6],\n",
       "       [ 700. ,   34.5,   37. ,   39.4,   27.5,   15.9],\n",
       "       [ 690. ,   34.6,   37. ,   39.3,   26.9,   16.2],\n",
       "       [ 900. ,   36.5,   39. ,   41.4,   26.9,   18.1],\n",
       "       [ 650. ,   36.5,   39. ,   41.4,   26.9,   14.5],\n",
       "       [ 820. ,   36.6,   39. ,   41.3,   30.1,   17.8],\n",
       "       [ 850. ,   36.9,   40. ,   42.3,   28.2,   16.8],\n",
       "       [ 900. ,   37. ,   40. ,   42.5,   27.6,   17. ],\n",
       "       [1015. ,   37. ,   40. ,   42.4,   29.2,   17.6],\n",
       "       [ 820. ,   37.1,   40. ,   42.5,   26.2,   15.6],\n",
       "       [1100. ,   39. ,   42. ,   44.6,   28.7,   15.4],\n",
       "       [1000. ,   39.8,   43. ,   45.2,   26.4,   16.1],\n",
       "       [1100. ,   40.1,   43. ,   45.5,   27.5,   16.3],\n",
       "       [1000. ,   40.2,   43.5,   46. ,   27.4,   17.7],\n",
       "       [1000. ,   41.1,   44. ,   46.6,   26.8,   16.3]])"
      ]
     },
     "execution_count": 472,
     "metadata": {},
     "output_type": "execute_result"
    }
   ],
   "source": [
    "fishes_array"
   ]
  },
  {
   "cell_type": "markdown",
   "id": "bb9e3b55",
   "metadata": {},
   "source": [
    "# METHODE DU COUPE (ELBOW METHOD)"
   ]
  },
  {
   "cell_type": "markdown",
   "id": "59b1747b",
   "metadata": {},
   "source": [
    "Puisqu'on n'a pas une idée du nombre de cluster adéquat, on exécutera l'algorithme KMeans pour plusieurs nombres de clusters et on choisira le meilleur nombre grâce à la méthode du coude () voir la paragraphe ci-dessous"
   ]
  },
  {
   "cell_type": "code",
   "execution_count": null,
   "id": "2283de61",
   "metadata": {},
   "outputs": [],
   "source": []
  }
 ],
 "metadata": {
  "kernelspec": {
   "display_name": "Python 3 (ipykernel)",
   "language": "python",
   "name": "python3"
  },
  "language_info": {
   "codemirror_mode": {
    "name": "ipython",
    "version": 3
   },
   "file_extension": ".py",
   "mimetype": "text/x-python",
   "name": "python",
   "nbconvert_exporter": "python",
   "pygments_lexer": "ipython3",
   "version": "3.10.0"
  }
 },
 "nbformat": 4,
 "nbformat_minor": 5
}
