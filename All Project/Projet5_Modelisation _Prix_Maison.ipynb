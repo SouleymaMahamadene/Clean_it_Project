{
 "cells": [
  {
   "cell_type": "code",
   "execution_count": 70,
   "id": "34a5338f",
   "metadata": {},
   "outputs": [],
   "source": [
    "import pandas as pd \n",
    "import numpy as np\n",
    "#from sklearn.tree import DecisionTreeRegressor\n",
    "from sklearn.model_selection import train_test_split, RandomizedSearchCV\n",
    "\n",
    "import warnings\n",
    "\n",
    "#from fractions import Fraction\n",
    "\n",
    "#from scipy import stats\n",
    "#from sklearn.linear_model import LinearRegression\n",
    "\n",
    "#from sklearn.metrics import mean_squared_log_error\n",
    "#from sklearn.model_selection import cross_val_score\n",
    "#from sklearn.model_selection import RandomizedSearchCV\n",
    "warnings.filterwarnings(\"ignore\")"
   ]
  },
  {
   "cell_type": "code",
   "execution_count": 71,
   "id": "8d9a4057",
   "metadata": {},
   "outputs": [],
   "source": [
    "file_path = \"E:/DSTI/Cours/Machine_Learning_Python_Lab/ML_Livre_JA/house_price_preprocessed\""
   ]
  },
  {
   "cell_type": "code",
   "execution_count": 72,
   "id": "1db30f25",
   "metadata": {},
   "outputs": [],
   "source": [
    "df = pd.read_csv(file_path, index_col=0)"
   ]
  },
  {
   "cell_type": "markdown",
   "id": "7ce5c505",
   "metadata": {},
   "source": [
    "Le paramètre index_col=0 dans la fonction pd.read_csv de la bibliothèque Pandas indique que la première colonne du fichier CSV doit être utilisée comme index du DataFrame. Voici une explication détaillée de ce que cela signifie et comment cela fonctionne "
   ]
  },
  {
   "cell_type": "code",
   "execution_count": 73,
   "id": "b68c3b4a",
   "metadata": {},
   "outputs": [
    {
     "data": {
      "text/html": [
       "<div>\n",
       "<style scoped>\n",
       "    .dataframe tbody tr th:only-of-type {\n",
       "        vertical-align: middle;\n",
       "    }\n",
       "\n",
       "    .dataframe tbody tr th {\n",
       "        vertical-align: top;\n",
       "    }\n",
       "\n",
       "    .dataframe thead th {\n",
       "        text-align: right;\n",
       "    }\n",
       "</style>\n",
       "<table border=\"1\" class=\"dataframe\">\n",
       "  <thead>\n",
       "    <tr style=\"text-align: right;\">\n",
       "      <th></th>\n",
       "      <th>MSSubClass</th>\n",
       "      <th>LotArea</th>\n",
       "      <th>OverallQual</th>\n",
       "      <th>OverallCond</th>\n",
       "      <th>BsmtFinSF1</th>\n",
       "      <th>BsmtUnfSF</th>\n",
       "      <th>TotalBsmtSF</th>\n",
       "      <th>1stFlrSF</th>\n",
       "      <th>2ndFlrSF</th>\n",
       "      <th>LowQualFinSF</th>\n",
       "      <th>...</th>\n",
       "      <th>GarageCars</th>\n",
       "      <th>GarageArea</th>\n",
       "      <th>WoodDeckSF</th>\n",
       "      <th>OpenPorchSF</th>\n",
       "      <th>EnclosedPorch</th>\n",
       "      <th>3SsnPorch</th>\n",
       "      <th>ScreenPorch</th>\n",
       "      <th>PoolArea</th>\n",
       "      <th>MiscVal</th>\n",
       "      <th>SalePrice</th>\n",
       "    </tr>\n",
       "    <tr>\n",
       "      <th>Id</th>\n",
       "      <th></th>\n",
       "      <th></th>\n",
       "      <th></th>\n",
       "      <th></th>\n",
       "      <th></th>\n",
       "      <th></th>\n",
       "      <th></th>\n",
       "      <th></th>\n",
       "      <th></th>\n",
       "      <th></th>\n",
       "      <th></th>\n",
       "      <th></th>\n",
       "      <th></th>\n",
       "      <th></th>\n",
       "      <th></th>\n",
       "      <th></th>\n",
       "      <th></th>\n",
       "      <th></th>\n",
       "      <th></th>\n",
       "      <th></th>\n",
       "      <th></th>\n",
       "    </tr>\n",
       "  </thead>\n",
       "  <tbody>\n",
       "    <tr>\n",
       "      <th>1</th>\n",
       "      <td>60</td>\n",
       "      <td>8450</td>\n",
       "      <td>7</td>\n",
       "      <td>5</td>\n",
       "      <td>706</td>\n",
       "      <td>150</td>\n",
       "      <td>856</td>\n",
       "      <td>856</td>\n",
       "      <td>854</td>\n",
       "      <td>0</td>\n",
       "      <td>...</td>\n",
       "      <td>2</td>\n",
       "      <td>548</td>\n",
       "      <td>0</td>\n",
       "      <td>61</td>\n",
       "      <td>0</td>\n",
       "      <td>0</td>\n",
       "      <td>0</td>\n",
       "      <td>0</td>\n",
       "      <td>0</td>\n",
       "      <td>208500</td>\n",
       "    </tr>\n",
       "    <tr>\n",
       "      <th>2</th>\n",
       "      <td>20</td>\n",
       "      <td>9600</td>\n",
       "      <td>6</td>\n",
       "      <td>8</td>\n",
       "      <td>978</td>\n",
       "      <td>284</td>\n",
       "      <td>1262</td>\n",
       "      <td>1262</td>\n",
       "      <td>0</td>\n",
       "      <td>0</td>\n",
       "      <td>...</td>\n",
       "      <td>2</td>\n",
       "      <td>460</td>\n",
       "      <td>298</td>\n",
       "      <td>0</td>\n",
       "      <td>0</td>\n",
       "      <td>0</td>\n",
       "      <td>0</td>\n",
       "      <td>0</td>\n",
       "      <td>0</td>\n",
       "      <td>181500</td>\n",
       "    </tr>\n",
       "    <tr>\n",
       "      <th>3</th>\n",
       "      <td>60</td>\n",
       "      <td>11250</td>\n",
       "      <td>7</td>\n",
       "      <td>5</td>\n",
       "      <td>486</td>\n",
       "      <td>434</td>\n",
       "      <td>920</td>\n",
       "      <td>920</td>\n",
       "      <td>866</td>\n",
       "      <td>0</td>\n",
       "      <td>...</td>\n",
       "      <td>2</td>\n",
       "      <td>608</td>\n",
       "      <td>0</td>\n",
       "      <td>42</td>\n",
       "      <td>0</td>\n",
       "      <td>0</td>\n",
       "      <td>0</td>\n",
       "      <td>0</td>\n",
       "      <td>0</td>\n",
       "      <td>223500</td>\n",
       "    </tr>\n",
       "    <tr>\n",
       "      <th>4</th>\n",
       "      <td>70</td>\n",
       "      <td>9550</td>\n",
       "      <td>7</td>\n",
       "      <td>5</td>\n",
       "      <td>216</td>\n",
       "      <td>540</td>\n",
       "      <td>756</td>\n",
       "      <td>961</td>\n",
       "      <td>756</td>\n",
       "      <td>0</td>\n",
       "      <td>...</td>\n",
       "      <td>3</td>\n",
       "      <td>642</td>\n",
       "      <td>0</td>\n",
       "      <td>35</td>\n",
       "      <td>272</td>\n",
       "      <td>0</td>\n",
       "      <td>0</td>\n",
       "      <td>0</td>\n",
       "      <td>0</td>\n",
       "      <td>140000</td>\n",
       "    </tr>\n",
       "    <tr>\n",
       "      <th>5</th>\n",
       "      <td>60</td>\n",
       "      <td>14260</td>\n",
       "      <td>8</td>\n",
       "      <td>5</td>\n",
       "      <td>655</td>\n",
       "      <td>490</td>\n",
       "      <td>1145</td>\n",
       "      <td>1145</td>\n",
       "      <td>1053</td>\n",
       "      <td>0</td>\n",
       "      <td>...</td>\n",
       "      <td>3</td>\n",
       "      <td>836</td>\n",
       "      <td>192</td>\n",
       "      <td>84</td>\n",
       "      <td>0</td>\n",
       "      <td>0</td>\n",
       "      <td>0</td>\n",
       "      <td>0</td>\n",
       "      <td>0</td>\n",
       "      <td>250000</td>\n",
       "    </tr>\n",
       "    <tr>\n",
       "      <th>...</th>\n",
       "      <td>...</td>\n",
       "      <td>...</td>\n",
       "      <td>...</td>\n",
       "      <td>...</td>\n",
       "      <td>...</td>\n",
       "      <td>...</td>\n",
       "      <td>...</td>\n",
       "      <td>...</td>\n",
       "      <td>...</td>\n",
       "      <td>...</td>\n",
       "      <td>...</td>\n",
       "      <td>...</td>\n",
       "      <td>...</td>\n",
       "      <td>...</td>\n",
       "      <td>...</td>\n",
       "      <td>...</td>\n",
       "      <td>...</td>\n",
       "      <td>...</td>\n",
       "      <td>...</td>\n",
       "      <td>...</td>\n",
       "      <td>...</td>\n",
       "    </tr>\n",
       "    <tr>\n",
       "      <th>1456</th>\n",
       "      <td>60</td>\n",
       "      <td>7917</td>\n",
       "      <td>6</td>\n",
       "      <td>5</td>\n",
       "      <td>0</td>\n",
       "      <td>953</td>\n",
       "      <td>953</td>\n",
       "      <td>953</td>\n",
       "      <td>694</td>\n",
       "      <td>0</td>\n",
       "      <td>...</td>\n",
       "      <td>2</td>\n",
       "      <td>460</td>\n",
       "      <td>0</td>\n",
       "      <td>40</td>\n",
       "      <td>0</td>\n",
       "      <td>0</td>\n",
       "      <td>0</td>\n",
       "      <td>0</td>\n",
       "      <td>0</td>\n",
       "      <td>175000</td>\n",
       "    </tr>\n",
       "    <tr>\n",
       "      <th>1457</th>\n",
       "      <td>20</td>\n",
       "      <td>13175</td>\n",
       "      <td>6</td>\n",
       "      <td>6</td>\n",
       "      <td>790</td>\n",
       "      <td>589</td>\n",
       "      <td>1542</td>\n",
       "      <td>2073</td>\n",
       "      <td>0</td>\n",
       "      <td>0</td>\n",
       "      <td>...</td>\n",
       "      <td>2</td>\n",
       "      <td>500</td>\n",
       "      <td>349</td>\n",
       "      <td>0</td>\n",
       "      <td>0</td>\n",
       "      <td>0</td>\n",
       "      <td>0</td>\n",
       "      <td>0</td>\n",
       "      <td>0</td>\n",
       "      <td>210000</td>\n",
       "    </tr>\n",
       "    <tr>\n",
       "      <th>1458</th>\n",
       "      <td>70</td>\n",
       "      <td>9042</td>\n",
       "      <td>7</td>\n",
       "      <td>9</td>\n",
       "      <td>275</td>\n",
       "      <td>877</td>\n",
       "      <td>1152</td>\n",
       "      <td>1188</td>\n",
       "      <td>1152</td>\n",
       "      <td>0</td>\n",
       "      <td>...</td>\n",
       "      <td>1</td>\n",
       "      <td>252</td>\n",
       "      <td>0</td>\n",
       "      <td>60</td>\n",
       "      <td>0</td>\n",
       "      <td>0</td>\n",
       "      <td>0</td>\n",
       "      <td>0</td>\n",
       "      <td>2500</td>\n",
       "      <td>266500</td>\n",
       "    </tr>\n",
       "    <tr>\n",
       "      <th>1459</th>\n",
       "      <td>20</td>\n",
       "      <td>9717</td>\n",
       "      <td>5</td>\n",
       "      <td>6</td>\n",
       "      <td>49</td>\n",
       "      <td>0</td>\n",
       "      <td>1078</td>\n",
       "      <td>1078</td>\n",
       "      <td>0</td>\n",
       "      <td>0</td>\n",
       "      <td>...</td>\n",
       "      <td>1</td>\n",
       "      <td>240</td>\n",
       "      <td>366</td>\n",
       "      <td>0</td>\n",
       "      <td>112</td>\n",
       "      <td>0</td>\n",
       "      <td>0</td>\n",
       "      <td>0</td>\n",
       "      <td>0</td>\n",
       "      <td>142125</td>\n",
       "    </tr>\n",
       "    <tr>\n",
       "      <th>1460</th>\n",
       "      <td>20</td>\n",
       "      <td>9937</td>\n",
       "      <td>5</td>\n",
       "      <td>6</td>\n",
       "      <td>830</td>\n",
       "      <td>136</td>\n",
       "      <td>1256</td>\n",
       "      <td>1256</td>\n",
       "      <td>0</td>\n",
       "      <td>0</td>\n",
       "      <td>...</td>\n",
       "      <td>1</td>\n",
       "      <td>276</td>\n",
       "      <td>736</td>\n",
       "      <td>68</td>\n",
       "      <td>0</td>\n",
       "      <td>0</td>\n",
       "      <td>0</td>\n",
       "      <td>0</td>\n",
       "      <td>0</td>\n",
       "      <td>147500</td>\n",
       "    </tr>\n",
       "  </tbody>\n",
       "</table>\n",
       "<p>1460 rows × 29 columns</p>\n",
       "</div>"
      ],
      "text/plain": [
       "      MSSubClass  LotArea  OverallQual  OverallCond  BsmtFinSF1  BsmtUnfSF  \\\n",
       "Id                                                                           \n",
       "1             60     8450            7            5         706        150   \n",
       "2             20     9600            6            8         978        284   \n",
       "3             60    11250            7            5         486        434   \n",
       "4             70     9550            7            5         216        540   \n",
       "5             60    14260            8            5         655        490   \n",
       "...          ...      ...          ...          ...         ...        ...   \n",
       "1456          60     7917            6            5           0        953   \n",
       "1457          20    13175            6            6         790        589   \n",
       "1458          70     9042            7            9         275        877   \n",
       "1459          20     9717            5            6          49          0   \n",
       "1460          20     9937            5            6         830        136   \n",
       "\n",
       "      TotalBsmtSF  1stFlrSF  2ndFlrSF  LowQualFinSF  ...  GarageCars  \\\n",
       "Id                                                   ...               \n",
       "1             856       856       854             0  ...           2   \n",
       "2            1262      1262         0             0  ...           2   \n",
       "3             920       920       866             0  ...           2   \n",
       "4             756       961       756             0  ...           3   \n",
       "5            1145      1145      1053             0  ...           3   \n",
       "...           ...       ...       ...           ...  ...         ...   \n",
       "1456          953       953       694             0  ...           2   \n",
       "1457         1542      2073         0             0  ...           2   \n",
       "1458         1152      1188      1152             0  ...           1   \n",
       "1459         1078      1078         0             0  ...           1   \n",
       "1460         1256      1256         0             0  ...           1   \n",
       "\n",
       "      GarageArea  WoodDeckSF  OpenPorchSF  EnclosedPorch  3SsnPorch  \\\n",
       "Id                                                                    \n",
       "1            548           0           61              0          0   \n",
       "2            460         298            0              0          0   \n",
       "3            608           0           42              0          0   \n",
       "4            642           0           35            272          0   \n",
       "5            836         192           84              0          0   \n",
       "...          ...         ...          ...            ...        ...   \n",
       "1456         460           0           40              0          0   \n",
       "1457         500         349            0              0          0   \n",
       "1458         252           0           60              0          0   \n",
       "1459         240         366            0            112          0   \n",
       "1460         276         736           68              0          0   \n",
       "\n",
       "      ScreenPorch  PoolArea  MiscVal  SalePrice  \n",
       "Id                                               \n",
       "1               0         0        0     208500  \n",
       "2               0         0        0     181500  \n",
       "3               0         0        0     223500  \n",
       "4               0         0        0     140000  \n",
       "5               0         0        0     250000  \n",
       "...           ...       ...      ...        ...  \n",
       "1456            0         0        0     175000  \n",
       "1457            0         0        0     210000  \n",
       "1458            0         0     2500     266500  \n",
       "1459            0         0        0     142125  \n",
       "1460            0         0        0     147500  \n",
       "\n",
       "[1460 rows x 29 columns]"
      ]
     },
     "execution_count": 73,
     "metadata": {},
     "output_type": "execute_result"
    }
   ],
   "source": [
    "df"
   ]
  },
  {
   "cell_type": "code",
   "execution_count": 74,
   "id": "e0339294",
   "metadata": {},
   "outputs": [
    {
     "data": {
      "text/plain": [
       "(1460, 29)"
      ]
     },
     "execution_count": 74,
     "metadata": {},
     "output_type": "execute_result"
    }
   ],
   "source": [
    "df.shape"
   ]
  },
  {
   "cell_type": "code",
   "execution_count": 75,
   "id": "033f8658",
   "metadata": {},
   "outputs": [
    {
     "data": {
      "text/plain": [
       "Index(['MSSubClass', 'LotArea', 'OverallQual', 'OverallCond', 'BsmtFinSF1',\n",
       "       'BsmtUnfSF', 'TotalBsmtSF', '1stFlrSF', '2ndFlrSF', 'LowQualFinSF',\n",
       "       'GrLivArea', 'BsmtFullBath', 'BsmtHalfBath', 'FullBath', 'HalfBath',\n",
       "       'BedroomAbvGr', 'KitchenAbvGr', 'TotRmsAbvGrd', 'Fireplaces',\n",
       "       'GarageCars', 'GarageArea', 'WoodDeckSF', 'OpenPorchSF',\n",
       "       'EnclosedPorch', '3SsnPorch', 'ScreenPorch', 'PoolArea', 'MiscVal',\n",
       "       'SalePrice'],\n",
       "      dtype='object')"
      ]
     },
     "execution_count": 75,
     "metadata": {},
     "output_type": "execute_result"
    }
   ],
   "source": [
    "df.columns"
   ]
  },
  {
   "cell_type": "code",
   "execution_count": 76,
   "id": "47d49d30",
   "metadata": {},
   "outputs": [
    {
     "name": "stdout",
     "output_type": "stream",
     "text": [
      "<class 'pandas.core.frame.DataFrame'>\n",
      "Index: 1460 entries, 1 to 1460\n",
      "Data columns (total 29 columns):\n",
      " #   Column         Non-Null Count  Dtype\n",
      "---  ------         --------------  -----\n",
      " 0   MSSubClass     1460 non-null   int64\n",
      " 1   LotArea        1460 non-null   int64\n",
      " 2   OverallQual    1460 non-null   int64\n",
      " 3   OverallCond    1460 non-null   int64\n",
      " 4   BsmtFinSF1     1460 non-null   int64\n",
      " 5   BsmtUnfSF      1460 non-null   int64\n",
      " 6   TotalBsmtSF    1460 non-null   int64\n",
      " 7   1stFlrSF       1460 non-null   int64\n",
      " 8   2ndFlrSF       1460 non-null   int64\n",
      " 9   LowQualFinSF   1460 non-null   int64\n",
      " 10  GrLivArea      1460 non-null   int64\n",
      " 11  BsmtFullBath   1460 non-null   int64\n",
      " 12  BsmtHalfBath   1460 non-null   int64\n",
      " 13  FullBath       1460 non-null   int64\n",
      " 14  HalfBath       1460 non-null   int64\n",
      " 15  BedroomAbvGr   1460 non-null   int64\n",
      " 16  KitchenAbvGr   1460 non-null   int64\n",
      " 17  TotRmsAbvGrd   1460 non-null   int64\n",
      " 18  Fireplaces     1460 non-null   int64\n",
      " 19  GarageCars     1460 non-null   int64\n",
      " 20  GarageArea     1460 non-null   int64\n",
      " 21  WoodDeckSF     1460 non-null   int64\n",
      " 22  OpenPorchSF    1460 non-null   int64\n",
      " 23  EnclosedPorch  1460 non-null   int64\n",
      " 24  3SsnPorch      1460 non-null   int64\n",
      " 25  ScreenPorch    1460 non-null   int64\n",
      " 26  PoolArea       1460 non-null   int64\n",
      " 27  MiscVal        1460 non-null   int64\n",
      " 28  SalePrice      1460 non-null   int64\n",
      "dtypes: int64(29)\n",
      "memory usage: 342.2 KB\n"
     ]
    }
   ],
   "source": [
    "df.info()"
   ]
  },
  {
   "cell_type": "code",
   "execution_count": 77,
   "id": "e605be94",
   "metadata": {},
   "outputs": [
    {
     "data": {
      "text/plain": [
       "MSSubClass       0\n",
       "LotArea          0\n",
       "OverallQual      0\n",
       "OverallCond      0\n",
       "BsmtFinSF1       0\n",
       "BsmtUnfSF        0\n",
       "TotalBsmtSF      0\n",
       "1stFlrSF         0\n",
       "2ndFlrSF         0\n",
       "LowQualFinSF     0\n",
       "GrLivArea        0\n",
       "BsmtFullBath     0\n",
       "BsmtHalfBath     0\n",
       "FullBath         0\n",
       "HalfBath         0\n",
       "BedroomAbvGr     0\n",
       "KitchenAbvGr     0\n",
       "TotRmsAbvGrd     0\n",
       "Fireplaces       0\n",
       "GarageCars       0\n",
       "GarageArea       0\n",
       "WoodDeckSF       0\n",
       "OpenPorchSF      0\n",
       "EnclosedPorch    0\n",
       "3SsnPorch        0\n",
       "ScreenPorch      0\n",
       "PoolArea         0\n",
       "MiscVal          0\n",
       "SalePrice        0\n",
       "dtype: int64"
      ]
     },
     "execution_count": 77,
     "metadata": {},
     "output_type": "execute_result"
    }
   ],
   "source": [
    "df.isnull().sum()"
   ]
  },
  {
   "cell_type": "markdown",
   "id": "f2880998",
   "metadata": {},
   "source": [
    "# ANALYSE EXPLORATOIRE DES DONNEES"
   ]
  },
  {
   "cell_type": "code",
   "execution_count": 78,
   "id": "b8f3a5e3",
   "metadata": {},
   "outputs": [
    {
     "data": {
      "text/html": [
       "<div>\n",
       "<style scoped>\n",
       "    .dataframe tbody tr th:only-of-type {\n",
       "        vertical-align: middle;\n",
       "    }\n",
       "\n",
       "    .dataframe tbody tr th {\n",
       "        vertical-align: top;\n",
       "    }\n",
       "\n",
       "    .dataframe thead th {\n",
       "        text-align: right;\n",
       "    }\n",
       "</style>\n",
       "<table border=\"1\" class=\"dataframe\">\n",
       "  <thead>\n",
       "    <tr style=\"text-align: right;\">\n",
       "      <th></th>\n",
       "      <th>MSSubClass</th>\n",
       "      <th>LotArea</th>\n",
       "      <th>OverallQual</th>\n",
       "      <th>OverallCond</th>\n",
       "      <th>BsmtFinSF1</th>\n",
       "      <th>BsmtUnfSF</th>\n",
       "      <th>TotalBsmtSF</th>\n",
       "      <th>1stFlrSF</th>\n",
       "      <th>2ndFlrSF</th>\n",
       "      <th>LowQualFinSF</th>\n",
       "      <th>...</th>\n",
       "      <th>GarageCars</th>\n",
       "      <th>GarageArea</th>\n",
       "      <th>WoodDeckSF</th>\n",
       "      <th>OpenPorchSF</th>\n",
       "      <th>EnclosedPorch</th>\n",
       "      <th>3SsnPorch</th>\n",
       "      <th>ScreenPorch</th>\n",
       "      <th>PoolArea</th>\n",
       "      <th>MiscVal</th>\n",
       "      <th>SalePrice</th>\n",
       "    </tr>\n",
       "  </thead>\n",
       "  <tbody>\n",
       "    <tr>\n",
       "      <th>count</th>\n",
       "      <td>1460.000000</td>\n",
       "      <td>1460.000000</td>\n",
       "      <td>1460.000000</td>\n",
       "      <td>1460.000000</td>\n",
       "      <td>1460.000000</td>\n",
       "      <td>1460.000000</td>\n",
       "      <td>1460.000000</td>\n",
       "      <td>1460.000000</td>\n",
       "      <td>1460.000000</td>\n",
       "      <td>1460.000000</td>\n",
       "      <td>...</td>\n",
       "      <td>1460.000000</td>\n",
       "      <td>1460.000000</td>\n",
       "      <td>1460.000000</td>\n",
       "      <td>1460.000000</td>\n",
       "      <td>1460.000000</td>\n",
       "      <td>1460.000000</td>\n",
       "      <td>1460.000000</td>\n",
       "      <td>1460.000000</td>\n",
       "      <td>1460.000000</td>\n",
       "      <td>1460.000000</td>\n",
       "    </tr>\n",
       "    <tr>\n",
       "      <th>mean</th>\n",
       "      <td>56.897260</td>\n",
       "      <td>10516.828082</td>\n",
       "      <td>6.099315</td>\n",
       "      <td>5.575342</td>\n",
       "      <td>443.639726</td>\n",
       "      <td>567.240411</td>\n",
       "      <td>1057.429452</td>\n",
       "      <td>1162.626712</td>\n",
       "      <td>346.992466</td>\n",
       "      <td>5.844521</td>\n",
       "      <td>...</td>\n",
       "      <td>1.767123</td>\n",
       "      <td>472.980137</td>\n",
       "      <td>94.244521</td>\n",
       "      <td>46.660274</td>\n",
       "      <td>21.954110</td>\n",
       "      <td>3.409589</td>\n",
       "      <td>15.060959</td>\n",
       "      <td>2.758904</td>\n",
       "      <td>43.489041</td>\n",
       "      <td>180921.195890</td>\n",
       "    </tr>\n",
       "    <tr>\n",
       "      <th>std</th>\n",
       "      <td>42.300571</td>\n",
       "      <td>9981.264932</td>\n",
       "      <td>1.382997</td>\n",
       "      <td>1.112799</td>\n",
       "      <td>456.098091</td>\n",
       "      <td>441.866955</td>\n",
       "      <td>438.705324</td>\n",
       "      <td>386.587738</td>\n",
       "      <td>436.528436</td>\n",
       "      <td>48.623081</td>\n",
       "      <td>...</td>\n",
       "      <td>0.747315</td>\n",
       "      <td>213.804841</td>\n",
       "      <td>125.338794</td>\n",
       "      <td>66.256028</td>\n",
       "      <td>61.119149</td>\n",
       "      <td>29.317331</td>\n",
       "      <td>55.757415</td>\n",
       "      <td>40.177307</td>\n",
       "      <td>496.123024</td>\n",
       "      <td>79442.502883</td>\n",
       "    </tr>\n",
       "    <tr>\n",
       "      <th>min</th>\n",
       "      <td>20.000000</td>\n",
       "      <td>1300.000000</td>\n",
       "      <td>1.000000</td>\n",
       "      <td>1.000000</td>\n",
       "      <td>0.000000</td>\n",
       "      <td>0.000000</td>\n",
       "      <td>0.000000</td>\n",
       "      <td>334.000000</td>\n",
       "      <td>0.000000</td>\n",
       "      <td>0.000000</td>\n",
       "      <td>...</td>\n",
       "      <td>0.000000</td>\n",
       "      <td>0.000000</td>\n",
       "      <td>0.000000</td>\n",
       "      <td>0.000000</td>\n",
       "      <td>0.000000</td>\n",
       "      <td>0.000000</td>\n",
       "      <td>0.000000</td>\n",
       "      <td>0.000000</td>\n",
       "      <td>0.000000</td>\n",
       "      <td>34900.000000</td>\n",
       "    </tr>\n",
       "    <tr>\n",
       "      <th>25%</th>\n",
       "      <td>20.000000</td>\n",
       "      <td>7553.500000</td>\n",
       "      <td>5.000000</td>\n",
       "      <td>5.000000</td>\n",
       "      <td>0.000000</td>\n",
       "      <td>223.000000</td>\n",
       "      <td>795.750000</td>\n",
       "      <td>882.000000</td>\n",
       "      <td>0.000000</td>\n",
       "      <td>0.000000</td>\n",
       "      <td>...</td>\n",
       "      <td>1.000000</td>\n",
       "      <td>334.500000</td>\n",
       "      <td>0.000000</td>\n",
       "      <td>0.000000</td>\n",
       "      <td>0.000000</td>\n",
       "      <td>0.000000</td>\n",
       "      <td>0.000000</td>\n",
       "      <td>0.000000</td>\n",
       "      <td>0.000000</td>\n",
       "      <td>129975.000000</td>\n",
       "    </tr>\n",
       "    <tr>\n",
       "      <th>50%</th>\n",
       "      <td>50.000000</td>\n",
       "      <td>9478.500000</td>\n",
       "      <td>6.000000</td>\n",
       "      <td>5.000000</td>\n",
       "      <td>383.500000</td>\n",
       "      <td>477.500000</td>\n",
       "      <td>991.500000</td>\n",
       "      <td>1087.000000</td>\n",
       "      <td>0.000000</td>\n",
       "      <td>0.000000</td>\n",
       "      <td>...</td>\n",
       "      <td>2.000000</td>\n",
       "      <td>480.000000</td>\n",
       "      <td>0.000000</td>\n",
       "      <td>25.000000</td>\n",
       "      <td>0.000000</td>\n",
       "      <td>0.000000</td>\n",
       "      <td>0.000000</td>\n",
       "      <td>0.000000</td>\n",
       "      <td>0.000000</td>\n",
       "      <td>163000.000000</td>\n",
       "    </tr>\n",
       "    <tr>\n",
       "      <th>75%</th>\n",
       "      <td>70.000000</td>\n",
       "      <td>11601.500000</td>\n",
       "      <td>7.000000</td>\n",
       "      <td>6.000000</td>\n",
       "      <td>712.250000</td>\n",
       "      <td>808.000000</td>\n",
       "      <td>1298.250000</td>\n",
       "      <td>1391.250000</td>\n",
       "      <td>728.000000</td>\n",
       "      <td>0.000000</td>\n",
       "      <td>...</td>\n",
       "      <td>2.000000</td>\n",
       "      <td>576.000000</td>\n",
       "      <td>168.000000</td>\n",
       "      <td>68.000000</td>\n",
       "      <td>0.000000</td>\n",
       "      <td>0.000000</td>\n",
       "      <td>0.000000</td>\n",
       "      <td>0.000000</td>\n",
       "      <td>0.000000</td>\n",
       "      <td>214000.000000</td>\n",
       "    </tr>\n",
       "    <tr>\n",
       "      <th>max</th>\n",
       "      <td>190.000000</td>\n",
       "      <td>215245.000000</td>\n",
       "      <td>10.000000</td>\n",
       "      <td>9.000000</td>\n",
       "      <td>5644.000000</td>\n",
       "      <td>2336.000000</td>\n",
       "      <td>6110.000000</td>\n",
       "      <td>4692.000000</td>\n",
       "      <td>2065.000000</td>\n",
       "      <td>572.000000</td>\n",
       "      <td>...</td>\n",
       "      <td>4.000000</td>\n",
       "      <td>1418.000000</td>\n",
       "      <td>857.000000</td>\n",
       "      <td>547.000000</td>\n",
       "      <td>552.000000</td>\n",
       "      <td>508.000000</td>\n",
       "      <td>480.000000</td>\n",
       "      <td>738.000000</td>\n",
       "      <td>15500.000000</td>\n",
       "      <td>755000.000000</td>\n",
       "    </tr>\n",
       "  </tbody>\n",
       "</table>\n",
       "<p>8 rows × 29 columns</p>\n",
       "</div>"
      ],
      "text/plain": [
       "        MSSubClass        LotArea  OverallQual  OverallCond   BsmtFinSF1  \\\n",
       "count  1460.000000    1460.000000  1460.000000  1460.000000  1460.000000   \n",
       "mean     56.897260   10516.828082     6.099315     5.575342   443.639726   \n",
       "std      42.300571    9981.264932     1.382997     1.112799   456.098091   \n",
       "min      20.000000    1300.000000     1.000000     1.000000     0.000000   \n",
       "25%      20.000000    7553.500000     5.000000     5.000000     0.000000   \n",
       "50%      50.000000    9478.500000     6.000000     5.000000   383.500000   \n",
       "75%      70.000000   11601.500000     7.000000     6.000000   712.250000   \n",
       "max     190.000000  215245.000000    10.000000     9.000000  5644.000000   \n",
       "\n",
       "         BsmtUnfSF  TotalBsmtSF     1stFlrSF     2ndFlrSF  LowQualFinSF  ...  \\\n",
       "count  1460.000000  1460.000000  1460.000000  1460.000000   1460.000000  ...   \n",
       "mean    567.240411  1057.429452  1162.626712   346.992466      5.844521  ...   \n",
       "std     441.866955   438.705324   386.587738   436.528436     48.623081  ...   \n",
       "min       0.000000     0.000000   334.000000     0.000000      0.000000  ...   \n",
       "25%     223.000000   795.750000   882.000000     0.000000      0.000000  ...   \n",
       "50%     477.500000   991.500000  1087.000000     0.000000      0.000000  ...   \n",
       "75%     808.000000  1298.250000  1391.250000   728.000000      0.000000  ...   \n",
       "max    2336.000000  6110.000000  4692.000000  2065.000000    572.000000  ...   \n",
       "\n",
       "        GarageCars   GarageArea   WoodDeckSF  OpenPorchSF  EnclosedPorch  \\\n",
       "count  1460.000000  1460.000000  1460.000000  1460.000000    1460.000000   \n",
       "mean      1.767123   472.980137    94.244521    46.660274      21.954110   \n",
       "std       0.747315   213.804841   125.338794    66.256028      61.119149   \n",
       "min       0.000000     0.000000     0.000000     0.000000       0.000000   \n",
       "25%       1.000000   334.500000     0.000000     0.000000       0.000000   \n",
       "50%       2.000000   480.000000     0.000000    25.000000       0.000000   \n",
       "75%       2.000000   576.000000   168.000000    68.000000       0.000000   \n",
       "max       4.000000  1418.000000   857.000000   547.000000     552.000000   \n",
       "\n",
       "         3SsnPorch  ScreenPorch     PoolArea       MiscVal      SalePrice  \n",
       "count  1460.000000  1460.000000  1460.000000   1460.000000    1460.000000  \n",
       "mean      3.409589    15.060959     2.758904     43.489041  180921.195890  \n",
       "std      29.317331    55.757415    40.177307    496.123024   79442.502883  \n",
       "min       0.000000     0.000000     0.000000      0.000000   34900.000000  \n",
       "25%       0.000000     0.000000     0.000000      0.000000  129975.000000  \n",
       "50%       0.000000     0.000000     0.000000      0.000000  163000.000000  \n",
       "75%       0.000000     0.000000     0.000000      0.000000  214000.000000  \n",
       "max     508.000000   480.000000   738.000000  15500.000000  755000.000000  \n",
       "\n",
       "[8 rows x 29 columns]"
      ]
     },
     "execution_count": 78,
     "metadata": {},
     "output_type": "execute_result"
    }
   ],
   "source": [
    "df.describe()"
   ]
  },
  {
   "cell_type": "markdown",
   "id": "31985f20",
   "metadata": {},
   "source": [
    "# DIVISION DES DONNEES"
   ]
  },
  {
   "cell_type": "markdown",
   "id": "ea0217cc",
   "metadata": {},
   "source": [
    "Nous utiliserons 25% des données comme données de test."
   ]
  },
  {
   "cell_type": "code",
   "execution_count": 79,
   "id": "c0392909",
   "metadata": {},
   "outputs": [],
   "source": [
    "# Train/Test data\n",
    "test_size = 0.25\n",
    "seed = 111"
   ]
  },
  {
   "cell_type": "code",
   "execution_count": 80,
   "id": "98eb68d0",
   "metadata": {},
   "outputs": [],
   "source": [
    "#Separation des données\n",
    "# Dataframe des variables indépendantes_________our target is 'SalePrice'\n",
    "X = df.drop(\"SalePrice\", axis=1)\n",
    "\n",
    "# Variable cible\n",
    "y = df[\"SalePrice\"]"
   ]
  },
  {
   "cell_type": "code",
   "execution_count": 81,
   "id": "95d81f61",
   "metadata": {},
   "outputs": [],
   "source": [
    "X_train, X_test, Y_train, Y_test = train_test_split(X,\n",
    "                                                     y,\n",
    "                                                      test_size= test_size,\n",
    "                                                      random_state=seed )"
   ]
  },
  {
   "cell_type": "code",
   "execution_count": 82,
   "id": "13b75c65",
   "metadata": {},
   "outputs": [
    {
     "name": "stdout",
     "output_type": "stream",
     "text": [
      "(1095, 28)\n",
      "(365, 28)\n"
     ]
    }
   ],
   "source": [
    "# Dimension du train et du test data\n",
    "print(X_train.shape)\n",
    "print(X_test.shape)"
   ]
  },
  {
   "cell_type": "code",
   "execution_count": 83,
   "id": "bc82974f",
   "metadata": {},
   "outputs": [
    {
     "name": "stdout",
     "output_type": "stream",
     "text": [
      "(1095, 28)\n",
      "(1095,)\n",
      "(365, 28)\n",
      "(365,)\n"
     ]
    }
   ],
   "source": [
    "print(X_train.shape)\n",
    "print(Y_train.shape)\n",
    "print(X_test.shape)\n",
    "print(Y_test.shape)"
   ]
  },
  {
   "cell_type": "code",
   "execution_count": 84,
   "id": "7dceb14a",
   "metadata": {},
   "outputs": [],
   "source": [
    "#print (X_train.shape)\n",
    "#print (X_ test.shape)\n",
    "#(1095, 28)\n",
    "#(365, 28)"
   ]
  },
  {
   "cell_type": "markdown",
   "id": "0be93150",
   "metadata": {},
   "source": [
    "# MODELISATION"
   ]
  },
  {
   "cell_type": "markdown",
   "id": "8dbee1ea",
   "metadata": {},
   "source": [
    "L'algorithme d'arbre de décision pour la régression est très utilisé en Data Science. L'un de ses avantages est qu'il ne requiert aucune transformation dans les variables si nous avons affaire à des données non linéaires. Pour l'implémenter dans Python, nous utiliserons le module\n",
    "sklearn. tree. DecisionTreeRegressor25"
   ]
  },
  {
   "cell_type": "code",
   "execution_count": 85,
   "id": "84a40b91",
   "metadata": {},
   "outputs": [],
   "source": [
    "from sklearn.tree import DecisionTreeRegressor"
   ]
  },
  {
   "cell_type": "markdown",
   "id": "56fd041d",
   "metadata": {},
   "source": [
    "\n",
    "La ligne de code from sklearn.tree import DecisionTreeRegressor importe la classe DecisionTreeRegressor de la bibliothèque scikit-learn (sklearn). Cette classe est utilisée pour créer un modèle de régression basé sur des arbres de décision. Voici une explication détaillée de ce que cela signifie et comment cela fonctionne :\n",
    "\n",
    "Arbre de Décision pour la Régression\n",
    "\n",
    "Un arbre de décision pour la régression est un modèle non paramétrique qui prédit une valeur continue en divisant les données en sous-ensembles basés sur des tests de caractéristiques. Contrairement aux arbres de décision pour la classification, qui prédissent des classes discrètes, les arbres de décision pour la régression prédisent des valeurs numériques continues.\n",
    "\n",
    "Mot clés: \n",
    "\n",
    "Prédiction Numérique \n",
    "\n",
    "Divisions Basées sur des Décision"
   ]
  },
  {
   "cell_type": "code",
   "execution_count": null,
   "id": "c3227ce6",
   "metadata": {},
   "outputs": [],
   "source": []
  },
  {
   "cell_type": "markdown",
   "id": "ee48a20b",
   "metadata": {},
   "source": [
    "Le RandomForestClassifier est un modèle de machine learning qui utilise de nombreux arbres de décision pour prédire des catégories. Chaque arbre de décision vote pour une catégorie, et la catégorie avec le plus de votes est la prédiction finale.\n",
    "\n",
    "Points Clés:\n",
    "\n",
    "    Classification\n",
    "    \n",
    "    Ensemble d'Arbres de Décision"
   ]
  },
  {
   "cell_type": "code",
   "execution_count": 86,
   "id": "4a71861a",
   "metadata": {},
   "outputs": [],
   "source": [
    "# Création d'un modèle d'arbre de décision\n",
    "\n",
    "dt = DecisionTreeRegressor(random_state = seed)"
   ]
  },
  {
   "cell_type": "code",
   "execution_count": 87,
   "id": "90c20d0c",
   "metadata": {},
   "outputs": [
    {
     "data": {
      "text/html": [
       "<style>#sk-container-id-5 {color: black;}#sk-container-id-5 pre{padding: 0;}#sk-container-id-5 div.sk-toggleable {background-color: white;}#sk-container-id-5 label.sk-toggleable__label {cursor: pointer;display: block;width: 100%;margin-bottom: 0;padding: 0.3em;box-sizing: border-box;text-align: center;}#sk-container-id-5 label.sk-toggleable__label-arrow:before {content: \"▸\";float: left;margin-right: 0.25em;color: #696969;}#sk-container-id-5 label.sk-toggleable__label-arrow:hover:before {color: black;}#sk-container-id-5 div.sk-estimator:hover label.sk-toggleable__label-arrow:before {color: black;}#sk-container-id-5 div.sk-toggleable__content {max-height: 0;max-width: 0;overflow: hidden;text-align: left;background-color: #f0f8ff;}#sk-container-id-5 div.sk-toggleable__content pre {margin: 0.2em;color: black;border-radius: 0.25em;background-color: #f0f8ff;}#sk-container-id-5 input.sk-toggleable__control:checked~div.sk-toggleable__content {max-height: 200px;max-width: 100%;overflow: auto;}#sk-container-id-5 input.sk-toggleable__control:checked~label.sk-toggleable__label-arrow:before {content: \"▾\";}#sk-container-id-5 div.sk-estimator input.sk-toggleable__control:checked~label.sk-toggleable__label {background-color: #d4ebff;}#sk-container-id-5 div.sk-label input.sk-toggleable__control:checked~label.sk-toggleable__label {background-color: #d4ebff;}#sk-container-id-5 input.sk-hidden--visually {border: 0;clip: rect(1px 1px 1px 1px);clip: rect(1px, 1px, 1px, 1px);height: 1px;margin: -1px;overflow: hidden;padding: 0;position: absolute;width: 1px;}#sk-container-id-5 div.sk-estimator {font-family: monospace;background-color: #f0f8ff;border: 1px dotted black;border-radius: 0.25em;box-sizing: border-box;margin-bottom: 0.5em;}#sk-container-id-5 div.sk-estimator:hover {background-color: #d4ebff;}#sk-container-id-5 div.sk-parallel-item::after {content: \"\";width: 100%;border-bottom: 1px solid gray;flex-grow: 1;}#sk-container-id-5 div.sk-label:hover label.sk-toggleable__label {background-color: #d4ebff;}#sk-container-id-5 div.sk-serial::before {content: \"\";position: absolute;border-left: 1px solid gray;box-sizing: border-box;top: 0;bottom: 0;left: 50%;z-index: 0;}#sk-container-id-5 div.sk-serial {display: flex;flex-direction: column;align-items: center;background-color: white;padding-right: 0.2em;padding-left: 0.2em;position: relative;}#sk-container-id-5 div.sk-item {position: relative;z-index: 1;}#sk-container-id-5 div.sk-parallel {display: flex;align-items: stretch;justify-content: center;background-color: white;position: relative;}#sk-container-id-5 div.sk-item::before, #sk-container-id-5 div.sk-parallel-item::before {content: \"\";position: absolute;border-left: 1px solid gray;box-sizing: border-box;top: 0;bottom: 0;left: 50%;z-index: -1;}#sk-container-id-5 div.sk-parallel-item {display: flex;flex-direction: column;z-index: 1;position: relative;background-color: white;}#sk-container-id-5 div.sk-parallel-item:first-child::after {align-self: flex-end;width: 50%;}#sk-container-id-5 div.sk-parallel-item:last-child::after {align-self: flex-start;width: 50%;}#sk-container-id-5 div.sk-parallel-item:only-child::after {width: 0;}#sk-container-id-5 div.sk-dashed-wrapped {border: 1px dashed gray;margin: 0 0.4em 0.5em 0.4em;box-sizing: border-box;padding-bottom: 0.4em;background-color: white;}#sk-container-id-5 div.sk-label label {font-family: monospace;font-weight: bold;display: inline-block;line-height: 1.2em;}#sk-container-id-5 div.sk-label-container {text-align: center;}#sk-container-id-5 div.sk-container {/* jupyter's `normalize.less` sets `[hidden] { display: none; }` but bootstrap.min.css set `[hidden] { display: none !important; }` so we also need the `!important` here to be able to override the default hidden behavior on the sphinx rendered scikit-learn.org. See: https://github.com/scikit-learn/scikit-learn/issues/21755 */display: inline-block !important;position: relative;}#sk-container-id-5 div.sk-text-repr-fallback {display: none;}</style><div id=\"sk-container-id-5\" class=\"sk-top-container\"><div class=\"sk-text-repr-fallback\"><pre>DecisionTreeRegressor(random_state=111)</pre><b>In a Jupyter environment, please rerun this cell to show the HTML representation or trust the notebook. <br />On GitHub, the HTML representation is unable to render, please try loading this page with nbviewer.org.</b></div><div class=\"sk-container\" hidden><div class=\"sk-item\"><div class=\"sk-estimator sk-toggleable\"><input class=\"sk-toggleable__control sk-hidden--visually\" id=\"sk-estimator-id-5\" type=\"checkbox\" checked><label for=\"sk-estimator-id-5\" class=\"sk-toggleable__label sk-toggleable__label-arrow\">DecisionTreeRegressor</label><div class=\"sk-toggleable__content\"><pre>DecisionTreeRegressor(random_state=111)</pre></div></div></div></div></div>"
      ],
      "text/plain": [
       "DecisionTreeRegressor(random_state=111)"
      ]
     },
     "execution_count": 87,
     "metadata": {},
     "output_type": "execute_result"
    }
   ],
   "source": [
    "# Entraînement du modèle\n",
    "\n",
    "dt.fit(X_train, Y_train)"
   ]
  },
  {
   "cell_type": "code",
   "execution_count": 88,
   "id": "5f748b31",
   "metadata": {},
   "outputs": [
    {
     "data": {
      "text/html": [
       "<style>#sk-container-id-6 {color: black;}#sk-container-id-6 pre{padding: 0;}#sk-container-id-6 div.sk-toggleable {background-color: white;}#sk-container-id-6 label.sk-toggleable__label {cursor: pointer;display: block;width: 100%;margin-bottom: 0;padding: 0.3em;box-sizing: border-box;text-align: center;}#sk-container-id-6 label.sk-toggleable__label-arrow:before {content: \"▸\";float: left;margin-right: 0.25em;color: #696969;}#sk-container-id-6 label.sk-toggleable__label-arrow:hover:before {color: black;}#sk-container-id-6 div.sk-estimator:hover label.sk-toggleable__label-arrow:before {color: black;}#sk-container-id-6 div.sk-toggleable__content {max-height: 0;max-width: 0;overflow: hidden;text-align: left;background-color: #f0f8ff;}#sk-container-id-6 div.sk-toggleable__content pre {margin: 0.2em;color: black;border-radius: 0.25em;background-color: #f0f8ff;}#sk-container-id-6 input.sk-toggleable__control:checked~div.sk-toggleable__content {max-height: 200px;max-width: 100%;overflow: auto;}#sk-container-id-6 input.sk-toggleable__control:checked~label.sk-toggleable__label-arrow:before {content: \"▾\";}#sk-container-id-6 div.sk-estimator input.sk-toggleable__control:checked~label.sk-toggleable__label {background-color: #d4ebff;}#sk-container-id-6 div.sk-label input.sk-toggleable__control:checked~label.sk-toggleable__label {background-color: #d4ebff;}#sk-container-id-6 input.sk-hidden--visually {border: 0;clip: rect(1px 1px 1px 1px);clip: rect(1px, 1px, 1px, 1px);height: 1px;margin: -1px;overflow: hidden;padding: 0;position: absolute;width: 1px;}#sk-container-id-6 div.sk-estimator {font-family: monospace;background-color: #f0f8ff;border: 1px dotted black;border-radius: 0.25em;box-sizing: border-box;margin-bottom: 0.5em;}#sk-container-id-6 div.sk-estimator:hover {background-color: #d4ebff;}#sk-container-id-6 div.sk-parallel-item::after {content: \"\";width: 100%;border-bottom: 1px solid gray;flex-grow: 1;}#sk-container-id-6 div.sk-label:hover label.sk-toggleable__label {background-color: #d4ebff;}#sk-container-id-6 div.sk-serial::before {content: \"\";position: absolute;border-left: 1px solid gray;box-sizing: border-box;top: 0;bottom: 0;left: 50%;z-index: 0;}#sk-container-id-6 div.sk-serial {display: flex;flex-direction: column;align-items: center;background-color: white;padding-right: 0.2em;padding-left: 0.2em;position: relative;}#sk-container-id-6 div.sk-item {position: relative;z-index: 1;}#sk-container-id-6 div.sk-parallel {display: flex;align-items: stretch;justify-content: center;background-color: white;position: relative;}#sk-container-id-6 div.sk-item::before, #sk-container-id-6 div.sk-parallel-item::before {content: \"\";position: absolute;border-left: 1px solid gray;box-sizing: border-box;top: 0;bottom: 0;left: 50%;z-index: -1;}#sk-container-id-6 div.sk-parallel-item {display: flex;flex-direction: column;z-index: 1;position: relative;background-color: white;}#sk-container-id-6 div.sk-parallel-item:first-child::after {align-self: flex-end;width: 50%;}#sk-container-id-6 div.sk-parallel-item:last-child::after {align-self: flex-start;width: 50%;}#sk-container-id-6 div.sk-parallel-item:only-child::after {width: 0;}#sk-container-id-6 div.sk-dashed-wrapped {border: 1px dashed gray;margin: 0 0.4em 0.5em 0.4em;box-sizing: border-box;padding-bottom: 0.4em;background-color: white;}#sk-container-id-6 div.sk-label label {font-family: monospace;font-weight: bold;display: inline-block;line-height: 1.2em;}#sk-container-id-6 div.sk-label-container {text-align: center;}#sk-container-id-6 div.sk-container {/* jupyter's `normalize.less` sets `[hidden] { display: none; }` but bootstrap.min.css set `[hidden] { display: none !important; }` so we also need the `!important` here to be able to override the default hidden behavior on the sphinx rendered scikit-learn.org. See: https://github.com/scikit-learn/scikit-learn/issues/21755 */display: inline-block !important;position: relative;}#sk-container-id-6 div.sk-text-repr-fallback {display: none;}</style><div id=\"sk-container-id-6\" class=\"sk-top-container\"><div class=\"sk-text-repr-fallback\"><pre>DecisionTreeRegressor(criterion=&#x27;mse&#x27;, random_state=111)</pre><b>In a Jupyter environment, please rerun this cell to show the HTML representation or trust the notebook. <br />On GitHub, the HTML representation is unable to render, please try loading this page with nbviewer.org.</b></div><div class=\"sk-container\" hidden><div class=\"sk-item\"><div class=\"sk-estimator sk-toggleable\"><input class=\"sk-toggleable__control sk-hidden--visually\" id=\"sk-estimator-id-6\" type=\"checkbox\" checked><label for=\"sk-estimator-id-6\" class=\"sk-toggleable__label sk-toggleable__label-arrow\">DecisionTreeRegressor</label><div class=\"sk-toggleable__content\"><pre>DecisionTreeRegressor(criterion=&#x27;mse&#x27;, random_state=111)</pre></div></div></div></div></div>"
      ],
      "text/plain": [
       "DecisionTreeRegressor(criterion='mse', random_state=111)"
      ]
     },
     "execution_count": 88,
     "metadata": {},
     "output_type": "execute_result"
    }
   ],
   "source": [
    "DecisionTreeRegressor(ccp_alpha=0.0, \n",
    "                              criterion='mse', \n",
    "                              max_depth=None,\n",
    "                              max_features=None, \n",
    "                              max_leaf_nodes=None,\n",
    "                              min_impurity_decrease=0.0, \n",
    "                              #min_impurity_split=None,\n",
    "                              min_samples_leaf=1, \n",
    "                              min_samples_split=2,\n",
    "                              min_weight_fraction_leaf=0.0, \n",
    "                              #presort='deprecated', \n",
    "                              random_state=111, \n",
    "                              splitter='best')"
   ]
  },
  {
   "cell_type": "markdown",
   "id": "c3ec50cd",
   "metadata": {},
   "source": [
    "Cet algorithme a plusieurs hyperparamètres dont les plus importants et les plus utilisés sont : \n",
    "\n",
    "criterion, \n",
    "\n",
    "max depth, \n",
    "\n",
    "min samples split, \n",
    "\n",
    "min samples leaf et \n",
    "\n",
    "max features. Vous pouvez consulter la définition de ces hyperparamètres sur cette page de Scikit-Learn26."
   ]
  },
  {
   "cell_type": "code",
   "execution_count": 89,
   "id": "49d7afaa",
   "metadata": {},
   "outputs": [],
   "source": [
    "# Prédictions\n",
    "Y_pred = dt.predict(X_test)"
   ]
  },
  {
   "cell_type": "markdown",
   "id": "eba9b22b",
   "metadata": {},
   "source": [
    "La variable y_pred est utilisée dans le cadre de l'évaluation des performances du modèle, mais ce n'est pas exactement la même chose que la validation des données. Clarifions les concepts :"
   ]
  },
  {
   "cell_type": "code",
   "execution_count": 90,
   "id": "0e8a27ab",
   "metadata": {},
   "outputs": [
    {
     "data": {
      "text/plain": [
       "array([ 80500., 173000., 129500., 103200., 180000., 369900.,  82000.,\n",
       "       119900., 125500., 160000., 141000., 142500., 377426., 153900.,\n",
       "       195000., 138887., 128500., 121600.,  76500., 157500., 137500.,\n",
       "       240000., 176500., 244600., 335000., 176000., 129500., 130000.,\n",
       "       106000., 194000., 104900., 127000., 100000., 242000., 274000.,\n",
       "       278000., 143000., 235000., 145000., 279500.,  93000., 311500.,\n",
       "       240000., 152000., 236000., 225000., 200000.,  40000., 163000.,\n",
       "       410000.,  82000.,  81000., 153000., 277500., 162000., 225000.,\n",
       "       233000., 262000., 163000., 135000., 312500.,  98000., 164000.,\n",
       "       132500., 112000., 166000., 402861., 112000.,  88000., 224900.,\n",
       "       236000., 149900., 179500., 119200., 240000., 230000., 119000.,\n",
       "       108500., 133000., 174900., 112000., 184750., 168000., 367294.,\n",
       "       250000., 176000., 137500., 117000., 125000., 110500., 127000.,\n",
       "       155000.,  84500., 218000., 154300., 145500., 171750., 140000.,\n",
       "       145000., 235000., 145000., 230500., 137450., 179200., 115000.,\n",
       "       154300., 115000., 285000., 139000., 155000., 123000., 154900.,\n",
       "       203000., 146500., 745000., 262000., 210000., 207500., 139950.,\n",
       "       310000., 394432., 130000., 126000., 137450., 119900., 100000.,\n",
       "       129500., 132500.,  52000., 199900., 237500., 126000., 190000.,\n",
       "       173000., 214000., 155000., 191000., 175000., 127000., 501837.,\n",
       "       210000., 173000., 202500., 211000., 325000., 165000., 183900.,\n",
       "       137000., 129000., 220000., 221000., 191000., 142600., 143500.,\n",
       "       133000., 112000., 147576., 187500.,  89000., 146000., 126000.,\n",
       "       202500., 180000., 242000., 138500., 225000., 250000., 155000.,\n",
       "       201000., 144000., 207500., 202900., 101000., 235000.,  93200.,\n",
       "       142000., 280000., 110000., 195400., 137500., 104900., 254900.,\n",
       "       187500., 173000., 224000., 140000., 113000., 113000., 146000.,\n",
       "       157500., 194000., 201000., 227000., 187000., 119500., 255500.,\n",
       "       426000., 200000., 139600., 234000., 244000., 157500., 207500.,\n",
       "       103000., 166000., 245350., 221500., 118500., 215000.,  94750.,\n",
       "       137500., 124000., 111000., 144500., 190000., 197900., 142000.,\n",
       "       140000., 185000., 154000., 155000., 125000., 218000., 181000.,\n",
       "       249700., 152000., 227875., 158900., 187500., 221500., 129500.,\n",
       "       129500., 267000., 125000., 140000., 254900., 290000., 136900.,\n",
       "        90000., 168000., 242000., 137500., 175000., 318000., 118500.,\n",
       "       176432., 268000., 223500.,  60000., 214000., 130000., 143000.,\n",
       "       130500., 180000., 185500., 137000., 108000.,  67000., 157000.,\n",
       "       139900., 325300., 116000., 139000., 154900., 185000.,  79500.,\n",
       "       158000., 180000., 110500., 177500., 260000., 173000.,  76500.,\n",
       "       154300., 140200., 199900., 166000., 220000., 146500., 200000.,\n",
       "       240000.,  86000., 114500., 354000., 139000., 235000., 172500.,\n",
       "       167000., 318000., 230500., 117000., 218000., 174000., 108500.,\n",
       "       215000., 194000., 248000., 130000., 290000., 301500., 233000.,\n",
       "       164900.,  82500., 328000., 120000., 120000., 412500., 145000.,\n",
       "       190000.,  67000., 145250., 135000., 108959., 147000., 263435.,\n",
       "       144000., 143000., 172500., 110500., 313000., 119000., 203000.,\n",
       "       141000., 201000., 112000., 369900., 193000., 109000., 174000.,\n",
       "       130000., 101000., 325000., 157500., 310000., 132500., 146500.,\n",
       "       149350., 125000., 110500., 173000., 176000., 133000., 177500.,\n",
       "       345000., 306000., 133750.,  88000., 116900., 103000., 125500.,\n",
       "       108000., 165000., 115000., 285000., 140000., 160000., 140200.,\n",
       "       105000., 256300., 175000., 250580., 197000., 140000., 142000.,\n",
       "       319000.])"
      ]
     },
     "execution_count": 90,
     "metadata": {},
     "output_type": "execute_result"
    }
   ],
   "source": [
    "Y_pred"
   ]
  },
  {
   "cell_type": "code",
   "execution_count": 91,
   "id": "ae72d558",
   "metadata": {},
   "outputs": [],
   "source": [
    "from sklearn.model_selection import train_test_split\n"
   ]
  },
  {
   "cell_type": "code",
   "execution_count": 92,
   "id": "1e3c6bbb",
   "metadata": {},
   "outputs": [],
   "source": [
    "from sklearn.tree import DecisionTreeRegressor"
   ]
  },
  {
   "cell_type": "code",
   "execution_count": 93,
   "id": "d7b7abaf",
   "metadata": {},
   "outputs": [],
   "source": [
    "from sklearn.metrics import mean_squared_error"
   ]
  },
  {
   "cell_type": "code",
   "execution_count": 94,
   "id": "9d142a34",
   "metadata": {},
   "outputs": [],
   "source": [
    "# Calcul de l'erreur quadratique moyenne\n",
    "mse_dt = mean_squared_error(Y_test, \n",
    "                            Y_pred)"
   ]
  },
  {
   "cell_type": "code",
   "execution_count": 95,
   "id": "4a857087",
   "metadata": {},
   "outputs": [
    {
     "name": "stdout",
     "output_type": "stream",
     "text": [
      "2013265454.4273973\n"
     ]
    }
   ],
   "source": [
    "print(mse_dt)"
   ]
  },
  {
   "cell_type": "markdown",
   "id": "c6a905de",
   "metadata": {},
   "source": [
    "Avec la méthode de recherche aléatoire, nous essayerons de trouver un meilleur modèle.\n",
    "Autrement dit, nous cherchons un modèle dont l'erreur quadratique moyenne sera inférieure à\n",
    "\n",
    "2013265454,4273973."
   ]
  },
  {
   "cell_type": "markdown",
   "id": "d7565b99",
   "metadata": {},
   "source": [
    "\n",
    "La méthode Random Search n'essaie pas toutes les combinaisons possibles dans la grille des hyperparamètres comme c'était le cas avec la méthode Grid Search. On essaie plutôt de manière aléatoire un certain nombre de combinaisons. Plusieurs études sur cette méthode ont montré qu'avec relativement peu d'essais, il est probable (probabilité relativement élevée) de se rapprocher du meilleur score. L'implémentation de cette méthode dans Python se fait avec le\n",
    "module RandomizedSearchCV27"
   ]
  },
  {
   "cell_type": "code",
   "execution_count": 96,
   "id": "ce21800e",
   "metadata": {},
   "outputs": [],
   "source": [
    "# Dictionnaire des hyperparamètres\n",
    "param_dists = {\n",
    "    'criterion' : ['mse', ' friedman-mse', 'mae'],\n",
    "    'splitter' : ['best', 'random'],\n",
    "    'max_depth' : [3, 5, 7, None],\n",
    "    'min_samples_split':np.arange(0.1, 1.1, 0.1),\n",
    "    'min_samples_leaf' :list(range(1, 21)),\n",
    "    'max_features' : ['auto', 'sqrt', 'log2', None]\n",
    "}"
   ]
  },
  {
   "cell_type": "code",
   "execution_count": 100,
   "id": "8ea87acc",
   "metadata": {},
   "outputs": [],
   "source": [
    "# Estimateur(Objet RandomizedSearchCV)\n",
    "model = RandomizedSearchCV(estimator=DecisionTreeRegressor(random_state= seed),\n",
    "                          param_distributions= param_dists,\n",
    "                           n_iter=200,\n",
    "                          scoring= 'neg_mean_squared_error',\n",
    "                          cv=5,\n",
    "                          random_state=seed)"
   ]
  },
  {
   "cell_type": "code",
   "execution_count": null,
   "id": "96c5a031",
   "metadata": {},
   "outputs": [],
   "source": [
    "from sklearn.model_selection import RandomizedSearchCV\n",
    "\n",
    "# Assuming 'param_dist' is defined with appropriate parameters for RandomizedSearchCV\n",
    "random_search = RandomizedSearchCV(DecisionTreeRegressor(), param_distributions=param_dists, n_iter=1000, cv=5, scoring='neg_mean_squared_error', random_state=42)\n",
    "random_search.fit(X, y)\n",
    "results = pd.DataFrame(random_search.cv_results_)"
   ]
  },
  {
   "cell_type": "code",
   "execution_count": 107,
   "id": "1860cb3e",
   "metadata": {},
   "outputs": [],
   "source": [
    "#model.fit(X, y)\n",
    "\n",
    "random_search.fit(X, y)\n",
    "results = pd.DataFrame(random_search.cv_results_)"
   ]
  },
  {
   "cell_type": "code",
   "execution_count": null,
   "id": "d6ea3c0c",
   "metadata": {},
   "outputs": [],
   "source": [
    "results = pd.DataFrame(random_search.cv_results_)"
   ]
  },
  {
   "cell_type": "code",
   "execution_count": null,
   "id": "1a7da411",
   "metadata": {},
   "outputs": [],
   "source": [
    "best = results.loc[:, [\"params\",\"mean_test_score\"]].sort_values(\"mean_test_score\", ascending = False).head()"
   ]
  },
  {
   "cell_type": "code",
   "execution_count": null,
   "id": "cf7cd0e7",
   "metadata": {},
   "outputs": [],
   "source": [
    "best "
   ]
  },
  {
   "cell_type": "code",
   "execution_count": null,
   "id": "033bc78c",
   "metadata": {},
   "outputs": [],
   "source": [
    "# Meilleur hyperparamètres \n",
    "best[\"params\"].iloc[0]"
   ]
  },
  {
   "cell_type": "code",
   "execution_count": 106,
   "id": "fb2ab5dd",
   "metadata": {},
   "outputs": [
    {
     "ename": "NameError",
     "evalue": "name 'best' is not defined",
     "output_type": "error",
     "traceback": [
      "\u001b[1;31m---------------------------------------------------------------------------\u001b[0m",
      "\u001b[1;31mNameError\u001b[0m                                 Traceback (most recent call last)",
      "Cell \u001b[1;32mIn[106], line 1\u001b[0m\n\u001b[1;32m----> 1\u001b[0m mse_dt \u001b[38;5;241m-\u001b[39m np\u001b[38;5;241m.\u001b[39mabs(\u001b[43mbest\u001b[49m[\u001b[38;5;124m\"\u001b[39m\u001b[38;5;124mmean_test_score\u001b[39m\u001b[38;5;124m\"\u001b[39m]\u001b[38;5;241m.\u001b[39miloc[\u001b[38;5;241m0\u001b[39m])\n",
      "\u001b[1;31mNameError\u001b[0m: name 'best' is not defined"
     ]
    }
   ],
   "source": [
    "mse_dt - np.abs(best[\"mean_test_score\"].iloc[0])"
   ]
  },
  {
   "cell_type": "code",
   "execution_count": null,
   "id": "477731cc",
   "metadata": {},
   "outputs": [],
   "source": []
  },
  {
   "cell_type": "code",
   "execution_count": null,
   "id": "0ef40277",
   "metadata": {},
   "outputs": [],
   "source": []
  },
  {
   "cell_type": "code",
   "execution_count": null,
   "id": "f276bc6e",
   "metadata": {},
   "outputs": [],
   "source": []
  },
  {
   "cell_type": "code",
   "execution_count": null,
   "id": "9a39fc93",
   "metadata": {},
   "outputs": [],
   "source": []
  },
  {
   "cell_type": "code",
   "execution_count": null,
   "id": "a802e9d7",
   "metadata": {},
   "outputs": [],
   "source": []
  },
  {
   "cell_type": "markdown",
   "id": "9426877c",
   "metadata": {},
   "source": [
    "En spécifiant n iter = 200, cela veut dire que nous voulons essayer de manière aléatoire 200 combinaisons. Comme score, nous avons spécifié l'erreur quadratique moyenne (rigoureusement l'opposé de l'erreur quadratique moyenne)."
   ]
  },
  {
   "cell_type": "code",
   "execution_count": 191,
   "id": "a81f0b7a",
   "metadata": {},
   "outputs": [
    {
     "name": "stdout",
     "output_type": "stream",
     "text": [
      "Best parameters found:  {'splitter': 'best', 'min_samples_split': 0.1, 'min_samples_leaf': 5, 'max_features': None, 'max_depth': 5, 'criterion': 'friedman_mse'}\n"
     ]
    }
   ],
   "source": [
    "# Démarrage de la recherche\n",
    "#model.fit(X, Y)\n",
    "\n",
    "\n",
    "#df = pd.DataFrame(data)\n",
    "\n",
    "# Séparation des variables explicatives et de la variable cible\n",
    "X = df.drop(\"SalePrice\", axis=1)\n",
    "y = df[\"SalePrice\"]\n",
    "\n",
    "# Instanciation du modèle\n",
    "model = DecisionTreeRegressor()\n",
    "\n",
    "# Dictionnaire des hyperparamètres corrigé\n",
    "param_dists = {\n",
    "    'criterion': ['squared_error', 'friedman_mse', 'absolute_error', 'poisson'],\n",
    "    'splitter': ['best', 'random'],\n",
    "    'max_depth': [3, 5, 7, None],\n",
    "    'min_samples_split': np.arange(0.1, 1.1, 0.1),\n",
    "    'min_samples_leaf': list(range(1, 21)),\n",
    "    'max_features': ['auto', 'sqrt', 'log2', None]\n",
    "}\n",
    "\n",
    "# Randomized Search\n",
    "random_search = RandomizedSearchCV(estimator= DecisionTreeRegressor(random_state=111), \n",
    "                                   param_distributions=param_dists, \n",
    "                                   n_iter=250, \n",
    "                                   cv=5, \n",
    "                                   random_state=111)\n",
    "\n",
    "#random_search = RandomizedSearchCV(model, \n",
    "#                                   param_distributions=param_dists, \n",
    "#                                   n_iter=200, cv=5, \n",
    "#                                   random_state=111)\n",
    "\n",
    "#random_search = RandomizedSearchCV(model, param_distributions=param_dists, n_iter=200, cv=5, random_state=111)\n",
    "#random_search = RandomizedSearchCV(model, param_distributions=param_dists, n_iter=100, cv=5, random_state=42)\n",
    "# Ajustement du modèle\n",
    "random_search.fit(X, y)\n",
    "\n",
    "# Meilleurs paramètres\n",
    "print(\"Best parameters found: \", random_search.best_params_)"
   ]
  },
  {
   "cell_type": "markdown",
   "id": "0f5857c8",
   "metadata": {},
   "source": [
    "En spécifiant n iter = 200, cela veut dire que nous voulons essayer de manière aléatoire 200 combinaisons. Comme score, nous avons spécifié l'erreur quadratique moyenne (rigoureusement l'opposé de l'erreur quadratique moyenne)."
   ]
  },
  {
   "cell_type": "code",
   "execution_count": 192,
   "id": "a26549f0",
   "metadata": {},
   "outputs": [
    {
     "data": {
      "text/html": [
       "<style>#sk-container-id-26 {color: black;}#sk-container-id-26 pre{padding: 0;}#sk-container-id-26 div.sk-toggleable {background-color: white;}#sk-container-id-26 label.sk-toggleable__label {cursor: pointer;display: block;width: 100%;margin-bottom: 0;padding: 0.3em;box-sizing: border-box;text-align: center;}#sk-container-id-26 label.sk-toggleable__label-arrow:before {content: \"▸\";float: left;margin-right: 0.25em;color: #696969;}#sk-container-id-26 label.sk-toggleable__label-arrow:hover:before {color: black;}#sk-container-id-26 div.sk-estimator:hover label.sk-toggleable__label-arrow:before {color: black;}#sk-container-id-26 div.sk-toggleable__content {max-height: 0;max-width: 0;overflow: hidden;text-align: left;background-color: #f0f8ff;}#sk-container-id-26 div.sk-toggleable__content pre {margin: 0.2em;color: black;border-radius: 0.25em;background-color: #f0f8ff;}#sk-container-id-26 input.sk-toggleable__control:checked~div.sk-toggleable__content {max-height: 200px;max-width: 100%;overflow: auto;}#sk-container-id-26 input.sk-toggleable__control:checked~label.sk-toggleable__label-arrow:before {content: \"▾\";}#sk-container-id-26 div.sk-estimator input.sk-toggleable__control:checked~label.sk-toggleable__label {background-color: #d4ebff;}#sk-container-id-26 div.sk-label input.sk-toggleable__control:checked~label.sk-toggleable__label {background-color: #d4ebff;}#sk-container-id-26 input.sk-hidden--visually {border: 0;clip: rect(1px 1px 1px 1px);clip: rect(1px, 1px, 1px, 1px);height: 1px;margin: -1px;overflow: hidden;padding: 0;position: absolute;width: 1px;}#sk-container-id-26 div.sk-estimator {font-family: monospace;background-color: #f0f8ff;border: 1px dotted black;border-radius: 0.25em;box-sizing: border-box;margin-bottom: 0.5em;}#sk-container-id-26 div.sk-estimator:hover {background-color: #d4ebff;}#sk-container-id-26 div.sk-parallel-item::after {content: \"\";width: 100%;border-bottom: 1px solid gray;flex-grow: 1;}#sk-container-id-26 div.sk-label:hover label.sk-toggleable__label {background-color: #d4ebff;}#sk-container-id-26 div.sk-serial::before {content: \"\";position: absolute;border-left: 1px solid gray;box-sizing: border-box;top: 0;bottom: 0;left: 50%;z-index: 0;}#sk-container-id-26 div.sk-serial {display: flex;flex-direction: column;align-items: center;background-color: white;padding-right: 0.2em;padding-left: 0.2em;position: relative;}#sk-container-id-26 div.sk-item {position: relative;z-index: 1;}#sk-container-id-26 div.sk-parallel {display: flex;align-items: stretch;justify-content: center;background-color: white;position: relative;}#sk-container-id-26 div.sk-item::before, #sk-container-id-26 div.sk-parallel-item::before {content: \"\";position: absolute;border-left: 1px solid gray;box-sizing: border-box;top: 0;bottom: 0;left: 50%;z-index: -1;}#sk-container-id-26 div.sk-parallel-item {display: flex;flex-direction: column;z-index: 1;position: relative;background-color: white;}#sk-container-id-26 div.sk-parallel-item:first-child::after {align-self: flex-end;width: 50%;}#sk-container-id-26 div.sk-parallel-item:last-child::after {align-self: flex-start;width: 50%;}#sk-container-id-26 div.sk-parallel-item:only-child::after {width: 0;}#sk-container-id-26 div.sk-dashed-wrapped {border: 1px dashed gray;margin: 0 0.4em 0.5em 0.4em;box-sizing: border-box;padding-bottom: 0.4em;background-color: white;}#sk-container-id-26 div.sk-label label {font-family: monospace;font-weight: bold;display: inline-block;line-height: 1.2em;}#sk-container-id-26 div.sk-label-container {text-align: center;}#sk-container-id-26 div.sk-container {/* jupyter's `normalize.less` sets `[hidden] { display: none; }` but bootstrap.min.css set `[hidden] { display: none !important; }` so we also need the `!important` here to be able to override the default hidden behavior on the sphinx rendered scikit-learn.org. See: https://github.com/scikit-learn/scikit-learn/issues/21755 */display: inline-block !important;position: relative;}#sk-container-id-26 div.sk-text-repr-fallback {display: none;}</style><div id=\"sk-container-id-26\" class=\"sk-top-container\"><div class=\"sk-text-repr-fallback\"><pre>DecisionTreeRegressor()</pre><b>In a Jupyter environment, please rerun this cell to show the HTML representation or trust the notebook. <br />On GitHub, the HTML representation is unable to render, please try loading this page with nbviewer.org.</b></div><div class=\"sk-container\" hidden><div class=\"sk-item\"><div class=\"sk-estimator sk-toggleable\"><input class=\"sk-toggleable__control sk-hidden--visually\" id=\"sk-estimator-id-46\" type=\"checkbox\" checked><label for=\"sk-estimator-id-46\" class=\"sk-toggleable__label sk-toggleable__label-arrow\">DecisionTreeRegressor</label><div class=\"sk-toggleable__content\"><pre>DecisionTreeRegressor()</pre></div></div></div></div></div>"
      ],
      "text/plain": [
       "DecisionTreeRegressor()"
      ]
     },
     "execution_count": 192,
     "metadata": {},
     "output_type": "execute_result"
    }
   ],
   "source": [
    "model.fit(X, y)"
   ]
  },
  {
   "cell_type": "code",
   "execution_count": 193,
   "id": "e5c1e567",
   "metadata": {},
   "outputs": [],
   "source": [
    "# les 5 meilleurs paramètres hyperparamètres avec leurs scores\n",
    "#results = pd.DataFrame(model.cv_results_)\n",
    "results = pd.DataFrame(random_search.cv_results_)"
   ]
  },
  {
   "cell_type": "code",
   "execution_count": 194,
   "id": "25d096c8",
   "metadata": {},
   "outputs": [],
   "source": [
    "best = results.loc[:, [\"params\",\"mean_test_score\"]].sort_values(\"mean_test_score\", ascending = False).head()"
   ]
  },
  {
   "cell_type": "code",
   "execution_count": 195,
   "id": "88bf92e1",
   "metadata": {},
   "outputs": [
    {
     "data": {
      "text/html": [
       "<div>\n",
       "<style scoped>\n",
       "    .dataframe tbody tr th:only-of-type {\n",
       "        vertical-align: middle;\n",
       "    }\n",
       "\n",
       "    .dataframe tbody tr th {\n",
       "        vertical-align: top;\n",
       "    }\n",
       "\n",
       "    .dataframe thead th {\n",
       "        text-align: right;\n",
       "    }\n",
       "</style>\n",
       "<table border=\"1\" class=\"dataframe\">\n",
       "  <thead>\n",
       "    <tr style=\"text-align: right;\">\n",
       "      <th></th>\n",
       "      <th>params</th>\n",
       "      <th>mean_test_score</th>\n",
       "    </tr>\n",
       "  </thead>\n",
       "  <tbody>\n",
       "    <tr>\n",
       "      <th>162</th>\n",
       "      <td>{'splitter': 'best', 'min_samples_split': 0.1,...</td>\n",
       "      <td>0.701782</td>\n",
       "    </tr>\n",
       "    <tr>\n",
       "      <th>219</th>\n",
       "      <td>{'splitter': 'best', 'min_samples_split': 0.1,...</td>\n",
       "      <td>0.677675</td>\n",
       "    </tr>\n",
       "    <tr>\n",
       "      <th>69</th>\n",
       "      <td>{'splitter': 'best', 'min_samples_split': 0.1,...</td>\n",
       "      <td>0.673674</td>\n",
       "    </tr>\n",
       "    <tr>\n",
       "      <th>165</th>\n",
       "      <td>{'splitter': 'best', 'min_samples_split': 0.1,...</td>\n",
       "      <td>0.660279</td>\n",
       "    </tr>\n",
       "    <tr>\n",
       "      <th>148</th>\n",
       "      <td>{'splitter': 'random', 'min_samples_split': 0....</td>\n",
       "      <td>0.652395</td>\n",
       "    </tr>\n",
       "  </tbody>\n",
       "</table>\n",
       "</div>"
      ],
      "text/plain": [
       "                                                params  mean_test_score\n",
       "162  {'splitter': 'best', 'min_samples_split': 0.1,...         0.701782\n",
       "219  {'splitter': 'best', 'min_samples_split': 0.1,...         0.677675\n",
       "69   {'splitter': 'best', 'min_samples_split': 0.1,...         0.673674\n",
       "165  {'splitter': 'best', 'min_samples_split': 0.1,...         0.660279\n",
       "148  {'splitter': 'random', 'min_samples_split': 0....         0.652395"
      ]
     },
     "execution_count": 195,
     "metadata": {},
     "output_type": "execute_result"
    }
   ],
   "source": [
    "best"
   ]
  },
  {
   "cell_type": "markdown",
   "id": "d9bcfc0e",
   "metadata": {},
   "source": [
    "Le signe \"-\" ne doit en aucun cas nous tromper ici (faites comme s'il n'était pas là). On cherche bel et bien la plus petite valeur absolue de mean_test_score"
   ]
  },
  {
   "cell_type": "code",
   "execution_count": 196,
   "id": "8a3571fb",
   "metadata": {},
   "outputs": [
    {
     "data": {
      "text/plain": [
       "{'splitter': 'best',\n",
       " 'min_samples_split': 0.1,\n",
       " 'min_samples_leaf': 5,\n",
       " 'max_features': None,\n",
       " 'max_depth': 5,\n",
       " 'criterion': 'friedman_mse'}"
      ]
     },
     "execution_count": 196,
     "metadata": {},
     "output_type": "execute_result"
    }
   ],
   "source": [
    "# Meilleur hyperparamètres \n",
    "best[\"params\"].iloc[0]"
   ]
  },
  {
   "cell_type": "code",
   "execution_count": 197,
   "id": "78e73851",
   "metadata": {},
   "outputs": [
    {
     "data": {
      "text/plain": [
       "True"
      ]
     },
     "execution_count": 197,
     "metadata": {},
     "output_type": "execute_result"
    }
   ],
   "source": [
    "# Comparaison entre le meilleur score trouvé et mse_dt\n",
    "np.abs(best[\"mean_test_score\"].iloc[0])< mse_dt"
   ]
  },
  {
   "cell_type": "markdown",
   "id": "5711e10c",
   "metadata": {},
   "source": [
    "La recherche du meilleur hyperparamètrage a permis de trouver un modèle qui est de loin meilleur à celui construit avec les hyperpamètres par défaut."
   ]
  },
  {
   "cell_type": "code",
   "execution_count": 198,
   "id": "d644dae7",
   "metadata": {},
   "outputs": [
    {
     "data": {
      "text/plain": [
       "2013265453.7256153"
      ]
     },
     "execution_count": 198,
     "metadata": {},
     "output_type": "execute_result"
    }
   ],
   "source": [
    "mse_dt - np.abs(best[\"mean_test_score\"].iloc[0])"
   ]
  },
  {
   "cell_type": "markdown",
   "id": "b38ac26e",
   "metadata": {},
   "source": [
    "CONCLUSION"
   ]
  },
  {
   "cell_type": "markdown",
   "id": "c97338d9",
   "metadata": {},
   "source": [
    "L'implémentation de la recherche aléatoire pour améliorer la qualité d'un modèle est très simple. Etant donné, que c'est l'utilisateur lui-même qui définit le nombre de combinaisons aléatoires à essayer (paramètre n iter), Il est possible d'étendre la plage de votre recherche d'hyperparamètres au-delà de ce qui serait pratique avec une recherche de grille. Par ailleurs, lorsque vous avez un grand volume de données et un algorithme avec beaucoup d'hyperparamètres, il est conseillé d'utiliser une recherche aléatoire à cause des temps de calcul à moins que vous disposiez d'un ordinateur hyper puissant Dans ce cas, vous pouvez"
   ]
  },
  {
   "cell_type": "markdown",
   "id": "8ac108cb",
   "metadata": {},
   "source": [
    "####                                                                                        Reprendre à partir de cette erreur"
   ]
  },
  {
   "cell_type": "code",
   "execution_count": null,
   "id": "838fe120",
   "metadata": {},
   "outputs": [],
   "source": []
  },
  {
   "cell_type": "code",
   "execution_count": 105,
   "id": "8da62054",
   "metadata": {},
   "outputs": [
    {
     "name": "stdout",
     "output_type": "stream",
     "text": [
      "Best parameters found:  {'splitter': 'best', 'min_samples_split': 0.2, 'min_samples_leaf': 8, 'max_features': None, 'max_depth': None, 'criterion': 'absolute_error'}\n"
     ]
    }
   ],
   "source": [
    "#df = pd.DataFrame(data)\n",
    "\n",
    "# Séparation des variables explicatives et de la variable cible\n",
    "X = df.drop(\"SalePrice\", axis=1)\n",
    "y = df[\"SalePrice\"]\n",
    "\n",
    "# Instanciation du modèle\n",
    "model = DecisionTreeRegressor()\n",
    "\n",
    "# Dictionnaire des hyperparamètres corrigé\n",
    "param_dists = {\n",
    "    'criterion': ['squared_error', 'friedman_mse', 'absolute_error', 'poisson'],\n",
    "    'splitter': ['best', 'random'],\n",
    "    'max_depth': [3, 5, 7, None],\n",
    "    'min_samples_split': np.arange(0.1, 1.1, 0.1),\n",
    "    'min_samples_leaf': list(range(1, 21)),\n",
    "    'max_features': ['auto', 'sqrt', 'log2', None]\n",
    "}\n",
    "\n",
    "# Randomized Search\n",
    "random_search = RandomizedSearchCV(model, param_distributions=param_dists, n_iter=100, cv=5, random_state=42)\n",
    "\n",
    "# Ajustement du modèle\n",
    "random_search.fit(X, y)\n",
    "\n",
    "# Meilleurs paramètres\n",
    "print(\"Best parameters found: \", random_search.best_params_)"
   ]
  },
  {
   "cell_type": "code",
   "execution_count": null,
   "id": "de0b6af1",
   "metadata": {},
   "outputs": [],
   "source": []
  },
  {
   "cell_type": "code",
   "execution_count": null,
   "id": "616534be",
   "metadata": {},
   "outputs": [],
   "source": []
  },
  {
   "cell_type": "code",
   "execution_count": null,
   "id": "accf71d4",
   "metadata": {},
   "outputs": [],
   "source": []
  },
  {
   "cell_type": "code",
   "execution_count": null,
   "id": "e93cffb6",
   "metadata": {},
   "outputs": [],
   "source": []
  },
  {
   "cell_type": "code",
   "execution_count": null,
   "id": "c1837744",
   "metadata": {},
   "outputs": [],
   "source": []
  },
  {
   "cell_type": "code",
   "execution_count": null,
   "id": "d1d6e575",
   "metadata": {},
   "outputs": [],
   "source": []
  },
  {
   "cell_type": "code",
   "execution_count": null,
   "id": "5e0d7336",
   "metadata": {},
   "outputs": [],
   "source": [
    "# Dataframe des variables indépendantes\n",
    "X = df. drop ('SalePrice', axis = 1)\n",
    "\n",
    "y = df| 'SalePrice']\n",
    "\n",
    "test_size = 0.25\n",
    "seed = 111\n",
    "X train, X\n",
    "test, y_train, y\n",
    "test = train\n",
    "test split (x, y, test\n",
    "size = test_size, random state = seed)\n",
    "# Dimension du train et du test data\n",
    "print (X _train. shape)\n",
    "print (X_ test. shape)\n",
    "(1095, 28)\n",
    "(365, 28)\n"
   ]
  }
 ],
 "metadata": {
  "kernelspec": {
   "display_name": "Python 3 (ipykernel)",
   "language": "python",
   "name": "python3"
  },
  "language_info": {
   "codemirror_mode": {
    "name": "ipython",
    "version": 3
   },
   "file_extension": ".py",
   "mimetype": "text/x-python",
   "name": "python",
   "nbconvert_exporter": "python",
   "pygments_lexer": "ipython3",
   "version": "3.10.0"
  }
 },
 "nbformat": 4,
 "nbformat_minor": 5
}
